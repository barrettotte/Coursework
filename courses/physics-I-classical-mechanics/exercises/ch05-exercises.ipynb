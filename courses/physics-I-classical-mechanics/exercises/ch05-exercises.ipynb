{
 "cells": [
  {
   "cell_type": "markdown",
   "metadata": {},
   "source": [
    "# Chapter 05 - The Laws of Motion"
   ]
  },
  {
   "cell_type": "markdown",
   "metadata": {},
   "source": [
    "## 5.1-5.6"
   ]
  },
  {
   "cell_type": "markdown",
   "metadata": {},
   "source": [
    "**1.** A force $\\vec{F}$ applied to an object of mass $m_1$ produces an acceleration of $3.00\\text{ m/s}^2$. The same force applied to a second object of mass $m_2$ produces an acceleration of $1.00\\text{ m/s}^2$. (a) What is the value of the ratio $m_1/m_2$? (b) If $m_1$ and $m_2$ are combined, find their acceleration under the action of the force $\\vec{F}$.\n",
    "\n",
    "\n",
    "**a.** \n",
    "\n",
    "$\\frac{m_1}{m_2}=\\frac{1}{3}\\implies 3m_1=m_2$\n",
    "\n",
    "**b.**\n",
    "\n",
    "\n",
    "$\\Sigma F=(m_1+m_2)a$\n",
    "$=(3m_1+m_1)a$\n",
    "\n",
    "$a=\\frac{F}{4m_1}=\\frac{1}{4}(3)=0.75\\text{ m/s}^2$\n"
   ]
  },
  {
   "cell_type": "markdown",
   "metadata": {},
   "source": [
    "**3.** A 3.00 kg object undergoes an acceleration given by $\\vec{a}=(2.00\\hat{i}+5.00\\hat{j})\\text{ m/s}^2$. Find the resultant force acting on it and the magnitude of the resultant force.\n",
    "\n",
    "$\\vec{F}=m\\vec{a}$\n",
    "$=3(2\\hat{i}+5\\hat{j})\\text{ m/s}^2$\n",
    "$=(6\\hat{i}+15\\hat{j})\\text{ N}$\n",
    "\n",
    "$|\\vec{F}|=\\sqrt{6^2+15^2}=16.155\\text{ N}$"
   ]
  },
  {
   "cell_type": "markdown",
   "metadata": {},
   "source": [
    "**5.** To model a spacecraft, a toy rocket engine is securely fastened to a large puck, which can glide with negligible friction over a horizontal surface, taken as the xy plane. The 4.00 kg puck has a velocity of $300\\hat{i}\\text{ m/s}$ at one instant. Eight seconds later, its velocity is to be $(800\\hat{i}+10.0\\hat{j}\\text{ m/s}$. Assuming the rocket engine exerts a constant horizontal force, find (a) the components of the force and (b) its magnitude.\n",
    "\n",
    "\n",
    "**a.**\n",
    "\n",
    "$\\vec{v_f}=\\vec{v_i}+\\vec{a}\\Delta t$\n",
    "\n",
    "$\\vec{a}=\\frac{(8\\hat{i}+10\\hat{j})+(-3\\hat{i})}{8}$\n",
    "$=(0.625\\hat{i}+1.25\\hat{j})\\text{ m/s}$\n",
    "\n",
    "$\\Sigma\\vec{F}=(4)(0.625\\hat{i}+1.25\\hat{j})=(2.5\\hat{i}+5\\hat{j})\\text{ N}$\n",
    "\n",
    "**b.**\n",
    "\n",
    "$|\\vec{F}|=\\sqrt{2.5^2+5^2}=5.59\\text{ N}$"
   ]
  },
  {
   "cell_type": "markdown",
   "metadata": {},
   "source": [
    "**7.** An electron of mass $9.11\\times10^{-31}\\text{ kg}$ has an initial speed of $3.00\\times10^5\\text{ m/s}$. It travels in a straight line, and its speed increases to $7.00\\times10^5\\text{ m/s}$ in a distance of 5.00 cm. Assuming its acceleration is constant, (a) determine the force exerted on the electron and (b) compare this force with the weight of the electron, which we neglected.\n",
    "\n",
    "**a.**\n",
    "\n",
    "${v_f}^2={v_i}^2+2a\\Delta x$\n",
    "\n",
    "$a=\\frac{(7\\times10^5)^2-(3\\times10^5)^2}{2\\times0.05}$\n",
    "$=4\\times10^{12}\\text{ m/s}^2$\n",
    "\n",
    "$\\Sigma F=(9.11\\times10^{-31})(4\\times10^{12})$\n",
    "$=3.64\\times10^{-18}\\text{ N}$\n",
    "\n",
    "**b.**\n",
    "\n",
    "$F_g=mg=(9.11\\times10^{-31})(9.8)=8.93\\times10^{-30}\\text{ N}$\n"
   ]
  },
  {
   "cell_type": "markdown",
   "metadata": {},
   "source": [
    "**11.** Two forces $\\vec{F_1}$ and $\\vec{F_2}$ act on a 5.00 kg object. If $F_1$=20.0 N and $F_2$=15.0 N, find the accelerations in (a) and (b) of Figure P5.11.\n",
    "\n",
    "**a.**\n",
    "\n",
    "$\\Sigma\\vec{F}=m\\vec{a}$\n",
    "\n",
    "$\\Sigma\\vec{F}=\\vec{F_1}+\\vec{F_2}=(20\\hat{i}+15\\hat{j})\\text{ N}$\n",
    "\n",
    "$\\vec{a}=\\frac{\\vec{F}}{m}=\\frac{(20\\hat{i}+15\\hat{j})}{5}$\n",
    "$=(4\\hat{i}+3\\hat{j})\\text{ m/s}^2$\n",
    "\n",
    "$|\\vec{a}|=\\sqrt{4^2+3^2}=5\\text{ m/s}^2$\n",
    "\n",
    "$\\theta=\\tan^{-1}\\frac{3}{4}=36.9°$\n",
    "\n",
    "**b.**\n",
    "\n",
    "$F_{2x}=F_2\\cos\\theta=15\\cos60=7.5\\text{ N}$\n",
    "\n",
    "$F_{2y}=F_2\\sin\\theta=15\\sin60=13\\text{ N}$\n",
    "\n",
    "<br>\n",
    "\n",
    "$\\Sigma\\vec{F}=\\vec{F_1}+\\vec{F_2}$\n",
    "$=(20\\hat{i})+(7.5\\hat{i}+13\\hat{j})$\n",
    "$=(27.5\\hat{i}+13\\hat{j})\\text{ N}$\n",
    "\n",
    "$\\vec{a}=\\frac{\\vec{F}}{m}=\\frac{27.5\\hat{i}+13\\hat{j}}{5}$\n",
    "$=(5.5\\hat{i}+2.6\\hat{j})\\text{ m/s}^2$\n",
    "\n",
    "$|\\vec{a}|=\\sqrt{5.5^2+2.6^2}=6.08\\text{ m/s}^2$\n",
    "$\\theta=\\tan^{-1}\\frac{2.6}{5.3}=25.3°$"
   ]
  },
  {
   "cell_type": "markdown",
   "metadata": {},
   "source": [
    "**15.** A 15.0 lb block rests on the floor. (a) What force does the floor exert on the block? (b) If a rope is tied to block and run vertically over a pulley, and the other end is attached to a free-hanging 10.0 lb weight, what is the force exerted by the floor on the 15.0 lb block? (c) If we replace the 10.0 lb weight in part (b) with a 20.0 lb weight, what is the force exerted by the floor on the 15.0 lb block?\n",
    "\n",
    "**a.**\n",
    "\n",
    "$F_{12}=$ force of block on floor\n",
    "$,\\quad F_{21}=$ force of floor on block\n",
    "\n",
    "$F_{12}=-F_{21}= 15\\text{ lb upwards}$\n",
    "\n",
    "**b.**\n",
    "\n",
    "$F_{12}-10\\text{ lb}=5\\text{ lb upwards}$\n",
    "\n",
    "**c.**\n",
    "\n",
    "$F_{12}-20=-5\\text{ lb}\\implies 0\\text{ lb}$\n"
   ]
  },
  {
   "cell_type": "markdown",
   "metadata": {},
   "source": [
    "## 5.7 - Some Applications of Newton's Laws"
   ]
  },
  {
   "cell_type": "markdown",
   "metadata": {},
   "source": [
    "**19.** A bag of cement of weight $F_g$ hangs from three wires as shown in Figure P5.18. Two of the wires make angles $\\theta_1$ and $\\theta_2$ with the horizontal. If the system is in equilibrium, show that the tension in the left-hand wire is $T_1=F_g\\cos\\theta_2/\\sin(\\theta_1+\\theta_2)$\n",
    "\n",
    "\n",
    "$\\Sigma F_{y1}=T_3-F_g=0$\n",
    "$\\implies T_3=F_g$\n",
    "\n",
    "$\\Sigma F_{y2}=T_1\\sin\\theta_1+T_2\\sin\\theta_2-T_3=0$\n",
    "$\\implies T_3=T_1\\sin\\theta_1+T_2\\sin\\theta_2$\n",
    "\n",
    "$\\Sigma F_{x2}=T_2\\cos\\theta_2-T_1\\cos\\theta_1=0$\n",
    "$\\implies T_2=\\frac{T_1\\cos\\theta_1}{\\cos\\theta_2}$\n",
    "\n",
    "<br>\n",
    "\n",
    "$F_g=T_1\\sin\\theta_1+T_2\\sin\\theta_2$\n",
    "\n",
    "$F_g=T_1\\sin\\theta_1+\\frac{T_1\\cos\\theta}{\\cos\\theta_2}\\sin\\theta_2$\n",
    "\n",
    "$F_g\\cos\\theta_2=T_1(\\sin\\theta_1\\cos\\theta_2+\\cos\\theta_1\\sin\\theta_2)$\n",
    "\n",
    "$F_g\\cos\\theta_2=T_1\\sin(\\theta_1+\\theta_2)$\n",
    "\n",
    "$T_1=\\frac{F_g\\cos\\theta_2}{\\sin(\\theta_1+\\theta_2)}$"
   ]
  },
  {
   "cell_type": "markdown",
   "metadata": {},
   "source": [
    "**25.** A block is given an initial velocity of 5.00 m/s up a frictionless 20.0° incline (Fig P5.22). How far up the incline does the block slide before coming to rest?\n",
    "\n",
    "\n",
    "$\\Sigma\\vec{F}=m\\vec{a}$\n",
    "\n",
    "$F_x=-mg\\sin\\theta=ma_x\\implies a_x=-g\\sin\\theta$\n",
    "\n",
    "${v_f}^2={v_i}^2+2a(x_f-x_i)$\n",
    "\n",
    "$0=5^2-2g\\sin20(x_f-0)$\n",
    "\n",
    "$x_f=\\frac{5^2}{2(9.8)\\sin20}=3.73\\text{ m}$"
   ]
  },
  {
   "cell_type": "markdown",
   "metadata": {},
   "source": [
    "## 5.8 - Forces of Friction"
   ]
  },
  {
   "cell_type": "markdown",
   "metadata": {},
   "source": [
    "**37.** A car is traveling at 50.0 mi/h on a horizontal highway. (a) If the coefficient of static friction between road and tires on a rainy day is 0.100, what is the minimum distance in which the car will stop? (b) what is the stopping distance when the surface is dry and $\\mu_s=0.600$?\n",
    "\n",
    "**a.**\n",
    "\n",
    "$v_i=50\\text{ mi/h}=22.4\\text{ m/s}$\n",
    "\n",
    "$F_f=\\mu mg,\\quad a=\\frac{F_f}{m}=\\mu g$\n",
    "$,\\quad d=\\frac{v_i^2}{2a}$\n",
    "\n",
    "$d=\\frac{v_i^2}{2\\mu g}$\n",
    "$=\\frac{(22.4)^2}{2(0.100)(9.80)}=256\\text{ m}$\n",
    "\n",
    "**b.**\n",
    "\n",
    "$d=\\frac{(22.4)^2}{2(0.600)(9.80)}=42.6\\text{ m}$"
   ]
  },
  {
   "cell_type": "markdown",
   "metadata": {},
   "source": [
    "**41.** A 3.00 kg block starts from rest at the top of a 30.0° incline and slides a distance of 2.00 m down the incline in 1.50 s. Find (a) the magnitude of the acceleration of the block, (b) the coefficient of kinetic friction between block and plane, (c) the friction force acting on the block, and (d) the speed of the block after it has slid 2.00 m.\n",
    "\n",
    "![assets/ch05-41.png](assets/ch05-41.png)\n",
    "\n",
    "$d=v_it+\\frac{1}{2}at^2$\n",
    "\n",
    "$2 = 0+\\frac{1}{2}a(1.5)^2$\n",
    "$\\implies a=\\frac{2(2)}{1.5^2}$\n",
    "$=1.78\\text{ m/s}^2$\n",
    "\n",
    "<br>\n",
    "\n",
    "$\\Sigma F_y=n-mg\\cos\\theta=0$\n",
    "\n",
    "$n=3(9.80)\\cos30=25.5\\text{ N}$\n",
    "\n",
    "$\\Sigma F_x=mg\\sin\\theta-f_k=ma$\n",
    "$\\implies f_k=mg\\sin\\theta-ma$\n",
    "\n",
    "$f_k=3(9.80)\\sin(30)-3(1.78)=9.37\\text{ N}$\n",
    "\n",
    "<br>\n",
    "\n",
    "$f_k=\\mu_kn\\implies \\mu_k=\\frac{f_k}{n}$\n",
    "\n",
    "$\\mu_k=\\frac{9.37}{25.5}=0.368$\n",
    "\n",
    "<br>\n",
    "\n",
    "${v_f}^2={v_i}^2+2ad$\n",
    "\n",
    "$v_f=\\sqrt{2(1.78)(2)}=2.67\\text{ m/s}$"
   ]
  },
  {
   "cell_type": "markdown",
   "metadata": {},
   "source": [
    "**43.** A 9.00 kg hanging weight is connected by a string over a pulley to a 5.00 kg block that is sliding on a flat table(Fig P5.24). If the coefficient of kinetic friction is 0.200, find the tension in the string.\n",
    "\n",
    "$\\Sigma F_x=0,\\quad \\Sigma F_y=m_1g-T=m_1a$\n",
    "\n",
    "$m_1a=m_1g-T$\n",
    "\n",
    "$a=g-\\frac{T}{m_1}=9.80-0.111T$\n",
    "\n",
    "<br>\n",
    "\n",
    "$\\Sigma F_y=n-m_2g=0$\n",
    "\n",
    "$n=m_2g=5(9.80)=49\\text{ N}$\n",
    "\n",
    "$f_k=0.200(49)=9.80\\text{ N}$\n",
    "\n",
    "$\\Sigma F_x=T-f_k=m_2a,\\quad T=m_2a+f_k$\n",
    "\n",
    "$T=5(9.80-0.111T)+9.80=49-0.556T+9.80=37.8\\text{ N}$"
   ]
  }
 ],
 "metadata": {
  "kernelspec": {
   "display_name": "Python 3",
   "language": "python",
   "name": "python3"
  },
  "language_info": {
   "codemirror_mode": {
    "name": "ipython",
    "version": 3
   },
   "file_extension": ".py",
   "mimetype": "text/x-python",
   "name": "python",
   "nbconvert_exporter": "python",
   "pygments_lexer": "ipython3",
   "version": "3.8.5"
  }
 },
 "nbformat": 4,
 "nbformat_minor": 4
}
