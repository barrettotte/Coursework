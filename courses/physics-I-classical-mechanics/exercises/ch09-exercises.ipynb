{
 "cells": [
  {
   "cell_type": "markdown",
   "metadata": {},
   "source": [
    "# Chapter 9 - Linear Momentum and Collisions"
   ]
  },
  {
   "cell_type": "markdown",
   "metadata": {},
   "source": [
    "## 9.1 - Linear Momentum and its Conservation"
   ]
  },
  {
   "cell_type": "markdown",
   "metadata": {},
   "source": [
    "**1.** A 3.00-kg particle has a velocity of $(3.00\\hat{i}-4.00\\hat{j})$ m/s. (a) Find its $x$ and $y$ components of momentum. (b) Find the magnitude and direction of its momentum.\n",
    "\n",
    "**a.**\n",
    "\n",
    "$\\vec{p}=m\\vec{v}$\n",
    "\n",
    "$=3\\cdot(3.00\\hat{i}-4.00\\hat{j})=9.00\\hat{i}-12.00\\hat{j}$\n",
    "\n",
    "$p_x=9.00\\text{ kg m/s},\\quad p_y=12.00\\text{ kg m/s}$\n",
    "\n",
    "**b.**\n",
    "\n",
    "$|\\vec{p}|=\\sqrt{9^2+(-12)^2}=15$\n",
    "\n",
    "$\\theta=\\tan^{-1}(\\frac{-12}{9})=306.87^\\circ$"
   ]
  },
  {
   "cell_type": "markdown",
   "metadata": {},
   "source": [
    "## 9.2 - Impulse and Momentum"
   ]
  },
  {
   "cell_type": "markdown",
   "metadata": {},
   "source": [
    "**7.** An estimated force-time curve for a baseball struck by a bat is shown in Figure P9.7. From this curve, determine (a) the impulse delivered to the ball, (b) the average force exerted on the ball\n",
    "\n",
    "$I=A=\\frac{1}{2}bh$\n",
    "\n",
    "$I=\\frac{1}{2}(1.5\\times10^{-3})(18000)=13.5\\text{ N}\\cdot\\text{s}$\n",
    "\n",
    "$I=\\bar{F}\\Delta t$\n",
    "$\\implies \\bar{F}=\\frac{I}{\\Delta t}$\n",
    "\n",
    "$=\\frac{13.5}{1.5\\times10^{-3}}=9\\times10^3\\text{ N}$"
   ]
  },
  {
   "cell_type": "markdown",
   "metadata": {},
   "source": [
    "**13.** A garden hose is held as shown in Figure P9.13. The hose is originally full of motionless water. What additional force is necessary to hold the nozzle stationary after the water flow is turned on, if the discharge rate is 0.600 kg/s with a speed of 25.0 m/s?\n",
    "\n",
    "\n",
    "$\\vec{F}=\\frac{\\vec{I}}{\\Delta t}$\n",
    "\n",
    "$F=\\frac{\\Delta p}{\\Delta t}=\\frac{\\Delta(mv)}{\\Delta t}$\n",
    "\n",
    "$F=v\\frac{\\Delta m}{\\Delta t}=25.0\\text{ m/s}\\cdot(0.600\\text{ kg/s})$\n",
    "$=15\\text{ N}$"
   ]
  },
  {
   "cell_type": "markdown",
   "metadata": {},
   "source": [
    "## 9.3 - Collisions in One Dimension"
   ]
  },
  {
   "cell_type": "markdown",
   "metadata": {},
   "source": [
    "**15.** High-speed stroboscopic photographs show that the head of a golf club of mass 200 g traveling at 55.0 m/s just before it strike a 46.0-g golf ball at rest on a tee. After the collision, the club head travels (in the same direction) at 40.0 m/s. Find the speed of the golf ball just after impact.\n",
    "\n",
    "$\\Sigma p=p_1+p_2=m_1\\cdot v_1+0$\n",
    "\n",
    "$\\Sigma p'=p'_1+p_2'=m_1\\cdot v'_1+m_2\\cdot v'_2$\n",
    "\n",
    "$p_1=p'_1+p'_2$\n",
    "\n",
    "$m_1v_1=m_1v'_1+m_2v_2'$\n",
    "\n",
    "$v'_2=\\frac{m_1v_1-m_1v'_1}{m_2}$\n",
    "$=\\frac{m_1}{m_2}(v_1-v_1')$\n",
    "\n",
    "$v_2'=\\frac{0.2\\text{ kg}}{0.046\\text{ kg}}(55.0\\text{ m/s}-40.0\\text{ m/s})$\n",
    "$=65.22\\text{ m/s}$"
   ]
  },
  {
   "cell_type": "markdown",
   "metadata": {},
   "source": [
    "**17.** A 10.0-g bullet is fired into a stationary block of wood $(m=5.00\\text{ kg})$. The relative motion of the bullet stops inside the block. The speed of the bullet-plus-wood combination immediately after the collision is 0.600 m/s. What was the original speed of the bullet?\n",
    "\n",
    "$\\Delta p=0\\implies p_i=p_f$\n",
    "\n",
    "$m_1v_{1i}+m_2v_{2i}=(m_1+m_2)v_f$\n",
    "\n",
    "$v_{1i}=\\frac{(m_1+m_2)v_f-m_2v_{2i}}{m_1}$\n",
    "$=\\frac{(0.01+5)(0.6)-(5)(0)}{0.01}=301\\text{ m/s}$"
   ]
  },
  {
   "cell_type": "markdown",
   "metadata": {},
   "source": [
    "**23.** A neutron in a nuclear reactor makes an elastic headon collision with the nucleus of a carbon atom initially at rest. (a) What fraction of the neutron's kinetic energy is transferred to the carbon nucleus? (b) If the initial kinetic energy of the neutron is $1.60\\times10^{-13}\\text{ J}$, find its final kinetic energy and the kinetic energy of the carbon nucleus after the collision. (The mass of the carbon nucleus is nearly 12.0 times the mass of the neutron)\n",
    "\n",
    "**a.**\n",
    "\n",
    "$\\Delta p=0\\implies p_f=p_i$\n",
    "\n",
    "$m_1v_{1f}+m_2v_{2f}=m_1v_{1i}+m_2v_{2i}$\n",
    "\n",
    "$m_1v_{1f}+12m_1v_{2f}=m_1v_{1i}+12m_1v_{2i}$\n",
    "\n",
    "$v_{1f}+12v_{2f}=v_{1i}+12v_{2i}$\n",
    "\n",
    "$v_{2i}=0\\implies v_{1f}+12v_{2f}=v_{1i}$\n",
    "\n",
    "<br>\n",
    "\n",
    "$v_{1i}-v_{2i}=-(v_{1f}-v_{2f})$\n",
    "\n",
    "$v_{1i}=v_{2f}-v_{1f}$\n",
    "\n",
    "$v_{1i}+v_{1i}=(v_{1f}+12v_{2f})+(v_{2f}-v_{1f})$\n",
    "\n",
    "$2v_{1i}=13v_{2f}\\implies v_{2f}=\\frac{2}{13}v_{1i}$\n",
    "\n",
    "<br>\n",
    "\n",
    "$K_{1i}=\\frac{1}{2}m_1{v_{1i}}^2$\n",
    "\n",
    "$K_{2f}=\\frac{1}{2}m_2{v_{2f}}^2$\n",
    "\n",
    "$K_{2f}=\\frac{1}{2}(12m_1)(\\frac{2}{13}v_{1i})^2$\n",
    "$=\\frac{1}{2}(12)m_1(\\frac{4}{169}v_{li}^2)$\n",
    "$=\\frac{48}{169}K_{1i}$\n",
    "\n",
    "$\\frac{K_{2f}}{K_{1i}}=\\frac{48}{169}=0.284$\n",
    "\n",
    "**b.**\n",
    "\n",
    "$\\frac{K_{2f}}{K_{1i}}=\\frac{K_{2f}}{1.6\\times10^{-13}}=0.284$\n",
    "\n",
    "$K_{2f}=4.54\\times10^{-14}\\text{ J}$\n",
    "\n",
    "<br>\n",
    "\n",
    "$K_{1f}=K_{1i}-K_{2f}$\n",
    "\n",
    "$K_{1f}=(1.6\\times10^{-13})-(4.5\\times10^{-14})=1.15\\times10^{-13}\\text{ J}$"
   ]
  },
  {
   "cell_type": "markdown",
   "metadata": {},
   "source": [
    "## 9.4 - Two-Dimensional Collisions"
   ]
  },
  {
   "cell_type": "markdown",
   "metadata": {},
   "source": [
    "**31.** The mass of the blue puck in Figure P9.31 is 20% greater than the mass of the green one. Before colliding, the pucks approach each other with momenta of equal magnitudes and opposite directions, and the green puck has an initial speed of 10.0 m/s. Find the speeds of the pucks after the collision if half the kinetic energy is lost during the collision.\n",
    "\n",
    "\n",
    "$m_b=m_g+0.2m_g$\n",
    "$\\implies m_b=m_g(1+0.2)=1.2m_g$\n",
    "\n",
    "$m_gv_{gi}-m_bv_{bi}=0$\n",
    "$\\implies m_bv_{bi}=m_gv_{gi}$\n",
    "\n",
    "$v_{bi}=\\frac{m_gv_{gi}}{m_b}$\n",
    "$=\\frac{10}{1.2}=8.33\\text{ m/s}$\n",
    "\n",
    "<br>\n",
    "\n",
    "$K_i=(\\frac{1}{2}m_g{v_{gi}}^2+\\frac{1}{2}m_b{v_{bi}}^2)$\n",
    "$=\\frac{1}{2}m_g(10)^2+\\frac{1}{2}(1.2m_g)(8.33)^2$\n",
    "\n",
    "$K_i=\\frac{1}{2}m_g(183)=91.6m_g$\n",
    "\n",
    "$K_f=\\frac{1}{2}m_g{v_{gf}}^2+\\frac{1}{2}(1.2)m_g{v_{bf}}^2$\n",
    "$=\\frac{1}{2}(91.6m_g)$\n",
    "\n",
    "${v_{gf}}^2+1.2{v_{bf}}^2=91.6$\n",
    "\n",
    "<br>\n",
    "\n",
    "$m_gv_{gf}-m_bv_{bf}=0$\n",
    "$\\implies v_{gf}=1.2v_{bf}$\n",
    "\n",
    "$(1.2v_{bf})^2+1.2{v_{bf}}^2=91.6$\n",
    "\n",
    "$v_{bf}=\\sqrt{\\frac{91.6}{1.2^2+1.2}}=5.89\\text{ m/s}$\n",
    "\n",
    "$v_{gf}=1.2(5.89)=7.07\\text{ m/s}$"
   ]
  },
  {
   "cell_type": "markdown",
   "metadata": {},
   "source": [
    "**33.** A billiard ball moving at 5.00 m/s strikes a stationary ball of the same mass. After the collision, the first ball moves at 4.33 m/s, at an angle of $30.0^\\circ$ with respect to the original line of motion. Assuming an elastic collision (and ignoring friction and rotational motion), find the struck ball's velocity after the collision.\n",
    "\n",
    "$\\Delta p_x=0\\implies p_{xi}=p_{xf}$\n",
    "\n",
    "$mv_{1i}+mv_{2i}=mv_{1f}\\cos\\theta_1+mv_{2f}\\cos\\theta_2$\n",
    "\n",
    "$v_{1i}+v_{2i}=v_{1f}\\cos\\theta_1+v_{2f}\\cos\\theta_2$\n",
    "\n",
    "$v_{2fx}=\\frac{v_{1i}+v_{2i}}{v_{1f}\\cos\\theta_1}$\n",
    "$=\\frac{5+0}{(4.33)(\\cos30^\\circ)}=1.2\\text{ m/s}$\n",
    "\n",
    "<br>\n",
    "\n",
    "$\\Delta p_y=0\\implies p_{yi}=p_{yf}$\n",
    "\n",
    "$0=mv_{1f}\\sin\\theta_1+mv_{2f}\\sin\\theta_2$\n",
    "\n",
    "$0=v_{1f}\\sin\\theta_1+v_{2f}\\sin\\theta_2$\n",
    "\n",
    "$v_{2fy}=-v_{1f}\\sin\\theta_1=-(4.33)\\sin30^\\circ=-2.16\\text{ m/s}$\n",
    "\n",
    "<br>\n",
    "\n",
    "$v_{2f}=\\sqrt{{v_{2fx}}^2+{v_{2fy}}^2}=\\sqrt{(1.25)^2+(-2.16)^2}$\n",
    "$=2.5\\text{ m/s}$\n",
    "\n",
    "$\\theta_2=360^\\circ+\\tan^{-1}\\frac{v_{2fy}}{v_{2fx}}=300^\\circ$"
   ]
  },
  {
   "cell_type": "markdown",
   "metadata": {},
   "source": [
    "**35.** An object of mass 3.00 kg, moving with an initial velocity of $5.00\\hat{i}$ m/s, collides with and sticks to an object of mass 2.00 kg with an initial velocity of $3.00\\hat{j}$ m/s. Find the final velocity of the composite object.\n",
    "\n",
    "\n",
    "$m_1\\vec{v_{1i}}+m_2\\vec{v_{2i}}=(m_1+m_2)\\vec{v_f}$\n",
    "\n",
    "$\\vec{v_f}=\\frac{m_1\\vec{v_{1i}}+m_2\\vec{v_{2i}}}{m_1+m_2}$\n",
    "$=\\frac{3(5\\hat{i})+2(-3\\hat{j})}{3+2}=3\\hat{i}-1.2\\hat{j}\\text{ m/s}$\n",
    "\n"
   ]
  },
  {
   "cell_type": "markdown",
   "metadata": {},
   "source": [
    "## 9.5 - The Center of Mass"
   ]
  },
  {
   "cell_type": "markdown",
   "metadata": {},
   "source": [
    "**39.** A water molecule consists of an oxygen atom with two hydrogen atoms bound to it (Fig. P9.39). The angle between the two bonds is $106^\\circ$. If the bonds are 0.100 nm long, where is the center of mass of the molecule?\n",
    "\n",
    "\n",
    "$\\vec{r}_{CM}=\\frac{\\Sigma m_i\\cdot\\vec{r}_i}{M}$\n",
    "\n",
    "$\\vec{r}_1=r_{1x}\\hat{i}+r_{1y}\\hat{j}$\n",
    "$=r_1\\cos\\theta\\hat{i}+r_1\\sin\\theta\\hat{j}$\n",
    "\n",
    "$\\vec{r}_1=0.100\\cos53^\\circ\\hat{i}+0.100\\sin53^\\circ\\hat{j}$\n",
    "$=(0.06\\hat{i}+0.08\\hat{j})\\text{ nm}$\n",
    "\n",
    "$\\vec{r_2}=r_{2x}\\hat{i}+r_{2y}\\hat{j}=r_2\\cos\\theta\\hat{i}+r_2\\sin\\theta\\hat{j}$\n",
    "\n",
    "$\\vec{r_2}=0.100\\cos53^\\circ\\hat{i}-0.100\\sin53^\\circ\\hat{j}$\n",
    "$=(0.06\\hat{i}-0.08\\hat{j})\\text{ nm}$\n",
    "\n",
    "$\\vec{r}_{CM}=\\frac{m_1}{m_1+2m_2}\\cdot(\\vec{r_1}+\\vec{r_2})$\n",
    "\n",
    "$\\vec{r}_{CM}=\\frac{1}{16+2}(0.06\\hat{i}+0.08\\hat{j}+0.06\\hat{i}-0.08\\hat{j})$\n",
    "$=\\frac{1}{18}0.12\\hat{i}\\text{ nm}$"
   ]
  },
  {
   "cell_type": "markdown",
   "metadata": {},
   "source": [
    "**43.** A rod of length 30.0 cm has linear density (mass-per-length) given by \n",
    "\n",
    "$\\lambda=50.0\\text{ g/m}+20.0x\\text{ g/m}^2$,\n",
    "\n",
    "where $x$ is the distance from one end, measured in meters. (a) What is the mass of the rod? (b) How far from the $x=0$ end is its center of mass?\n",
    "\n",
    "**a.**\n",
    "\n",
    "$\\displaystyle M=\\int_0^Ldm=\\int_0^L\\lambda dx=\\int_0^{0.3}(50+20x)dx$\n",
    "\n",
    "$\\displaystyle =\\int_0^{0.3}50dx+\\int_0^{0.3}20xdx$\n",
    "$=(50(0.3)-0)+(20(\\frac{0.3^2}{2}-0))=15.9\\text{ g}$\n",
    "\n",
    "**b.**\n",
    "\n",
    "$\\displaystyle x_{CM}=\\frac{1}{M}\\int_0^Lxdm$\n",
    "$\\displaystyle =\\frac{1}{M}\\int_0^Lx\\lambda dx$\n",
    "$\\displaystyle =\\frac{1}{M}\\int_0^{0.3}(50x+20x^2)dx$\n",
    "\n",
    "$=\\frac{1}{15.9}\\bigg[\\frac{50x^2}{2}+\\frac{20x^3}{3}\\bigg]_0^{0.3}$\n",
    "$=0.153\\text{ m}$"
   ]
  }
 ],
 "metadata": {
  "kernelspec": {
   "display_name": "Python 3",
   "language": "python",
   "name": "python3"
  },
  "language_info": {
   "codemirror_mode": {
    "name": "ipython",
    "version": 3
   },
   "file_extension": ".py",
   "mimetype": "text/x-python",
   "name": "python",
   "nbconvert_exporter": "python",
   "pygments_lexer": "ipython3",
   "version": "3.8.5"
  }
 },
 "nbformat": 4,
 "nbformat_minor": 4
}
