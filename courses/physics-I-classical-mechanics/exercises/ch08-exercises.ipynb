{
 "cells": [
  {
   "cell_type": "markdown",
   "metadata": {},
   "source": [
    "# Chapter 8 - Potential Energy"
   ]
  },
  {
   "cell_type": "markdown",
   "metadata": {},
   "source": [
    "## 8.1 - Potential Energy of a System"
   ]
  },
  {
   "cell_type": "markdown",
   "metadata": {},
   "source": [
    "**3.** A person with a remote mountain cabin plans to install her own hydroelectric plant. A nearby stream is 3.00 m wide and 0.500 m deep. Water flows at 1.20 m/s over the brink of a waterfall 5.00 m high. The manufacturer promises only 25.0% efficiency in converting the potential energy of the water-Earth system into electric energy. Find the power she can generate. (Large-scale hydroelectric plants, with a much larger drop, are more efficient.)\n",
    "\n",
    "\n",
    "$A=3(0.5)=1.5\\text{ m}^2$\n",
    "\n",
    "$\\frac{dV}{dt}=v\\cdot A=1.2(1.5)=1.8\\text{ m}^3\\text{/s}$\n",
    "\n",
    "$\\text{ water density: }\\rho=1000\\text{ kg/m}^3$\n",
    "\n",
    "$\\eta=\\frac{P_\\text{out}}{P_\\text{in}}\\cdot 100\\%$\n",
    "\n",
    "$P=0.25(9.8)\\cdot 1000(5)(1.8)=22050\\text{ W}=22.1\\text{ kW}$"
   ]
  },
  {
   "cell_type": "markdown",
   "metadata": {},
   "source": [
    "## 8.2 - The Isolated System-Conservation of Mechanical Energy"
   ]
  },
  {
   "cell_type": "markdown",
   "metadata": {},
   "source": [
    "**5.** A bead slides without friction around a loop-the-loop (Fig. P8.5). The bead is released from a height $h=3.50\\text{R}$. (a) What is its speed at point $A$? (b) How large is the normal force on it if its mass is 5.00 g?\n",
    "\n",
    "**a.**\n",
    "\n",
    "$K_A=U_A$\n",
    "\n",
    "$\\frac{1}{2}m{v_A}^2=mg(h-2R)$\n",
    "\n",
    "${v_A}^2=2g(h-2R)$\n",
    "\n",
    "$v_a=\\sqrt{2g(h-2R)}$\n",
    "$=\\sqrt{2g(3.5R-2R)}$\n",
    "$=\\sqrt{3gR}$\n",
    "\n",
    "**b.**\n",
    "\n",
    "$N+mg=ma_c$\n",
    "\n",
    "$N+mg=m\\frac{{v_A}^2}{R}$\n",
    "\n",
    "$N=m\\frac{{v_A}^2}{R}-mg$\n",
    "$=m\\frac{3gR}{R}-mg$\n",
    "$=3mg-mg=2mg$\n",
    "\n",
    "$N=2(0.005)(9.8)=0.098\\text{ N}$"
   ]
  },
  {
   "cell_type": "markdown",
   "metadata": {},
   "source": [
    "**11.** A block of mass 0.250 kg is placed on top of a light vertical spring of force constant 5000 N/m and pushed downward so that the spring is compressesd by 0.100 m. After the block is released from rest, it travels upward and then leaves the spring. To what maximum height above the point of release does it rise?\n",
    "\n",
    "\n",
    "$U_s=\\frac{1}{2}kx^2$\n",
    "$\\quad U_g=mgh$\n",
    "\n",
    "$U_s=U_g$\n",
    "\n",
    "$\\frac{1}{2}kx^2=mgh$\n",
    "\n",
    "$h=\\frac{kx^2}{2mg}$\n",
    "$=\\frac{5000(0.100)^2}{2(0.250)(9.80)}$\n",
    "$=10.2\\text{ m}$"
   ]
  },
  {
   "cell_type": "markdown",
   "metadata": {},
   "source": [
    "**15.** A light rigid rod is 77.0 cm long. Its top end is pivoted on a low-friction horizontal axle. The rod hangs straight down at rest with a small massive ball attached to its bottom end. You strike the ball, suddenly giving it a horizontal velocity so that it swings around in a full circle. What minimum speed at the bottom is required to make the ball go over the top of the circle?\n",
    "\n",
    "$\\frac{1}{2}m{v_i}^2=mgh$\n",
    "\n",
    "$v_i=\\sqrt{2g(2L)}=\\sqrt{4(9.8)(0.77)}=5.49\\text{ m/s}$"
   ]
  },
  {
   "cell_type": "markdown",
   "metadata": {},
   "source": [
    "## 8.3 - Conservative and Nonconservative Forces"
   ]
  },
  {
   "cell_type": "markdown",
   "metadata": {},
   "source": [
    "**23.** A force acting on a particle moving in the $xy$ plane is given by $\\vec{F}=(2y\\hat{i}+x^2\\hat{j})$ N, where $x$ and $y$ are in meters. The particle moves from the origin to a final position having coordinates $x=5.00\\text{ m}$ and $y=5.00\\text{ m}$, as in Figure 8.21. Calculate the work done by $\\vec{F}$ along (a) $OAC$, (b) $OBC$, c() $OC$, (d) Is $\\vec{F}$ conservative or nonconservative? Explain.\n",
    "\n",
    "**a.**\n",
    "\n",
    "$\\displaystyle W=\\int\\vec{F}d\\vec{r}$\n",
    "\n",
    "$W_{OAC}=W_{OA}+W_{AC}$\n",
    "\n",
    "$\\displaystyle W_{OA}=\\int\\vec{F}(dx)\\hat{i}=\\int_0^5\\vec{F}(dx)\\hat{i}$\n",
    "\n",
    "$\\displaystyle W_{AC}=\\int\\vec{F}(dy)\\hat{j}=\\int_0^5\\vec{F}(dy)\\hat{j}$\n",
    "\n",
    "$\\displaystyle W_{OAC}=\\int_0^5\\vec{F}(dx)\\hat{i}+\\int_0^5\\vec{F}(dy)\\hat{j}$\n",
    "$\\displaystyle =\\int_0^5(2y\\hat{i}+x^2\\hat{j})(dx)\\hat{i}+\\int_0^5(2y\\hat{i}+x^2\\hat{j})(dy)\\hat{j}$\n",
    "\n",
    "$\\displaystyle W_{OAC}=\\int_0^5 2ydx+\\int_0^5 x^2dy$\n",
    "\n",
    "$\\displaystyle =0+\\int_0^5 5^2dy=25\\int_0^5dy=25(5-0)=125\\text{ J}$\n",
    "\n",
    "**b.**\n",
    "\n",
    "$W_{OBC}=W_{OB}+W_{BC}$\n",
    "$\\displaystyle =\\int_0^5\\vec{F}(dy)\\hat{j}+\\int_0^5\\vec{F}(dx)\\hat{i}$\n",
    "\n",
    "$\\displaystyle =\\int_0^5(2y\\hat{i}+x^2\\hat{j})(dy)\\hat{j}+\\int_0^5(2y\\hat{i}+x^2\\hat{j})(dx)\\hat{i}$\n",
    "\n",
    "$\\displaystyle W_{OBC}=\\int_0^5 x^2dy+\\int_0^5 2ydx$\n",
    "\n",
    "$\\displaystyle =0+\\int_0^52(5)dx=10\\int_0^5dx=10(5-0)=50\\text{ J}$\n",
    "\n",
    "**c.**\n",
    "\n",
    "$d\\vec{r}=dx\\hat{i}+dy\\hat{j}$\n",
    "\n",
    "$\\displaystyle W=\\int(2y\\hat{i}+x^2\\hat{j})(dx\\hat{i}+dy\\hat{j})$\n",
    "\n",
    "$y=mx=(\\frac{5-0}{5-0})x=x$\n",
    "\n",
    "$\\displaystyle W_{OC}=\\int 2xdx+\\int y^2dy$\n",
    "\n",
    "$\\displaystyle W_{OC}=\\int_0^5 2xdx+\\int_0^5y^2dy$\n",
    "$=2(5^2-0)+\\frac{1}{3}(5^3-0)=66.7\\text{ J}$\n",
    "\n",
    "**d.**\n",
    "\n",
    "No, $\\vec{F}$ is not conservative since the work is dependent on the path that is\n",
    "taken."
   ]
  },
  {
   "cell_type": "markdown",
   "metadata": {},
   "source": [
    "**25.** A single constant force $\\vec{F}=(3\\hat{i}+5\\hat{j})$ N acts on a 4.00-kg particle. (a) Calculate the work done by this force if the particle moves from the origin to the point having the vector position $\\vec{r}=(2\\hat{i}-3\\hat{j})\\text{ m}$. Does this result depend on the path? Explain. (b) What is the speed of the particle at $\\vec{r}$ if its speed at the origin is 4.00 m/s? (c) What is the change in the potential energy?\n",
    "\n",
    "**a.**\n",
    "\n",
    "$W=\\vec{F}\\cdot\\vec{r}$\n",
    "$=(3\\hat{i}+5\\hat{j})\\cdot(2\\hat{i}-3\\hat{j})=(6-15)=-9\\text{ J}$\n",
    "\n",
    "No, the force is constant, so it is conservative.\n",
    "\n",
    "**b.**\n",
    "\n",
    "$W=K_f-K_i=\\frac{1}{2}m{v_f}^2-\\frac{1}{2}m{v_i}^2=\\frac{1}{2}m({v_f}^2-{v_i}^2)$\n",
    "\n",
    "$({v_f}^2-{v_i}^2)=\\frac{2W}{m}$\n",
    "\n",
    "${v_f}^2=\\frac{2W}{m}+{v_i}^2=\\frac{2(-9)\\text{ J}}{4.00\\text{ Kg}}+(4\\text{ m/s})^2$\n",
    "\n",
    "$=(-4.5+16.00)\\text{ m}^2/\\text{s}^2$\n",
    "$=3.39\\text{ m/s}$\n",
    "\n",
    "**c.**\n",
    "\n",
    "$W=-\\Delta U \\implies \\Delta U=9\\text{ J}$"
   ]
  },
  {
   "cell_type": "markdown",
   "metadata": {},
   "source": [
    "## 8.4 - Changes in Mechanical Energy for Nonconservative Forces"
   ]
  },
  {
   "cell_type": "markdown",
   "metadata": {},
   "source": [
    "**27.** In her hand a softball pitcher swings a ball of mass 0.250 kg around a vertical circular path of radius 60.0 cm before releasing it from her hand. The pitcher maintains a component of force on the ball of constant magnitude 30.0 N in the direction of motion around the complete path. The speed of the ball at the top of the circle is 15.0 m/s. If she releases the ball at the bottom of the circle, what is its speed upon release?\n",
    "\n",
    "$W_\\text{net}=\\Delta K$\n",
    "\n",
    "$W_g+W_p=\\frac{1}{2}m{v_f}^2-\\frac{1}{2}{v_i}^2$\n",
    "\n",
    "$U=mg2R$\n",
    "\n",
    "$=mg2R+F\\pi R+\\frac{1}{2}{v_i}^2=\\frac{1}{2}{v_f}^2$\n",
    "\n",
    "${v_f}^2=4gR+\\frac{2F\\pi R}{m}+{v_i}^2$\n",
    "\n",
    "$v_f=\\sqrt{4(9.8)(0.6)+\\frac{2(30)\\pi(0.6)}{0.25}+(15)^2}$\n",
    "\n",
    "$v_f=26.5\\text{ m/s}$"
   ]
  },
  {
   "cell_type": "markdown",
   "metadata": {},
   "source": [
    "**29.** The world's biggest locomotive is the MK5000C, a behemoth of mass 160 metric tons driven by the most powerful enegine ever used for rail transportation, a Caterpillar diesel capable of 5000 hp. Such a huge machine can provide a gain in efficiency, but its large mass presents challenges as well. The engineer finds that the locomotive handles differently from conventional units, notably in braking and climbing hills. Consider the locomotive pulling no train, but traveling at 27.0 m/s on a level track while operating with output power 1000 hp. It comes to a 5.00% grade (a slope that rise 5.00 m for every 100 m along the track). If the throttle is not advanced, so that the power level is held steady, to what value will the speed drop? Assume that friction forces do not depend on the speed.\n",
    "\n",
    "\n",
    "$P=Fv$\n",
    "\n",
    "$P=1000\\text{ hp}=1000(745.699\\text{ W})=745.7\\text{ kW}$\n",
    "\n",
    "$F_i=\\frac{P}{v_i}=\\frac{745.7\\text{ kW}}{27.0\\text{ m/s}}=27.62\\text{ kN}$\n",
    "\n",
    "$F_f=F_i+mg\\sin\\theta$\n",
    "\n",
    "$\\tan\\theta=0.05\\implies \\theta=2.86^\\circ$\n",
    "\n",
    "$m=160\\text{ t}=160\\times10^3\\text{ kg}$\n",
    "\n",
    "$F_f=27.62\\text{ kN}+(160\\times10^3\\text{ kg})(9.81\\text{ m/s}^2)\\sin(2.86^\\circ)$\n",
    "\n",
    "$F_f=105.94\\text{ kN}$\n",
    "\n",
    "$P=F_fv_f$\n",
    "\n",
    "$v_f=\\frac{P}{F_f}=\\frac{745.7\\text{ kW}}{105.94\\text{ kN}}=7.04\\text{ m/s}$"
   ]
  }
 ],
 "metadata": {
  "kernelspec": {
   "display_name": "Python 3",
   "language": "python",
   "name": "python3"
  },
  "language_info": {
   "codemirror_mode": {
    "name": "ipython",
    "version": 3
   },
   "file_extension": ".py",
   "mimetype": "text/x-python",
   "name": "python",
   "nbconvert_exporter": "python",
   "pygments_lexer": "ipython3",
   "version": "3.8.5"
  }
 },
 "nbformat": 4,
 "nbformat_minor": 4
}
