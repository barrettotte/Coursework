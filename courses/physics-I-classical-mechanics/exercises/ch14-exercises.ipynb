{
 "cells": [
  {
   "cell_type": "markdown",
   "metadata": {},
   "source": [
    "# Chapter 14 - Fluid Mechanics"
   ]
  },
  {
   "cell_type": "markdown",
   "metadata": {},
   "source": [
    "## 14.1 - Pressure"
   ]
  },
  {
   "cell_type": "markdown",
   "metadata": {},
   "source": [
    "**1.** Calculate the mass of a solid iron sphere that has a diameter of 3.00 cm.\n",
    "\n",
    "$V=\\frac{4}{3}r^3\\pi=\\frac{4}{3}\\frac{d^3}{8}\\pi$\n",
    "\n",
    "$V=1.413\\times10^{-5}\\text{ m}^3$\n",
    "\n",
    "$m=\\rho V=(7860)(1.413\\times10^{-5})=0.111\\text{ kg}$\n"
   ]
  },
  {
   "cell_type": "markdown",
   "metadata": {},
   "source": [
    "**3.** A 50.0-kg woman balances on one heel of a pair of high-heeled shoes. If the heel is circular and has a radius of 0.500 cm, what pressure does she exert on the floor?\n",
    "\n",
    "$F_g=mg=50(9.81)=490.5\\text{ N}$\n",
    "\n",
    "$S=r^2\\pi$\n",
    "$=7.85\\times10^{-5}\\text{ m}^2$\n",
    "\n",
    "$p=\\frac{F_g}{S}=\\frac{490.5}{7.85\\times10^{-5}}=6.248\\times10^6\\text{ Pa}$"
   ]
  },
  {
   "cell_type": "markdown",
   "metadata": {},
   "source": [
    "**5.** What is the total mass of the Earth's atmosphere? (The radius of the Earth is $6.37\\times10^6\\text{ m}$, and atmospheric pressure at the surface is $1.013\\times10^5\\text{ N/m}^2$)\n",
    "\n",
    "$S_E=4{R_R}^2\\pi$\n",
    "$=5.096\\times10^{14}\\text{ m}^2$\n",
    "\n",
    "$F_\\text{total}=P\\cdot S_E$\n",
    "$=(1.013\\times10^5)(5.096\\times10^{14})$\n",
    "$=5.61\\times10^{19}\\text{ N}$\n",
    "\n",
    "$F_\\text{total}=Mg$\n",
    "$\\implies M=\\frac{F_\\text{total}}{g}$\n",
    "$=5.72\\times10^{18}\\text{ kg}$"
   ]
  },
  {
   "cell_type": "markdown",
   "metadata": {},
   "source": [
    "## 14.2 - Variation of Pressure with Depth"
   ]
  },
  {
   "cell_type": "markdown",
   "metadata": {},
   "source": [
    "**7.** The spring of the pressure gauge shown in Figure 14.2 has a force constant of 1000 N/m, and the piston has a diameter of 2.00 cm. As the gauge is lowered into water, what change in depth causes the piston to move in by 0.500 cm?\n",
    "\n",
    "$F_x=kx=5\\text{ N}$\n",
    "\n",
    "$S=\\frac{d^2}{4}\\pi=3.14\\times10^{-4}\\text{ m}^2$\n",
    "\n",
    "$p=\\frac{F_x}{S}=\\frac{5}{3.14\\times10^{-4}}=1.592\\times10^4\\text{ Pa}$\n",
    "\n",
    "$p=\\rho gh\\implies h=\\frac{p}{\\rho g}$\n",
    "$=1.623\\text{ m}$"
   ]
  },
  {
   "cell_type": "markdown",
   "metadata": {},
   "source": [
    "## 14.3 - Pressure Measurements"
   ]
  },
  {
   "cell_type": "markdown",
   "metadata": {},
   "source": [
    "**17.** Blaise Pascal duplicated Torricell's barometer using a red Bordeaux wine, of density $984\\text{ kg/m}^3$, as the working liquid (Fig. P14.17). What was the height of $h$ of the wine column for normal atmospheric pressure? Would you expect the vacuum above the column to be as good as for mercury?\n",
    "\n",
    "$P_0=\\rho gh$\n",
    "$\\implies h=\\frac{P_0}{\\rho g}$\n",
    "$=\\frac{1.013\\times10^5}{984(9.8)}$\n",
    "$=10.5\\text{ m}$"
   ]
  },
  {
   "cell_type": "markdown",
   "metadata": {},
   "source": [
    "**19.** Normal atmospheric pressure is $1.013\\times10^5\\text{ Pa}$. The approach of a storm causes the height of a mercury barometer to drop by 20.0 mm from the normal height. What is the atmospheric pressure? (The density of mercury is $13.59\\text{ g/cm}^3$)\n",
    "\n",
    "$P=P_0+\\rho gh$\n",
    "\n",
    "$P=(1.013\\times10^5)+(13.6\\times10^3)(9.8)(-20\\times10^{-3})$\n",
    "$=9.86\\times10^4\\text{ Pa}$"
   ]
  },
  {
   "cell_type": "markdown",
   "metadata": {},
   "source": [
    "## 14.4 - Buoyant Forces and Archimedes's Principle"
   ]
  },
  {
   "cell_type": "markdown",
   "metadata": {},
   "source": [
    "**23.** A ping-pong ball has a diameter of 3.80 cm and average density of 0.0840 $\\text{ g/cm}^3$. What force is required to hold it completely submerged under water?\n",
    "\n",
    "$V=\\frac{4}{3}\\pi r^3$\n",
    "$=\\frac{4}{3}\\pi(0.019)^3$\n",
    "$=2.87\\times10^{-5}\\text{ m}^3$\n",
    "\n",
    "$m=\\rho V$\n",
    "$=84(2.87\\times10^{-5})$\n",
    "$=2.4108\\times10^{-3}$\n",
    "\n",
    "$\\Sigma F=B-mg-F_\\text{push}=0$\n",
    "\n",
    "$\\rho gV-mg-F_\\text{push}=0$\n",
    "\n",
    "$F_\\text{push}=\\rho gV-mg$\n",
    "$=1000(9.80)(2.87\\times10^{-5})-(2.4108\\times10^{-3})(9.80)$\n",
    "$=0.258\\text{ N}$ pointed down"
   ]
  },
  {
   "cell_type": "markdown",
   "metadata": {},
   "source": [
    "<hr><br>\n",
    "\n",
    "**more on this content in fluid dynamics course**"
   ]
  }
 ],
 "metadata": {
  "kernelspec": {
   "display_name": "Python 3",
   "language": "python",
   "name": "python3"
  },
  "language_info": {
   "codemirror_mode": {
    "name": "ipython",
    "version": 3
   },
   "file_extension": ".py",
   "mimetype": "text/x-python",
   "name": "python",
   "nbconvert_exporter": "python",
   "pygments_lexer": "ipython3",
   "version": "3.8.5"
  }
 },
 "nbformat": 4,
 "nbformat_minor": 4
}
