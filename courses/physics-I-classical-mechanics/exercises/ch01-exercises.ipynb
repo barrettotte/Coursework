{
 "cells": [
  {
   "cell_type": "markdown",
   "metadata": {},
   "source": [
    "# Chapter 01 - Physics and Measurements"
   ]
  },
  {
   "cell_type": "markdown",
   "metadata": {},
   "source": [
    "## 1.3 - Density and Atomic Mass"
   ]
  },
  {
   "cell_type": "markdown",
   "metadata": {},
   "source": [
    "**3.** The standard kilogram is a platinum-iridium cylinder 39.00 mm in height and 39.00 mm in diameter. What is the density of the material?\n",
    "\n",
    "$V=\\pi r^2h$\n",
    "$=(\\frac{d}{2})^2\\pi h$\n",
    "$=\\frac{d^2\\pi h}{4}$\n",
    "\n",
    "$V=\\frac{(39.0\\times10^{-3}\\text{ m})^2\\pi(39.0\\times10^{-3}\\text{ m})}{4}$\n",
    "$=4.65\\times10^{-5}\\text{ m}^3$\n",
    "\n",
    "$\\rho=\\frac{m}{V}=\\frac{1\\text{ kg}}{4.65\\times10^{-5}\\text{ m}^3}$\n",
    "$=21475\\text{ kg/m}^3$"
   ]
  },
  {
   "cell_type": "markdown",
   "metadata": {},
   "source": [
    "<hr>\n",
    "\n",
    "**7.** Calculate the mass of an atom of (a) helium, (b) iron, and (c) lead. Give your answer in grams. The atomic masses of these atoms are 4.00 u, 55.9 u, and 207 u, respectively.\n",
    "\n",
    "a). Helium: $\\frac{4}{6.022\\times10^{23}}=6.64\\times10^{-24}\\text{ g}$\n",
    "\n",
    "b). Iron: $\\frac{55.9}{6.022\\times10^{23}}=9.28\\times10^{-23}\\text{ g}$\n",
    "\n",
    "c). Lead: $\\frac{207}{6.022\\times10^{23}}=3.44\\times10^{-22}\\text{ g}$\n"
   ]
  },
  {
   "cell_type": "markdown",
   "metadata": {},
   "source": [
    "<hr>\n",
    "\n",
    "**9.** On your wedding day your lover gives you a gold ring of mass 3.80 g. Fifty years laterr its mass is 3.35 g.\n",
    "On the average, how many atoms were abraded from the ring during each second of your marriage? The atomic mass of gold is 197 u.\n",
    "\n",
    "$m_\\text{Au}=197\\text{ u}=(197)(1.66\\times10^{-27})\\text{ kg}$\n",
    "\n",
    "$\\Delta m=m_0-m=3.80\\text{ g}-3.35\\text{ g}$\n",
    "$=0.45\\text{ g}=0.45\\times10^{-3}\\text{ kg}$\n",
    "\n",
    "$\\frac{\\Delta m}{m_\\text{Au}}$\n",
    "$=\\frac{0.45\\times10^{-3}\\text{ kg}}{(197)(1.66\\times10^{-27})\\text{ kg}}$\n",
    "$=1.38\\times10^{21}\\text{ atoms}$\n",
    "\n",
    "$\\frac{1.38\\times10^{21}\\text{ atoms}}{1577880000\\text{ s}}$\n",
    "$=8.72\\times10^{11}\\text{ atoms/s}$"
   ]
  },
  {
   "cell_type": "markdown",
   "metadata": {},
   "source": [
    "## 1.5 - Conversion of Units"
   ]
  },
  {
   "cell_type": "markdown",
   "metadata": {},
   "source": [
    "**19.** Suppose your hair grows at the rate of 1/32 in. per day. Find the rate at which it grows in nanometers per second. Because the distance between atoms in a molecule is on the order of 0.1 nm, your answer suggests how rapidly layers of atoms are assembled in this protein synthesis.\n",
    "\n",
    "$\\frac{1\\text{ in}}{32\\text{ days}}\\frac{(\\frac{2.54\\text{ cm}}{1\\text{ in}})(\\frac{10^{-2}\\text{ m}}{1\\text{ cm}})(\\frac{10^9\\text{ nm}}{1\\text{ m}})}{\\frac{86400\\text{ s}}{1\\text{ day}}}$\n",
    "$=9.19\\text{ nm/s}$\n"
   ]
  },
  {
   "cell_type": "markdown",
   "metadata": {},
   "source": [
    "<hr>\n",
    "\n",
    "**21.** A rectangular building lot is 100 ft by 150 ft. Determine the area of this lot in $\\text{m}^2$\n",
    "\n",
    "$1\\text{ ft}=0.3048\\text{m}$\n",
    "\n",
    "$A=a\\times b$\n",
    "$=(\\frac{1\\text{ ft}}{0.3048\\text{ m}}(150\\text{ ft}))\\times(\\frac{1\\text{ ft}}{0.3048\\text{ m}}(100\\text{ ft}))$\n",
    "\n",
    "$A=30.48\\text{ m}\\times 45.72\\text{ m}=1393.5\\text{ m}^2$"
   ]
  },
  {
   "cell_type": "markdown",
   "metadata": {},
   "source": [
    "<hr>\n",
    "\n",
    "**27.** An ore loader moves 1200 tons/h from a mine to the surface. Convert this rate to lb/s, using 1 ton=2000lb\n",
    "\n",
    "$(\\frac{1200\\text{ tons}}{1 \\text{ h}})$\n",
    "$\\cdot(\\frac{2000\\text{ lb}}{1\\text{ ton}})$\n",
    "$\\cdot(\\frac{1\\text{ h}}{60\\text{ min}})$\n",
    "$\\cdot(\\frac{1\\text{ min}}{60\\text{ s}})$\n",
    "$=666.67\\text{ lb/s}$"
   ]
  }
 ],
 "metadata": {
  "kernelspec": {
   "display_name": "Python 3",
   "language": "python",
   "name": "python3"
  },
  "language_info": {
   "codemirror_mode": {
    "name": "ipython",
    "version": 3
   },
   "file_extension": ".py",
   "mimetype": "text/x-python",
   "name": "python",
   "nbconvert_exporter": "python",
   "pygments_lexer": "ipython3",
   "version": "3.8.5"
  }
 },
 "nbformat": 4,
 "nbformat_minor": 4
}
