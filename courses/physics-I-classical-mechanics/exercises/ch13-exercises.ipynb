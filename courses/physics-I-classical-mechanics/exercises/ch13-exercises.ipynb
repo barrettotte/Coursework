{
 "cells": [
  {
   "cell_type": "markdown",
   "metadata": {},
   "source": [
    "# Chapter 13 - Universal Gravitation"
   ]
  },
  {
   "cell_type": "markdown",
   "metadata": {},
   "source": [
    "## 13.1 - Newton's Law of Universal Gravitation"
   ]
  },
  {
   "cell_type": "markdown",
   "metadata": {},
   "source": [
    "**3.** A 200-kg object and a 500-kg object are separated by 0.400m. (a) Find the net gravitational force exerted by these objects on a 50.0-kg object placed midway between them. (b) At what position (other than an infinitely remote one) can the 50.0-kg object be placed so as to experience a net force of zero?\n",
    "\n",
    "**a.**\n",
    "\n",
    "$\\vec{F}_{g10}=-G\\frac{m_1m_0}{(\\frac{d}{2})^2}\\hat{i}$\n",
    "$=(1.668\\times10^{-5}\\text{ N})\\hat{i}$\n",
    "\n",
    "$\\vec{F}_{g20}=G\\frac{m_2m_0}{(\\frac{d}{2})^2}\\hat{i}$\n",
    "$=(4.171\\times10^{-5}\\text{ N})\\hat{i}$\n",
    "\n",
    "$\\vec{F}=\\vec{F}_{g10}+\\vec{F}_{g20}$\n",
    "$=(2.502\\times10^{-5}\\text{ N})\\hat{i}$\n",
    "\n",
    "**b.**\n",
    "\n",
    "$\\vec{F}_{g10}+\\vec{F}_{g20}=0$\n",
    "\n",
    "$-F_{g10}\\hat{i}+\\vec{F}_{g20}=0$\n",
    "$\\implies F_{g10}=\\vec{F}_{g20}$\n",
    "\n",
    "$G\\frac{m_1m_0}{x^2}=G\\frac{m_2m_0}{(d-x)^2}$\n",
    "\n",
    "$(d-x)^2m_1=m_2x^2$\n",
    "\n",
    "$(1-\\frac{m_2}{m_1})x^2-2dx+d^2=0$\n",
    "\n",
    "$x=\\frac{2d\\pm\\sqrt{4d^2-4d^2(1-\\frac{m_2}{m_1})}}{2(1-\\frac{m_2}{m_1})}$\n",
    "$\\implies x_1=-0.688\\text{ m},\\quad x_2=0.155\\text{ m}$\n",
    "\n",
    "$x=0.155\\text{ m}$"
   ]
  },
  {
   "cell_type": "markdown",
   "metadata": {},
   "source": [
    "## 13.3 - Free-Fall Acceleration and the Gravitational Force"
   ]
  },
  {
   "cell_type": "markdown",
   "metadata": {},
   "source": [
    "**9.** When a falling meteoroid is at a distance above the Earth's surface of 3.00 times the Earth's radius, what is its acceleration due to the Earth's gravitation?\n",
    "\n",
    "back of book constants:\n",
    "\n",
    "- $M_E=5.98\\times10^{24}\\text{ Kg}$\n",
    "- $R_E=6.37\\times10^6\\text{ m}$\n",
    "- $G=6.67\\times10^{-11}\\text{ N}\\cdot\\text{m}^2\\text{/kg}^2$\n",
    "\n",
    "$g=\\frac{GM_E}{r^2}=\\frac{GM_E}{(R_E+h)^2}$\n",
    "\n",
    "$r=R_E+3R_E=4R_E=2.548\\times10^7\\text{ m}$\n",
    "\n",
    "$g=\\frac{(6.67\\times10^{-11})(5.98\\times10^{24})}{(2.548\\times10^7)^2}$\n",
    "$=0.0614\\text{ m/s}^2$\n",
    "\n"
   ]
  },
  {
   "cell_type": "markdown",
   "metadata": {},
   "source": [
    "## 13.4 - Kepler's Laws and the Motion of Planets"
   ]
  },
  {
   "cell_type": "markdown",
   "metadata": {},
   "source": [
    "**13.** Plaskett's binary system consists of two stars that revolve in a circular orbit tabout a center of mass midway between them. This means that the masses of the two stars are equal (Fig. P13.13). Assume the orbital speed of each star is 200 km/s and the orbital period of each is 14.4 days. Find the mass M of each star. (For comparison, the mass of our Sun is $1.99\\times10^{30}\\text{ kg}$\n",
    "\n",
    "$F_g=G\\frac{m_1m_2}{r^2}$\n",
    "\n",
    "$F_g=ma_c$\n",
    "\n",
    "$\\frac{GMM}{2r^2}=M(\\frac{v^2}{r})$\n",
    "$\\implies M=\\frac{4v^2r}{G}$\n",
    "\n",
    "$v=\\frac{2\\pi r}{T}$\n",
    "$\\implies r=\\frac{vT}{2\\pi}$\n",
    "\n",
    "$M=\\frac{4v^2}{G}(\\frac{vT}{2\\pi})$\n",
    "$=\\frac{2v^3T}{\\pi G}$\n",
    "$=\\frac{2(220\\times10^3)^3(1.24416\\times10^6)}{\\pi(6.67\\times10^{-11})}$\n",
    "$=1.26\\times10^{32}\\text{ kg}$"
   ]
  },
  {
   "cell_type": "markdown",
   "metadata": {},
   "source": [
    "**15.** Io, a moon of Jupiter, has an orbital period of 1.77 days and an orbital radius of $4.22\\times10^5\\text{ km}$. From the data, determine the mass of Jupiter.\n",
    "\n",
    "$T^2=(\\frac{4\\pi^2}{GM})a^3$\n",
    "\n",
    "$T=(1.77\\cdot\\frac{24\\cdot 60\\cdot 60}{1})$\n",
    "$=1.529\\times10^5\\text{ s}$\n",
    "\n",
    "$r=4.22\\times10^5(\\frac{10^3}{1})=4.22\\times10^8\\text{ m}$\n",
    "\n",
    "$M_J=\\frac{4\\pi^2a^3}{GT^2}$\n",
    "$=\\frac{4\\pi^2(4.22\\times10^8)^3}{(6.67\\times10^{-11})(1.529\\times10^5)^2}$\n",
    "$=1.90\\times10^{27}\\text{ kg}$"
   ]
  },
  {
   "cell_type": "markdown",
   "metadata": {},
   "source": [
    "**17.** Comet Halley (Figure P13.17) approaches the Sun to within 0.570 AU, and its orbital period is 75.6 years. (Au is the symbol for astronomical unit, where $1\\text{ AU}=1.50\\times10^{11}\\text{ m}$ is the mean Earth-Sun distance.) How far from the Sun will Halley's comet travel before it starts its return journey?\n",
    "\n",
    "$T^2=(\\frac{4\\pi^2}{GM})a^3=Ka^3$\n",
    "\n",
    "$(75.6)^2=(1)(\\frac{0.57+x}{2})^3$\n",
    "\n",
    "$x=(2)(75.6)^{2/3}-0.57=35.2\\text{ AU}$"
   ]
  },
  {
   "cell_type": "markdown",
   "metadata": {},
   "source": [
    "## 13.5 - The Gravitational Field"
   ]
  },
  {
   "cell_type": "markdown",
   "metadata": {},
   "source": [
    "**23.** Three objects of equal mass are located at three corners of a square of edge length $l$ as in Figure P13.23. Find the gravitational field at the fourth corner due to these objects.\n",
    "\n",
    "$\\vec{g}=-\\frac{Gm}{r^2}\\hat{r}$\n",
    "\n",
    "$g_1=g_2=\\frac{Gm}{l^2}$\n",
    "\n",
    "$g_3=\\frac{Gm}{(l\\sqrt{2})^2}$\n",
    "\n",
    "$\\vec{g}=(g_{1x}+g_{2x}+g_{3x})\\hat{i}+(g_{1y}+g_{2y}+g_{3y})\\hat{j}$\n",
    "$=(g_1+g_3\\cos\\theta)\\hat{i}+(g_2+g_3\\sin\\theta)\\hat{j}$\n",
    "\n",
    "$\\vec{g}=\\left(\\frac{Gm}{l^2}+\\frac{Gm}{(l\\sqrt{2})^2}\\cos45^\\circ\\right)\\hat{i}$\n",
    "$+\\left(\\frac{Gm}{l^2}+\\frac{Gm}{(l\\sqrt{2})^2}\\sin45^\\circ\\right)\\hat{j}$\n",
    "\n",
    "$\\vec{g}=(\\frac{Gm}{l^2}(1+\\frac{1}{2\\sqrt{2}}))\\hat{i}$\n",
    "$+(\\frac{Gm}{l^2}(1+\\frac{1}{2\\sqrt{2}}))\\hat{j}$\n",
    "\n",
    "$g=\\frac{Gm}{l^2}(1+\\frac{1}{2\\sqrt{2}})\\sqrt{2}$\n",
    "\n",
    "$\\theta=45^\\circ$"
   ]
  },
  {
   "cell_type": "markdown",
   "metadata": {},
   "source": [
    "## 13.6 - Gravitational Potential Energy"
   ]
  },
  {
   "cell_type": "markdown",
   "metadata": {},
   "source": [
    "**27.** How much energy is required to move a 1000-kg object from the Earth's surface to an altitude twice the Earth's radius?\n",
    "\n",
    "$U=-g\\frac{Mm}{r}$\n",
    "\n",
    "$g=\\frac{GM_E}{{R_E}^2}$\n",
    "\n",
    "$\\Delta U=-GMm(\\frac{1}{3R_E}-\\frac{1}{3R_E})=\\frac{2}{3}mgR_E$\n",
    "\n",
    "$\\Delta U=\\frac{2}{3}(1000)(9.81)(6.37\\times10^6)$\n",
    "$=4.17\\times10^{10}\\text{ J}$\n",
    "\n"
   ]
  },
  {
   "cell_type": "markdown",
   "metadata": {},
   "source": [
    "**29.** After our Sun exhausts its nuclear fuel, its ultimate fate may be to collapse to a white dwarf state, in which it has approximately the same mass as it has now, but a radius equal to the radius of the Earth. Calculate (a) the average density of the white dwarf, (b) the free-fall acceleration, and (c) the gravitational potential energy of a 1.00-kg object at its surface.\n",
    "\n",
    "**a.**\n",
    "\n",
    "$V=\\frac{4}{3}\\pi {R_w}^3$\n",
    "$=\\frac{4}{3}\\pi {R_E}^3$\n",
    "\n",
    "$\\rho_w=\\frac{M_S}{V}$\n",
    "$=\\frac{(1.99\\times10^{30})}{\\frac{4}{3}\\pi(6.37\\times10^6)^3}$\n",
    "$=1.84\\times10^9\\text{ kg/m}^3$\n",
    "\n",
    "**b.**\n",
    "\n",
    "$g=\\frac{GM_S}{{R_E}^2}$\n",
    "$=\\frac{(6.67\\times10^{-11})(1.99\\times10^{30})}{(6.37\\times10^6)^2}=3.27\\times10^6\\text{ m/s}^2$\n",
    "\n",
    "**c.**\n",
    "\n",
    "$U_g=-\\frac{GM_Sm}{R_E}$\n",
    "$=-2.08\\times10^{13}\\text{ J}$"
   ]
  }
 ],
 "metadata": {
  "kernelspec": {
   "display_name": "Python 3",
   "language": "python",
   "name": "python3"
  },
  "language_info": {
   "codemirror_mode": {
    "name": "ipython",
    "version": 3
   },
   "file_extension": ".py",
   "mimetype": "text/x-python",
   "name": "python",
   "nbconvert_exporter": "python",
   "pygments_lexer": "ipython3",
   "version": "3.8.5"
  }
 },
 "nbformat": 4,
 "nbformat_minor": 4
}
