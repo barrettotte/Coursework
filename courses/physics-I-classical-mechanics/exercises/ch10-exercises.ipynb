{
 "cells": [
  {
   "cell_type": "markdown",
   "metadata": {},
   "source": [
    "# Chapter 10 - Rotation of a Rigid Object About a Fixed Axis"
   ]
  },
  {
   "cell_type": "markdown",
   "metadata": {},
   "source": [
    "## 10.2 - Rotational Kinematics: Rotational Motion with Constant Angular Acceleration"
   ]
  },
  {
   "cell_type": "markdown",
   "metadata": {},
   "source": [
    "**3.** A wheel starts from rest and rotates with constant angular acceleration to reach an angular speed of 12.0 rad/s in 3.00 s. Find (a) the magnitude of the angular acceleration of the wheel and (b) the angle in radians through which it rotates in this time.\n",
    "\n",
    "$\\alpha=\\frac{\\Delta\\omega}{\\Delta t}$\n",
    "$=\\frac{12.0-0}{3.0}=4.00\\text{ rad/s}$\n",
    "\n",
    "$\\theta=\\frac{1}{2}\\alpha t^2=\\frac{1}{2}(4.00)(3)^2=18\\text{ rad}$\n"
   ]
  },
  {
   "cell_type": "markdown",
   "metadata": {},
   "source": [
    "**5.** An electric motor rotating a grinding wheel at 100 rev/min is switched off. With constant negative angular acceleration of magnitude $2.00 \\text{ rad/s}^2$, (a) how long does it take the wheel to stop? (b) Through how many radians doess it turn while it is slowing down?\n",
    "\n",
    "$\\omega_i=(100\\text{ rev/min})(\\frac{2\\pi\\text{ rad}}{1\\text{ rev}})(\\frac{1\\text{ min}}{60\\text{ s}})=\\frac{10\\pi}{3}\\text{ rad/s}$\n",
    "\n",
    "**a.**\n",
    "\n",
    "$\\omega_f=\\omega_i+\\alpha t\\implies t=\\frac{\\omega_f-\\omega_i}{\\alpha}$\n",
    "\n",
    "$t=\\frac{0-\\frac{10\\pi}{3}}{(-2)}=5.24\\text{ s}$\n",
    "\n",
    "**b.**\n",
    "\n",
    "${\\omega_f}^2={\\omega_i}^2+2\\alpha\\theta$\n",
    "$\\implies\\theta=\\frac{{\\omega_f}^2-{\\omega_i}^2}{2\\alpha}$\n",
    "\n",
    "$\\theta=\\frac{0-(\\frac{10\\pi}{3})^2}{2(-2)}=27.4\\text{ rad}$\n"
   ]
  },
  {
   "cell_type": "markdown",
   "metadata": {},
   "source": [
    "## 10.3 - Angular and Linear Quanities"
   ]
  },
  {
   "cell_type": "markdown",
   "metadata": {},
   "source": [
    "**13.** A wheel 2.00 m in diameter lies in a vertical plane and rotates with a constant angular acceleration of $4.00\\text{ rad/s}^2$. The wheel starts at rest $t=0$, and the radius vector of a certain point $P$ on the rim makes an angle of $57.3^\\circ$ with the horizontal at this time. At $t=2.00\\text{ s}$, find (a) the angular speed of the wheel, (b) the tangential speed and the total acceleration of the point $P$, and (c) the angular position of the point $P$.\n",
    "\n",
    "**a.**\n",
    "\n",
    "$\\omega_f=\\omega_i+\\alpha t$\n",
    "\n",
    "$\\omega_f=0+4(2)=8\\text{ rad/s}$\n",
    "\n",
    "**b.**\n",
    "\n",
    "$r=\\frac{d}{2}=\\frac{2}{2}=1\\text{ m}$\n",
    "\n",
    "$v=r\\omega_f$\n",
    "$=1(8)=8\\text{ m/s}$\n",
    "\n",
    "$a_t=r\\alpha$\n",
    "$=1(4)=4\\text{ m/s}^2$\n",
    "\n",
    "$a_r=\\frac{v^2}{r}$\n",
    "$=a_r=\\frac{(8)^2}{1}=64\\text{ m/s}^2$\n",
    "\n",
    "$a=\\sqrt{{a_t}^2+{a_r}^2}=\\sqrt{4^2+64^2}=64.1\\text{ m/s}^2$\n",
    "\n",
    "$\\theta=\\tan^{-1}(\\frac{a_t}{a_r})=\\tan^{-1}(\\frac{4}{64})=3.57^\\circ$\n",
    "\n",
    "**c.**\n",
    "\n",
    "$\\theta_f=\\theta_i+\\omega_i t+\\frac{1}{2}\\alpha t^2$\n",
    "\n",
    "$\\theta_i=57.3^\\circ(\\frac{2\\pi\\text{ rad}}{360^\\circ})=1\\text{ rad}$\n",
    "\n",
    "$\\theta_f=1+0+\\frac{1}{2}(4)(2)^2=9\\text{ rad}$"
   ]
  },
  {
   "cell_type": "markdown",
   "metadata": {},
   "source": [
    "**15.** A discus thrower (Fig. P10.15) accelerates a discus from rest to a speed of 25.0 m/s by whirling it through 1.25 rev. Assume the discus moves on the arc of a circle 1.00 m in radius. (a) Calculate the final angular speed of the discus. (b) Determine the magnitude of the angular acceleration of the discus, assuming it to be constant. (c) Calculate the time interval required for the discus to accelerate from rest to 25.0 m/s.\n",
    "\n",
    "**a.** \n",
    "\n",
    "$\\omega_f=\\frac{v_f}{r}$\n",
    "$=\\frac{25}{1}=25\\text{ rad/s}$\n",
    "\n",
    "**b.**\n",
    "\n",
    "${\\omega_f}^2={\\omega_i}^2+2\\alpha\\theta$\n",
    "$\\implies\\alpha=\\frac{{\\omega_f}^2-{\\omega_i}^2}{2\\theta}$\n",
    "\n",
    "$\\theta=1.25\\text{ rev}(\\frac{2\\pi\\text{ rad}}{1\\text{ rev}})=7.85\\text{ rad}$\n",
    "\n",
    "$\\alpha=\\frac{25^2-0}{2(7.85)}=39.8\\text{ rad/s}^2$\n",
    "\n",
    "**c.**\n",
    "\n",
    "$\\omega_f=\\omega_i+\\alpha t$\n",
    "$\\implies t=\\frac{\\omega_f-\\omega_i}{\\alpha}$\n",
    "\n",
    "$t=\\frac{25-0}{39.8}=0.268\\text{ s}$"
   ]
  },
  {
   "cell_type": "markdown",
   "metadata": {},
   "source": [
    "**17.** A disk 8.00 cm in radius rotates at a constant rate of 1200 rev/min about its central axis. Determine (a) its angular speed, (b) the tangential speed at a point 3.00 cm from its center, (c) the radial acceleration of a point on the rim, and (d) the total distance a point on the rim moves in 2.00 s.\n",
    "\n",
    "**a.**\n",
    "\n",
    "$\\omega_i=1200\\text{ rev/min}(\\frac{2\\pi\\text{ rad}}{1\\text{ rev}})(\\frac{1\\text{ min}}{60\\text{ s}})$\n",
    "$=126\\text{ rad/s}$\n",
    "\n",
    "**b.**\n",
    "\n",
    "$v=\\omega r$\n",
    "$=126(0.03)=3.78\\text{ m/s}$\n",
    "\n",
    "**c.**\n",
    "\n",
    "$a_r=\\frac{v_2}{r}=\\omega^2r$\n",
    "$=126^2(0.08)=1270\\text{ m/s}^2$ towards center\n",
    "\n",
    "**d.**\n",
    "\n",
    "$d=vt=r\\omega t$\n",
    "$=0.08(126)(2)=20.2\\text{ m}$"
   ]
  },
  {
   "cell_type": "markdown",
   "metadata": {},
   "source": [
    "## 10.4 - Rotational Kinetic Energy"
   ]
  },
  {
   "cell_type": "markdown",
   "metadata": {},
   "source": [
    "**21.** The four particles in Figure P10.21 are connected by rigid rods of negligible mass. The origin is at the center of the rectangle. If the system rotates in the xy plane about the z axis with an angular speed of $6.00\\text{ rad/s}$, calculate (a) the moment of inertia of the system about the z axis and (b) the rotational kinetic energy of the system.\n",
    "\n",
    "**a.**\n",
    "\n",
    "$r=\\sqrt{x^2+y^2}=\\sqrt{2^2+3^2}=3.6\\text{ m}$\n",
    "\n",
    "$I=mr^2$\n",
    "\n",
    "$I_t=(m_1+m_2+m_3+m_4)r^2$\n",
    "$=(3+2+4+2)(3.6)^2=143\\text{ kg}\\cdot\\text{m}^2$\n",
    "\n",
    "**b.**\n",
    "\n",
    "$K_R=\\frac{1}{2}I_t\\omega^2$\n",
    "$=\\frac{1}{2}(143)(6)^2=2574\\text{ J}$"
   ]
  },
  {
   "cell_type": "markdown",
   "metadata": {},
   "source": [
    "## 10.5 - Calculation of Moments of Inertia"
   ]
  },
  {
   "cell_type": "markdown",
   "metadata": {},
   "source": [
    "**25.** A uniform thin solid door has height 2.20 m, width 0.870 m, and mass 23.0 kg. Find its moment of inertia for rotation on its hinges. Is any piece of data unnecessary?\n",
    "\n",
    "\n",
    "**a.**\n",
    "\n",
    "$I=\\frac{1}{3}ML^2$ (long thin rod with rotation axis through end)\n",
    "\n",
    "$I=\\frac{1}{3}(23)(0.87)^2=5.8\\text{ kg}\\cdot\\text{m}^2$\n",
    "\n",
    "**b.**\n",
    "\n",
    "height is unnecessary"
   ]
  },
  {
   "cell_type": "markdown",
   "metadata": {},
   "source": [
    "## 10.7 - Relationship between Torque and Angular Acceleration"
   ]
  },
  {
   "cell_type": "markdown",
   "metadata": {},
   "source": [
    "**39.** An electric motor turns a flywheel through a drive belt that joins a pulley on the motor and a pulley that is rigidly attached to the flywheel, as shown in Figure P10.39. The flywheel is a solid disk with a mass of 80.0 kg and a diameter of 1.25 m. It turns on a frictionless axle. Its pulley has much smaller mass and a radius of 0.230 m. If the tension in the upper (taut) segment of the belt is 135 N and the flywheel has a clockwise angular acceleration of 1.67 rad/$\\text{s}^2$, find the tension in the lower (slack) segment of the belt.\n",
    "\n",
    "$\\sum\\tau=\\tau_tr-\\tau_ur=I\\alpha$\n",
    "\n",
    "$\\tau_s=\\frac{I\\alpha+\\tau_t}{r}$\n",
    "$=\\frac{(15.625)(-1.67)+(135)(0.23)}{0.23}$\n",
    "$=21.5\\text{ N}$"
   ]
  }
 ],
 "metadata": {
  "kernelspec": {
   "display_name": "Python 3",
   "language": "python",
   "name": "python3"
  },
  "language_info": {
   "codemirror_mode": {
    "name": "ipython",
    "version": 3
   },
   "file_extension": ".py",
   "mimetype": "text/x-python",
   "name": "python",
   "nbconvert_exporter": "python",
   "pygments_lexer": "ipython3",
   "version": "3.8.5"
  }
 },
 "nbformat": 4,
 "nbformat_minor": 4
}
