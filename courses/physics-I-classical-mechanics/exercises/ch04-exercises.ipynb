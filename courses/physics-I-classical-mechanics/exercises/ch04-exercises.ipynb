{
 "cells": [
  {
   "cell_type": "markdown",
   "metadata": {},
   "source": [
    "# Chapter 04 - Motion in Two Dimensions"
   ]
  },
  {
   "cell_type": "markdown",
   "metadata": {},
   "source": [
    "## 4.1 - The Position, Velocity, and Acceleration Vectors"
   ]
  },
  {
   "cell_type": "markdown",
   "metadata": {},
   "source": [
    "**1.** A motorist drives south at 20.0 m/s for 3.00 min, then turns west and travels at 25.0 m/s for 2.00 min, and finally travels northwest at 30.0 m/s for 1.00 min. For this 6.00-min trip, find (a) the total vector displacement, (b) the average speed, and (c) the average velocity. Let the positive x-axis point east.\n",
    "\n",
    "**a.**\n",
    "\n",
    "$\\vec{r_t}=\\vec{v}\\Delta t$\n",
    "\n",
    "$\\vec{r_t}=(-20)(3*60)\\hat{j}+(-25)(3*60)\\hat{i}+(-30)(1*60)\\cos(45)\\hat{i}$\n",
    "$+30(1*60)\\sin(45)\\hat{j}$\n",
    "\n",
    "$=-4273\\hat{i}-2327\\hat{j}$\n",
    "\n",
    "**b.**\n",
    "\n",
    "$\\bar{s}=\\frac{\\text{total distance}}{\\text{total time}}$\n",
    "\n",
    "$\\bar{s}=\\frac{(20\\cdot180)+(25\\cdot120)+(30\\cdot60)}{180+120+60}$\n",
    "$=23.3\\text{ m/s}$\n",
    "\n",
    "**c.**\n",
    "\n",
    "$\\bar{v}=\\frac{|\\vec{r_t}|}{\\text{total time}}$\n",
    "$=\\frac{\\sqrt{(-4273)^2+(-2327)^2}}{180+120+60}=\\frac{4886}{360}=13.5\\text{ m/s}$"
   ]
  },
  {
   "cell_type": "markdown",
   "metadata": {},
   "source": [
    "## 4.2 - Two-Dimensional Motion with Constant Acceleration"
   ]
  },
  {
   "cell_type": "markdown",
   "metadata": {},
   "source": [
    "**5.** At $t=0$, a particle moving in the $xy$ plane with constant acceleration has a velocity of $\\vec{v_i}=(3.00\\hat{i}-2.00\\hat{j})$ m/s and is at the origin. At $t=3.00$ s, the particle's velocity is $\\vec{v}=(9.00\\hat{i}+7.00\\hat{j})$ m/s. Find (a) the acceleration of the particle and (b) its coordinates at any time $t$.\n",
    "\n",
    "**a.**\n",
    "\n",
    "$\\vec{a}=\\frac{\\vec{v_f}-\\vec{v_i}}{t}=\\frac{6\\hat{i}+9\\hat{j}}{3}$\n",
    "$=2\\hat{i}+3\\hat{j}$\n",
    "\n",
    "**b.**\n",
    "\n",
    "$s_x=v_{ix}t+\\frac{1}{2}a_xt^2$\n",
    "$=(3t+t^2)\\text{ m}$\n",
    "\n",
    "$s_y=v_{iy}t+\\frac{1}{2}a_yt^2$\n",
    "$=(-2t+\\frac{3}{2}t^2)\\text{ m}$\n",
    "\n",
    "$\\vec{s}=(3t+t^2)\\hat{i}+(-2t+\\frac{3}{2}t^2)\\hat{j}$"
   ]
  },
  {
   "cell_type": "markdown",
   "metadata": {},
   "source": [
    "<hr>\n",
    "\n",
    "**7.** A fish swimming in a horizontal plane has velocity $\\vec{v_i}=(4.00\\hat{i}+1.00\\hat{j})$ m/s at a point in the ocean where the position relative to a certain rock is $\\vec{r_i}=(10.00\\hat{i}-4.00\\hat{j})$ m.\n",
    "After the fish swims with constant acceleration for 20.0 s, its velocity is $\\vec{v}=(20.00\\hat{i}-5.00\\hat{j})$ m/s. (a) What is the direction of the acceleration with respect to unit vector $\\hat{i}$? (c) If the fish maintains constant acceleration, where is it at $t=25.0$ s, and in what direction is it moving?\n",
    "\n",
    "**a.**\n",
    "\n",
    "$a_x=\\frac{\\Delta v_x}{\\Delta t}$\n",
    "$=\\frac{20-4}{20}=0.8\\text{ m/s}^2$\n",
    "\n",
    "$a_y=\\frac{\\Delta v_y}{\\Delta t}$\n",
    "$=\\frac{-5-1}{20}=-0.3\\text{ m/s}^2$\n",
    "\n",
    "**b.**\n",
    "\n",
    "$\\theta=\\tan^{-1}\\frac{a_y}{a_x}=-20.556+360=339.4$\n",
    "\n",
    "**c.**\n",
    "\n",
    "$x_f=x_i+v_{xi}+\\frac{1}{2}a_xt^2$\n",
    "$=10+(4(25))+\\frac{1}{2}(0.8)(25)^2$\n",
    "$=360\\text{ m}$\n",
    "\n",
    "$v_{xf}=v_{xi}+a_xt$\n",
    "$=4+(0.8)(25)=24\\text{ m/s}$\n",
    "\n",
    "$y_f=y_i+v_{yi}+\\frac{1}{2}a_yt^2$\n",
    "$=-4+(1(25))+\\frac{1}{25}(-0.3)(25)^2$\n",
    "$=-72.7\\text{ m}$\n",
    "\n",
    "$v_{yf}=v_{yi}+a_yt$\n",
    "$=1-(0.3)(25)=-6.5\\text{ m/s}$\n",
    "\n",
    "<br>\n",
    "\n",
    "$\\theta=360+\\tan^{-1}\\frac{v_y}{v_x}$\n",
    "$=360+\\tan^{-1}\\frac{-6.5}{24}$\n",
    "$=345$"
   ]
  },
  {
   "cell_type": "markdown",
   "metadata": {},
   "source": [
    "## 4.3 - Projectile Motion"
   ]
  },
  {
   "cell_type": "markdown",
   "metadata": {},
   "source": [
    "**11.** In a local bar, a customer slides an empty beer mug down the counter for a refill. The bartender is momentarily distracted and does not see the mug, which slides off the counter and strikes the floor 1.40 m from the base of the counter. If the height of the counter is 0.860 m, (a) with what velocity did the mug leave the counter, and (b) what was the direction of the mug's velocity just before it hit the floor?\n",
    "\n",
    "**a.**\n",
    "\n",
    "$x_f=x_i+v_{xi}t+\\frac{1}{2}a_xt^2$\n",
    "\n",
    "$0.86=0+(0)t+\\frac{1}{2}(9.8)t^2$\n",
    "\n",
    "$0.86\\text{ m}=\\frac{1}{2}(9.8\\text{ m/s}^2)t^2$\n",
    "\n",
    "$t=\\sqrt{\\frac{1.72\\text{ m}}{9.8\\text{ m/s}^2}}$\n",
    "$=\\sqrt{0.1755\\text{ s}^2}=0.419\\text{ s}$\n",
    "\n",
    "$v_1=\\frac{x_1}{t}=\\frac{1.4\\text{ m}}{0.419\\text{ s}}=3.34\\text{ m/s}$\n",
    "\n",
    "**b.**\n",
    "\n",
    "$v_2=v_i +at$\n",
    "\n",
    "$v_2=0+gt=9.8\\text{ m/s}^2(4.19\\text{ s})=4.11\\text{ m/s}$\n",
    "\n",
    "$\\tan\\theta=\\frac{v_2}{v_1}=\\frac{4.11}{3.34}=1.23$\n",
    "\n",
    "$\\theta=\\tan^{-1}(1.23)=50.89$"
   ]
  },
  {
   "cell_type": "markdown",
   "metadata": {},
   "source": [
    "<hr>\n",
    "\n",
    "**15.** A projectile is fired in such a way that its horizontal range is equal to three times its maximum height. What is the angle of projection?\n",
    "\n",
    "\n",
    "\n",
    "$h=\\frac{{v_i}^2\\sin^2\\theta_i}{2g}$\n",
    "\n",
    "$R=\\frac{{v_i}^2(\\sin2\\theta_i)}{g}$\n",
    "\n",
    "$3h=R$\n",
    "\n",
    "$\\frac{3{v_i}^2\\sin^2\\theta_i}{2g}=\\frac{{v_i}^2\\sin(2\\theta_i)}{g}$\n",
    "\n",
    "$\\frac{3\\sin^2\\theta_i}{2}=2\\sin\\theta_i\\cos\\theta_i$\n",
    "\n",
    "$\\frac{3}{2}\\sin\\theta_i=2\\cos\\theta_i$\n",
    "\n",
    "$\\tan\\theta_i=\\frac{4}{3}$\n",
    "\n",
    "$\\theta_i=\\tan^{-1}\\frac{4}{3}=53.1$"
   ]
  },
  {
   "cell_type": "markdown",
   "metadata": {},
   "source": [
    "<hr>\n",
    "\n",
    "**17.** A ball is tossed from an upper-story window of a bulding. The ball is given an initial velocity of 8.00 m/s at an angle of 20.0° below the horizontal. It strikes the ground 3.00 s later. (a) How far horizontally from the base of the building does the ball strike the ground? (b) Find the height from which the ball was thrown. (c) How long does it take the ball to reach a point 10.0 m below the level of launching?\n",
    "\n",
    "**a.**\n",
    "\n",
    "$v_{xi}=v_i\\cos\\theta=8\\cos20=7.52\\text{ m/s}$\n",
    "\n",
    "$x_f=x_i+v_{xi}t+\\frac{1}{2}a_xt^2$\n",
    "$=0+7.52(3)+0=22.6\\text{ m}$\n",
    "\n",
    "**b.**\n",
    "\n",
    "$v_{yi}=v_i\\sin\\theta=8\\sin20=2.74\\text{ m/s}$\n",
    "\n",
    "$y_f=y_i+v_{yi}t+\\frac{1}{2}a_yt^2$\n",
    "$=2.74(3)+\\frac{1}{2}(9.8)(3)^2=52.4\\text{ m}$\n",
    "\n",
    "**c.**\n",
    "\n",
    "$y_f=y_i+v_{yi}t+\\frac{1}{2}gt^2$\n",
    "\n",
    "$10=2.74t+\\frac{1}{2}(9.8)t^2$\n",
    "\n",
    "$4.9t^2+2.74t-10=0$\n",
    "\n",
    "$t=\\frac{-2.74\\pm\\sqrt{(2.74)^2-4(4.9)(-10)}}{2(4.9)}$\n",
    "$=-1.73 \\text{ s },\\; 1.18\\text{ s}$"
   ]
  },
  {
   "cell_type": "markdown",
   "metadata": {},
   "source": [
    "## 4.4 - Uniform Circular Motion"
   ]
  },
  {
   "cell_type": "markdown",
   "metadata": {},
   "source": [
    "**27.** The athlete shown in Figure P4.27 rotates a 1.00-kg discus along a circular path of radius 1.06 m. The maximum speed of the discus is 20.0 m/s. Determine the magnitude of the maximum radial acceleration of the discus.\n",
    "\n",
    "$a_c=\\frac{v^2}{r}$\n",
    "$=\\frac{20^2}{1.06}=377\\text{ m/s}^2$"
   ]
  },
  {
   "cell_type": "markdown",
   "metadata": {},
   "source": [
    "<hr>\n",
    "\n",
    "**29.** A tire 0.500 m in radius rotates at a constant rate of 200 rev/min. Find the speed and acceleration of a small stone lodged in the tread of the tire (on its outer edge).\n",
    "\n",
    "$v=wr$\n",
    "$=\\frac{200\\cdot 2\\pi(0.5)}{60}=10.47\\text{ m/s}$\n",
    "\n",
    "$a=a_t+a_r$\n",
    "$=0+(\\frac{200\\cdot 2\\pi}{60})^2(0.5)=219.32\\text{ m/s}^2$"
   ]
  },
  {
   "cell_type": "markdown",
   "metadata": {},
   "source": [
    "<hr>\n",
    "\n",
    "**31.** Young David who slew Goliath experimented with slings before tackling the giant. He found that he could resolve a sling of length 0.600 m at the rate of 8.00 rev/s. If he increased the length to 0.900 m, he could revolve the sling only 6.00 times per second. (a) Which rate of rotation gives the greater speed for the stone at the end of the sling? (b) What is the centripetal acceleration of the stone at 8.00 rev/s? (c) What is the centripetal acceleration at 6.00 rev/s?\n",
    "\n",
    "\n",
    "**a.**\n",
    "\n",
    "$v=r\\cdot w$\n",
    "\n",
    "$w_1=2\\pi\\cdot 8=50.24\\text{ rad/s}$\n",
    "\n",
    "$w_2=2\\pi\\cdot 6=37.68\\text{ rad/s}$\n",
    "\n",
    "$v_1=0.6\\cdot(50.24)=30.14\\text{ m/s}$\n",
    "\n",
    "$v_2=0.9\\cdot(37.68)=33.91\\text{ m/s}$\n",
    "\n",
    "$6\\text{ rev/s}$ yields greater speed.\n",
    "\n",
    "**b.**\n",
    "\n",
    "$a_{c}=\\frac{{v}^2}{r}=\\frac{30.14^2}{0.6}=1514\\text{ m/s}^2$\n",
    "\n",
    "**c.**\n",
    "\n",
    "$a_{c}=\\frac{33.91^2}{0.9}=1277.7\\text{ m/s}^2$"
   ]
  },
  {
   "cell_type": "markdown",
   "metadata": {},
   "source": [
    "## 4.5 - Tangential and Radial Acceleration"
   ]
  },
  {
   "cell_type": "markdown",
   "metadata": {},
   "source": [
    "**33.** A train slows down as it rounds a sharp horizontal turn, slowing from 90.0 km/h to 50.0 km/h in the 15.0 s that it takes to round the bend. The radius of the curve is 150m. Compute the acceleration at the moment the train speed reaches 50.0 km/h. Assume it continues to slow down at this time at the same rate.\n",
    "\n",
    "$\\vec{a}=\\vec{a_r}+\\vec{a_t}$\n",
    "\n",
    "$v_i=90\\text{ km/h}=25.0\\text{ m/s}$\n",
    "\n",
    "$v_f=50\\text{ km/h}=13.9\\text{ m/s}$\n",
    "\n",
    "$a_t=\\frac{\\Delta v}{\\Delta t}$\n",
    "$=\\frac{13.9-25.0}{15.0}=-0.74\\text{ m/s}^2$\n",
    "\n",
    "$a_r=\\frac{13.9^2}{150}=1.29\\text{ m/s}^2$\n",
    "\n",
    "$a=\\sqrt{{a_r}^2+{a_t}^2}=\\sqrt{(1.29)^2+(-0.74)^2}=1.48\\text{ m/s}^2$\n",
    "\n",
    "$\\theta=\\tan^{-1}\\frac{a_t}{a_r}=\\tan^{-1}\\frac{|-0.74|}{1.29}=29.8$\n",
    "\n"
   ]
  },
  {
   "cell_type": "markdown",
   "metadata": {},
   "source": [
    "## 4.6 - Relative Velocity and Relative Acceleration"
   ]
  },
  {
   "cell_type": "markdown",
   "metadata": {},
   "source": [
    "<hr>\n",
    "\n",
    "**41.** A river has a steady speed of 0.500 m/s. A student swims upstream a distance of 1.00 km and swims back to the starting point. If the student can swim at a speed of 1.20 m/s in still water, how long does the trip take? Compare this with the time the trip would take if the water were still.\n",
    "\n",
    "**a.**\n",
    "\n",
    "$v_s=1.20\\text{ m/s},\\quad v_r=0.500\\text{ m/s}$\n",
    "\n",
    "swimming upstream:\n",
    "\n",
    "$v_1=v_s-v_c=1.2-0.5=0.7\\text{ m/s}$\n",
    "\n",
    "$t_1=\\frac{1000}{0.7}=1428.57\\text{ s}$\n",
    "\n",
    "swimming downstream:\n",
    "\n",
    "$v_1=v_s+v_c=1.2+0.5=1.7\\text{ m/s}$\n",
    "\n",
    "$t_2=\\frac{1000}{1.7}=588.235\\text{ s}$\n",
    "\n",
    "<br>\n",
    "\n",
    "$t_\\text{total}=1428.57+588.235=2016.805\\text{ s}$\n",
    "\n",
    "**b.**\n",
    "\n",
    "$t=\\frac{2(1000)}{1.2}=1666.67\\text{ s}$\n",
    "\n",
    "**c.**\n",
    "\n",
    "Swimming against current decreases velocity, so the time increases."
   ]
  }
 ],
 "metadata": {
  "kernelspec": {
   "display_name": "Python 3",
   "language": "python",
   "name": "python3"
  },
  "language_info": {
   "codemirror_mode": {
    "name": "ipython",
    "version": 3
   },
   "file_extension": ".py",
   "mimetype": "text/x-python",
   "name": "python",
   "nbconvert_exporter": "python",
   "pygments_lexer": "ipython3",
   "version": "3.8.5"
  }
 },
 "nbformat": 4,
 "nbformat_minor": 4
}
