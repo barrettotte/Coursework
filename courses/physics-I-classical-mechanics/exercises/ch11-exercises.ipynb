{
 "cells": [
  {
   "cell_type": "markdown",
   "metadata": {},
   "source": [
    "# Chapter 11 - Angular Momentum"
   ]
  },
  {
   "cell_type": "markdown",
   "metadata": {},
   "source": [
    "## 11.1 - The Vector Product and Torque"
   ]
  },
  {
   "cell_type": "markdown",
   "metadata": {},
   "source": [
    "**1.** Given $\\vec{M}=6\\hat{i}+2\\hat{j}-\\hat{k}$ and $\\vec{N}=2\\hat{i}-\\hat{j}-3\\hat{k}$, calculate the vector product $\\vec{M}\\times\\vec{N}$\n",
    "\n",
    "\n",
    "$\\vec{M}\\times\\vec{N}=$\n",
    "$\\begin{vmatrix}\\hat{i}&\\hat{j}&\\hat{k}\\\\6&2&-1\\\\2&-1&-3\\end{vmatrix}$\n",
    "$=(-6-1)\\hat{i}-(-18+2)\\hat{j}+(-6-4)\\hat{k}$\n",
    "$=-7\\hat{i}+16\\hat{j}-10\\hat{k}$"
   ]
  },
  {
   "cell_type": "markdown",
   "metadata": {},
   "source": [
    "**3.** Two vectors are given by $\\vec{A}=-3\\hat{i}+4\\hat{j}$ and $\\vec{B}=2\\hat{i}+3\\hat{j}$. Find (a) $\\vec{A}\\times\\vec{B}$ and (b) the angle between $\\vec{A}$ and $\\vec{B}$\n",
    "\n",
    "**a.**\n",
    "\n",
    "$\\vec{A}\\times\\vec{B}=$\n",
    "$\\begin{vmatrix}\\hat{i}&\\hat{j}&\\hat{k}\\\\-3&4&0\\\\2&3&0\\end{vmatrix}$\n",
    "$=(0)\\hat{i}-(0)\\hat{j}+(-9-8)\\hat{k}$\n",
    "$=-17\\hat{k}$\n",
    "\n",
    "**b.**\n",
    "\n",
    "$|\\vec{A}\\times\\vec{B}|=|\\vec{A}||\\vec{B}|\\sin\\theta$\n",
    "\n",
    "$|-17\\hat{k}|=\\sqrt{(-3)^2+4^2}\\cdot\\sqrt{2^2+3^2}\\cdot\\sin\\theta$\n",
    "\n",
    "$\\sin\\theta=\\frac{17}{5\\sqrt{13}}$\n",
    "\n",
    "$\\theta=\\sin^{-1}(\\frac{17}{5\\sqrt{13}})=1.232^\\circ$"
   ]
  },
  {
   "cell_type": "markdown",
   "metadata": {},
   "source": [
    "## 11.2 - Angular Momentum"
   ]
  },
  {
   "cell_type": "markdown",
   "metadata": {},
   "source": [
    "**11.** A light rigid rod 1.00 m in length joins two particles, with masses 4.00 kg and 3.00 kg, at its ends. The combination rotates in the xy plane about a pivot through the center of the rod (Fig. P11.11). Determine the angular momentum of the system about the origin when the speed of each particle is 5.00 m/s.\n",
    "\n",
    "$L=(m_1+m_2)vr\\sin\\theta$\n",
    "\n",
    "$L=(m_1+m_2)v(\\frac{l}{2})\\sin90^\\circ$\n",
    "$=(4+3)(5)(\\frac{1}{2})=17.5\\text{ kg}\\cdot\\text{m}^2\\text{/s}$\n",
    "\n",
    "$\\vec{L}=17.5\\hat{k}\\text{ kg}\\cdot\\text{m}^2\\text{/s}$"
   ]
  },
  {
   "cell_type": "markdown",
   "metadata": {},
   "source": [
    "**13.** The position vector of a particle of mass 2.00 kg is given as a function of time $\\vec{r}=(6.00\\hat{i}+5.00t\\hat{j})$ m. Determine the angular momentum of the particle when its position vector is $\\vec{r}=(1.50\\hat{i}+2.20\\hat{j})$ m.\n",
    "\n",
    "$\\frac{d\\vec{r}}{dt}=\\vec{v}=5.00\\hat{j}$\n",
    "\n",
    "$\\vec{L}=mvr=2(\\vec{v}\\times\\vec{r})$\n",
    "\n",
    "$\\vec{L}=2\\cdot\\begin{vmatrix}\\hat{i}&\\hat{j}&\\hat{k}\\\\6&5&0\\\\0&5&0\\end{vmatrix}$\n",
    "$=2\\cdot30\\hat{k}$\n",
    "$=60\\hat{k}\\text{ kg}\\cdot\\text{m}^2\\text{/s}$"
   ]
  },
  {
   "cell_type": "markdown",
   "metadata": {},
   "source": [
    "## 11.3 - Angular Momentum of a Rotating Rigid Object"
   ]
  },
  {
   "cell_type": "markdown",
   "metadata": {},
   "source": [
    "**21.** Show that the kinetic energy of an object rotating about a fixed axis with angular momentum $L=l\\omega$ can be written as $K=L^2/2I$\n",
    "\n",
    "$K=\\frac{1}{2}I\\omega^2$\n",
    "\n",
    "$L=I\\omega\\implies\\omega=\\frac{L}{I}$\n",
    "\n",
    "$K=\\frac{1}{2}I(\\frac{L}{I})^2=\\frac{1}{2}\\frac{L^2}{I}=\\frac{L^2}{2I}$\n"
   ]
  },
  {
   "cell_type": "markdown",
   "metadata": {},
   "source": [
    "**23.** A uniform solid disk of mass 3.00 kg and radius 0.200 m rotates about a fixed axis perpendicular to its face. If the angular frequency of rotation is 6.00 rad/s, calculate the angular momentum of the disk when the axis of rotation (a) passes through its center of mass and (b) passes through a point midway between the center and the rim.\n",
    "\n",
    "**a.**\n",
    "\n",
    "$I_{CM}=\\frac{1}{2}mr^2$\n",
    "$=\\frac{1}{2}(3)(0.2)^2=0.06\\text{ kg}\\cdot\\text{m}^2$\n",
    "\n",
    "$L_{CM}=I_{CM}\\omega=0.06(6)=0.36\\text{ kg}\\cdot\\text{m}^2\\text{/s}$\n",
    "\n",
    "**b.**\n",
    "\n",
    "$I=I_{CM}+m(\\frac{r}{2})$\n",
    "$=0.06+3(\\frac{0.2}{2})^2=0.09\\text{ kg}\\cdot\\text{m}^2$\n",
    "\n",
    "$L=I\\omega$\n",
    "$=0.09(6)=0.54\\text{ kg}\\cdot\\text{m}^2\\text{/s}$"
   ]
  },
  {
   "cell_type": "markdown",
   "metadata": {},
   "source": [
    "**25.** A particle of mass 0.400 kg is attached to the 100-cm mark of a meter stick of mass 0.100 kg. The meter stick rotates on a horizontal frictionless table with an angular speed of 4.00 rad/s. Calculate the angular momentum of the system when the stick is pivoted about an axis (a) perpendicular to the table through the 50.0-cm mark and (b) perpendicular to the table through the 0-cm mark.\n",
    "\n",
    "**a.**\n",
    "\n",
    "$I_m=\\frac{1}{12}MR^2$\n",
    "$=\\frac{1}{12}(0.1)(1)^2=8.33\\times10^{-3}\\text{ kg}\\cdot\\text{m}^2$\n",
    "\n",
    "$I_p=md^2$\n",
    "$=m(\\frac{R}{2})^2$\n",
    "$=0.4(\\frac{1}{2})^2=0.1\\text{ kg}\\cdot\\text{m}^2$\n",
    "\n",
    "$I=I_m+I_p$\n",
    "$=8.33\\times10^{-3}+0.1=0.108\\text{ kg}\\cdot\\text{m}^2$\n",
    "\n",
    "$L=I\\omega=(0.108)(4)=0.433\\text{ kg}\\cdot\\text{m}^2\\text{/s}$\n",
    "\n",
    "**b.**\n",
    "\n",
    "$I_m=\\frac{1}{3}MR^2$\n",
    "$=\\frac{1}{3}(0.1)(1)^2=0.0333\\text{ kg}\\cdot\\text{m}^2$\n",
    "\n",
    "$I_p=md^2$\n",
    "$\\implies I_p=mR^2$\n",
    "\n",
    "$I_p=(0.4)(1)^2=0.4\\text{ kg}\\cdot\\text{m}^2$\n",
    "\n",
    "$I=I_m+I_p$\n",
    "$=0.0333+0.4=0.433\\text{ kg}\\cdot\\text{m}^2$\n",
    "\n",
    "$L=I\\omega$\n",
    "$=(0.433)(4)=1.73\\text{ kg}\\cdot\\text{m}^2\\text{/s}$"
   ]
  },
  {
   "cell_type": "markdown",
   "metadata": {},
   "source": [
    "## 11.4 - Conservation of Angular Momentum"
   ]
  },
  {
   "cell_type": "markdown",
   "metadata": {},
   "source": [
    "**29.** A playground merry-go-round of radius $R=2.00 m$ has a moment of inertia $I=250 \\text{kg}\\cdot\\text{m}^2$ and is rotating at 10.0 rev/min about a frictionless vertical axle. Facing the axle, a 25.0-kg child hops onto the merry-go-round and manages to sit down on the edge. What is the new angular speed of the merry-go-round?\n",
    "\n",
    "$L_i=L_f$\n",
    "\n",
    "$I_i\\omega_i=I_f\\omega_f$\n",
    "\n",
    "$I_i=I_m$\n",
    "$=250\\text{ kg}\\cdot\\text{m}^2$\n",
    "\n",
    "$I_f=I_m+I_c$\n",
    "$=I_m+m_cR^2$\n",
    "$=250+(25)(2)^2=350\\text{ kg}\\cdot\\text{m}^2$\n",
    "\n",
    "$250\\omega_i=350\\omega_f$\n",
    "\n",
    "$\\omega_f=\\frac{(250)(10)}{350}=7.14\\text{ rev/min}$"
   ]
  }
 ],
 "metadata": {
  "kernelspec": {
   "display_name": "Python 3",
   "language": "python",
   "name": "python3"
  },
  "language_info": {
   "codemirror_mode": {
    "name": "ipython",
    "version": 3
   },
   "file_extension": ".py",
   "mimetype": "text/x-python",
   "name": "python",
   "nbconvert_exporter": "python",
   "pygments_lexer": "ipython3",
   "version": "3.8.5"
  }
 },
 "nbformat": 4,
 "nbformat_minor": 4
}
