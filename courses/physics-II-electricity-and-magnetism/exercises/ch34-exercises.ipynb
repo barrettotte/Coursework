{
 "cells": [
  {
   "cell_type": "markdown",
   "metadata": {},
   "source": [
    "# Chapter 34 - Electromagnetic Waves"
   ]
  },
  {
   "cell_type": "markdown",
   "metadata": {},
   "source": [
    "## 34.2 - Plane Electromagnetic Waves"
   ]
  },
  {
   "cell_type": "markdown",
   "metadata": {},
   "source": [
    "**3.** The speed of an electromagnetic wave traveling in a transparent nonmagnetic substance is $v=\\frac{1}{\\sqrt{k\\mu_0\\epsilon_0}}$, where $k$ is the dielectric constant of the substance. Determine the speed of light in water, which has a dielectric constant at optical frequencies of 1.78.\n",
    "\n",
    "\n",
    "$c=\\frac{1}{\\sqrt{\\mu_0\\epsilon_0}}$\n",
    "\n",
    "$v=\\frac{1}{\\sqrt{k\\mu_0\\epsilon_0}}$\n",
    "$=\\frac{c}{\\sqrt{k}}$\n",
    "$=\\frac{c}{\\sqrt{1.78}}=0.75c$"
   ]
  },
  {
   "cell_type": "markdown",
   "metadata": {},
   "source": [
    "## 34.3 - Energy Carried by Electromagnetic Waves"
   ]
  },
  {
   "cell_type": "markdown",
   "metadata": {},
   "source": [
    "**11.** How much electromagnetic energy per cubic meter is contained in sunlight, if the intensity of sunlight as the Earth's surface under a fairly clear sky is $1000\\text{ W/m}^2$?\n",
    "\n",
    "$u_\\text{avg}=\\frac{I}{c}$\n",
    "$=\\frac{1000}{3\\times10^8}$\n",
    "$=333.33\\text{ J/m}^3$\n",
    "\n"
   ]
  },
  {
   "cell_type": "markdown",
   "metadata": {},
   "source": [
    "**13.** What is the average magnitude of the Poynting vector 5.00 miles from a radio transmitter broadcasting isotropically with an average power of 250 kW?\n",
    "\n",
    "$S=\\frac{P}{A}$\n",
    "$=\\frac{250\\times10^3}{8.12\\times10^8}$\n",
    "$=308\\times10^{-6}\\text{ W/m}^2$"
   ]
  },
  {
   "cell_type": "markdown",
   "metadata": {},
   "source": [
    "**15.** A community plans to build a facility to convert solar radiation to electrical power. They require 1.00 MW of power, and the system to be installed has an efficiency of 30.0% (that is, 30.0% of the solar energy incident on the surface is converted to useful energy that can power the community). What must be the effective area of a perfectly absorbing surface used in such an installation, assuming sunlight has a constant intensity of $1000\\text{ W/m}^2$?\n",
    "\n",
    "$I=\\frac{P_\\text{out}}{\\eta A}$\n",
    "$\\implies A=\\frac{P_\\text{out}}{\\eta I}$\n",
    "$=\\frac{1\\times10^6}{0.3(1000)}$\n",
    "$=3.33\\times10^3\\text{ m}^2$"
   ]
  },
  {
   "cell_type": "markdown",
   "metadata": {},
   "source": [
    "## 34.5 - Production of Electromagnetic Waves by an Antenna"
   ]
  },
  {
   "cell_type": "markdown",
   "metadata": {},
   "source": [
    "**33.** Figure 34.10 shows a hertz antenna (also known as a half-wave antenna, because its length is $\\lambda/2$). The antenna is located far enough from the ground that reflections do not signicantly affect its radiation pattern. Most AM radio stations, however, use a Marconi antenna, which consists of the top half of a Hertz antenna. The lower end of this (quarter-wave) antenna is connected to Earth ground, and the ground itself serves as the missing lower half. What are the heights of the Marconi antennas for radio stations broadcasting at (a) 560 kHz and (b) 1600 kHz?\n",
    "\n",
    "**a.**\n",
    "\n",
    "$\\lambda=\\frac{c}{f}=\\frac{c}{560\\times10^3}=536$\n",
    "\n",
    "$L=\\frac{\\lambda}{4}=\\frac{536}{4}=134\\text{ m}$\n",
    "\n",
    "**b.**\n",
    "\n",
    "$\\lambda=\\frac{c}{f}=\\frac{c}{1600\\times10^3}$\n",
    "$=188$\n",
    "\n",
    "$L=\\frac{\\lambda}{4}=47\\text{ m}$"
   ]
  }
 ],
 "metadata": {
  "kernelspec": {
   "display_name": "Python 3",
   "language": "python",
   "name": "python3"
  },
  "language_info": {
   "codemirror_mode": {
    "name": "ipython",
    "version": 3
   },
   "file_extension": ".py",
   "mimetype": "text/x-python",
   "name": "python",
   "nbconvert_exporter": "python",
   "pygments_lexer": "ipython3",
   "version": "3.8.5"
  }
 },
 "nbformat": 4,
 "nbformat_minor": 5
}
