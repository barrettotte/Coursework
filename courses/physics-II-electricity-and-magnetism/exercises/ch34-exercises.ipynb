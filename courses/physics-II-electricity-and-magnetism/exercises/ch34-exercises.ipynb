{
 "cells": [
  {
   "cell_type": "markdown",
   "id": "dietary-combination",
   "metadata": {},
   "source": [
    "# Chapter 34 - Electromagnetic Waves"
   ]
  },
  {
   "cell_type": "markdown",
   "id": "worthy-cartridge",
   "metadata": {},
   "source": [
    "## 34.2 - Plane Electromagnetic Waves"
   ]
  },
  {
   "cell_type": "markdown",
   "id": "exclusive-incentive",
   "metadata": {},
   "source": [
    "**3.**"
   ]
  },
  {
   "cell_type": "markdown",
   "id": "final-debut",
   "metadata": {},
   "source": [
    "**5.**"
   ]
  },
  {
   "cell_type": "markdown",
   "id": "occupied-antibody",
   "metadata": {},
   "source": [
    "## 34.3 - Energy Carried by Electromagnetic Waves"
   ]
  },
  {
   "cell_type": "markdown",
   "id": "thousand-associate",
   "metadata": {},
   "source": [
    "**11.**"
   ]
  },
  {
   "cell_type": "markdown",
   "id": "european-breathing",
   "metadata": {},
   "source": [
    "**13.**"
   ]
  },
  {
   "cell_type": "markdown",
   "id": "systematic-engagement",
   "metadata": {},
   "source": [
    "**15.**"
   ]
  },
  {
   "cell_type": "markdown",
   "id": "atmospheric-tomato",
   "metadata": {},
   "source": [
    "**19.**"
   ]
  },
  {
   "cell_type": "markdown",
   "id": "concrete-demographic",
   "metadata": {},
   "source": [
    "**21.**"
   ]
  },
  {
   "cell_type": "markdown",
   "id": "collaborative-gnome",
   "metadata": {},
   "source": [
    "## 34.4 - Momentum and Radiation Pressure"
   ]
  },
  {
   "cell_type": "markdown",
   "id": "brief-electric",
   "metadata": {},
   "source": [
    "**27.**"
   ]
  },
  {
   "cell_type": "markdown",
   "id": "relevant-aberdeen",
   "metadata": {},
   "source": [
    "**31.**"
   ]
  },
  {
   "cell_type": "markdown",
   "id": "coastal-claim",
   "metadata": {},
   "source": [
    "## 34.5 - Production of Electromagnetic Waves by an Antenna"
   ]
  },
  {
   "cell_type": "markdown",
   "id": "local-lighter",
   "metadata": {},
   "source": [
    "**33.**"
   ]
  },
  {
   "cell_type": "markdown",
   "id": "covered-invention",
   "metadata": {},
   "source": [
    "## 34.6 - The Spectrum of Electromagnetic Waves"
   ]
  },
  {
   "cell_type": "markdown",
   "id": "incomplete-monthly",
   "metadata": {},
   "source": [
    "**39.**"
   ]
  },
  {
   "cell_type": "markdown",
   "id": "vulnerable-country",
   "metadata": {},
   "source": [
    "**41.**"
   ]
  },
  {
   "cell_type": "markdown",
   "id": "renewable-progressive",
   "metadata": {},
   "source": [
    "**43.**"
   ]
  },
  {
   "cell_type": "markdown",
   "id": "better-barbados",
   "metadata": {},
   "source": [
    "**45.**"
   ]
  }
 ],
 "metadata": {
  "kernelspec": {
   "display_name": "Python 3",
   "language": "python",
   "name": "python3"
  },
  "language_info": {
   "codemirror_mode": {
    "name": "ipython",
    "version": 3
   },
   "file_extension": ".py",
   "mimetype": "text/x-python",
   "name": "python",
   "nbconvert_exporter": "python",
   "pygments_lexer": "ipython3",
   "version": "3.6.5"
  }
 },
 "nbformat": 4,
 "nbformat_minor": 5
}
