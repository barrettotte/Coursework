{
 "cells": [
  {
   "cell_type": "markdown",
   "metadata": {},
   "source": [
    "# Chapter 34 - Electromagnetic Waves"
   ]
  },
  {
   "cell_type": "markdown",
   "metadata": {},
   "source": [
    "## 34.2 - Plane Electromagnetic Waves"
   ]
  },
  {
   "cell_type": "markdown",
   "metadata": {},
   "source": [
    "**3.** The speed of an electromagnetic wave traveling in a transparent nonmagnetic substance is $v=\\frac{1}{\\sqrt{k\\mu_0\\epsilon_0}}$, where $k$ is the dielectric constant of the substance. Determine the speed of light in water, which has a dielectric constant at optical frequencies of 1.78."
   ]
  },
  {
   "cell_type": "markdown",
   "metadata": {},
   "source": [
    "## 34.3 - Energy Carried by Electromagnetic Waves"
   ]
  },
  {
   "cell_type": "markdown",
   "metadata": {},
   "source": [
    "**11.** How much electromagnetc energy per cubic meter is contained in sunlight, if the intensity of sunlight as the Earth's surface under a fairly clear sky is $1000\\text{ W/m}^2$?"
   ]
  },
  {
   "cell_type": "markdown",
   "metadata": {},
   "source": [
    "**13.** What is the average magnitude of the Poynting vector 5.00 miles from a radio transmitter broadcasting isotropically with an average power of 250 kW?"
   ]
  },
  {
   "cell_type": "markdown",
   "metadata": {},
   "source": [
    "**15.** A community plans to build a facility to convert solar radiation to electrical power. They require 1.00 MW of power, and the system to be installed has an efficiency of 30.0% (that is, 30.0% of the solar energy incident on the surface is converted to useful energy that can power the community). What must be the effective area of a perfectly absorbing surface used in such an installation, assuming sunlight has a constant intensity of $1000\\text{ W/m}^2$?"
   ]
  },
  {
   "cell_type": "markdown",
   "metadata": {},
   "source": [
    "**19.** In a region of free space the electric field at an instant of time is $\\vec{E}=(80.0\\hat{i}+32.0\\hat{j}-64.0\\hat{k})\\text{ N/C}$ annd the magnetic field is $\\vec{B}=(0.200\\hat{i}+0.080\\hat{j}+0.290\\hat{k}\\;\\mu\\text{T}$. (a) Show that the two fields are perpendicular to each other. (b) Determine the Poynting vector for these fields."
   ]
  },
  {
   "cell_type": "markdown",
   "metadata": {},
   "source": [
    "## 34.4 - Momentum and Radiation Pressure"
   ]
  },
  {
   "cell_type": "markdown",
   "metadata": {},
   "source": [
    "**27.** A radio wave transmits $25.0\\text{ W/m}^2$ of power per unit area. A flat surface of area $A$ is perpendicular to the direction of propagation of the wave. Calculate the radiation pressure on it, assuming the surface is a perfect absorber."
   ]
  },
  {
   "cell_type": "markdown",
   "metadata": {},
   "source": [
    "## 34.5 - Production of Electromagnetic Waves by an Antenna"
   ]
  },
  {
   "cell_type": "markdown",
   "metadata": {},
   "source": [
    "**33.** Figure 34.10 shows a hertz antenna (also known as a half-wave antenna, because its length is $\\lambda/2$). The antenna is located far enough from the ground that reflections do not signicantly affect its radiation pattern. Most AM radio stations, however, use a Marconi antenna, which consists of the top half of a Hertz antenna. The lower end of this (quarter-wave) antenna is connected to Earth ground, and the ground itself serves as the missing lower half. What are the heights of the Marconi antennas for radio stations broadcasting at (a) 560 kHz and (b) 1600 kHz?"
   ]
  },
  {
   "cell_type": "markdown",
   "metadata": {},
   "source": [
    "## 34.6 - The Spectrum of Electromagnetic Waves"
   ]
  },
  {
   "cell_type": "markdown",
   "metadata": {},
   "source": [
    "**39.** The human eye is most sensitive to light having a wavelength of $5.50\\times10^{-7}\\text{ m}$, which is in the green-yellow region of the visible electromagnetic spectrum. What is the frequency of this light?"
   ]
  },
  {
   "cell_type": "markdown",
   "metadata": {},
   "source": [
    "**41.** What are the electromagnetic waves in free space that have frequencies of (a) $5.00\\times10^{19}\\text{ Hz}$ and (b) $4.00\\times10^9\\text{ Hz}$?"
   ]
  },
  {
   "cell_type": "markdown",
   "metadata": {},
   "source": [
    "**43.** A radar pulse returns to the receiver after a total travel time of $4.00\\times10^{-4}\\text{ s}$. How far is the object that reflected that wave?"
   ]
  }
 ],
 "metadata": {
  "kernelspec": {
   "display_name": "Python 3",
   "language": "python",
   "name": "python3"
  },
  "language_info": {
   "codemirror_mode": {
    "name": "ipython",
    "version": 3
   },
   "file_extension": ".py",
   "mimetype": "text/x-python",
   "name": "python",
   "nbconvert_exporter": "python",
   "pygments_lexer": "ipython3",
   "version": "3.8.5"
  }
 },
 "nbformat": 4,
 "nbformat_minor": 5
}
