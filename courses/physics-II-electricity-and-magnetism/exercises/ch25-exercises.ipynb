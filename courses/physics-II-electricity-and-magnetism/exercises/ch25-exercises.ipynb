{
 "cells": [
  {
   "cell_type": "markdown",
   "metadata": {},
   "source": [
    "# Chapter 25 - Electric Potential"
   ]
  },
  {
   "cell_type": "markdown",
   "metadata": {},
   "source": [
    "## 25.1 - Potential Difference and Electric Potential"
   ]
  },
  {
   "cell_type": "markdown",
   "metadata": {},
   "source": [
    "**1.** How much work is done (By a battery, generator, or some other source of potential difference) in moving Avogadro's number of electrons from an initial point where the electric potential is 9.00 V to a point where the potential is -5.00 V? (The potential in each case is measured relative to a common reference point.)\n",
    "\n",
    "$e=-1.6\\times10^{-19}\\text{C}$\n",
    "\n",
    "$W=Q\\Delta V$\n",
    "$=(-1.6\\times10^{-19})(6.022\\times10^{23})$\n",
    "$=-96352\\text{ C}$\n",
    "\n",
    "$\\Delta V=-5-9=14\\text{ V}$\n",
    "\n",
    "$W=-96352(-14)=1.35\\text{ MJ}$"
   ]
  },
  {
   "cell_type": "markdown",
   "metadata": {},
   "source": [
    "**3.** (a) Calculate the speed of a proton that is accelerated from rest through a potential difference of 120 V. (b) Calculate the speed of an electron that is accelerated through the same potential difference.\n",
    "\n",
    "**a.**\n",
    "\n",
    "$\\Delta K-\\Delta U=0$\n",
    "\n",
    "$\\frac{1}{2}m_p({v_f}^2-{v_i}^2)-e\\Delta V=0$\n",
    "\n",
    "${v_f}^2=\\frac{2e\\Delta V}{m_p}$\n",
    "\n",
    "$v_f=\\sqrt{\\frac{2e\\Delta V}{m_p}}$\n",
    "$=\\sqrt{\\frac{2(1.6\\times10^{-19})(120)}{1.67\\times10^{-27}}}$\n",
    "$=151.6\\text{ km/s}$\n",
    "\n",
    "**b.**\n",
    "\n",
    "$v_f=\\sqrt{\\frac{2e\\Delta V}{m_e}}$\n",
    "$=\\sqrt{\\frac{2(1.6\\times10^{-19})(120)}{9.11\\times10^{-31}}}$\n",
    "$=6492.4\\text{ km/s}$"
   ]
  },
  {
   "cell_type": "markdown",
   "metadata": {},
   "source": [
    "## 25.2 - Potential Differences in a Uniform Electric Field"
   ]
  },
  {
   "cell_type": "markdown",
   "metadata": {},
   "source": [
    "**7.** An electron moving parallel to the $x$ axis has aninitial speed of $3.70\\times10^6\\text{ m/s}$ at the origin. Its speed is reduced to $1.40\\times10^5\\text{ m/s}$ at the point $x=2.00\\text{ cm}$. Calculate the potential difference between the origin and that point. Which point is at the higher potential?\n",
    "\n",
    "$\\Delta K+\\Delta U=0$\n",
    "\n",
    "$(\\frac{1}{2}m_e{v_f}^2-\\frac{1}{2}m_e{v_i}^2)+q_e\\Delta V=0$\n",
    "\n",
    "$\\frac{1}{2}m_e({v_f}^2-{v_i}^2)=-q_e\\Delta V$\n",
    "\n",
    "$\\Delta V=-\\frac{1}{2q}m_e({v_f}^2-{v_i}^2)$\n",
    "\n",
    "$=-\\frac{1}{2(-1.6\\times10^{-19})}(9.11\\times10^{-31})((1.4\\times10^5)^2-(3.7\\times10^6)^2)$\n",
    "$=-38.9\\text{ V}$\n",
    "\n",
    "$\\Delta V<0$; Potential at origin will be higher"
   ]
  },
  {
   "cell_type": "markdown",
   "metadata": {},
   "source": [
    "**9.** A uniform electric field of magnitude 325 V/m is directed in the negative y direction in Figure P25.9. The coordinates of point $A$ are (-0.200,-0.300) m, and those of point $B$ are (0.400,0.500) m. Calculate the potential difference $V_B-V_A$, using the blue path.\n",
    "\n",
    "$U=q\\Delta V$\n",
    "\n",
    "$\\Delta V=-\\vec{E}\\cdot\\vec{s}$\n",
    "\n",
    "$\\vec{s}=0.20\\hat{i}+0.50\\hat{j}$\n",
    "\n",
    "$U=q\\Delta V=-q\\vec{E}\\cdot\\vec{s}$\n",
    "\n",
    "$U=-q\\vec{E}\\cdot\\vec{s}$\n",
    "$=-12(250)(0.20\\hat{i}+0.50\\hat{j})$\n",
    "$=-600\\;\\mu\\text{J}$\n",
    "\n",
    "$\\Delta V=\\frac{U}{q}$\n",
    "$=\\frac{-600}{12}=-50\\text{ V}$"
   ]
  },
  {
   "cell_type": "markdown",
   "metadata": {},
   "source": [
    "## 25.3 - Electric Potential and Potential Energy Due to Point Charges"
   ]
  },
  {
   "cell_type": "markdown",
   "metadata": {},
   "source": [
    "**15.** (a) Find the potential at a distance of 1.00 cm from a proton. (b) What is the potential difference between two points that are 1.00 cm and 2.00 cm from a proton? (c) Repeat parts (a) and (b) for an electron.\n",
    "\n",
    "$V=k_e\\frac{q}{r}$\n",
    "\n",
    "**a.**\n",
    "\n",
    "$V_a=9\\times10^9\\frac{1.6\\times10^{-19}}{0.01}$\n",
    "$=1.44\\times10^{-7}\\text{ V}$\n",
    "\n",
    "**b.**\n",
    "\n",
    "$V_b=9\\times10^9\\frac{1.6\\times10^{-19}}{0.02}$\n",
    "$=7.2\\times10^{-8}\\text{ V}$\n",
    "\n",
    "$\\Delta V=V_b-V_a$\n",
    "$=(7.2\\times10^{-8})-(1.44\\times10^{-7})$\n",
    "$=-7.2\\times10^{-8}\\text{ V}$\n",
    "\n",
    "**c.**\n",
    "\n",
    "$V_a=9\\times10^9\\frac{-1.6\\times10^{-19}}{0.01}$\n",
    "$=-1.44\\times10^{-7}\\text{ V}$\n",
    "\n",
    "$V_b=9\\times10^9\\frac{-1.6\\times10^{-19}}{0.02}$\n",
    "$=-7.2\\times10^{-8}\\text{ V}$\n",
    "\n",
    "$\\Delta V=V_b-V_a$\n",
    "$=(-7.2\\times10^{-8})-(-1.44\\times10^{-7})$\n",
    "$=7.2\\times10^{-8}\\text{ V}$"
   ]
  },
  {
   "cell_type": "markdown",
   "metadata": {},
   "source": [
    "**17.** At a certain distance from a point charge, the magnitude of the electric field is 500 V/m and the electric potential is -3.00 kV. (a) What is the distance to the charge? (b) What is the magnitude of the charge?\n",
    "\n",
    "**a.**\n",
    "\n",
    "$V=k_e\\frac{q}{r}$\n",
    "\n",
    "$E=k_e\\frac{|q|}{r^2}$\n",
    "\n",
    "$r=\\frac{|V|}{E}$\n",
    "$=\\frac{3\\times10^3}{500}$\n",
    "$=6\\text{ m}$\n",
    "\n",
    "**b.**\n",
    "\n",
    "$|q|=\\frac{Er^2}{k_e}$\n",
    "$=\\frac{500(6)^2}{8.988\\times10^9}$\n",
    "$=2\\times10^6\\text{ C}$"
   ]
  },
  {
   "cell_type": "markdown",
   "metadata": {},
   "source": [
    "**31.** A small spherical object carries a charge of 8.00 nC. At what distance from the center of the object is the potential equal to 100 V? 50.0 V? 25.0 V? Is the spacing of the equipotentials proportional to the change in potential?\n",
    "\n",
    "$V=k_e\\frac{q}{r}$\n",
    "$,\\quad r=k_e\\frac{q}{V}$\n",
    "\n",
    "$r_a=(8.988\\times10^9)\\frac{8\\times10^{-9}}{100}$\n",
    "$=0.72\\text{ m}$\n",
    "\n",
    "$r_b=(8.988\\times10^9)\\frac{8\\times10^{-9}}{50}$\n",
    "$=1.44\\text{ m}$\n",
    "\n",
    "$r_c=(8.988\\times10^9)\\frac{8\\times10^{-9}}{25}$\n",
    "$=2.88\\text{ m}$\n",
    "\n",
    "Electric potential appears to be inversely proportional to the distance"
   ]
  },
  {
   "cell_type": "markdown",
   "metadata": {},
   "source": [
    "## 25.4 - Obtaining the Value of the Electric Field from the Electric Potential"
   ]
  },
  {
   "cell_type": "markdown",
   "metadata": {},
   "source": [
    "**37.** The potential in a region between $x=0$ and $x=6.00\\text{ m}$ is $V=a+bx$, where $a=10.0\\text{ V}$ and $b=-7.00\\text{ V/m}$. Determine (a) the potential at $x=0,3.00\\text{ m}, 6.00\\text{ m}$ and (b) the magnitude and direction of th electric field at $x=0,3.00\\text{ m},6.00\\text{ m}$\n",
    "\n",
    "**a.**\n",
    "\n",
    "$V=a+bx\\implies V=10-7x$\n",
    "\n",
    "$V_a=10-7(0)=10\\text{ V}$\n",
    "\n",
    "$V_b=10-7(3)=-11\\text{ V}$\n",
    "\n",
    "$V_c=10-7(6)=-32\\text{ V}$\n",
    "\n",
    "**b.**\n",
    "\n",
    "$E_x=-\\frac{\\partial V}{\\partial x}$\n",
    "\n",
    "$E_x=-\\frac{d}{dx}(10-7x)$\n",
    "$=0+7$\n",
    "$=7\\text{ V/m}$ directed in positive $x$ direction"
   ]
  },
  {
   "cell_type": "markdown",
   "metadata": {},
   "source": [
    "**39.** Over a certain region of space, the electric potential is $V=5x-3x^2y+2yz^2$. Find the expressions for the $x,y,z$ components of the electric field over this region. What is the magnitude of the field at the point $P$ that has coordinates $(1,0,-2)\\text{ m}$\n",
    "\n",
    "$E_x=-\\frac{\\partial V}{\\partial x}$\n",
    "$=-\\frac{\\partial}{\\partial x}(5x-3x^2y+2yz^2)$\n",
    "$=-5+6xy$\n",
    "\n",
    "$E_y=-\\frac{\\partial V}{\\partial y}$\n",
    "$=-\\frac{\\partial}{\\partial y}(5x-3x^2+2yz^2)$\n",
    "$=3x^2-2z^2$\n",
    "\n",
    "$E_z=-\\frac{\\partial V}{\\partial z}$\n",
    "$=-\\frac{\\partial}{\\partial z}(5x-3x^2+2yz^2)$\n",
    "$=-4yz$\n",
    "\n",
    "$E=\\sqrt{{E_x}^2+{E_y}^2+{E_z}^2}$\n",
    "$=\\sqrt{(-5+6xy)^2+(3x^2-2z^2)^2+(-4yz)^2}$\n",
    "\n",
    "$E=\\sqrt{(-5-6(1)(0))^2+(3(1)^2-2(-2)^2)^2+(-4(0)(-2))^2}$\n",
    "$=7.07\\text{ V/m}$"
   ]
  }
 ],
 "metadata": {
  "kernelspec": {
   "display_name": "Python 3",
   "language": "python",
   "name": "python3"
  },
  "language_info": {
   "codemirror_mode": {
    "name": "ipython",
    "version": 3
   },
   "file_extension": ".py",
   "mimetype": "text/x-python",
   "name": "python",
   "nbconvert_exporter": "python",
   "pygments_lexer": "ipython3",
   "version": "3.6.5"
  }
 },
 "nbformat": 4,
 "nbformat_minor": 4
}
