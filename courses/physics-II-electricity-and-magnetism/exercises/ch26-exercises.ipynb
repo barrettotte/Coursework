{
 "cells": [
  {
   "cell_type": "markdown",
   "metadata": {},
   "source": [
    "# Chapter 26 - Capacitance and Dielectrics"
   ]
  },
  {
   "cell_type": "markdown",
   "metadata": {},
   "source": [
    "## 26.1 - Definition of Capacitance"
   ]
  },
  {
   "cell_type": "markdown",
   "metadata": {},
   "source": [
    "**1.** (a) How much charge is on each plate of a 4.00-$\\mu$F capacitor when it is connected to a 12.0-V battery? (b) If this same capacitor is connected to a 1.50-V battery, what charge is stored?"
   ]
  },
  {
   "cell_type": "markdown",
   "metadata": {},
   "source": [
    "## 26.2 - Calculating Capacitance"
   ]
  },
  {
   "cell_type": "markdown",
   "metadata": {},
   "source": [
    "**3.** An isolated charged conducting sphere of radius 12.0 cm creates an electric field of $4.90\\times10^4\\text{ N/C}$ at a distance 21.0 cm from its center. (a) What is its surface charge density? (b) What is its capacitance?"
   ]
  },
  {
   "cell_type": "markdown",
   "metadata": {},
   "source": [
    "**7.** An air-filled capacitor consists of two parallel plates, each with an area of $7.60\\text{ cm}^2$, separated by a distance of 1.80 mm. A 20.0-V potential difference is applied to these plates. Calculate (a) the electric field between the plates, (b) the surface charge density, (c) the capacitance, and (d) the charge on each plate."
   ]
  },
  {
   "cell_type": "markdown",
   "metadata": {},
   "source": [
    "**9.** When a potential difference of 150 V is applied to the plates of a parallel-plate capacitor, the plates carry a surface charge density of $30.0\\text{ nC/cm}^2$. What is the spacing between the plates?"
   ]
  },
  {
   "cell_type": "markdown",
   "metadata": {},
   "source": [
    "**13.** An air-filled spherical capacitor is constructed with inner and outer shell radii of 7.00 and 14.0 cm, respectively. (a) Calculate the capacitance of the device. (b) What potential difference between the spheres results in a charge of $4.00\\mu\\text{C}$ on the capacitor?"
   ]
  },
  {
   "cell_type": "markdown",
   "metadata": {},
   "source": [
    "## 26.3 - Combinations of Capacitors"
   ]
  },
  {
   "cell_type": "markdown",
   "metadata": {},
   "source": [
    "**19.** Two capacitors when connected in parallel give an equivalent capacitance of 9.00 pF and give an equivalent capacitance of 2.00 pF when connected in series. What is the capacitance of each capacitor?"
   ]
  },
  {
   "cell_type": "markdown",
   "metadata": {},
   "source": [
    "**21.** Four capacitors are connected as shown in Figure P26.21. (a) Find the equivalent capacitance between points $a$ and $b$. (b) Calculate the charge on each capacitor if $\\Delta V_{ab}=15.0\\text{ V}$."
   ]
  },
  {
   "cell_type": "markdown",
   "metadata": {},
   "source": [
    "**23.** Consider the circuit shown in Figure P26.23, where $C_1=6.00\\mu\\text{F}$, $C_2=3.00\\mu\\text{F}$, and $\\Delta V=20.0\\text{ V}$. Capacitor $C_1$ is first charged by the closing of switch $S_1$. Switch $S_1$ is then opened, and the charged capacitor is connected to the uncharged capacitor by the closing of $S_2$. Calculate the initial charge acquired by $C_1$ and the final charge on each capacitor."
   ]
  },
  {
   "cell_type": "markdown",
   "metadata": {},
   "source": [
    "**27.** Find the equivalent capacitance between points $a$ and $b$ for the group of capacitors connected as shown in Figure P26.27. Take $C_1=5.00\\mu\\text{F}$, $C_2=10.0\\mu\\text{F}$, and $C_3=2.00\\mu\\text{F}$"
   ]
  },
  {
   "cell_type": "markdown",
   "metadata": {},
   "source": [
    "## 26.4 - Energy Stored in a Charged Capacitor"
   ]
  },
  {
   "cell_type": "markdown",
   "metadata": {},
   "source": [
    "**31.** (a) A $3.00\\mu\\text{F}$ capacitor is connected to a 12.0-V battery. How much energy is stored in the capacitor? (b) If the capacitor had been connected to a 6.00-V battery, how much energy would have been stored?"
   ]
  },
  {
   "cell_type": "markdown",
   "metadata": {},
   "source": [
    "## 26.5 - Capacitors with Dielectrics"
   ]
  },
  {
   "cell_type": "markdown",
   "metadata": {},
   "source": [
    "**43.** Determine (a) the capacitance and (b) the maximum potential difference that can be applied to a Teflon-filled parallel-plate capacitor having a plate area of $1.75\\text{ cm}^2$ and plate separation of 0.0400 mm"
   ]
  },
  {
   "cell_type": "markdown",
   "metadata": {},
   "source": [
    "**45.** A commercial capacitor is to be constructed as shown in Figure 26.17a. This particular capacitor is made from two strips of aluminum separated by a strip of paraffin-coated paper. Each strip of foil and paper is 7.00 cm wide. The foil is 0.004 mm thick, and the paper is 0.025 mm thick and has a dielectric constant of 3.70. What length should the strips have, if a capacitance of $9.50\\times10^{-8}\\text{ F}$ is desired before the capacitor is rolled up? (Adding a second strip of paper and rolling the capacitor effectively doubles its capacitance, by allowing charge storage on both sides of each strip of foil)"
   ]
  }
 ],
 "metadata": {
  "kernelspec": {
   "display_name": "Python 3",
   "language": "python",
   "name": "python3"
  },
  "language_info": {
   "codemirror_mode": {
    "name": "ipython",
    "version": 3
   },
   "file_extension": ".py",
   "mimetype": "text/x-python",
   "name": "python",
   "nbconvert_exporter": "python",
   "pygments_lexer": "ipython3",
   "version": "3.8.5"
  }
 },
 "nbformat": 4,
 "nbformat_minor": 5
}
