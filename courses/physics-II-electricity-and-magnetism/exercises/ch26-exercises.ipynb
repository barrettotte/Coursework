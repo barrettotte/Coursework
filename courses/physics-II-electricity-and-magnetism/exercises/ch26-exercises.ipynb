{
 "cells": [
  {
   "cell_type": "markdown",
   "id": "medium-burns",
   "metadata": {},
   "source": [
    "# Chapter 26 - Capacitance and Dielectrics"
   ]
  },
  {
   "cell_type": "markdown",
   "id": "accredited-prince",
   "metadata": {},
   "source": [
    "## 26.1 - Definition of Capacitance"
   ]
  },
  {
   "cell_type": "markdown",
   "id": "earlier-transportation",
   "metadata": {},
   "source": []
  },
  {
   "cell_type": "markdown",
   "id": "brazilian-handy",
   "metadata": {},
   "source": [
    "## 26.2 - Calculating Capacitance"
   ]
  },
  {
   "cell_type": "markdown",
   "id": "alpha-sapphire",
   "metadata": {},
   "source": []
  },
  {
   "cell_type": "markdown",
   "id": "northern-internet",
   "metadata": {},
   "source": []
  },
  {
   "cell_type": "markdown",
   "id": "modern-builder",
   "metadata": {},
   "source": []
  },
  {
   "cell_type": "markdown",
   "id": "automated-bosnia",
   "metadata": {},
   "source": [
    "## 26.3 - Combinations of Capacitors"
   ]
  },
  {
   "cell_type": "markdown",
   "id": "narrow-review",
   "metadata": {},
   "source": []
  },
  {
   "cell_type": "markdown",
   "id": "promotional-humanity",
   "metadata": {},
   "source": []
  },
  {
   "cell_type": "markdown",
   "id": "german-mandate",
   "metadata": {},
   "source": []
  },
  {
   "cell_type": "markdown",
   "id": "sunset-victorian",
   "metadata": {},
   "source": [
    "## 26.4 - Energy Stored in a Charged Capacitor"
   ]
  },
  {
   "cell_type": "markdown",
   "id": "latest-stewart",
   "metadata": {},
   "source": []
  },
  {
   "cell_type": "markdown",
   "id": "israeli-shoot",
   "metadata": {},
   "source": []
  },
  {
   "cell_type": "markdown",
   "id": "detected-still",
   "metadata": {},
   "source": []
  },
  {
   "cell_type": "markdown",
   "id": "blocked-castle",
   "metadata": {},
   "source": [
    "## 26.5 - Capacitors with Dielectrics"
   ]
  },
  {
   "cell_type": "markdown",
   "id": "guided-minnesota",
   "metadata": {},
   "source": []
  },
  {
   "cell_type": "markdown",
   "id": "nonprofit-valve",
   "metadata": {},
   "source": []
  },
  {
   "cell_type": "markdown",
   "id": "steady-channel",
   "metadata": {},
   "source": []
  },
  {
   "cell_type": "markdown",
   "id": "czech-vacation",
   "metadata": {},
   "source": [
    "## 26.6 - Electric Dipole in an Electric Field"
   ]
  },
  {
   "cell_type": "markdown",
   "id": "accomplished-replica",
   "metadata": {},
   "source": []
  }
 ],
 "metadata": {
  "kernelspec": {
   "display_name": "Python 3",
   "language": "python",
   "name": "python3"
  },
  "language_info": {
   "codemirror_mode": {
    "name": "ipython",
    "version": 3
   },
   "file_extension": ".py",
   "mimetype": "text/x-python",
   "name": "python",
   "nbconvert_exporter": "python",
   "pygments_lexer": "ipython3",
   "version": "3.6.5"
  }
 },
 "nbformat": 4,
 "nbformat_minor": 5
}
