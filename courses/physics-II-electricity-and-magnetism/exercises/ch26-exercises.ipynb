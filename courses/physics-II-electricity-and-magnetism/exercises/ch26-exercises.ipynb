{
 "cells": [
  {
   "cell_type": "markdown",
   "metadata": {},
   "source": [
    "# Chapter 26 - Capacitance and Dielectrics"
   ]
  },
  {
   "cell_type": "markdown",
   "metadata": {},
   "source": [
    "## 26.1 - Definition of Capacitance"
   ]
  },
  {
   "cell_type": "markdown",
   "metadata": {},
   "source": [
    "**1.** (a) How much charge is on each plate of a 4.00-$\\mu$F capacitor when it is connected to a 12.0-V battery? (b) If this same capacitor is connected to a 1.50-V battery, what charge is stored?\n",
    "\n",
    "**a.**\n",
    "\n",
    "$Q=C\\Delta V$\n",
    "\n",
    "$Q=4(12)=48\\mu\\text{C}$\n",
    "\n",
    "**b.**\n",
    "\n",
    "$Q=4(1.5)=6\\mu\\text{C}$"
   ]
  },
  {
   "cell_type": "markdown",
   "metadata": {},
   "source": [
    "## 26.2 - Calculating Capacitance"
   ]
  },
  {
   "cell_type": "markdown",
   "metadata": {},
   "source": [
    "**3.** An isolated charged conducting sphere of radius 12.0 cm creates an electric field of $4.90\\times10^4\\text{ N/C}$ at a distance 21.0 cm from its center. (a) What is its surface charge density? (b) What is its capacitance?\n",
    "\n",
    "**a.**\n",
    "\n",
    "$\\sigma=\\frac{Q}{A}$\n",
    "\n",
    "$E=k_e\\frac{Q}{r^2}$\n",
    "\n",
    "$A=4\\pi R^2$\n",
    "\n",
    "$\\sigma=\\frac{Er^2}{k_e(4\\pi R^2)}$\n",
    "$=\\frac{(4.9\\times10^4)(0.21)^2}{4\\pi(8.988\\times10^9)(0.12)^2}$\n",
    "$=1.33\\times10^{-6}\\text{ C/m}^2$\n",
    "$=1.33\\mu\\text{C/m}^2$\n",
    "\n",
    "**b.**\n",
    "\n",
    "$C=4\\pi\\epsilon_0R$\n",
    "\n",
    "$C=4\\pi(8.8542\\times10^{-12})(0.12)$\n",
    "$=13.4\\times10^{-12}\\text{ F}$\n",
    "$=13.4\\text{ pF}$"
   ]
  },
  {
   "cell_type": "markdown",
   "metadata": {},
   "source": [
    "**7.** An air-filled capacitor consists of two parallel plates, each with an area of $7.60\\text{ cm}^2$, separated by a distance of 1.80 mm. A 20.0-V potential difference is applied to these plates. Calculate (a) the electric field between the plates, (b) the surface charge density, (c) the capacitance, and (d) the charge on each plate.\n",
    "\n",
    "**a.**\n",
    "\n",
    "$E=\\frac{\\Delta V}{d}$\n",
    "\n",
    "$E=\\frac{20}{1.8\\times10^{-3}}$\n",
    "$=11.1\\times10^3\\text{ V/m}$\n",
    "\n",
    "**b.**\n",
    "\n",
    "$\\sigma=\\epsilon_0E$\n",
    "\n",
    "$\\sigma=(8.8542\\times10^{-12})(11.1\\times10^3)$\n",
    "\n",
    "**c.**\n",
    "\n",
    "$C=\\frac{\\epsilon_0A}{d}$\n",
    "\n",
    "$C=\\frac{(8.8542\\times10^{-12})(7.6\\times10^{-4})}{1.8\\times10^{-3}}$\n",
    "$=3.74\\times10^{-12}\\text{ F}$\n",
    "$=3.74\\text{ pF}$\n",
    "\n",
    "**d.**\n",
    "\n",
    "$Q=C\\Delta V$\n",
    "\n",
    "$Q=(3.74\\times10^{-12})(20)$\n",
    "$=74.8\\times10^{-12}\\text{ C}$\n",
    "$=74.8\\text{ pC}$"
   ]
  },
  {
   "cell_type": "markdown",
   "metadata": {},
   "source": [
    "**9.** When a potential difference of 150 V is applied to the plates of a parallel-plate capacitor, the plates carry a surface charge density of $30.0\\text{ nC/cm}^2$. What is the spacing between the plates?\n",
    "\n",
    "$E=\\frac{\\sigma}{\\epsilon_0}$\n",
    "\n",
    "$E=\\frac{3\\times10^{-4}}{8.8542\\times10^{-12}}$\n",
    "$=3.3882\\times10^7\\text{ N/C}$\n",
    "\n",
    "$d=\\frac{\\Delta V}{E}$\n",
    "\n",
    "$d=\\frac{150}{3.3882\\times10^7}$\n",
    "$=4.43\\times10^{-6}\\text{ m}$"
   ]
  },
  {
   "cell_type": "markdown",
   "metadata": {},
   "source": [
    "**13.** An air-filled spherical capacitor is constructed with inner and outer shell radii of 7.00 and 14.0 cm, respectively. (a) Calculate the capacitance of the device. (b) What potential difference between the spheres results in a charge of $4.00\\mu\\text{C}$ on the capacitor?\n",
    "\n",
    "\n",
    "**a.**\n",
    "\n",
    "$C=\\frac{ab}{k_e(b-a)}$\n",
    "\n",
    "$C=\\frac{7(14)}{(8.99\\times10^9)(14-7)}$\n",
    "$=15.6\\text{ pF}$\n",
    "\n",
    "**b.**\n",
    "\n",
    "$\\Delta V=\\frac{Q}{C}$\n",
    "$=\\frac{4}{15.6}$\n",
    "$=256.41\\text{ kV}$"
   ]
  },
  {
   "cell_type": "markdown",
   "metadata": {},
   "source": [
    "## 26.3 - Combinations of Capacitors"
   ]
  },
  {
   "cell_type": "markdown",
   "metadata": {},
   "source": [
    "**21.** Four capacitors are connected as shown in Figure P26.21. (a) Find the equivalent capacitance between points $a$ and $b$. (b) Calculate the charge on each capacitor if $\\Delta V_{ab}=15.0\\text{ V}$.\n",
    "\n",
    "**a.**\n",
    "\n",
    "(series) $\\frac{1}{C_{eq}}=\\frac{1}{15}+\\frac{1}{3}$\n",
    "$\\implies C_{eq}=2.5\\;\\mu\\text{F}$\n",
    "\n",
    "(parallel) $C_{eq}=2.5+6=8.5\\;\\mu\\text{F}$\n",
    "\n",
    "(series) $\\frac{1}{C_{eq}}=\\frac{1}{8.5}+\\frac{1}{20}$\n",
    "$\\implies C_{eq}=5.964\\;\\mu\\text{F}$\n",
    "\n",
    "**b.**\n",
    "\n",
    "$Q=C\\Delta V$\n",
    "$=(5.96)(15)=89.46\\;\\mu\\text{C}$\n",
    "\n",
    "$Q_{20}=89.46\\;\\mu\\text{C}$\n",
    "\n",
    "<br>\n",
    "\n",
    "$\\Delta V_B=\\frac{Q_B}{C_B}$\n",
    "$=\\frac{89.46}{20}$\n",
    "$=4.473\\text{ V}$\n",
    "\n",
    "$\\Delta V_A=\\Delta V_{ab}-\\Delta V_B$\n",
    "$=15-4.473=10.527\\text{ V}$\n",
    "\n",
    "$Q_6=C_6\\Delta V_A$\n",
    "$=6(10.527)=63.162\\;\\mu\\text{C}$\n",
    "\n",
    "<br>\n",
    "\n",
    "$Q_{15}=Q_3=(89.46-63.16)=26.298\\;\\mu\\text{C}$"
   ]
  },
  {
   "cell_type": "markdown",
   "metadata": {},
   "source": [
    "**23.** Consider the circuit shown in Figure P26.23, where $C_1=6.00\\mu\\text{F}$, $C_2=3.00\\mu\\text{F}$, and $\\Delta V=20.0\\text{ V}$. Capacitor $C_1$ is first charged by the closing of switch $S_1$. Switch $S_1$ is then opened, and the charged capacitor is connected to the uncharged capacitor by the closing of $S_2$. Calculate the initial charge acquired by $C_1$ and the final charge on each capacitor.\n",
    "\n",
    "**a.**\n",
    "\n",
    "$Q_{1i}=C_1\\Delta V$\n",
    "$=6(20)=120\\;\\mu\\text{C}$\n",
    "\n",
    "**b.**\n",
    "\n",
    "$Q_{1i}=Q_{1f}+Q_{2f}$\n",
    "$\\implies Q_{2f}=Q_{1i}-Q_{1f}$\n",
    "\n",
    "$\\Delta V_1=\\Delta V_2$\n",
    "$\\implies\\frac{Q_{1f}}{C_1}=\\frac{Q_{2f}}{C_2}$\n",
    "\n",
    "$\\frac{Q_{1f}}{C_1}=\\frac{Q_{1i}-Q_{1f}}{C_2}$\n",
    "\n",
    "$Q_{1f}(\\frac{1}{C_1}+\\frac{1}{C_2})=\\frac{Q_{1i}}{C_2}$\n",
    "\n",
    "$Q_{1f}=\\frac{Q_{1i}}{C_2(\\frac{1}{C_1}+\\frac{1}{C_2})}$\n",
    "$=\\frac{Q_{1i}}{1+\\frac{C_2}{C_1}}$\n",
    "\n",
    "$Q_{1f}=\\frac{120}{1+\\frac{3}{6}}=80\\;\\mu\\text{C}$\n",
    "\n",
    "$Q_{2f}=120-80=40\\;\\mu\\text{C}$"
   ]
  },
  {
   "cell_type": "markdown",
   "metadata": {},
   "source": [
    "## 26.4 - Energy Stored in a Charged Capacitor"
   ]
  },
  {
   "cell_type": "markdown",
   "metadata": {},
   "source": [
    "**31.** (a) A $3.00\\mu\\text{F}$ capacitor is connected to a 12.0-V battery. How much energy is stored in the capacitor? (b) If the capacitor had been connected to a 6.00-V battery, how much energy would have been stored?\n",
    "\n",
    "**a.**\n",
    "\n",
    "$U_E=\\frac{1}{2}C(\\Delta V)^2$\n",
    "$=\\frac{1}{2}(3\\times10^{-6})(12)^2$\n",
    "$=2.16\\times10^{-4}\\text{ J}$\n",
    "\n",
    "**b.**\n",
    "\n",
    "$U_E=\\frac{1}{2}C(\\Delta V)^2$\n",
    "$=\\frac{1}{2}(3\\times10^{-6})(6)^2$\n",
    "$=5.4\\times10^{-5}\\text{ J}$"
   ]
  }
 ],
 "metadata": {
  "kernelspec": {
   "display_name": "Python 3",
   "language": "python",
   "name": "python3"
  },
  "language_info": {
   "codemirror_mode": {
    "name": "ipython",
    "version": 3
   },
   "file_extension": ".py",
   "mimetype": "text/x-python",
   "name": "python",
   "nbconvert_exporter": "python",
   "pygments_lexer": "ipython3",
   "version": "3.8.5"
  }
 },
 "nbformat": 4,
 "nbformat_minor": 5
}
