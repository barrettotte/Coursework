{
 "cells": [
  {
   "cell_type": "markdown",
   "metadata": {},
   "source": [
    "# Chapter 28 - Direct Current Circuits"
   ]
  },
  {
   "cell_type": "markdown",
   "metadata": {},
   "source": [
    "## 28.1 - Electromotive Force"
   ]
  },
  {
   "cell_type": "markdown",
   "metadata": {},
   "source": [
    "**1.** A battery has an emf of 15.0 V. The terminal voltage of the battery is 11.6 V when it is delivering 20.0 W of power to an external load resistor $R$. (a) What is the value of $R$? (b) What is the internal resistance of the battery?\n",
    "\n",
    "**a.**\n",
    "\n",
    "$P=\\frac{\\Delta V^2}{R}$\n",
    "$\\implies R=\\frac{\\Delta V^2}{P}$\n",
    "\n",
    "$R=\\frac{11.6^2}{20}=6.7\\;\\Omega$\n",
    "\n",
    "**b.**\n",
    "\n",
    "$I=\\frac{\\Delta V}{R}$\n",
    "$=\\frac{11.6}{6.7}=1.73\\text{ A}$\n",
    "\n",
    "$\\varepsilon=r(I)+R(I)$\n",
    "\n",
    "$r=\\frac{15-6.7(1.73)}{1.73}$\n",
    "$=2\\;\\Omega$"
   ]
  },
  {
   "cell_type": "markdown",
   "metadata": {},
   "source": [
    "**3.** Two 1.50 V batteries - with their positive terminals in the same direction - are inserted in series into the barrel of a flashlight. One battery has an internal resistance of $0.255\\Omega$, the other an internal resistance of $0.153\\Omega$, the other an internal resistance of $0.153\\Omega$. When the switch is closed, a current of 600 mA occurs in the lamp. (a) What is the lamp's resistance? (b) What fraction of the chemical energy transformed appears as internal energy in the batteries?\n",
    "\n",
    "**a.**\n",
    "\n",
    "$r=r_1+r_2$\n",
    "$=0.255+0.153=0.408\\;\\Omega$\n",
    "\n",
    "$\\varepsilon=\\varepsilon_1+\\varepsilon_2$\n",
    "$=1.5+1.5=3\\text{ V}$\n",
    "\n",
    "$\\varepsilon=r(I)+R(I)$\n",
    "\n",
    "$R=\\frac{\\varepsilon-r(I)}{I}$\n",
    "$=\\frac{3-0.408(0.6)}{0.6}$\n",
    "$=4.59\\;\\Omega$\n",
    "\n",
    "**b.**\n",
    "\n",
    "$E=I(r)$\n",
    "$=0.6(0.408)=0.245\\text{ V}$\n",
    "\n",
    "$\\frac{E}{\\varepsilon}=\\frac{0.245}{3}(100)=8.17\\%$"
   ]
  },
  {
   "cell_type": "markdown",
   "metadata": {},
   "source": [
    "## 28.2 - Resistors in Series and Parallel"
   ]
  },
  {
   "cell_type": "markdown",
   "metadata": {},
   "source": [
    "**5.** The current in a loop circuit that has a resistance of $R_1$ is 2.00 A. The current is reduced to 1.60 A when an additional resistor $R_2=3.00\\Omega$ is added in series with $R_1$. What is the value of $R_1$?\n",
    "\n",
    "$\\varepsilon=IR$\n",
    "$=I_2R_1+I_2R_2$\n",
    "\n",
    "$I_1R_1=I_2R_1+I_2R_2$\n",
    "\n",
    "$I_1R_1-I_2R_1=I_2R_2$\n",
    "\n",
    "$R_1=\\frac{I_2R_2}{I_1-I_2}$\n",
    "$=\\frac{1.6(3)}{2(1.6)}$\n",
    "$=12\\;\\Omega$"
   ]
  },
  {
   "cell_type": "markdown",
   "metadata": {},
   "source": [
    "**9.** Consider the circuit shown in Figure P28.9. Find (a) the current in the 20.0-$\\Omega$ resistor and (b) the potential difference between points $a$ and $b$."
   ]
  },
  {
   "cell_type": "markdown",
   "metadata": {},
   "source": [
    "**11.** Three $100\\Omega$ resistors are connected as shown in Figure P28.11. The maximum power that can safely be delivered to any one resistor is 25.0 W. (a) What is the maximum voltage that can be applied to the terminals $a$ and $b$? For the voltage determined in part a, what is the power delivered to each resistor? What is the total power delivered?"
   ]
  },
  {
   "cell_type": "markdown",
   "metadata": {},
   "source": [
    "**15.** Calculate the power delivered to each resistor in the circuit shown in Figure P28.15"
   ]
  },
  {
   "cell_type": "markdown",
   "metadata": {},
   "source": [
    "## 28.3 - Kirchhoff's Rules"
   ]
  },
  {
   "cell_type": "markdown",
   "metadata": {},
   "source": [
    "**21.** Determine the current in each branch of the circuit shown in Figure P28.21"
   ]
  },
  {
   "cell_type": "markdown",
   "metadata": {},
   "source": [
    "**23.** The circuit considered in problem 21 and shown in Figure P28.21 is connected for 2.00 min. (a) Find the energy delivered by each battery. (b) Find the energy delivered to each resistor. (c) Identify the net energy transformation that occurs in the operation of the circuit and the total amount of energy transformed."
   ]
  },
  {
   "cell_type": "markdown",
   "metadata": {},
   "source": [
    "**25.** Taking $R=1.00\\text{ k}\\Omega$ and $\\varepsilon=250\\text{ V}$ in Figure P28.25, determine the direction and magnitude of the current in the horizontal wire between $a$ and $e$."
   ]
  },
  {
   "cell_type": "markdown",
   "metadata": {},
   "source": [
    "**27.** A dead battery is charged by connecting it to the live battery of another car with jumper cables (Fig. P28.27). Determine the current in the starter and in the dead battery."
   ]
  },
  {
   "cell_type": "markdown",
   "metadata": {},
   "source": [
    "**29.** For the circuit shown in Figure P28.29, calculate (a) the current in the 2.00-$\\Omega$ resistor and (b) the potential difference between points $a$ and $b$."
   ]
  },
  {
   "cell_type": "markdown",
   "metadata": {},
   "source": [
    "## 28.4 - RC Circuits"
   ]
  },
  {
   "cell_type": "markdown",
   "metadata": {},
   "source": [
    "**31.** Consider a series RC circuit (see Fig. 28.19) for which $R=1.00\\text{ M}\\Omega$, $C=5.00\\mu\\text{F}$, and $\\varepsilon=30.0\\text{ V}$. Find (a) the time constant of the circuit and (B) the maximum charge on the capacitor after the switch is closed. (c) Find the current in the resistor 10.0 s after the switch is closed."
   ]
  },
  {
   "cell_type": "markdown",
   "metadata": {},
   "source": [
    "**33.** A fully charged capacitor stores energy $U_0$. How much energy remains when its charge has decreased to half its original value?"
   ]
  },
  {
   "cell_type": "markdown",
   "metadata": {},
   "source": [
    "**37.** The circuit in Figure P28.37 has been connected for a long time. (a) What is the voltage across the capacitor? (b) If the battery is disconnected, how long does it take the capacitor to discharge one tenth of its initial voltage?"
   ]
  }
 ],
 "metadata": {
  "kernelspec": {
   "display_name": "Python 3",
   "language": "python",
   "name": "python3"
  },
  "language_info": {
   "codemirror_mode": {
    "name": "ipython",
    "version": 3
   },
   "file_extension": ".py",
   "mimetype": "text/x-python",
   "name": "python",
   "nbconvert_exporter": "python",
   "pygments_lexer": "ipython3",
   "version": "3.8.5"
  }
 },
 "nbformat": 4,
 "nbformat_minor": 5
}
