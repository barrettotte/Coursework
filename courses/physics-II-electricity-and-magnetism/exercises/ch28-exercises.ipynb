{
 "cells": [
  {
   "cell_type": "markdown",
   "id": "executed-north",
   "metadata": {},
   "source": [
    "# Chapter 28 - Direct Current Circuits"
   ]
  },
  {
   "cell_type": "markdown",
   "id": "amended-liberia",
   "metadata": {},
   "source": [
    "## 28.1 - Electromotive Force"
   ]
  },
  {
   "cell_type": "markdown",
   "id": "thermal-freeze",
   "metadata": {},
   "source": []
  },
  {
   "cell_type": "markdown",
   "id": "burning-prison",
   "metadata": {},
   "source": []
  },
  {
   "cell_type": "markdown",
   "id": "documentary-supplement",
   "metadata": {},
   "source": []
  },
  {
   "cell_type": "markdown",
   "id": "transsexual-naples",
   "metadata": {},
   "source": [
    "## 28.2 - Resistors in Series and Parallel"
   ]
  },
  {
   "cell_type": "markdown",
   "id": "ambient-manchester",
   "metadata": {},
   "source": []
  },
  {
   "cell_type": "markdown",
   "id": "joint-lebanon",
   "metadata": {},
   "source": []
  },
  {
   "cell_type": "markdown",
   "id": "brown-farming",
   "metadata": {},
   "source": []
  },
  {
   "cell_type": "markdown",
   "id": "native-islam",
   "metadata": {},
   "source": [
    "## 28.3 - Kirchhoff's Rules"
   ]
  },
  {
   "cell_type": "markdown",
   "id": "silent-national",
   "metadata": {},
   "source": []
  },
  {
   "cell_type": "markdown",
   "id": "anonymous-hudson",
   "metadata": {},
   "source": []
  },
  {
   "cell_type": "markdown",
   "id": "valid-magazine",
   "metadata": {},
   "source": []
  },
  {
   "cell_type": "markdown",
   "id": "agreed-appliance",
   "metadata": {},
   "source": [
    "## 28.4 - RC Circuits"
   ]
  },
  {
   "cell_type": "markdown",
   "id": "identified-composition",
   "metadata": {},
   "source": []
  },
  {
   "cell_type": "markdown",
   "id": "straight-princess",
   "metadata": {},
   "source": []
  },
  {
   "cell_type": "markdown",
   "id": "disturbed-alberta",
   "metadata": {},
   "source": []
  },
  {
   "cell_type": "markdown",
   "id": "central-injection",
   "metadata": {},
   "source": [
    "## 28.5 - Electrical Meters"
   ]
  },
  {
   "cell_type": "markdown",
   "id": "retired-model",
   "metadata": {},
   "source": []
  },
  {
   "cell_type": "markdown",
   "id": "educational-socket",
   "metadata": {},
   "source": []
  },
  {
   "cell_type": "markdown",
   "id": "martial-reset",
   "metadata": {},
   "source": []
  },
  {
   "cell_type": "markdown",
   "id": "modified-budapest",
   "metadata": {},
   "source": [
    "## 28.6 - Household Wiring and Electrical Safety"
   ]
  },
  {
   "cell_type": "markdown",
   "id": "level-coffee",
   "metadata": {},
   "source": []
  },
  {
   "cell_type": "markdown",
   "id": "blocked-atlantic",
   "metadata": {},
   "source": []
  }
 ],
 "metadata": {
  "kernelspec": {
   "display_name": "Python 3",
   "language": "python",
   "name": "python3"
  },
  "language_info": {
   "codemirror_mode": {
    "name": "ipython",
    "version": 3
   },
   "file_extension": ".py",
   "mimetype": "text/x-python",
   "name": "python",
   "nbconvert_exporter": "python",
   "pygments_lexer": "ipython3",
   "version": "3.6.5"
  }
 },
 "nbformat": 4,
 "nbformat_minor": 5
}
