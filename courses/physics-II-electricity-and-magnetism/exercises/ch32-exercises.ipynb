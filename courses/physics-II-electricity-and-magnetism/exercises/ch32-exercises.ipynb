{
 "cells": [
  {
   "cell_type": "markdown",
   "metadata": {},
   "source": [
    "# Chapter 32 - Inductance"
   ]
  },
  {
   "cell_type": "markdown",
   "metadata": {},
   "source": [
    "## 32.1 - Self-Inductance"
   ]
  },
  {
   "cell_type": "markdown",
   "metadata": {},
   "source": [
    "**1.** A coil has an inductance of $3.00\\text{ mH}$, and the current in it changes from $0.200\\text{ A}$ to $1.50\\text{ A}$ in a times of $0.200\\text{ s}$. Find the magnitude of the average induced emf in the coil during this time.\n",
    "\n",
    "$\\varepsilon=L\\frac{dI}{dt}$\n",
    "$=0.003\\frac{1.5-0.2}{0.2}$\n",
    "$=19.5\\text{ mV}$"
   ]
  },
  {
   "cell_type": "markdown",
   "metadata": {},
   "source": [
    "**3.** A $2.00\\text{-H}$ inductor carries a steady current of $0.500\\text{ A}$. When the switch in the circuit is opened, the current is effectively zero after $10.0\\text{ ms}$. What is the average induced emf in the inductor during this time?\n",
    "\n",
    "$\\varepsilon=-L\\frac{dI}{dt}$\n",
    "$=-2\\frac{0-0.5}{0.1}$\n",
    "$=100\\text{ V}$"
   ]
  },
  {
   "cell_type": "markdown",
   "metadata": {},
   "source": [
    "**7.** An inductor in the form of a solenoid contains 420 turns, is 16.0 cm in length, and has a cross-sectional area of $3.00\\text{ cm}^2$. What uniform rate of decrease of current through the inductor induces an emf of $175\\;\\mu\\text{V}$?\n",
    "\n",
    "$L=\\mu_0\\frac{N^2}{l}A$\n",
    "$=(4\\pi\\times10^{-7})(\\frac{420^2}{0.16})(0.03)$\n",
    "$=0.416\\text{ mH}$\n",
    "\n",
    "$\\varepsilon=-L\\frac{dI}{dt}$\n",
    "$\\implies \\frac{dI}{dt}=-\\frac{\\varepsilon}{L}$\n",
    "$=-\\frac{175}{0.416}=-0.42\\text{ A/s}$\n"
   ]
  },
  {
   "cell_type": "markdown",
   "metadata": {},
   "source": [
    "## 32.3 - Energy in a Magnetic Field"
   ]
  },
  {
   "cell_type": "markdown",
   "metadata": {},
   "source": [
    "**29.** Calculate the energy associated with the magnetic field of a 200-turn solenoid in which a current of $1.75\\text{ A}$ produces a flux of $3.70\\times10^{-4}\\text{ Wb}$ in each turn.\n",
    "\n",
    "$U=\\frac{1}{2}LI^2,\\quad L=\\frac{N\\Phi}{I}$\n",
    "\n",
    "$U=\\frac{1}{2}N\\Phi I$\n",
    "\n",
    "$U=\\frac{1}{2}200(3.7\\times10^{-4})(1.75)=6.47\\text{ mJ}$"
   ]
  },
  {
   "cell_type": "markdown",
   "metadata": {},
   "source": [
    "**31.** An air-core solenoid with 68 turns is 8.00 cm long and has a diameter of 1.20 cm. How much energy is stored in its magnetic field when it carries a current of $0.770\\text{ A}$?\n",
    "\n",
    "$L=\\mu_0\\frac{N^2}{l}A$\n",
    "$=\\mu_0\\frac{N^2}{l}(\\pi r^2)$\n",
    "\n",
    "$L=(4\\pi\\times10^{-7})\\frac{68^2}{0.08}\\pi(0.006)^2$\n",
    "$=8.215\\times10^{-6}\\text{ H}$\n",
    "\n",
    "$U_B=\\frac{1}{2}Li^2$\n",
    "$=\\frac{1}{2}(8.215\\times10^{-6})(0.77)^2$\n",
    "$=2.44\\times10^{-6}\\text{ J}$"
   ]
  },
  {
   "cell_type": "markdown",
   "metadata": {},
   "source": [
    "**33.** On a clear day at a certain location, a 100-V/m vertical electric field exists near the Earth's surface. At the same place, the Earth's magnetic field has a magnitude of $0.500\\times10^{-4}\\text{ T}$. Compute the energy densities of the two fields.\n",
    "\n",
    "$\\mu_E=\\frac{1}{2}\\epsilon_0E^2$\n",
    "$=\\frac{1}{2}(8.8542\\times10^{-12})(100)^2$\n",
    "$4.43\\times10^{-8}\\text{ J/m}^3$\n",
    "\n",
    "$\\mu_B=\\frac{B^2}{2\\mu_0}$\n",
    "$=\\frac{(0.5\\times10^{-4})^2}{2(4\\pi\\times10^{-7})}$\n",
    "$=9.95\\times10^{-4}\\text{ J/m}^3$"
   ]
  },
  {
   "cell_type": "markdown",
   "metadata": {},
   "source": [
    "## 32.4 - Mutual Inductance"
   ]
  },
  {
   "cell_type": "markdown",
   "metadata": {},
   "source": [
    "**41.** An emf of $96.0\\text{ mV}$ is induced in the windings of a coil when the current in a nearby coil is increasing at the rate of $1.20\\text{ A/s}$. What is the mutual inductance of the two coils?\n",
    "\n",
    "$\\varepsilon-M\\frac{dI}{dt}$\n",
    "$\\implies M=-\\frac{\\varepsilon}{dI/dt}$\n",
    "\n",
    "$M=\\frac{-0.096}{1.2}=-80\\text{ mH}$"
   ]
  },
  {
   "cell_type": "markdown",
   "metadata": {},
   "source": [
    "**43.** Two solenoids $A$ and $B$, spaced close to each other and sharing the same cylindrical axis, have 400 and 700 turns, respectively. A current of $3.50\\text{ A}$ in coil $A$ produces an average flux of $300\\;\\mu\\text{Wb}$ through each turn of $B$. (a) Calculate the mutual inductance of the two solenoids. (b) What is the self-inductance of $A$? (c) What emf is induced in $B$ when the current in $A$ increases at the rate of $0.500\\text{ A/s}$?\n",
    "\n",
    "\n",
    "**a.**\n",
    "\n",
    "$M=\\frac{N_B\\Phi_{AB}}{i_A}$\n",
    "$=\\frac{700(90\\times10^{-6})}{3.5}$\n",
    "$=0.018\\text{ H}$\n",
    "\n",
    "**b.**\n",
    "\n",
    "$L_A=\\frac{N_A\\Phi_{BA}}{i_A}$\n",
    "$=\\frac{400(300\\times10^{-6})}{3.5}$\n",
    "$=34.3\\times10^{-3}\\text{ H}$\n",
    "\n",
    "**c.**\n",
    "\n",
    "$\\varepsilon_B=-M\\frac{dI}{dt}$\n",
    "$=-(0.018)(0.5)$\n",
    "$=-0.009\\text{ V}$"
   ]
  }
 ],
 "metadata": {
  "kernelspec": {
   "display_name": "Python 3",
   "language": "python",
   "name": "python3"
  },
  "language_info": {
   "codemirror_mode": {
    "name": "ipython",
    "version": 3
   },
   "file_extension": ".py",
   "mimetype": "text/x-python",
   "name": "python",
   "nbconvert_exporter": "python",
   "pygments_lexer": "ipython3",
   "version": "3.8.5"
  }
 },
 "nbformat": 4,
 "nbformat_minor": 5
}
