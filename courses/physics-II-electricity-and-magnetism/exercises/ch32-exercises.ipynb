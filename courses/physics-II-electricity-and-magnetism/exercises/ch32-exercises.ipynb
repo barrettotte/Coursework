{
 "cells": [
  {
   "cell_type": "markdown",
   "metadata": {},
   "source": [
    "# Chapter 32 - Inductance"
   ]
  },
  {
   "cell_type": "markdown",
   "metadata": {},
   "source": [
    "## 32.1 - Self-Inductance"
   ]
  },
  {
   "cell_type": "markdown",
   "metadata": {},
   "source": [
    "**1.** A coil has an inductance of $3.00\\text{ mH}$, and the current in it changes from $0.200\\text{ A}$ to $1.50\\text{ A}$ in a times of $0.200\\text{ s}$. Find the magnitude of the average induced emf in the coil during this time."
   ]
  },
  {
   "cell_type": "markdown",
   "metadata": {},
   "source": [
    "**3.** A $2.00\\text{-H}$ inductor carries a steady current of $0.500\\text{ A}$. When the switch in the circuit is opened, the current is effectively zero after $10.0\\text{ ms}$. What is the average induced emf in the inductor during this time?"
   ]
  },
  {
   "cell_type": "markdown",
   "metadata": {},
   "source": [
    "**7.** An inductor in the form of a solenoid contains 420 turns, is 16.0 cm in length, and has a cross-sectional area of $3.00\\text{ cm}^2$. What uniform rate of decrease of current through the inductor induces an emf of $175\\;\\mu\\text{V}$?"
   ]
  },
  {
   "cell_type": "markdown",
   "metadata": {},
   "source": [
    "**9.** A $40.0\\text{-mA}$ current is carried by a uniformly wound air-core solenoid with 450 turns, a 15.0 mm diameter, and 12.0 cm length. Compute (a) the magnetic field inside the solenoid, (b) the magnetic flux through each turn, and (c) the inductance of the solenoid. (d) If the current were different, which of these quanities would change?"
   ]
  },
  {
   "cell_type": "markdown",
   "metadata": {},
   "source": [
    "## 32.2 - RL Circuits"
   ]
  },
  {
   "cell_type": "markdown",
   "metadata": {},
   "source": [
    "**15.** A $12.0\\text{-V}$ battery is connected into a series circuit containing a $10.0\\;\\Omega$ resistor and a $2.00\\text{-H}$ inductor. How long will it take the current to reach (a) 50.0% and (b) 90.0% of its final value?"
   ]
  },
  {
   "cell_type": "markdown",
   "metadata": {},
   "source": [
    "**19.** For the RL circuit shown in Figure P32.17, let the inductance be $3.00\\text{-H}$, the resistance $8.00\\;\\Omega$, and the battery emf 36.0 V. (a) Calculate the ratio of the potential difference across the resistor to that across the inductor when the current is $2.00\\text{ A}$. (b) Calculate the voltage across the inductor when the current is $4.50\\text{ A}$."
   ]
  },
  {
   "cell_type": "markdown",
   "metadata": {},
   "source": [
    "## 32.3 - Energy in a Magnetic Field"
   ]
  },
  {
   "cell_type": "markdown",
   "metadata": {},
   "source": [
    "**29.** Calculate the energy associated with the magnetic field of a 200-turn solenoid in which a current of $1.75\\text{ A}$ produces a flux of $3.70\\times10^{-4}\\text{ Wb}$ in each turn."
   ]
  },
  {
   "cell_type": "markdown",
   "metadata": {},
   "source": [
    "**31.** An air-core solenoid with 68 turns is 8.00 cm long and has a diameter of 1.20 cm. How much energy is stored in its magnetic field when it carries a current of $0.770\\text{ A}$?"
   ]
  },
  {
   "cell_type": "markdown",
   "metadata": {},
   "source": [
    "**33.** On a clear day at a certain location, a 100-V/m vertical electric field exists near the Earth's surface. At the same place, the Earth's magnetic field has a magnitude of $0.500\\times10^{-4}\\text{ T}$. Compute the energy densities of the two fields."
   ]
  },
  {
   "cell_type": "markdown",
   "metadata": {},
   "source": [
    "## 32.4 - Mutual Inductance"
   ]
  },
  {
   "cell_type": "markdown",
   "metadata": {},
   "source": [
    "**41.** An emf of $96.0\\text{ mV}$ is induced in the windings of a coil when the current in a nearby coil is increasing at the rate of $1.20\\text{ A/s}$. What is the mutual inductance of the two coils?"
   ]
  },
  {
   "cell_type": "markdown",
   "metadata": {},
   "source": [
    "**43.** Two solenoids $A$ and $B$, spaced close to each other and sharing the same cylindrical axis, have 400 and 700 turns, respectively. A current of $3.50\\text{ A}$ in coil $A$ produces an average flux of $300\\;\\mu\\text{Wb}$ through each turn of $B$. (a) Calculate the mutual inductance of the two solenoids. (b) What is the self-inductance of $A$? (c) What emf is induced in $B$ when the current in $A$ increases at the rate of $0.500\\text{ A/s}$?"
   ]
  },
  {
   "cell_type": "markdown",
   "metadata": {},
   "source": [
    "## 32.5 - Oscillations in an LC Circuit"
   ]
  },
  {
   "cell_type": "markdown",
   "metadata": {},
   "source": [
    "**49.** A fixed inductance $L=1.05\\;\\mu\\text{H}$ is used in series with a variable capacitor in the tuning section of a radiotelephone on a ship. What capactiance tunes the circuit to the signal from a transmitter broadcasting at 6.30 MGz?"
   ]
  },
  {
   "cell_type": "markdown",
   "metadata": {},
   "source": [
    "## 32.6 - The RLC Circuit"
   ]
  },
  {
   "cell_type": "markdown",
   "metadata": {},
   "source": [
    "**55.** Consider an LC circuit in which $L=500\\text{ mH}$, and $C=1.80\\;\\mu\\text{F}$. (a) Calculate the frequency of the damped oscillation of the circuit. (b) What is the critical resistance?"
   ]
  }
 ],
 "metadata": {
  "kernelspec": {
   "display_name": "Python 3",
   "language": "python",
   "name": "python3"
  },
  "language_info": {
   "codemirror_mode": {
    "name": "ipython",
    "version": 3
   },
   "file_extension": ".py",
   "mimetype": "text/x-python",
   "name": "python",
   "nbconvert_exporter": "python",
   "pygments_lexer": "ipython3",
   "version": "3.8.5"
  }
 },
 "nbformat": 4,
 "nbformat_minor": 5
}
