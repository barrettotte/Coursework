{
 "cells": [
  {
   "cell_type": "markdown",
   "metadata": {},
   "source": [
    "# Chapter 27 - Current and Resistance"
   ]
  },
  {
   "cell_type": "markdown",
   "metadata": {},
   "source": [
    "## 27.1 - Electric Current"
   ]
  },
  {
   "cell_type": "markdown",
   "metadata": {},
   "source": [
    "**1.** In a particular cathode ray tube, the measured beam current is $30.0 \\mu\\text{A}$. How many electrons strike the tube screen every 40.0 s?\n",
    "\n",
    "$Q=I\\Delta t$\n",
    "\n",
    "$n(q)=I\\Delta t$\n",
    "$\\implies n=\\frac{I\\Delta t}{q}$\n",
    "\n",
    "$n=\\frac{(30\\times10^{-6})(40)}{1.6\\times10^{-19}}$\n",
    "$=750\\times10^{13}$ electrons"
   ]
  },
  {
   "cell_type": "markdown",
   "metadata": {},
   "source": [
    "**3.** Suppose that the current through a conductor decreases exponentially with time according to the equation $I(t)=I_0e^{-t/\\tau}$ where $I_0$ is the initial current (at $t=0$), and $\\tau$ is a constant having dimensions of time. Consider a fixed observation point within the conductor. (a) How much charge passes this point between $t=0$ and $t=\\tau$? (b) How much charge passes this point between $t=0$ and $t=10\\tau$? (c) How much charge passes this point between $t=0$ and $t=\\infty$ ?\n",
    "\n",
    "**a.**\n",
    "\n",
    "$\\displaystyle Q=\\int_0^\\tau Idt$\n",
    "$\\displaystyle =\\int_0^\\tau I_0e^{-t/\\tau}dt$\n",
    "\n",
    "$\\displaystyle=I_0\\int_0^\\tau e^{-t/\\tau}dt$\n",
    "$=I_0\\left[\\frac{e^{-t/\\tau}}{-1/\\tau}\\right]_0^\\tau$\n",
    "\n",
    "$=-I_0\\tau[e^{-t/\\tau}\\bigr]_0^\\tau$\n",
    "$=-I_0\\tau(e^{-1}-1)$\n",
    "$=I_0\\tau(1-\\frac{1}{e})$\n",
    "\n",
    "$Q=0.632I_0\\tau$\n",
    "\n",
    "**b.**\n",
    "\n",
    "$\\displaystyle Q=\\int_0^{10\\tau}I_0e^{-t/\\tau}dt$\n",
    "\n",
    "$=I_0\\left[e^{-t/\\tau}\\right]_0^{10\\tau}$\n",
    "$=-I_0\\tau(e^{-10}-1)$\n",
    "\n",
    "$Q=0.99995I_0\\tau$\n",
    "\n",
    "**c.**\n",
    "\n",
    "$\\displaystyle \\int_0^\\infty I_0e^{-t/\\tau}dt$\n",
    "\n",
    "$=I_0\\left[e^{-t/\\tau}\\right]_0^\\infty$\n",
    "$=-I_0\\tau(0-1)=I_0\\tau$"
   ]
  },
  {
   "cell_type": "markdown",
   "metadata": {},
   "source": [
    "**7.** An electric current is given by the expression $I(t)=100\\sin(120\\pi t)$, where $I$ is in amperes and $t$ is in seconds. What is the total charge carried by the current from $t=0$ to $t=(1/240)\\text{ s}$ ?\n",
    "\n",
    "$\\displaystyle Q=\\int_0^{1/240} 100\\sin(120\\pi t)dt$\n",
    "$\\displaystyle =100\\int_0^{1/240}\\sin(120\\pi t)dt$\n",
    "\n",
    "$Q=-\\frac{100}{120\\pi}\\left[\\cos(120\\pi t)\\right]_0^{1/240}$\n",
    "$=-\\frac{100}{120\\pi}(\\cos(\\frac{\\pi}{2})-\\cos(0))$\n",
    "$=\\frac{100}{120\\pi}$\n",
    "\n",
    "$Q=0.265\\text{ C}$"
   ]
  },
  {
   "cell_type": "markdown",
   "metadata": {},
   "source": [
    "## 27.2 - Resistance"
   ]
  },
  {
   "cell_type": "markdown",
   "metadata": {},
   "source": [
    "**13.** A lightbulb has a resistance $250\\Omega$ when operating with a potential difference of 120 V across it. What is the current in the lightbulb?\n",
    "\n",
    "$I=\\frac{\\Delta V}{R}$\n",
    "$=\\frac{120}{240}=0.5\\text{ A}$"
   ]
  },
  {
   "cell_type": "markdown",
   "metadata": {},
   "source": [
    "**15.** A 0.900 V potential difference is maintained across a 1.50 m length of tungsten wire that has a cross-sectional area of $0.600 mm^2$. What is the current in the wire?\n",
    "\n",
    "$R=\\frac{\\rho L}{A}$\n",
    "\n",
    "$I=\\frac{\\Delta V}{R}$\n",
    "$=\\frac{\\Delta V A}{\\rho L}$\n",
    "\n",
    "$I=\\frac{0.9(0.6\\times10^{-6})}{(5.6\\times10^{-8})(1.5)}=6.43\\text{ A}$"
   ]
  },
  {
   "cell_type": "markdown",
   "metadata": {},
   "source": [
    "## 27.4 - Resistance and Temperature"
   ]
  },
  {
   "cell_type": "markdown",
   "metadata": {},
   "source": [
    "**29.** A certain lightbulb has a tungsten filament with a resistance of $19.0\\Omega$ when cold and $140\\Omega$ when hot. Assume that the resistivity of tungsten varies linearly with temperature even over the large temperature range involved here, and find the temperature of the hot filament. Assume the initial temperature is $20.0^\\circ\\text{ C}$\n",
    "\n",
    "$R=R_0(1+\\alpha(T-T_0))$\n",
    "$=R_0+\\alpha R_0T-\\alpha R_0T_0$\n",
    "\n",
    "$\\alpha R_0T=R-R_0+\\alpha R_0T_0$\n",
    "\n",
    "$T=\\frac{R-R_0+\\alpha R_0T_0}{\\alpha R_0}$\n",
    "$=\\frac{140-19+(4.5\\times10^{-3})(19)(20)}{(4.5\\times10^{-3})(19)}$\n",
    "$=1.45\\times10^3\\;^\\circ\\text{C}$"
   ]
  },
  {
   "cell_type": "markdown",
   "metadata": {},
   "source": [
    "## 27.6 - Electrical Power"
   ]
  },
  {
   "cell_type": "markdown",
   "metadata": {},
   "source": [
    "**37.** A Van de Graff generator (see Figure 25.29) is operating so that the potential difference between the high-voltage electrode B and the charging needles at A is 15.0 kV. Calculate the power required to drive the belt against electrical forces at an instant when the effective current delivered to the high voltage electrode is $500\\mu\\text{A}$\n",
    "\n",
    "$P=I\\Delta V$\n",
    "$=(5\\times 10^{-4})(15\\times10^3)$\n",
    "$=7.5\\text{ W}$"
   ]
  },
  {
   "cell_type": "markdown",
   "metadata": {},
   "source": [
    "**39.** What is the required resistance of an immersion heater that increases the temperature of 1.50 kg of water from $10.0^\\circ\\text{C}$ to $50.0^\\circ\\text{C}$ in 10.0 min while operating at 110 V?\n",
    "\n",
    "$I=\\frac{\\Delta V}{R}$\n",
    "\n",
    "$P=VI=\\frac{\\Delta V}{R}$\n",
    "\n",
    "$E=IVt=Pt=\\frac{\\Delta V^2t}{R}=Q=mc\\Delta T$\n",
    "\n",
    "$R=\\frac{\\Delta V^2t}{mc\\Delta T}$\n",
    "$=\\frac{(110)^2(600)}{1.5(4200)(40)}$\n",
    "$=28.8095\\;\\Omega$\n"
   ]
  },
  {
   "cell_type": "markdown",
   "metadata": {},
   "source": [
    "**45.** A 10.0-V battery is connected to a 120$\\Omega$ resistor. Ignoring the internal resistance of the battery, calculate the power delivered to the resistor.\n",
    "\n",
    "$I=\\frac{\\Delta V}{R}$\n",
    "\n",
    "$P=VI=\\frac{\\Delta V^2}{R}$\n",
    "$=\\frac{(10)^2}{120}=0.8333\\text{ W}$"
   ]
  },
  {
   "cell_type": "markdown",
   "metadata": {},
   "source": [
    "**49.** Compute the cost per day of operating a lamp that draws a current of 1.70 A from a 110-V line. Assume the cost of energy from the power company is $0.0060 / kWh.\n",
    "\n",
    "$E=IVt$\n",
    "$=1.7(110)(24)$\n",
    "$=4488\\text{ Wh}=4.488\\text{ kWh}$\n",
    "\n",
    "$C=4.488(0.06)=\\$0.269$"
   ]
  }
 ],
 "metadata": {
  "kernelspec": {
   "display_name": "Python 3",
   "language": "python",
   "name": "python3"
  },
  "language_info": {
   "codemirror_mode": {
    "name": "ipython",
    "version": 3
   },
   "file_extension": ".py",
   "mimetype": "text/x-python",
   "name": "python",
   "nbconvert_exporter": "python",
   "pygments_lexer": "ipython3",
   "version": "3.8.5"
  }
 },
 "nbformat": 4,
 "nbformat_minor": 5
}
