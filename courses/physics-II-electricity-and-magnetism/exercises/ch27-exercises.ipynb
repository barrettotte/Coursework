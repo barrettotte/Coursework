{
 "cells": [
  {
   "cell_type": "markdown",
   "id": "recent-means",
   "metadata": {},
   "source": [
    "# Chapter 27 - Current and Resistance"
   ]
  },
  {
   "cell_type": "markdown",
   "id": "earned-light",
   "metadata": {},
   "source": [
    "## 27.1 - Electric Current"
   ]
  },
  {
   "cell_type": "markdown",
   "id": "universal-smooth",
   "metadata": {},
   "source": []
  },
  {
   "cell_type": "markdown",
   "id": "adult-idaho",
   "metadata": {},
   "source": []
  },
  {
   "cell_type": "markdown",
   "id": "sustainable-extraction",
   "metadata": {},
   "source": []
  },
  {
   "cell_type": "markdown",
   "id": "danish-basin",
   "metadata": {},
   "source": [
    "## 27.2 - Resistance"
   ]
  },
  {
   "cell_type": "markdown",
   "id": "still-budget",
   "metadata": {},
   "source": []
  },
  {
   "cell_type": "markdown",
   "id": "positive-stranger",
   "metadata": {},
   "source": []
  },
  {
   "cell_type": "markdown",
   "id": "worse-scanning",
   "metadata": {},
   "source": []
  },
  {
   "cell_type": "markdown",
   "id": "presidential-garlic",
   "metadata": {},
   "source": [
    "## 27.3 - A Model for Electrical Conduction"
   ]
  },
  {
   "cell_type": "markdown",
   "id": "psychological-european",
   "metadata": {},
   "source": []
  },
  {
   "cell_type": "markdown",
   "id": "touched-price",
   "metadata": {},
   "source": []
  },
  {
   "cell_type": "markdown",
   "id": "rough-priority",
   "metadata": {},
   "source": [
    "## 27.4 - Resistance and Temperature"
   ]
  },
  {
   "cell_type": "markdown",
   "id": "moderate-mississippi",
   "metadata": {},
   "source": []
  },
  {
   "cell_type": "markdown",
   "id": "heated-passport",
   "metadata": {},
   "source": []
  },
  {
   "cell_type": "markdown",
   "id": "found-worth",
   "metadata": {},
   "source": []
  },
  {
   "cell_type": "markdown",
   "id": "variable-found",
   "metadata": {},
   "source": [
    "## 27.6 - Electrical Power"
   ]
  },
  {
   "cell_type": "markdown",
   "id": "conceptual-minneapolis",
   "metadata": {},
   "source": []
  },
  {
   "cell_type": "markdown",
   "id": "prostate-uniform",
   "metadata": {},
   "source": []
  },
  {
   "cell_type": "markdown",
   "id": "antique-sarah",
   "metadata": {},
   "source": []
  }
 ],
 "metadata": {
  "kernelspec": {
   "display_name": "Python 3",
   "language": "python",
   "name": "python3"
  },
  "language_info": {
   "codemirror_mode": {
    "name": "ipython",
    "version": 3
   },
   "file_extension": ".py",
   "mimetype": "text/x-python",
   "name": "python",
   "nbconvert_exporter": "python",
   "pygments_lexer": "ipython3",
   "version": "3.6.5"
  }
 },
 "nbformat": 4,
 "nbformat_minor": 5
}
