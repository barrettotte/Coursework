{
 "cells": [
  {
   "cell_type": "markdown",
   "metadata": {},
   "source": [
    "# Chapter 33 - Alternating Current Circuits"
   ]
  },
  {
   "cell_type": "markdown",
   "metadata": {},
   "source": [
    "## 33.1 - AC Sources, 33.2 - Resistors in an AC Circuit"
   ]
  },
  {
   "cell_type": "markdown",
   "metadata": {},
   "source": [
    "**1.** The rms output voltage of an AC source is $200\\text{ V}$ and the operating frequency is $100\\text{ Hz}$. Write the equation giving the output voltage as a function of time."
   ]
  },
  {
   "cell_type": "markdown",
   "metadata": {},
   "source": [
    "**3.** An AC power supply produces a maximum voltage $\\Delta V_\\text{max}=100\\text{ V}$. This power supply is connected to a $24.0\\;\\Omega$ resistor, and the current and resistor voltage are measured with an ideal AC ammeter and voltmeter, as shown in Figure P33.3. What does each meter read? Note that an ideal ammeter has zero resistance and that an ideal voltmeter has infinite resistor."
   ]
  },
  {
   "cell_type": "markdown",
   "metadata": {},
   "source": [
    "**5.** The current in the circuit shown in Figure 33.2 equals 60.0% of the peak current at $t=7.00\\text{ ms}$. What is the smallest frequency of the source that gives this current?"
   ]
  },
  {
   "cell_type": "markdown",
   "metadata": {},
   "source": [
    "## 33.3 - Inductors in an AC Circuit"
   ]
  },
  {
   "cell_type": "markdown",
   "metadata": {},
   "source": [
    "**9.** In a purely inductive AC circuit, as shown in Figure 33.6, $\\Delta V_\\text{max}=100\\text{ V}$. (a) The maximum current is $7.50\\text{ A}$ at $50.0\\text{ Hz}$. Calculate the inductance $L$. (b) At what angular frequency $\\omega$ is the maximum current $2.50\\text{ A}$?"
   ]
  },
  {
   "cell_type": "markdown",
   "metadata": {},
   "source": [
    "**11.** For the circuit shown in Figure 33.6, $\\Delta V_\\text{max}=80.0\\text{ V}$, $\\omega=65.0\\pi\\text{ rad/s}$, and $L=70.0\\text{ mH}$. Calculate the current in the inductor at $t=15.5\\text{ ms}$."
   ]
  },
  {
   "cell_type": "markdown",
   "metadata": {},
   "source": [
    "## 33.4 - Capacitors in an AC Circuit"
   ]
  },
  {
   "cell_type": "markdown",
   "metadata": {},
   "source": [
    "**15.** What is the maximum current in a $2.20\\;\\mu\\text{F}$ capacitor when it is connected across (a) a North American electrical outlet having $\\Delta V_\\text{rms}=120\\text{ V}$, $f=60.0\\text{ Hz}$, and (b) a European electrical outlet having $\\Delta V_\\text{rms}=240\\text{ V}$, $f=50.0\\text{ Hz}$?"
   ]
  },
  {
   "cell_type": "markdown",
   "metadata": {},
   "source": [
    "**17.** What maximum current is delivered by an AC source with $\\Delta V_\\text{max}=48.0\\text{ V}$ and $f=90.0\\text{ Hz}$ when connected across a $3.70\\;\\mu\\text{F}$ capacitor?"
   ]
  },
  {
   "cell_type": "markdown",
   "metadata": {},
   "source": [
    "## 33.5 - The RLC Series Circuit"
   ]
  },
  {
   "cell_type": "markdown",
   "metadata": {},
   "source": [
    "**19.** An inductor $(L=400\\text{ mH})$, a capacitor $(C=4.43\\;\\mu\\text{F})$, and a resistor $(R=500\\;\\Omega)$ are connected in series. A 50.0-Hz AC source produces a peak current of 250 mA in the circuit. (a) Calculate the required peak voltage $\\Delta V_\\text{max}$ (b) Determine the phase angle by which the current leads or lags the applied voltage."
   ]
  },
  {
   "cell_type": "markdown",
   "metadata": {},
   "source": [
    "**21.** A series AC circuit contains the following components: $R=150\\;\\Omega$, $L=250\\text{ mH}$, $C=2.00\\;\\mu\\text{F}$ and a source with $\\Delta V_\\text{max}=210\\text{ V}$ operating at 50.0 Hz. Calculate the (a) inductive reactance, (b) capacitive reactance, (c) impedence, (d) maximum current, and (e) phase angle between current and source voltage."
   ]
  },
  {
   "cell_type": "markdown",
   "metadata": {},
   "source": [
    "**23.** An RLC circuit consists of a $150\\;\\Omega$ resistor, a $21.0\\;\\mu\\text{F}$ capacitor; and a 460 mH inductor; connected in series with a 120-V, 60.0 Hz power supply. (a) What is the phase angle between the current and the applied voltage? (b) Which reaches its maximum earlier, the current or the voltage?"
   ]
  },
  {
   "cell_type": "markdown",
   "metadata": {},
   "source": [
    "**29.** A coil of resistance $35.0\\;\\Omega$ and inductance 20.5 H is in series with a capacitor and a 200 V (rms), 100 Hz source. The rms current in the circuit is 4.00 A. (a) Calculate the capacitance in the circuit. (b) What is $\\Delta V_\\text{max}$ across the coil?"
   ]
  },
  {
   "cell_type": "markdown",
   "metadata": {},
   "source": [
    "## 33.6 - Power in an AC Circuit"
   ]
  },
  {
   "cell_type": "markdown",
   "metadata": {},
   "source": [
    "**31.** An AC voltage of the form $\\Delta v=(100\\text{ V})\\sin(1000t)$ is applied to a series RLC circuit. Assume the resistance is $400\\;\\Omega$, the capacitance is $5.00\\;\\mu\\text{F}$, and the inductance is 0.500 H. Find the average power delivered to the circuit."
   ]
  },
  {
   "cell_type": "markdown",
   "metadata": {},
   "source": [
    "**33.** In a certain series RLC circuit, $I_\\text{rms}=9.00\\text{ A}$, $\\Delta V_\\text{rms}=180\\text{ V}$, and the current leads the voltage by $37.0^\\circ$. (a) What is the total resistance of the circuit? (b) Calculate the reactance of the circuit $(X_L-X_C)$."
   ]
  },
  {
   "cell_type": "markdown",
   "metadata": {},
   "source": [
    "## 33.7 - Resonance in a Series RLC Circuit"
   ]
  },
  {
   "cell_type": "markdown",
   "metadata": {},
   "source": [
    "**37.** An RLC circuit is used in a radio to tune into an FM station broadcasting at 99.7 MHz. The resistance in the circuit is $12.0\\;\\Omega$, and the inductance is $1.40\\;\\mu\\text{H}$. What capacitance should be used?"
   ]
  },
  {
   "cell_type": "markdown",
   "metadata": {},
   "source": [
    "**39.** A radar transmitter contains an LC circuit oscillating at $1.00\\times10^{10}\\text{ Hz}$. (a) What capacitance will resonate with a one-turn loop of inductance $400\\text{ pH}$ at this frequency? (b) If the capacitor has square parallel plates separated by 1.00 mm of air, what should the edge length of the plates be? (c) What is the common reactance of the loop and capacitor at resonance?"
   ]
  },
  {
   "cell_type": "markdown",
   "metadata": {},
   "source": [
    "## 33.8 - The Transformer and Power Transmission"
   ]
  },
  {
   "cell_type": "markdown",
   "metadata": {},
   "source": [
    "**45.** A transformer has $N_1=350$ turns and $N_2=2000$ turns. If the input voltage is $\\Delta v(t)=(170\\text{ V})\\cos\\omega t$, what rms voltage is developed across the secondary coil?"
   ]
  }
 ],
 "metadata": {
  "kernelspec": {
   "display_name": "Python 3",
   "language": "python",
   "name": "python3"
  },
  "language_info": {
   "codemirror_mode": {
    "name": "ipython",
    "version": 3
   },
   "file_extension": ".py",
   "mimetype": "text/x-python",
   "name": "python",
   "nbconvert_exporter": "python",
   "pygments_lexer": "ipython3",
   "version": "3.8.5"
  }
 },
 "nbformat": 4,
 "nbformat_minor": 5
}
