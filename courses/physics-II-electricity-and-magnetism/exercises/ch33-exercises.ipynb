{
 "cells": [
  {
   "cell_type": "markdown",
   "metadata": {},
   "source": [
    "# Chapter 33 - Alternating Current Circuits"
   ]
  },
  {
   "cell_type": "markdown",
   "metadata": {},
   "source": [
    "## 33.1 - AC Sources, 33.2 - Resistors in an AC Circuit"
   ]
  },
  {
   "cell_type": "markdown",
   "metadata": {},
   "source": [
    "**1.** The rms output voltage of an AC source is $200\\text{ V}$ and the operating frequency is $100\\text{ Hz}$. Write the equation giving the output voltage as a function of time.\n",
    "\n",
    "$\\Delta v=\\Delta V_\\text{max}\\sin(\\omega t)$\n",
    "\n",
    "$\\Delta V_\\text{max}=\\sqrt{2}\\Delta V_\\text{rms}$\n",
    "\n",
    "$\\Delta v=\\sqrt{2}(200)\\sin(2\\pi ft)$\n",
    "$=\\sqrt{2}(200)\\sin(2\\pi 100t)$\n",
    "$=282.84\\text{ V}\\sin(628t)$\n"
   ]
  },
  {
   "cell_type": "markdown",
   "metadata": {},
   "source": [
    "**3.** An AC power supply produces a maximum voltage $\\Delta V_\\text{max}=100\\text{ V}$. This power supply is connected to a $24.0\\;\\Omega$ resistor, and the current and resistor voltage are measured with an ideal AC ammeter and voltmeter, as shown in Figure P33.3. What does each meter read? Note that an ideal ammeter has zero resistance and that an ideal voltmeter has infinite resistor.\n",
    "\n",
    "$\\Delta V_\\text{rms}=\\frac{\\Delta V_\\text{max}}{\\sqrt{2}}$\n",
    "$=\\frac{100}{\\sqrt{2}}=70.7\\text{ V}$\n",
    "\n",
    "$I_\\text{rms}=\\frac{\\Delta V_\\text{rms}}{R}$\n",
    "$=\\frac{70.7}{24}=2.95\\text{ A}$"
   ]
  },
  {
   "cell_type": "markdown",
   "metadata": {},
   "source": [
    "**5.** The current in the circuit shown in Figure 33.2 equals 60.0% of the peak current at $t=7.00\\text{ ms}$. What is the smallest frequency of the source that gives this current?\n",
    "\n",
    "\n",
    "$I=I_0\\sin(2\\pi ft)$\n",
    "\n",
    "$0.6I_0=I_0\\sin(2\\pi f(7\\times10^{-3}))$\n",
    "\n",
    "$f=\\frac{\\sin^{-1}(0.6)}{0.014\\pi}$\n",
    "$=14.63\\text{ Hz}$\n"
   ]
  },
  {
   "cell_type": "markdown",
   "metadata": {},
   "source": [
    "## 33.3 - Inductors in an AC Circuit"
   ]
  },
  {
   "cell_type": "markdown",
   "metadata": {},
   "source": [
    "**9.** In a purely inductive AC circuit, as shown in Figure 33.6, $\\Delta V_\\text{max}=100\\text{ V}$. (a) The maximum current is $7.50\\text{ A}$ at $50.0\\text{ Hz}$. Calculate the inductance $L$. (b) At what angular frequency $\\omega$ is the maximum current $2.50\\text{ A}$?\n",
    "\n",
    "**a.**\n",
    "\n",
    "$L=\\frac{V_0}{I_{01}2\\pi f_1}$\n",
    "$=\\frac{100}{7.5(2\\pi)(50)}$\n",
    "$=0.042\\text{ H}$\n",
    "\n",
    "**b.**\n",
    "\n",
    "$\\omega_2=\\omega_1\\frac{I_{01}}{I_{02}}$\n",
    "$=2\\pi f_1\\frac{I_{01}}{I_{02}}$\n",
    "$=2\\pi(50)\\cdot\\frac{7.5}{2.5}$\n",
    "$=943\\text{ Hz}$"
   ]
  },
  {
   "cell_type": "markdown",
   "metadata": {},
   "source": [
    "## 33.4 - Capacitors in an AC Circuit"
   ]
  },
  {
   "cell_type": "markdown",
   "metadata": {},
   "source": [
    "**15.** What is the maximum current in a $2.20\\;\\mu\\text{F}$ capacitor when it is connected across (a) a North American electrical outlet having $\\Delta V_\\text{rms}=120\\text{ V}$, $f=60.0\\text{ Hz}$, and (b) a European electrical outlet having $\\Delta V_\\text{rms}=240\\text{ V}$, $f=50.0\\text{ Hz}$?\n",
    "\n",
    "$I_\\text{max}=\\sqrt{2}I_\\text{rms}$\n",
    "\n",
    "$I_\\text{rms}=\\frac{\\Delta V_\\text{rms}}{X_c}$\n",
    "$=\\Delta V_\\text{rms}2\\pi fC$\n",
    "\n",
    "$I_\\text{max}=\\sqrt{2}(\\Delta V_\\text{rms}2\\pi fC)$\n",
    "\n",
    "$I_\\text{max}=\\sqrt{2}(120)(2\\pi)(60)(2.20\\times10^{-6})=141\\text{ mA}$\n",
    "\n",
    "$I_\\text{max}=\\sqrt{2}(240)(2\\pi)(50)(2.20\\times10^{-6})=235\\text{ mA}$"
   ]
  },
  {
   "cell_type": "markdown",
   "metadata": {},
   "source": [
    "## 33.5 - The RLC Series Circuit"
   ]
  },
  {
   "cell_type": "markdown",
   "metadata": {},
   "source": [
    "**19.** An inductor $(L=400\\text{ mH})$, a capacitor $(C=4.43\\;\\mu\\text{F})$, and a resistor $(R=500\\;\\Omega)$ are connected in series. A 50.0-Hz AC source produces a peak current of 250 mA in the circuit. (a) Calculate the required peak voltage $\\Delta V_\\text{max}$ (b) Determine the phase angle by which the current leads or lags the applied voltage.\n",
    "\n",
    "**a.**\n",
    "\n",
    "$\\Delta V_\\text{max}=I_\\text{max}Z$\n",
    "\n",
    "$X_L=2\\pi fL$\n",
    "$=2\\pi(50)(400\\times10^{-3})$\n",
    "$=125.7\\;\\Omega$\n",
    "\n",
    "$X_C=\\frac{1}{2\\pi fC}$\n",
    "$=\\frac{1}{2\\pi(50)(4.43\\times10^{-6})}$\n",
    "$=718.5\\;\\Omega$\n",
    "\n",
    "$Z=\\sqrt{R^2+(X_L-X_C)^2}$\n",
    "$=\\sqrt{(500)^2+(125.7-718.5)^2}$\n",
    "$=775.5\\;\\Omega$\n",
    "\n",
    "$\\Delta V_\\text{max}=(250\\times10^{-3})(775.5)=193.9\\text{ V}$\n",
    "\n",
    "**b.**\n",
    "\n",
    "$\\phi=\\tan^{-1}(\\frac{X_L-X_C}{R})$\n",
    "$=\\tan^{-1}(\\frac{125.7-718.5}{500})$\n",
    "$=-49.9^\\circ$"
   ]
  },
  {
   "cell_type": "markdown",
   "metadata": {},
   "source": [
    "**21.** A series AC circuit contains the following components: $R=150\\;\\Omega$, $L=250\\text{ mH}$, $C=2.00\\;\\mu\\text{F}$ and a source with $\\Delta V_\\text{max}=210\\text{ V}$ operating at 50.0 Hz. Calculate the (a) inductive reactance, (b) capacitive reactance, (c) impedence, (d) maximum current, and (e) phase angle between current and source voltage.\n",
    "\n",
    "\n",
    "**a.**\n",
    "\n",
    "$X_L=\\omega L$\n",
    "$=2\\pi fL=2\\pi(50)(250\\text{ mH})$\n",
    "$=78.54\\;\\Omega$\n",
    "\n",
    "**b.**\n",
    "\n",
    "$X_C=\\frac{1}{\\omega C}$\n",
    "$=\\frac{1}{2\\pi fC}$\n",
    "$=\\frac{1}{2\\pi(50)(2\\;\\mu\\text{F})}$\n",
    "$=1591.55\\;\\Omega$\n",
    "\n",
    "**c.**\n",
    "\n",
    "$Z=\\sqrt{R^2+(X_C-X_L)^2}$\n",
    "$=\\sqrt{(150)^2+(1591.55-78.54)^2}$\n",
    "$=1520.43\\;\\Omega$\n",
    "\n",
    "**d.**\n",
    "\n",
    "$I_\\text{max}=\\frac{\\Delta V_\\text{max}}{Z}$\n",
    "$=\\frac{210}{1520.43}$\n",
    "$=0.14\\text{ A}$\n",
    "\n",
    "**e.**\n",
    "\n",
    "$\\Phi=\\tan^{-1}(\\frac{X_L-X_C}{R})$\n",
    "$=\\tan^{-1}(\\frac{78.54-1591.55}{150})$\n",
    "$=-84.34^\\circ$"
   ]
  },
  {
   "cell_type": "markdown",
   "metadata": {},
   "source": [
    "## 33.6 - Power in an AC Circuit"
   ]
  },
  {
   "cell_type": "markdown",
   "metadata": {},
   "source": [
    "**33.** In a certain series RLC circuit, $I_\\text{rms}=9.00\\text{ A}$, $\\Delta V_\\text{rms}=180\\text{ V}$, and the current leads the voltage by $37.0^\\circ$. (a) What is the total resistance of the circuit? (b) Calculate the reactance of the circuit $(X_L-X_C)$.\n",
    "\n",
    "**a.**\n",
    "\n",
    "$R=\\frac{\\Delta V_\\text{rms}\\cos\\phi}{I_\\text{rms}}$\n",
    "$=\\frac{180\\cos37^\\circ}{8}=16\\;\\Omega$\n",
    "\n",
    "**b.**\n",
    "\n",
    "$\\tan\\phi=\\frac{X_L-X_C}{R}$\n",
    "\n",
    "$X_L-X_C=R\\tan\\phi$\n",
    "$=16\\tan(-37^\\circ)$\n",
    "$=-12.1\\;\\Omega$\n"
   ]
  },
  {
   "cell_type": "markdown",
   "metadata": {},
   "source": [
    "## 33.7 - Resonance in a Series RLC Circuit"
   ]
  },
  {
   "cell_type": "markdown",
   "metadata": {},
   "source": [
    "**37.** An RLC circuit is used in a radio to tune into an FM station broadcasting at 99.7 MHz. The resistance in the circuit is $12.0\\;\\Omega$, and the inductance is $1.40\\;\\mu\\text{H}$. What capacitance should be used?\n",
    "\n",
    "\n",
    "${\\Omega_0}^2=\\frac{1}{LC}$\n",
    "\n",
    "$(2\\pi f)^2=\\frac{1}{LC}\\cdot\\frac{C}{(2\\pi f^2)}$\n",
    "\n",
    "$C=\\frac{1}{(2\\pi f)^2L}$\n",
    "$=\\frac{1}{(2\\pi (99.7\\times10^6))^2(1.4\\times10^{-6})}$\n",
    "$=1.82\\times10^{-12}\\text{ F}=1.82\\text{ pF}$\n",
    "\n"
   ]
  }
 ],
 "metadata": {
  "kernelspec": {
   "display_name": "Python 3",
   "language": "python",
   "name": "python3"
  },
  "language_info": {
   "codemirror_mode": {
    "name": "ipython",
    "version": 3
   },
   "file_extension": ".py",
   "mimetype": "text/x-python",
   "name": "python",
   "nbconvert_exporter": "python",
   "pygments_lexer": "ipython3",
   "version": "3.8.5"
  }
 },
 "nbformat": 4,
 "nbformat_minor": 5
}
