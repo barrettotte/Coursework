{
 "cells": [
  {
   "cell_type": "markdown",
   "id": "twenty-rolling",
   "metadata": {},
   "source": [
    "# Chapter 33 - Alternating Current Circuits"
   ]
  },
  {
   "cell_type": "markdown",
   "id": "overhead-terminology",
   "metadata": {},
   "source": [
    "## 33.1 - AC Sources, 33.2 - Resistors in an AC Circuit"
   ]
  },
  {
   "cell_type": "markdown",
   "id": "automatic-rental",
   "metadata": {},
   "source": [
    "**1.**"
   ]
  },
  {
   "cell_type": "markdown",
   "id": "hybrid-anxiety",
   "metadata": {},
   "source": [
    "**3.**"
   ]
  },
  {
   "cell_type": "markdown",
   "id": "pointed-shepherd",
   "metadata": {},
   "source": [
    "**5.**"
   ]
  },
  {
   "cell_type": "markdown",
   "id": "hearing-biology",
   "metadata": {},
   "source": [
    "## 33.3 - Inductors in an AC Circuit"
   ]
  },
  {
   "cell_type": "markdown",
   "id": "innocent-feeling",
   "metadata": {},
   "source": [
    "**9.**"
   ]
  },
  {
   "cell_type": "markdown",
   "id": "australian-electricity",
   "metadata": {},
   "source": [
    "**11.**"
   ]
  },
  {
   "cell_type": "markdown",
   "id": "operational-production",
   "metadata": {},
   "source": [
    "## 33.4 - Capacitors in an AC Circuit"
   ]
  },
  {
   "cell_type": "markdown",
   "id": "surprised-spotlight",
   "metadata": {},
   "source": [
    "**15.**"
   ]
  },
  {
   "cell_type": "markdown",
   "id": "extreme-gibraltar",
   "metadata": {},
   "source": [
    "**17.**"
   ]
  },
  {
   "cell_type": "markdown",
   "id": "suffering-forum",
   "metadata": {},
   "source": [
    "## 33.5 - The RLC Series Circuit"
   ]
  },
  {
   "cell_type": "markdown",
   "id": "major-alias",
   "metadata": {},
   "source": [
    "**19.**"
   ]
  },
  {
   "cell_type": "markdown",
   "id": "weird-powell",
   "metadata": {},
   "source": [
    "**21.**"
   ]
  },
  {
   "cell_type": "markdown",
   "id": "convenient-franchise",
   "metadata": {},
   "source": [
    "**23.**"
   ]
  },
  {
   "cell_type": "markdown",
   "id": "patient-element",
   "metadata": {},
   "source": [
    "**29.**"
   ]
  },
  {
   "cell_type": "markdown",
   "id": "thousand-scratch",
   "metadata": {},
   "source": [
    "## 33.6 - Power in an AC Circuit"
   ]
  },
  {
   "cell_type": "markdown",
   "id": "optimum-person",
   "metadata": {},
   "source": [
    "**31.**"
   ]
  },
  {
   "cell_type": "markdown",
   "id": "surgical-spirituality",
   "metadata": {},
   "source": [
    "**33.**"
   ]
  },
  {
   "cell_type": "markdown",
   "id": "utility-prefix",
   "metadata": {},
   "source": [
    "## 33.7 - Resonance in a Series RLC Circuit"
   ]
  },
  {
   "cell_type": "markdown",
   "id": "local-moses",
   "metadata": {},
   "source": [
    "**37.**"
   ]
  },
  {
   "cell_type": "markdown",
   "id": "automated-match",
   "metadata": {},
   "source": [
    "**39.**"
   ]
  },
  {
   "cell_type": "markdown",
   "id": "laughing-metropolitan",
   "metadata": {},
   "source": [
    "## 33.8 - The Transformer and Power Transmission"
   ]
  },
  {
   "cell_type": "markdown",
   "id": "israeli-excellence",
   "metadata": {},
   "source": [
    "**45.**"
   ]
  },
  {
   "cell_type": "markdown",
   "id": "invisible-waterproof",
   "metadata": {},
   "source": [
    "## 33.9 - Rectifiers and Filters"
   ]
  },
  {
   "cell_type": "markdown",
   "id": "executed-joyce",
   "metadata": {},
   "source": [
    "**53.**"
   ]
  }
 ],
 "metadata": {
  "kernelspec": {
   "display_name": "Python 3",
   "language": "python",
   "name": "python3"
  },
  "language_info": {
   "codemirror_mode": {
    "name": "ipython",
    "version": 3
   },
   "file_extension": ".py",
   "mimetype": "text/x-python",
   "name": "python",
   "nbconvert_exporter": "python",
   "pygments_lexer": "ipython3",
   "version": "3.6.5"
  }
 },
 "nbformat": 4,
 "nbformat_minor": 5
}
