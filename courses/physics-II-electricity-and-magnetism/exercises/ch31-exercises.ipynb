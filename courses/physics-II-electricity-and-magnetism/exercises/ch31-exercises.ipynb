{
 "cells": [
  {
   "cell_type": "markdown",
   "metadata": {},
   "source": [
    "# Chapter 31 - Faraday's Law"
   ]
  },
  {
   "cell_type": "markdown",
   "metadata": {},
   "source": [
    "## 31.1 - Faraday's Law of Induction / 31.3 - Lenz's Law"
   ]
  },
  {
   "cell_type": "markdown",
   "metadata": {},
   "source": [
    "**1.** A 50-turn rectangular coil of dimensions $5.00\\text{ cm}\\times10.0\\text{ cm}$ is allowed to fall from a position where $B=0$ to a new position where $B=0.500\\text{ T}$ and the magnetic field is directed perpendicular to the plane of the coil. Calculate the magnitude of the average emf that is induced in the coil if the displacement occurs in $0.250\\text{ s}$."
   ]
  },
  {
   "cell_type": "markdown",
   "metadata": {},
   "source": [
    "**3.** A 25-turn circular coil of wire has diameter $1.00\\text{ m}$. It is placed with its axis along the direction of the Earth's magnetic field of $50.0\\;\\mu\\text{T}$, and then in $0.200\\text{ s}$ it is flipped $180^\\circ$. An average emf of what magnitude is generated the coil?"
   ]
  },
  {
   "cell_type": "markdown",
   "metadata": {},
   "source": [
    "**5.** A strong electromagnet produces a uniform magnetic field of $1.60\\text{ T}$ over a cross-sectional area $0.200\\text{ m}^2$. We place a coil having 200 turns and a total resistance of $20.0\\;\\Omega$ around the electromagnet. We then smoothly reduce the current in the electromagnet until it reaches zero in $20.0\\text{ ms}$. What is the current induced in the coil?"
   ]
  },
  {
   "cell_type": "markdown",
   "metadata": {},
   "source": [
    "**11.** Find the current through section $PQ$ of length $a=65.0\\text{ cm}$ in Figure P31.11. The circuit is located in a magnetic field whose magnitude varies with time according to the expression $B=(1.00\\times10^{-3}\\text{ T/s})t$. Assume the resistance per length of the wire is $0.100\\;\\Omega\\text{/m}$."
   ]
  },
  {
   "cell_type": "markdown",
   "metadata": {},
   "source": [
    "**15.** A coil formed by wrapping 50 turns of wire in the shape of a square is positioned in a magnetic field so that the normal to the plane of the coil makes an angle of $30.0^\\circ$ with the direction of the field. When the magnetic field is increased uniformly from $200\\;\\mu\\text{T}$ to $600\\;\\mu\\text{T}$ in $0.400\\text{ s}$, an emf of magnitude $80.0\\text{ mV}$ is induced in the coil. What is the total length of the wire?"
   ]
  },
  {
   "cell_type": "markdown",
   "metadata": {},
   "source": [
    "## 31.2 - Motional emf / 31.3 - Lenz's Law"
   ]
  },
  {
   "cell_type": "markdown",
   "metadata": {},
   "source": [
    "**19.** An automobile has a vertical radio antenna $1.20\\text{ m}$ long. The automobile travels at $65.0\\text{ km/h}$ on a horizontal road where the Earth's magnetic field is $50.0\\;\\mu\\text{T}$ directed toward the north and downward at an angle of $65.0^\\circ$ below the horizontal. (a) Specify the direction that the automobile should move in order to generate the maximum motional emf in the antenna, with the top of the antenna positive relative to the bottom. (b) Calculate the magnitude of this induced emf."
   ]
  },
  {
   "cell_type": "markdown",
   "metadata": {},
   "source": [
    "**21.** Figure P31.20 shows a top view of a bar that can slide without friction. The resistor is $6.00\\;\\Omega$ and a $2.50\\text{ T}$ magnetic field is directed perpendicularly downward, into the paper. Let $l=1.20\\text{ m}$. (a) Calculate the applied force required to move the bar to the right at a constant speed of $2.00\\text{ m/s}$. (b) At what rate is energy delivered to the resistor?"
   ]
  },
  {
   "cell_type": "markdown",
   "metadata": {},
   "source": [
    "## 31.4 - Induced emf and Electric Fields"
   ]
  },
  {
   "cell_type": "markdown",
   "metadata": {},
   "source": [
    "**33.** A magnetic field directed into the page changes with time according to $B=(0.0300t^2+1.40)\\text{ T}$, where $t$ is in seconds. The field has a circular cross section of radius $R=2.50\\text{ cm}$ (Fig. P31.32). What are the magnitude and direction of the electric field at point $P_1$ when $t=3.00\\text{ s}$ and $r_1=0.020\\text{ m}$"
   ]
  }
 ],
 "metadata": {
  "kernelspec": {
   "display_name": "Python 3",
   "language": "python",
   "name": "python3"
  },
  "language_info": {
   "codemirror_mode": {
    "name": "ipython",
    "version": 3
   },
   "file_extension": ".py",
   "mimetype": "text/x-python",
   "name": "python",
   "nbconvert_exporter": "python",
   "pygments_lexer": "ipython3",
   "version": "3.8.5"
  }
 },
 "nbformat": 4,
 "nbformat_minor": 4
}
