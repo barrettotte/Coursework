{
 "cells": [
  {
   "cell_type": "markdown",
   "metadata": {},
   "source": [
    "# Chapter 31 - Faraday's Law"
   ]
  },
  {
   "cell_type": "markdown",
   "metadata": {},
   "source": [
    "## 31.1 - Faraday's Law of Induction / 31.3 - Lenz's Law"
   ]
  },
  {
   "cell_type": "markdown",
   "metadata": {},
   "source": [
    "**1.** A 50-turn rectangular coil of dimensions $5.00\\text{ cm}\\times10.0\\text{ cm}$ is allowed to fall from a position where $B=0$ to a new position where $B=0.500\\text{ T}$ and the magnetic field is directed perpendicular to the plane of the coil. Calculate the magnitude of the average emf that is induced in the coil if the displacement occurs in $0.250\\text{ s}$.\n",
    "\n",
    "$\\varepsilon=-N\\frac{\\Delta\\Phi}{\\Delta t}$\n",
    "$=-N\\frac{\\Phi_{B2}-\\Phi_{B1}}{\\Delta t}$\n",
    "$=-N\\frac{B_2S\\cos0^\\circ-B_1S\\cos0^\\circ}{\\Delta t}$\n",
    "\n",
    "$\\varepsilon=-N(a\\cdot b)\\frac{B_2-B_1}{\\Delta t}$\n",
    "$=-50(0.1\\cdot0.05)\\frac{0.500-0}{0.250}$\n",
    "$=-0.5\\text{ V}$\n",
    "\n",
    "$|\\varepsilon|=0.5\\text{ V}$"
   ]
  },
  {
   "cell_type": "markdown",
   "metadata": {},
   "source": [
    "**5.** A strong electromagnet produces a uniform magnetic field of $1.60\\text{ T}$ over a cross-sectional area $0.200\\text{ m}^2$. We place a coil having 200 turns and a total resistance of $20.0\\;\\Omega$ around the electromagnet. We then smoothly reduce the current in the electromagnet until it reaches zero in $20.0\\text{ ms}$. What is the current induced in the coil?\n",
    "\n",
    "\n",
    "$\\varepsilon=-N\\frac{\\Delta\\Phi}{\\Delta t}$\n",
    "$=-N\\frac{\\Delta(BA\\cos\\theta)}{\\Delta t}$\n",
    "$=-NA\\cos\\theta\\frac{\\Delta B}{\\Delta t}$\n",
    "\n",
    "$\\varepsilon=-(200)(0.2)(\\cos0^\\circ)\\frac{0-1.6}{20\\times10^{-3}}$\n",
    "$=3200\\text{ V}$\n",
    "\n",
    "$I=\\frac{\\varepsilon}{R}$\n",
    "$=\\frac{3200}{20}=160\\text{ A}$"
   ]
  },
  {
   "cell_type": "markdown",
   "metadata": {},
   "source": [
    "**15.** A coil formed by wrapping 50 turns of wire in the shape of a square is positioned in a magnetic field so that the normal to the plane of the coil makes an angle of $30.0^\\circ$ with the direction of the field. When the magnetic field is increased uniformly from $200\\;\\mu\\text{T}$ to $600\\;\\mu\\text{T}$ in $0.400\\text{ s}$, an emf of magnitude $80.0\\text{ mV}$ is induced in the coil. What is the total length of the wire?\n",
    "\n",
    "$\\varepsilon=-N\\frac{\\Delta\\Phi_B}{\\Delta t}$\n",
    "$=-NA\\cos\\theta\\frac{\\Delta B}{\\Delta t}$\n",
    "\n",
    "$A=\\frac{|\\varepsilon|}{N\\cos\\theta(\\frac{\\Delta B}{\\Delta t})}$\n",
    "$=\\frac{80\\times10^{-3}}{50\\cos30^\\circ(\\frac{(600\\times10^{-6})-(200\\times10^{-6})}{0.4})}$\n",
    "$=1.85\\text{ m}^2$\n",
    "\n",
    "$d=\\sqrt{A}=1.36\\text{ m}$\n",
    "\n",
    "$L=4dN=4(1.36)(50)=272\\text{ m}$"
   ]
  },
  {
   "cell_type": "markdown",
   "metadata": {},
   "source": [
    "## 31.2 - Motional emf / 31.3 - Lenz's Law"
   ]
  },
  {
   "cell_type": "markdown",
   "metadata": {},
   "source": [
    "**19.** An automobile has a vertical radio antenna $1.20\\text{ m}$ long. The automobile travels at $65.0\\text{ km/h}$ on a horizontal road where the Earth's magnetic field is $50.0\\;\\mu\\text{T}$ directed toward the north and downward at an angle of $65.0^\\circ$ below the horizontal. (a) Specify the direction that the automobile should move in order to generate the maximum motional emf in the antenna, with the top of the antenna positive relative to the bottom. (b) Calculate the magnitude of this induced emf.\n",
    "\n",
    "**a.** east\n",
    "\n",
    "**b.**\n",
    "\n",
    "$\\varepsilon=Blv$\n",
    "$=B\\cos65^\\circ lv$\n",
    "\n",
    "$\\varepsilon=(5\\times10^{-5})\\cos65^\\circ(1.2)(\\frac{65(1000)}{3600})$\n",
    "$=1.65\\times10^{-3}\\text{ V}$"
   ]
  },
  {
   "cell_type": "markdown",
   "metadata": {},
   "source": [
    "**21.** Figure P31.20 shows a top view of a bar that can slide without friction. The resistor is $6.00\\;\\Omega$ and a $2.50\\text{ T}$ magnetic field is directed perpendicularly downward, into the paper. Let $l=1.20\\text{ m}$. (a) Calculate the applied force required to move the bar to the right at a constant speed of $2.00\\text{ m/s}$. (b) At what rate is energy delivered to the resistor?\n",
    "\n",
    "**a.**\n",
    "\n",
    "$I=\\frac{\\varepsilon}{R}$\n",
    "$=\\frac{Blv}{R}$\n",
    "\n",
    "$I=\\frac{2.5(1.2)(2)}{6}$\n",
    "$=1\\text{ A}$\n",
    "\n",
    "$F=IlB\\sin\\theta$\n",
    "$=1(1.2)(2.5)(\\sin90^\\circ)$\n",
    "$=3\\text{ N}$\n",
    "\n",
    "**b.**\n",
    "\n",
    "$P=I^2R$\n",
    "\n",
    "$P=(1)^2(6)=6\\text{ W}$"
   ]
  }
 ],
 "metadata": {
  "kernelspec": {
   "display_name": "Python 3",
   "language": "python",
   "name": "python3"
  },
  "language_info": {
   "codemirror_mode": {
    "name": "ipython",
    "version": 3
   },
   "file_extension": ".py",
   "mimetype": "text/x-python",
   "name": "python",
   "nbconvert_exporter": "python",
   "pygments_lexer": "ipython3",
   "version": "3.8.5"
  }
 },
 "nbformat": 4,
 "nbformat_minor": 4
}
