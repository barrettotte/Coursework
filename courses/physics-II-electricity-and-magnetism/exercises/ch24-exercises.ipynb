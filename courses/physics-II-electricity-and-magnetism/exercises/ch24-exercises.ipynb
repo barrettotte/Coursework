{
 "cells": [
  {
   "cell_type": "markdown",
   "metadata": {},
   "source": [
    "# Chapter 24 - Gauss's Law"
   ]
  },
  {
   "cell_type": "markdown",
   "metadata": {},
   "source": [
    "## 24.1 - Electric Flux"
   ]
  },
  {
   "cell_type": "markdown",
   "metadata": {},
   "source": [
    "**1.** An electric field with a magnitude of $3.50\\text{ kN/C}$ is applied along the $x$ axis. Calculate the electric flux through a rectangular plane 0.350 m wide and 0.700 m long assuming that (a) the plane is parallel to the $yz$ plane; (b) the plane is parallel to the $xy$ plane; (c) the plane contains the $y$ axis, and its normal makes an angle of $40.0^\\circ$ with the $x$ axis."
   ]
  },
  {
   "cell_type": "markdown",
   "metadata": {},
   "source": [
    "**3.** A 40.0-cm diameter loop is rotated in a uniform electric field until the position of maximum electric flux is found. The flux in this position is measured to be $5.20\\times10^5\\text{ N}\\cdot\\text{m}^2\\text{/C}$. What is the magnitude of the electric field."
   ]
  },
  {
   "cell_type": "markdown",
   "metadata": {},
   "source": [
    "**5.** A uniform electric field $a\\hat{i}+b\\hat{j}$ intersects a surface of area $A$. What is the flux through this area if the surface lies (a) in the $yz$ plane? (b) in the $xz$ plane? (c) in the $xy$ plane?"
   ]
  },
  {
   "cell_type": "markdown",
   "metadata": {},
   "source": [
    "## 24.2 - Gauss's Law"
   ]
  },
  {
   "cell_type": "markdown",
   "metadata": {},
   "source": [
    "**9.** The following charges are located inside a submarine: $5.00\\mu\\text{C},-9.00\\mu\\text{C},$ and $-84.0\\mu\\text{C}$. (a) Calculate the net electric flux through the hull of the submarine. (b) Is the number of electric field lines leaving the submarine greater than, equal to, or less than the number entering it?"
   ]
  },
  {
   "cell_type": "markdown",
   "metadata": {},
   "source": [
    "**11.** Four closed surfaces, $S_1$ through $S_4$, together with the charges $-2Q,Q,-Q$ are sketched in Figure P24.11. (The colored lines are the intersections of the surfaces with the page.) Find the electric flux through each surface."
   ]
  },
  {
   "cell_type": "markdown",
   "metadata": {},
   "source": [
    "**13.** Calculate the total electric flux through the paraboloidal surface due to a uniform electric field of magnitude $E_0$ in the direction showin in Figure P24.13."
   ]
  },
  {
   "cell_type": "markdown",
   "metadata": {},
   "source": [
    "**21.** A charge of $170\\mu\\text{C}$ is at the center of a cube of edge 80.0 cm. (a) Find the total flux through each face of the cube. (b) Find the flux through the whole surface of the cube. (c) Would your answers to part (a) or (b) change if the charge were not at the center? Explain."
   ]
  },
  {
   "cell_type": "markdown",
   "metadata": {},
   "source": [
    "## 24.3 - Application of Gauss's Law to Various Charge Distributions"
   ]
  },
  {
   "cell_type": "markdown",
   "metadata": {},
   "source": [
    "**23.** Determine the magnitude of the electric field at the surface of a lead-208 nucleus, which contains 82 protons and 126 neutrons. Assume the lead nucleus has a volume 208 times that of one proton, and consider a proton to be a sphere of radius $1.20\\times10^{-15}\\text{ m}$"
   ]
  },
  {
   "cell_type": "markdown",
   "metadata": {},
   "source": [
    "**25.** A 10.0-g piece of Styrofoam carries a net charge of 09.700$\\mu\\text{C}$ and floats above the center of a large horizontal sheet of plastic that has a uniform charge density on its surface. What is the charge per unit area on the plastic sheet?"
   ]
  },
  {
   "cell_type": "markdown",
   "metadata": {},
   "source": [
    "**31.** Consider a thin spherical shell of radius 14.0 cm with a total charge of 32.0$\\mu\\text{C}$, distributed unfiromly on its surface. Find the electric field (a) 10.0 cm and (b) 20.0 cm from the center of the charge distribution."
   ]
  },
  {
   "cell_type": "markdown",
   "metadata": {},
   "source": [
    "## 24.4 - Conductors in Electrostatic Equilibrium"
   ]
  },
  {
   "cell_type": "markdown",
   "metadata": {},
   "source": [
    "**39.**"
   ]
  },
  {
   "cell_type": "markdown",
   "metadata": {},
   "source": [
    "**41.**"
   ]
  },
  {
   "cell_type": "markdown",
   "metadata": {},
   "source": [
    "**43.**"
   ]
  },
  {
   "cell_type": "markdown",
   "metadata": {},
   "source": [
    "**47.**"
   ]
  }
 ],
 "metadata": {
  "kernelspec": {
   "display_name": "Python 3",
   "language": "python",
   "name": "python3"
  },
  "language_info": {
   "codemirror_mode": {
    "name": "ipython",
    "version": 3
   },
   "file_extension": ".py",
   "mimetype": "text/x-python",
   "name": "python",
   "nbconvert_exporter": "python",
   "pygments_lexer": "ipython3",
   "version": "3.8.5"
  }
 },
 "nbformat": 4,
 "nbformat_minor": 4
}
