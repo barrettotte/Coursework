{
 "cells": [
  {
   "cell_type": "markdown",
   "metadata": {},
   "source": [
    "# Chapter 24 - Gauss's Law"
   ]
  },
  {
   "cell_type": "markdown",
   "metadata": {},
   "source": [
    "## 24.1 - Electric Flux"
   ]
  },
  {
   "cell_type": "markdown",
   "metadata": {},
   "source": [
    "**1.** An electric field with a magnitude of $3.50\\text{ kN/C}$ is applied along the $x$ axis. Calculate the electric flux through a rectangular plane 0.350 m wide and 0.700 m long assuming that (a) the plane is parallel to the $yz$ plane; (b) the plane is parallel to the $xy$ plane; (c) the plane contains the $y$ axis, and its normal makes an angle of $40.0^\\circ$ with the $x$ axis.\n",
    "\n",
    "$\\displaystyle \\Phi=\\int\\vec{E}d\\vec{A}=\\int EdA\\cos0=EA$\n",
    "\n",
    "**a.**\n",
    "\n",
    "\n",
    "$\\Phi=EA\\cos\\theta=(3500)(0.35\\cdot0.7)\\cdot\\cos0^\\circ$\n",
    "$=875.5\\text{ Nm}^2\\text{/C}$\n",
    "\n",
    "**b.**\n",
    "\n",
    "$\\Phi=EA\\cos90^\\circ$\n",
    "$=0$\n",
    "\n",
    "**c.**\n",
    "\n",
    "$\\Phi=EA\\cos40^\\circ$\n",
    "$=656.9\\text{ Nm}^2\\text{/C}$"
   ]
  },
  {
   "cell_type": "markdown",
   "metadata": {},
   "source": [
    "**3.** A 40.0-cm diameter loop is rotated in a uniform electric field until the position of maximum electric flux is found. The flux in this position is measured to be $5.20\\times10^5\\text{ N}\\cdot\\text{m}^2\\text{/C}$. What is the magnitude of the electric field.\n",
    "\n",
    "$\\displaystyle \\Phi=\\int\\vec{E}d\\vec{A}=\\int EdA\\cos0=\\int EdA=E\\int dA$\n",
    "\n",
    "$\\Phi=Er^2$\n",
    "\n",
    "$E=\\frac{\\Phi}{r^2\\pi}=\\frac{5.20\\times10^5}{(0.20)^2\\pi}$\n",
    "$=4.138\\times10^6\\text{ N/C}$\n"
   ]
  },
  {
   "cell_type": "markdown",
   "metadata": {},
   "source": [
    "**5.** A uniform electric field $a\\hat{i}+b\\hat{j}$ intersects a surface of area $A$. What is the flux through this area if the surface lies (a) in the $yz$ plane? (b) in the $xz$ plane? (c) in the $xy$ plane?\n",
    "\n",
    "$\\vec{E}=a\\hat{i}+b\\hat{j}$\n",
    "\n",
    "**a.**\n",
    "\n",
    "$\\Phi=\\vec{E}\\vec{A}_{yz}=(a\\hat{i}+b\\hat{j})\\cdot A\\hat{i}=aA$\n",
    "\n",
    "**b.**\n",
    "\n",
    "$\\Phi=\\vec{E}\\vec{A}_{xz}=(a\\hat{i}+b\\hat{j})\\cdot A\\hat{j}=bA$\n",
    "\n",
    "**c.**\n",
    "\n",
    "$\\Phi=\\vec{E}\\vec{A}_{xy}=(a\\hat{i}+b\\hat{j})\\cdot A\\hat{k}=0$"
   ]
  },
  {
   "cell_type": "markdown",
   "metadata": {},
   "source": [
    "## 24.2 - Gauss's Law"
   ]
  },
  {
   "cell_type": "markdown",
   "metadata": {},
   "source": [
    "**9.** The following charges are located inside a submarine: $5.00\\mu\\text{C},-9.00\\mu\\text{C},$ and $-84.0\\mu\\text{C}$. (a) Calculate the net electric flux through the hull of the submarine. (b) Is the number of electric field lines leaving the submarine greater than, equal to, or less than the number entering it?\n",
    "\n",
    "**a.**\n",
    "\n",
    "$\\Phi_E=\\frac{q_{in}}{\\epsilon_0}$\n",
    "\n",
    "$q_{in}=q_1+q_2+q_3+q_4$\n",
    "$=(5+27-9-84)\\times10^{-6}$\n",
    "$=-61\\times10^{-6}\\text{ C}$\n",
    "\n",
    "$\\Phi_E=\\frac{-61\\times10^{-6}}{\\epsilon_0}$\n",
    "$=\\frac{-61\\times10^{-6}}{8.8542\\times10^{-12}}$\n",
    "$=-6.89\\times10^6\\text{ N}\\cdot\\text{m}^2\\text{/C}$\n",
    "\n",
    "**b.**\n",
    "\n",
    "Flux is negative, so less than"
   ]
  },
  {
   "cell_type": "markdown",
   "metadata": {},
   "source": [
    "**11.** Four closed surfaces, $S_1$ through $S_4$, together with the charges $-2Q,Q,-Q$ are sketched in Figure P24.11. (The colored lines are the intersections of the surfaces with the page.) Find the electric flux through each surface.\n",
    "\n",
    "$S_1=\\Phi_E=\\frac{-2Q+Q}{\\epsilon_0}=-\\frac{Q}{\\epsilon_0}$\n",
    "\n",
    "$S_2=\\Phi_E=\\frac{Q-Q}{\\epsilon_0}=0$\n",
    "\n",
    "$S_3=\\Phi_E=\\frac{-2Q+Q-Q}{\\epsilon_0}=-\\frac{2Q}{\\epsilon_0}$\n",
    "\n",
    "$S_4=\\Phi_E=0$"
   ]
  },
  {
   "cell_type": "markdown",
   "metadata": {},
   "source": [
    "**13.** Calculate the total electric flux through the paraboloidal surface due to a uniform electric field of magnitude $E_0$ in the direction showin in Figure P24.13.\n",
    "\n",
    "$\\Phi_B=\\vec{E}\\vec{A}=EA\\cos\\pi=-Er^2\\pi$\n",
    "\n",
    "$\\Phi_E=\\vec{E}\\vec{A}=EA\\cos0^\\circ=Er^2\\pi$\n",
    "\n",
    "$\\Phi=\\Phi_B+\\Phi_E=0$"
   ]
  },
  {
   "cell_type": "markdown",
   "metadata": {},
   "source": [
    "## 24.3 - Application of Gauss's Law to Various Charge Distributions"
   ]
  },
  {
   "cell_type": "markdown",
   "metadata": {},
   "source": [
    "**23.** Determine the magnitude of the electric field at the surface of a lead-208 nucleus, which contains 82 protons and 126 neutrons. Assume the lead nucleus has a volume 208 times that of one proton, and consider a proton to be a sphere of radius $1.20\\times10^{-15}\\text{ m}$\n",
    "\n",
    "$V_{pb}=208V_p$\n",
    "\n",
    "$\\frac{4}{3}\\pi R^3=208(\\frac{4}{3}\\pi r^3)$\n",
    "\n",
    "$R=\\sqrt[3]{208r^3}=\\sqrt[3]{208(1.2\\times10^{-15})^3}$\n",
    "$=7.1099\\times10^{-15}\\text{ m}$\n",
    "\n",
    "$E=k_e\\frac{n_p|q_p|}{R^2}$\n",
    "$=(8.988\\times10^9)\\frac{82(1.602\\times10^{-19})}{(7.1099\\times10^{-15})^2}$\n",
    "$=2.34\\times10^{21}\\text{ N/C}$"
   ]
  },
  {
   "cell_type": "markdown",
   "metadata": {},
   "source": [
    "**25.** A 10.0-g piece of Styrofoam carries a net charge of 09.700$\\mu\\text{C}$ and floats above the center of a large horizontal sheet of plastic that has a uniform charge density on its surface. What is the charge per unit area on the plastic sheet?\n",
    "\n",
    "$\\Sigma F_y=F_e-mg=0$\n",
    "$\\implies F_e=mg$\n",
    "\n",
    "$qE=mg\\implies E=\\frac{mg}{q}$\n",
    "\n",
    "$\\frac{\\sigma}{2\\epsilon_0}=\\frac{mg}{q}$\n",
    "\n",
    "$\\sigma=\\frac{2mg\\epsilon_0}{q}$\n",
    "\n",
    "$\\sigma=\\frac{2(0.01)(9.8)(8.8542\\times10^{-12})}{-0.7\\times10^{-6}}$\n",
    "$=-2.48\\times10^{-7}\\mu\\text{C/m}^2$\n",
    "\n"
   ]
  },
  {
   "cell_type": "markdown",
   "metadata": {},
   "source": [
    "**31.** Consider a thin spherical shell of radius 14.0 cm with a total charge of 32.0$\\mu\\text{C}$, distributed unfiromly on its surface. Find the electric field (a) 10.0 cm and (b) 20.0 cm from the center of the charge distribution.\n",
    "\n",
    "**a.**\n",
    "\n",
    "all charge is on surface; $E=0$\n",
    "\n",
    "**b.**\n",
    "\n",
    "$\\displaystyle \\Phi_E=\\oint\\vec{E}\\cdot d\\vec{A}$\n",
    "$=\\frac{q_{in}}{\\epsilon_0}$\n",
    "\n",
    "$\\displaystyle \\Phi_E=\\oint EdA=\\frac{q_{in}}{\\epsilon_0}$\n",
    "\n",
    "$\\displaystyle E\\oint dA=\\frac{q_{in}}{\\epsilon_0}$\n",
    "\n",
    "$EA=\\frac{q_{in}}{\\epsilon_0}$\n",
    "\n",
    "$E(4\\pi r^2)=\\frac{q_{in}}{\\epsilon_0}\\implies E=\\frac{q_{in}}{4\\pi\\epsilon_0r^2}$\n",
    "\n",
    "$E=\\frac{32\\times10^{-6}}{4\\pi(8.8542\\times10^{-12})(0.2)^2}$\n",
    "$=7.19\\times10^6\\text{ N/C}$ pointed radially outward"
   ]
  },
  {
   "cell_type": "markdown",
   "metadata": {},
   "source": [
    "## 24.4 - Conductors in Electrostatic Equilibrium"
   ]
  },
  {
   "cell_type": "markdown",
   "metadata": {},
   "source": [
    "**39.** A long straight metal rod has a radius of 5.00 cm and a charge per unit length of 30.0 nC/m. Find the electric field (a) 3.00 cm, (b) 10.0 cm, and (c) 100 cm from the axis of th rod, where distances are measured perpendicular to the rod.\n",
    "\n",
    "**a.** \n",
    "\n",
    "- Charge only carried on surface.\n",
    "- $E=0$ when in electrostatic equilibrium\n",
    "\n",
    "$E=0\\text{ N/C}$\n",
    "\n",
    "**b.**\n",
    "\n",
    "$E=\\frac{\\lambda}{2\\pi\\epsilon_0r}$\n",
    "$=\\frac{30\\times10^{-9}}{2\\pi(8.8542\\times10^{-12})(0.1)}$\n",
    "$=5.39\\times10^3\\text{ N/C}$\n",
    "\n",
    "**c.**\n",
    "\n",
    "$E=\\frac{30\\times10^{-9}}{2\\pi(8.8542\\times10^{-12})(1)}$\n",
    "$=5.39\\times10^2\\text{ N/C}$"
   ]
  },
  {
   "cell_type": "markdown",
   "metadata": {},
   "source": [
    "**43.** A square plate of copper with 50.0 cm sides has no net charge and is placed ina region of uniform electric field of 80.0 kN/C directed peprendicularly to the plate. Find (a) the charge density of each face of the plate and (b) the total charge on each face.\n",
    "\n",
    "$\\displaystyle \\int\\vec{E}d\\vec{A}=\\int EdA\\cos\\pi=\\frac{q}{\\epsilon_0}$\n",
    "\n",
    "$\\displaystyle -E\\int dA=\\frac{q}{\\epsilon_0}$\n",
    "\n",
    "$-EA=\\frac{q}{\\epsilon_0}$\n",
    "\n",
    "$\\sigma_{top}=\\frac{q}{A}=-E\\epsilon_0$\n",
    "$=-7.08\\times10^{-7}\\text{ C/m}^2$\n",
    "\n",
    "$q_{top}=\\sigma_{top}A=-1.77\\times10^{-7}\\text{ C}$\n",
    "\n",
    "<br>\n",
    "\n",
    "$\\displaystyle \\int\\vec{E}d\\vec{A}=\\int EdA\\cos0=\\frac{q}{\\epsilon_0}$\n",
    "\n",
    "$\\displaystyle E\\int dA=\\frac{q}{\\epsilon_0}$\n",
    "\n",
    "$EA=\\frac{q}{\\epsilon_0}$\n",
    "\n",
    "$\\sigma_{bottom}=\\frac{q}{A}=E\\epsilon_0$\n",
    "$=7.08\\times10^{-7}\\text{ C/m}^2$\n",
    "\n",
    "$q_{bottom}=\\sigma_{bottom}A=1.77\\times10^{-7}\\text{ C}$"
   ]
  }
 ],
 "metadata": {
  "kernelspec": {
   "display_name": "Python 3",
   "language": "python",
   "name": "python3"
  },
  "language_info": {
   "codemirror_mode": {
    "name": "ipython",
    "version": 3
   },
   "file_extension": ".py",
   "mimetype": "text/x-python",
   "name": "python",
   "nbconvert_exporter": "python",
   "pygments_lexer": "ipython3",
   "version": "3.6.5"
  }
 },
 "nbformat": 4,
 "nbformat_minor": 4
}
