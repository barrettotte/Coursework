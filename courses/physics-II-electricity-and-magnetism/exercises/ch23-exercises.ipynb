{
 "cells": [
  {
   "cell_type": "markdown",
   "metadata": {},
   "source": [
    "# Chapter 23 - Electric Fields"
   ]
  },
  {
   "cell_type": "markdown",
   "metadata": {},
   "source": [
    "## 23.2 - Charging Objects by Induction, 23.3 - Coulomb's Law"
   ]
  },
  {
   "cell_type": "markdown",
   "metadata": {},
   "source": [
    "**7.** Three point charges are located at the corners of an equilateral triangle as shown in Figure P23.7. Calculate the resultant electric force on the $7.00-\\mu\\text{C}$ charge."
   ]
  },
  {
   "cell_type": "markdown",
   "metadata": {},
   "source": [
    "**9.** Two identical conducting small spheres are placed with their center 0.300 m apart. One is given a charge of 12.0 nC and the other a charge of 18.0 nC. (a) Find the electric force exerted by one sphere on the other. (b) What if the spheres are connected by a conducting wire. Find the electric force between the two after they have come to equilibrium."
   ]
  },
  {
   "cell_type": "markdown",
   "metadata": {},
   "source": [
    "**11.** In the Bohr theory of the hydrogen atom, an electron moves in a circular orbit about a proton,\n",
    "where the radius of the orbit is $0.529\\times10^{-10}\\text{ m}$ (a) Find the electric force between the two. (b) If this force cuases the centripetal acceleration of the electron, what is the speed of the electron?"
   ]
  },
  {
   "cell_type": "markdown",
   "metadata": {},
   "source": [
    "## 23.4 - The Electric Field"
   ]
  },
  {
   "cell_type": "markdown",
   "metadata": {},
   "source": [
    "**13.** What are the magnitude and direction of the electric field that will balance the weight of (a) an electron and (b) a proton? (Use the data in Table 23.1)"
   ]
  },
  {
   "cell_type": "markdown",
   "metadata": {},
   "source": [
    "**15.** In Figure P23.15, determine the point (other than infinity) at which the electric field is zero."
   ]
  },
  {
   "cell_type": "markdown",
   "metadata": {},
   "source": [
    "**17.** Two point charges are located on the $x$ axis. The first is a charge $+Q$ at $x=-a$. The second is an unknown charge located at $x=+3a$. The net electric field these charges produce at the origin has a magnitude of $2k_eQ/a^2$. What are the two possible values of the unknown charge?"
   ]
  },
  {
   "cell_type": "markdown",
   "metadata": {},
   "source": [
    "## 23.5 - Electric Field of a Continuous Charge Distribution"
   ]
  },
  {
   "cell_type": "markdown",
   "metadata": {},
   "source": [
    "**25.** A rod of 14.0 cm long is uniformly charged and has a total charge of $-22.0\\mu\\text{C}$. Determine the magnitude and direction of the electric field along the axis of the rod at a point 36.0 cm from its center."
   ]
  },
  {
   "cell_type": "markdown",
   "metadata": {},
   "source": [
    "**27.** A uniformly charged ring of radius 10.0 cm has a total charge of 75.0 $\\mu\\text{C}$. Find the electric field on the axis of the ring at (a) 1.00 cm, (b) 5.00 cm, (c) 30.0 cm, and (d) 100 cm from the center of the ring."
   ]
  },
  {
   "cell_type": "markdown",
   "metadata": {},
   "source": [
    "**33.** A uniformly charged insulating rod of length 14.0 cm is bent into the shape of a semicircle as shown in Figure P23.33. The rod has a total charge of $-7.50\\mu\\text{C}$. Find the magnitude and direction of the electric field at $O$, the center of the semicircle."
   ]
  },
  {
   "cell_type": "markdown",
   "metadata": {},
   "source": [
    "## 23.7 - Motion of Charged Particles in a Uniform Electric Field"
   ]
  },
  {
   "cell_type": "markdown",
   "metadata": {},
   "source": [
    "**43.** A proton accelerates from rest in a uniform electric field of 640 N/C. At some later time, its speed is $1.20\\times10^6\\text{ m/s}$ (nonrelativistic, because $v$ is much less than the speed of light). (a) Find the acceleration of the proton. (b) How long does it take the proton to reach this speed? (c) How far has it moved in this time? (d) What is its kinetic energy at this time?"
   ]
  },
  {
   "cell_type": "markdown",
   "metadata": {},
   "source": [
    "**45.** The electrons in a particle beam each have a kinetic energy $K$. What are the magnitude and direction of the electric field that will stop these electrons in a distance $d$?"
   ]
  },
  {
   "cell_type": "markdown",
   "metadata": {},
   "source": [
    "**47.** A proton moves at $4.50\\times10^5\\text{ m/s}$ in the horizontal direction. It enters a uniform vertical electric field with a magnitude of $9.60\\times10^3\\text{ N/C}$. Ignoring any gravitational effects, find (a) the time interval required for the proton to travel 5.00 cm horizontally, (b) its vertical displacement during the time interval in which it travels 5.00 cm horizontally, and (c) the horizontal and vertical components of its velocity after it has traveled 5.00 cm horizontally."
   ]
  }
 ],
 "metadata": {
  "kernelspec": {
   "display_name": "Python 3",
   "language": "python",
   "name": "python3"
  },
  "language_info": {
   "codemirror_mode": {
    "name": "ipython",
    "version": 3
   },
   "file_extension": ".py",
   "mimetype": "text/x-python",
   "name": "python",
   "nbconvert_exporter": "python",
   "pygments_lexer": "ipython3",
   "version": "3.8.5"
  }
 },
 "nbformat": 4,
 "nbformat_minor": 4
}
