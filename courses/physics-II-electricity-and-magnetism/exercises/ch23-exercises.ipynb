{
 "cells": [
  {
   "cell_type": "markdown",
   "metadata": {},
   "source": [
    "# Chapter 23 - Electric Fields"
   ]
  },
  {
   "cell_type": "markdown",
   "metadata": {},
   "source": [
    "## 23.2 - Charging Objects by Induction, 23.3 - Coulomb's Law"
   ]
  },
  {
   "cell_type": "markdown",
   "metadata": {},
   "source": [
    "**7.** Three point charges are located at the corners of an equilateral triangle as shown in Figure P23.7. Calculate the resultant electric force on the $7.00\\mu\\text{C}$ charge.\n",
    "\n",
    "$F_e=k_e\\frac{|q_1|\\cdot|q_2|}{r^2}$\n",
    "\n",
    "<br>\n",
    "\n",
    "$F_{10}=\\frac{1}{4\\pi\\epsilon_0}\\frac{q_1q_0}{d^2}$\n",
    "$=0.504\\text{ N}$\n",
    "\n",
    "$F_{x10}=F_{10}\\cos60^\\circ$\n",
    "$,\\quad F_{y10}=F_{10}\\sin60^\\circ$\n",
    "\n",
    "$F_{20}=\\frac{1}{4\\pi\\epsilon_0}\\frac{q_2q_0}{d^2}$\n",
    "$=1.008\\text{ N}$\n",
    "\n",
    "$F_{x20}=F_{20}\\cos60^\\circ$\n",
    "$,\\quad F_{y20}=F_{20}\\sin60^\\circ$\n",
    "\n",
    "<br>\n",
    "\n",
    "$F_x=F_{x10}+F_{x20}$\n",
    "$=(F_{10}+F_{20})\\cos60^\\circ$\n",
    "\n",
    "$F_x=0.756\\text{ N}$\n",
    "\n",
    "$F_y=F_{y10}-F_{y20}$\n",
    "$=(F_{10}-F_{20})\\sin60^\\circ$\n",
    "\n",
    "$F_y=-0.436\\text{ N}$\n",
    "\n",
    "<br>\n",
    "\n",
    "$\\vec{F}=F_x\\hat{i}+F_y\\hat{j}$\n",
    "\n",
    "$F=\\sqrt{{F_x}^2+{F_y}^2}$\n",
    "$=0.873\\text{ N}$"
   ]
  },
  {
   "cell_type": "markdown",
   "metadata": {},
   "source": [
    "**9.** Two identical conducting small spheres are placed with their center 0.300 m apart. One is given a charge of 12.0 nC and the other a charge of 18.0 nC. (a) Find the electric force exerted by one sphere on the other. (b) What if the spheres are connected by a conducting wire. Find the electric force between the two after they have come to equilibrium.\n",
    "\n",
    "$F=\\frac{1}{4\\pi\\epsilon_0}\\frac{q_1q_2}{d^2}$\n",
    "\n",
    "<br>\n",
    "\n",
    "**a.**\n",
    "\n",
    "$F=\\frac{1}{4\\pi\\epsilon_0}\\frac{12(-18)}{0.300^2}$\n",
    "$=2.159\\times10^{-5}\\text{ N}$ (attractive)\n",
    "\n",
    "**b.**\n",
    "\n",
    "charge redistributed $\\implies q_1=q_2=q$\n",
    "\n",
    "$q=\\frac{q_1+q_2}{2}$\n",
    "$=\\frac{12-18}{2}=-3\\text{ nC}$\n",
    "\n",
    "$F=\\frac{1}{4\\pi\\epsilon_0}\\frac{q^2}{d^2}$\n",
    "$=9\\times10^{-7}\\text{ N}$ (repulsive)"
   ]
  },
  {
   "cell_type": "markdown",
   "metadata": {},
   "source": [
    "**11.** In the Bohr theory of the hydrogen atom, an electron moves in a circular orbit about a proton,\n",
    "where the radius of the orbit is $0.529\\times10^{-10}\\text{ m}$ (a) Find the electric force between the two. (b) If this force causes the centripetal acceleration of the electron, what is the speed of the electron?\n",
    "\n",
    "$F=k_e\\frac{|q_1||q_2|}{r^2}$\n",
    "\n",
    "$\\Sigma F=ma_c=m\\frac{v^2}{r}$\n",
    "\n",
    "<br>\n",
    "\n",
    "**a.**\n",
    "\n",
    "$q_p=1.6\\times10^{-19}\\text{ C}$\n",
    "$,\\quad q_e=-1.6\\times10^{-19}\\text{ C}$\n",
    "\n",
    "$r=5.29\\times10^{-11}\\text{ m}$\n",
    "\n",
    "$m_e=9.11\\times10^{-31}\\text{ kg}$\n",
    "\n",
    "$F=(8.988\\times10^9)\\frac{(1.6\\times10^{-19})^2}{(5.29\\times10^{-11})^2}$\n",
    "$=8.22\\times10^{-8}\\text{ N}$\n",
    "\n",
    "**b.**\n",
    "\n",
    "$v=\\sqrt{\\frac{Fr}{m}}$\n",
    "$=\\sqrt{\\frac{(8.22\\times10^{-8})(5.29\\times10^{-11})}{9.11\\times10^{-31}}}$\n",
    "\n",
    "$v=2.19\\times10^6\\text{ m/s}$"
   ]
  },
  {
   "cell_type": "markdown",
   "metadata": {},
   "source": [
    "## 23.4 - The Electric Field"
   ]
  },
  {
   "cell_type": "markdown",
   "metadata": {},
   "source": [
    "**13.** What are the magnitude and direction of the electric field that will balance the weight of (a) an electron and (b) a proton? (Use the data in Table 23.1)\n",
    "\n",
    "$F=k_e\\frac{|q_1||q_2|}{r^2}$\n",
    "\n",
    "$F_g=G\\frac{m_1m_2}{r^2}$\n",
    "\n",
    "<br>\n",
    "\n",
    "$q_1=q_2=q$\n",
    "\n",
    "$m=1\\times10^{-6}$\n",
    "\n",
    "$F_e=F_g$\n",
    "\n",
    "$k_e\\frac{q^2}{r^2}=G\\frac{m^2}{r^2}$\n",
    "$\\implies q=\\sqrt{\\frac{Gm^2}{k_e}}$\n",
    "\n",
    "$q=\\sqrt{\\frac{(6.67\\times10^{-29})(1\\times10^{-6})^2}{8.988\\times10^9}}$\n",
    "$=8.61\\times10^{-26}\\text{ C}$\n",
    "\n",
    "<br>\n",
    "\n",
    "$8.61\\times10^{-26}\\text{ C} \\lt 1.6\\times10^{-19}\\text{ C}$\n",
    "\n",
    "Charge is less than charge of electron; This is impossible"
   ]
  },
  {
   "cell_type": "markdown",
   "metadata": {},
   "source": [
    "**15.** In Figure P23.15, determine the point (other than infinity) at which the electric field is zero.\n",
    "\n",
    "$E=E_1+E_2=k_e\\frac{q_1}{r^2}+k_e\\frac{q_2}{(r+1)^2}$\n",
    "\n",
    "$0=8.988\\times10^9(\\frac{-2.5}{r^2}+\\frac{6}{(r+1)^2})$\n",
    "\n",
    "$3.5r^2-5r-2.5=0$\n",
    "\n",
    "$r_1=-0.39,\\quad r_2=1.82$\n",
    "\n",
    "$r=1.82\\text{ m}$"
   ]
  },
  {
   "cell_type": "markdown",
   "metadata": {},
   "source": [
    "**17.** Two point charges are located on the $x$ axis. The first is a charge $+Q$ at $x=-a$. The second is an unknown charge located at $x=+3a$. The net electric field these charges produce at the origin has a magnitude of $2k_eQ/a^2$. What are the two possible values of the unknown charge?\n",
    "\n",
    "$E_2=\\frac{2k_eQ}{a_2}-\\frac{k_eQ}{a^2}=\\frac{k_eQ}{a^2}$\n",
    "\n",
    "$\\frac{k_eQ}{a^2}=-\\frac{k_eq}{(3a)^2}$\n",
    "$\\implies q=-9Q$\n",
    "\n",
    "<br>\n",
    "\n",
    "$E_2'=-\\frac{2k_eQ}{a^2}-\\frac{k_eQ}{a^2}=-\\frac{3k_eQ}{a^2}$\n",
    "\n",
    "$-\\frac{3k_eQ}{a^2}=-\\frac{k_eq}{(3a)^2}$\n",
    "$\\implies q=27Q$"
   ]
  },
  {
   "cell_type": "markdown",
   "metadata": {},
   "source": [
    "## 23.5 - Electric Field of a Continuous Charge Distribution"
   ]
  },
  {
   "cell_type": "markdown",
   "metadata": {},
   "source": [
    "**25.** A rod of 14.0 cm long is uniformly charged and has a total charge of $-22.0\\mu\\text{C}$. Determine the magnitude and direction of the electric field along the axis of the rod at a point 36.0 cm from its center.\n",
    "\n",
    "$E=k_e\\frac{|q|}{r^2}$\n",
    "\n",
    "$\\lambda=\\frac{Q}{l}$\n",
    "\n",
    "<br>\n",
    "\n",
    "$dq=\\lambda dx$\n",
    "\n",
    "$dE=k_e\\frac{dq}{x^2}$\n",
    "$=k_e\\frac{\\lambda dx}{x^2}$\n",
    "\n",
    "$\\displaystyle E=\\int_{a-l/2}^{a+l/2}k_e\\frac{\\lambda}{x^2}dx$\n",
    "\n",
    "$\\displaystyle=k_e\\lambda\\int_{a-l/2}^{a+l/2}\\frac{1}{x^2}dx$\n",
    "\n",
    "$k_e\\lambda\\left[\\frac{-1}{x}\\right]_{a-l/2}^{a+1/2}$\n",
    "$=k_e\\lambda(\\frac{-1}{a+l/2}+\\frac{1}{a-l/2})$\n",
    "\n",
    "$=k_e\\lambda(\\frac{4l}{4a^2-l^2})$\n",
    "\n",
    "$E=k_e(\\frac{Q}{l})(\\frac{4l}{4a^2-l^2})$\n",
    "$=\\frac{4k_eQ}{4a^2-l^2}$\n",
    "\n",
    "$E=\\frac{4k_e|Q|}{4a^2-l^2}$\n",
    "$=\\frac{4(8.988\\times10^9)(22\\times10^{-6})}{4(0.36)^2-(0.14)^2}$\n",
    "$=1.59\\times10^6\\text{ N/C}$\n",
    "\n",
    "Rod is negatively charged; electric field points toward rod in positive x direction"
   ]
  },
  {
   "cell_type": "markdown",
   "metadata": {},
   "source": [
    "## 23.7 - Motion of Charged Particles in a Uniform Electric Field"
   ]
  },
  {
   "cell_type": "markdown",
   "metadata": {},
   "source": [
    "**43.** A proton accelerates from rest in a uniform electric field of 640 N/C. At some later time, its speed is $1.20\\times10^6\\text{ m/s}$ (nonrelativistic, because $v$ is much less than the speed of light). (a) Find the acceleration of the proton. (b) How long does it take the proton to reach this speed? (c) How far has it moved in this time? (d) What is its kinetic energy at this time?\n",
    "\n",
    "**a.**\n",
    "\n",
    "$a=\\frac{q_pE}{m_p}$\n",
    "$=\\frac{(1.602\\times10^{-19})(640)}{1.67\\times10^{-27}}$\n",
    "$=6.14\\times10^{10}\\text{ m/s}^2$\n",
    "\n",
    "**b.**\n",
    "\n",
    "$v_f=v_i+at\\implies t=\\frac{v_f-v_i}{a}$\n",
    "\n",
    "$t=\\frac{1.2\\times10^6-0}{6.14\\times10^{10}}$\n",
    "$=1.95\\times10^{-5}\\text{ s}$\n",
    "\n",
    "**c.**\n",
    "\n",
    "$\\Delta x=v_it+\\frac{1}{2}at^2$\n",
    "\n",
    "$\\Delta x=0+\\frac{1}{2}(6.14\\times10^{10})(1.95\\times10^{-5})^2$\n",
    "$=11.7\\text{ m}$\n",
    "\n",
    "**d.**\n",
    "\n",
    "$K=\\frac{1}{2}m_p{v_f}^2$\n",
    "$=\\frac{1}{2}(1.67\\times10^{-27}(1.2\\times10^6)^2$\n",
    "$=1.2\\times10^{-15}\\text{ J}$"
   ]
  }
 ],
 "metadata": {
  "kernelspec": {
   "display_name": "Python 3",
   "language": "python",
   "name": "python3"
  },
  "language_info": {
   "codemirror_mode": {
    "name": "ipython",
    "version": 3
   },
   "file_extension": ".py",
   "mimetype": "text/x-python",
   "name": "python",
   "nbconvert_exporter": "python",
   "pygments_lexer": "ipython3",
   "version": "3.6.5"
  }
 },
 "nbformat": 4,
 "nbformat_minor": 4
}
