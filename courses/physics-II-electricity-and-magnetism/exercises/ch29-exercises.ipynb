{
 "cells": [
  {
   "cell_type": "markdown",
   "metadata": {},
   "source": [
    "# Chapter 29 - Magnetic Fields"
   ]
  },
  {
   "cell_type": "markdown",
   "metadata": {},
   "source": [
    "## 29.1 - Magnetic Fields and Forces"
   ]
  },
  {
   "cell_type": "markdown",
   "metadata": {},
   "source": [
    "**3.** An electron moving along the positive $x$ axis perpendicular to a magnetic field experiences a magnetic deflection in the negative $y$ direction. What is the direction of the magnetic field?"
   ]
  },
  {
   "cell_type": "markdown",
   "metadata": {},
   "source": [
    "**5.** A proton moves perpendicular to a uniform magnetic field $\\vec{B}$ at $1.00\\times10^7\\text{ m/s}$ and experiences an acceleration of $2.00\\times10^{13}\\text{ m/s}^2$ in the +$x$ direction when its velocity is in the +$z$ direction. Determine the magnitude and direction of the field."
   ]
  },
  {
   "cell_type": "markdown",
   "metadata": {},
   "source": [
    "**7.** A proton moving at $4.00\\times10^6\\text{ m/s}$ through a magnetic field of $1.70\\text{ T}$ experiences a magnetic force of magnitude $8.20\\times10^{-13}\\text{ N}$. What is the angle between the proton's velocity and the field?"
   ]
  },
  {
   "cell_type": "markdown",
   "metadata": {},
   "source": [
    "## 29.2 - Magnetic Force Acting on a Current-Carrying Conductor"
   ]
  },
  {
   "cell_type": "markdown",
   "metadata": {},
   "source": [
    "**11.** A wire having a mass per unit length of $0.500\\text{ g/cm}$ carries a 2.00 A current horizontally to the south. What are the direction and magnitude of the minimum magnetic field needed to lift this wire vertically upward?"
   ]
  },
  {
   "cell_type": "markdown",
   "metadata": {},
   "source": [
    "**13.** A wire 2.80 m in length carries a current of 5.00 A in a region where a uniform magnetic field has a magnitude of $0.390\\text{ T}$. Calculate the magnitude of the magnetic force on the wire assuming the angle between the magnetic field and the current is (a) $60.0^\\circ$, (b) $90.0^\\circ$, (c) $120^\\circ$"
   ]
  },
  {
   "cell_type": "markdown",
   "metadata": {},
   "source": [
    "## 29.3 - Torque on a Current "
   ]
  },
  {
   "cell_type": "markdown",
   "metadata": {},
   "source": [
    "**21.** A small bar magnet is suspended in a uniform $0.250\\text{ T}$ magnetic field. The maximum torque experienced by the bar magnet is $4.60\\times10^{-3}\\text{ N}\\cdot\\text{m}$. Calculate the magnetic moment of the bar magnet."
   ]
  },
  {
   "cell_type": "markdown",
   "metadata": {},
   "source": [
    "**23.** A rectangular coil consists of $N=100$ closely wrapped turns and has dimensions of $a=4.00\\text{ m}$ and $b=0.300\\text{ m}$. The coil is hinged along the $y$ axis and its plane makes an angle $\\theta=30.0^\\circ$ with the $x$ axis (Fig. P29.23). What is the magnitude of the torque exerted on the coil by a uniform magnetic field $B=0.800\\text{ T}$ directed along the $x$ axis when the current is $I=1.20\\text{ A}$ in the direction shown? What is the expected direction of rotation of the coil?"
   ]
  },
  {
   "cell_type": "markdown",
   "metadata": {},
   "source": [
    "**27.** A wire if formed into a circle having a diameter of $10.0\\text{cm}$ and placed in a uniform magnetic field of $3.00\\text{ mT}$. The wire carries a current of $5.00\\text{ A}$. Find (a) the maxiumum torque on the wire and (b) the range of potential energies of the wire-field system for differential orientations of the circle."
   ]
  },
  {
   "cell_type": "markdown",
   "metadata": {},
   "source": [
    "## 29.4 - Motion of a Charged Particle in a Uniform Magnetic Field"
   ]
  },
  {
   "cell_type": "markdown",
   "metadata": {},
   "source": [
    "**29.** The magnetic field of the Earth at a certain location is directed vertically downward and has a magnitude of $50.0\\;\\mu\\text{T}$. A proton is moving horizontally toward the west in this field with a speed of $6.20\\times10^6\\text{ m/s}$. (a) What are the direction and magnitude of the magnetic force the field exerts on this charge? (b) What is the radius of the circular arc are followed by this proton?"
   ]
  },
  {
   "cell_type": "markdown",
   "metadata": {},
   "source": [
    "**37.** A cosmic-ray proton in interstellar space has an energy of $10.0\\text{ MeV}$ and executes a circular orbit having a radius equal to that of Mercury's orbit around the Sun $(5.80\\times10^{10}\\text{ m})$. What is the magnetic field in that region of space?"
   ]
  }
 ],
 "metadata": {
  "kernelspec": {
   "display_name": "Python 3",
   "language": "python",
   "name": "python3"
  },
  "language_info": {
   "codemirror_mode": {
    "name": "ipython",
    "version": 3
   },
   "file_extension": ".py",
   "mimetype": "text/x-python",
   "name": "python",
   "nbconvert_exporter": "python",
   "pygments_lexer": "ipython3",
   "version": "3.8.5"
  }
 },
 "nbformat": 4,
 "nbformat_minor": 4
}
