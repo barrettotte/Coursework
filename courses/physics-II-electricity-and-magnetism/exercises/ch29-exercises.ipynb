{
 "cells": [
  {
   "cell_type": "markdown",
   "metadata": {},
   "source": [
    "# Chapter 29 - Magnetic Fields"
   ]
  },
  {
   "cell_type": "markdown",
   "metadata": {},
   "source": [
    "## 29.1 - Magnetic Fields and Forces"
   ]
  },
  {
   "cell_type": "markdown",
   "metadata": {},
   "source": [
    "**5.** A proton moves perpendicular to a uniform magnetic field $\\vec{B}$ at $1.00\\times10^7\\text{ m/s}$ and experiences an acceleration of $2.00\\times10^{13}\\text{ m/s}^2$ in the +$x$ direction when its velocity is in the +$z$ direction. Determine the magnitude and direction of the field.\n",
    "\n",
    "$\\vec{F}=m\\vec{a}$\n",
    "$=q\\vec{v}\\times\\vec{B}$\n",
    "\n",
    "$B=-\\frac{ma}{qv}$\n",
    "$=-\\frac{(1.67\\times10^{-27})(2\\times10^{13})}{(1.6\\times10^{-19})(1.0\\times10^7)}$\n",
    "$=-2.1\\times10^{-2}\\text{ T}$\n",
    "\n",
    "$\\vec{B}=(-2.1\\times10^{-2}\\text{ T})\\vec{e}_y$"
   ]
  },
  {
   "cell_type": "markdown",
   "metadata": {},
   "source": [
    "**7.** A proton moving at $4.00\\times10^6\\text{ m/s}$ through a magnetic field of $1.70\\text{ T}$ experiences a magnetic force of magnitude $8.20\\times10^{-13}\\text{ N}$. What is the angle between the proton's velocity and the field?\n",
    "\n",
    "$F_B=|q|vB\\sin\\theta$\n",
    "$=q_pvB\\sin\\theta$\n",
    "\n",
    "$\\theta=\\sin^{-1}(\\frac{F_B}{q_pvB})$\n",
    "$=\\sin^{-1}\\left(\\frac{8.2\\times10^{-13}}{(1.6\\times10^{-19})(4\\times10^6)(1.7)}\\right)$\n",
    "$=48.9^\\circ$\n"
   ]
  },
  {
   "cell_type": "markdown",
   "metadata": {},
   "source": [
    "## 29.2 - Magnetic Force Acting on a Current-Carrying Conductor"
   ]
  },
  {
   "cell_type": "markdown",
   "metadata": {},
   "source": [
    "**13.** A wire 2.80 m in length carries a current of 5.00 A in a region where a uniform magnetic field has a magnitude of $0.390\\text{ T}$. Calculate the magnitude of the magnetic force on the wire assuming the angle between the magnetic field and the current is (a) $60.0^\\circ$, (b) $90.0^\\circ$, (c) $120^\\circ$\n",
    "\n",
    "$\\vec{F}_B=I\\vec{l}\\times\\vec{B}=IlB\\sin\\alpha$\n",
    "\n",
    "**a.**\n",
    "$\\vec{F}_B=(5)(2.80)(0.390)\\sin60^\\circ$\n",
    "$=4.7\\text{ N}$\n",
    "\n",
    "**b.**\n",
    "$\\vec{F}_B=(5)(2.80)(0.390)\\sin90^\\circ$\n",
    "$=5.5\\text{ N}$\n",
    "\n",
    "**c.**\n",
    "$\\vec{F}_B=(5)(2.80)(0.390)\\sin120^\\circ$\n",
    "$=4.7\\text{ N}$"
   ]
  },
  {
   "cell_type": "markdown",
   "metadata": {},
   "source": [
    "## 29.3 - Torque on a Current "
   ]
  },
  {
   "cell_type": "markdown",
   "metadata": {},
   "source": [
    "**21.** A small bar magnet is suspended in a uniform $0.250\\text{ T}$ magnetic field. The maximum torque experienced by the bar magnet is $4.60\\times10^{-3}\\text{ N}\\cdot\\text{m}$. Calculate the magnetic moment of the bar magnet.\n",
    "\n",
    "\n",
    "$\\vec{\\tau}=\\vec{\\mu}\\times\\vec{B}$\n",
    "$\\implies\\tau=\\mu B\\sin\\theta$\n",
    "\n",
    "$\\tau=\\mu B\\sin(\\frac{\\pi}{2})$\n",
    "$\\implies\\mu=\\frac{\\tau}{B}$\n",
    "\n",
    "$\\mu=\\frac{4.6\\times10^{-3}}{0.25}=0.0184\\text{ Am}^2$"
   ]
  },
  {
   "cell_type": "markdown",
   "metadata": {},
   "source": [
    "**27.** A wire if formed into a circle having a diameter of $10.0\\text{cm}$ and placed in a uniform magnetic field of $3.00\\text{ mT}$. The wire carries a current of $5.00\\text{ A}$. Find (a) the maxiumum torque on the wire and (b) the range of potential energies of the wire-field system for differential orientations of the circle.\n",
    "\n",
    "**a.**\n",
    "\n",
    "$\\vec{\\tau}=\\vec{\\mu}\\times\\vec{B}$\n",
    "\n",
    "$\\vec{\\mu}=I\\vec{A}$\n",
    "$=IR^2\\pi$\n",
    "\n",
    "$\\tau=\\mu B\\sin\\theta$\n",
    "$=\\mu B\\sin(\\frac{\\pi}{2})$\n",
    "\n",
    "$\\tau=IR^2\\pi B$\n",
    "$=5(5\\times10^{-2})\\pi(3\\times10^{-3})$\n",
    "$1.2\\times10^{-4}\\text{ Nm}$\n",
    "\n",
    "**b.**\n",
    "\n",
    "$U=-\\vec{\\mu}\\cdot\\vec{B}$\n",
    "$=-\\mu B\\cos\\theta$\n",
    "\n",
    "$U_{min}=-\\mu B\\cos\\theta$\n",
    "$=-1.2\\times10^{-4}\\text{ J}$\n",
    "\n",
    "$U_{max}=\\mu B$\n",
    "$=1.2\\times10^{-4}\\text{ J}$\n"
   ]
  },
  {
   "cell_type": "markdown",
   "metadata": {},
   "source": [
    "## 29.4 - Motion of a Charged Particle in a Uniform Magnetic Field"
   ]
  },
  {
   "cell_type": "markdown",
   "metadata": {},
   "source": [
    "**29.** The magnetic field of the Earth at a certain location is directed vertically downward and has a magnitude of $50.0\\;\\mu\\text{T}$. A proton is moving horizontally toward the west in this field with a speed of $6.20\\times10^6\\text{ m/s}$. (a) What are the direction and magnitude of the magnetic force the field exerts on this charge? (b) What is the radius of the circular arc are followed by this proton?\n",
    "\n",
    "**a.**\n",
    "\n",
    "$\\vec{F}_B=q\\vec{v}\\times\\vec{B}$\n",
    "\n",
    "$\\vec{F}_B=q(-v)(-B)\\vec{e}_y\\times\\vec{e}_z$\n",
    "\n",
    "$\\vec{F}_B=(1.6\\times10^{-19})(6.2\\times10^6)(50\\times10^{-6})\\vec{e}_x$\n",
    "\n",
    "**b.**\n",
    "\n",
    "$qvB=\\frac{mv^2}{r}$\n",
    "$\\implies r=\\frac{mv}{qB}$\n",
    "\n",
    "$r=\\frac{(1.67\\times10^{-27})(6.2\\times10^6)}{(1.6\\times10^{-19})(50\\times10^{-6})}$\n",
    "$=0.13\\times10^4\\text{ m}$"
   ]
  },
  {
   "cell_type": "markdown",
   "metadata": {},
   "source": [
    "**37.** A cosmic-ray proton in interstellar space has an energy of $10.0\\text{ MeV}$ and executes a circular orbit having a radius equal to that of Mercury's orbit around the Sun $(5.80\\times10^{10}\\text{ m})$. What is the magnetic field in that region of space?\n",
    "\n",
    "$\\vec{F}_B=q\\vec{v}\\times\\vec{B}$\n",
    "\n",
    "$F_B=qvB$\n",
    "$=F_c=\\frac{mv^2}{r}$\n",
    "\n",
    "$v=\\sqrt{\\frac{2E}{m}}$\n",
    "\n",
    "$q\\sqrt{\\frac{2E}{m}}B=\\frac{m}{r}\\frac{2E}{m}$\n",
    "$\\implies B=\\frac{\\sqrt{2Em}}{qr}$\n",
    "\n",
    "$10\\text{ MeV}=(10\\times10^6)(1.6\\times10^{-19})=16\\times10^{-19}\\text{ J}$\n",
    "\n",
    "$B=\\frac{\\sqrt{2(16\\times10^{-19})(1.67\\times10^{-27})}}{(1.6\\times10^{-19})(5.8\\times10^{10})}$\n",
    "$=0.8\\times10^{-10}\\text{ T}$"
   ]
  }
 ],
 "metadata": {
  "kernelspec": {
   "display_name": "Python 3",
   "language": "python",
   "name": "python3"
  },
  "language_info": {
   "codemirror_mode": {
    "name": "ipython",
    "version": 3
   },
   "file_extension": ".py",
   "mimetype": "text/x-python",
   "name": "python",
   "nbconvert_exporter": "python",
   "pygments_lexer": "ipython3",
   "version": "3.8.5"
  }
 },
 "nbformat": 4,
 "nbformat_minor": 4
}
