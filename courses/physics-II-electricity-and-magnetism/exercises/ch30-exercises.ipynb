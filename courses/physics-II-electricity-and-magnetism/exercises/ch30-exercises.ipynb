{
 "cells": [
  {
   "cell_type": "markdown",
   "metadata": {},
   "source": [
    "# Chapter 30 - Sources of the Magnetic Field"
   ]
  },
  {
   "cell_type": "markdown",
   "metadata": {},
   "source": [
    "## 30.1 - The Biot-Savart Law"
   ]
  },
  {
   "cell_type": "markdown",
   "metadata": {},
   "source": [
    "**1.** In Niels Bohr's 1913 model of the hydrogen atom an electron circles the proton at a distance of $5.29\\times10^{-11}\\text{ m}$ with a speed of $2.19\\times10^6\\text{ m/s}$. Compute the magnitude of the magnetic field that this motion produces at the location of the proton."
   ]
  },
  {
   "cell_type": "markdown",
   "metadata": {},
   "source": [
    "**3.** (a) A conductor in the shape of a square loop of edge length $l=0.400\\text{ m}$ carries a current $I=10.0\\text{ A}$ as in Fig.P30.3. Calculate the magnitude and direction of the magnetic field at the center of the square. (b) If this conductor is formed into a single circularr turn and carries the same current, what is the value of the magnetic field at the center?"
   ]
  },
  {
   "cell_type": "markdown",
   "metadata": {},
   "source": [
    "**7.** The segment of wire in Figure P30.7 carries a current of $I=5.00\\text{ A}$, where the raduys of the circular arc is $R=3.00\\text{ cm}$. Determine the magnitude and direction of the magnetic field at the origin."
   ]
  },
  {
   "cell_type": "markdown",
   "metadata": {},
   "source": [
    "## 30.2 - The Magnetic Force Between Two Parallel Conductors"
   ]
  },
  {
   "cell_type": "markdown",
   "metadata": {},
   "source": [
    "**17.** In Figure P30.17, the current in the long, straight wire is $I_1=5.00\\text{ A}$ and the wire lies in the plane of the rectangular loop, which carries the current $I_2=10.0\\text{ A}$. The dimensions are $c=0.100\\text{ m}$, $a=0.150\\text{ m}$, and $l=0.450\\text{ m}$. Find the magnitude and direction of the net force exerted on the loop by the magnetic field created by the wire."
   ]
  },
  {
   "cell_type": "markdown",
   "metadata": {},
   "source": [
    "## 30.3 - Ampere's Law"
   ]
  },
  {
   "cell_type": "markdown",
   "metadata": {},
   "source": [
    "**21.** Four long, parallel conductors carry equal currents of $I=5.00\\text{ A}$. Figure P30.21 is an end view of the conductors. The current direction nis into the page at points $A$ and $B$ (indicated by the crosses) and out of the page at $C$ and $D$ (indicated by the dots). Calculate the magnitude and direction of the magnetic field at point $P$, located at the center of the square of edge length $0.200\\text{ m}$."
   ]
  },
  {
   "cell_type": "markdown",
   "metadata": {},
   "source": [
    "**23.** Figure P30.23 is a cross-sectional view of a coaxial cable. The center conductor is surrounded by a rubber layer, which is surrounded by an outer conductor, which is surrounded by another rubber layer. In a particular application, the current in the inner conductor is $1.00\\text{ A}$ out of the page and the current in the outer conductor is $3.00\\text{ A}$ into the page. Determine the magnitude and direction of the magnetic field at points $a$ and $b$."
   ]
  },
  {
   "cell_type": "markdown",
   "metadata": {},
   "source": [
    "**25.** A packed bundle of 100 long, straight, insulated wires form a cylinder of radius $R=0.500\\text{ cm}$. (a) If each wire carries $2.00\\text{ A}$, what are the magnitude and direction of the magnetic force per unit length acting on a wire located $0.200\\text{ cm}$ from the center of the bundler? (b) Would a wire on the outer edge of the bundle experience a force greater or smaller than the value calculated in part (a)?"
   ]
  },
  {
   "cell_type": "markdown",
   "metadata": {},
   "source": [
    "## 30.4 - The Magnetic Field of a Solenoid"
   ]
  },
  {
   "cell_type": "markdown",
   "metadata": {},
   "source": [
    "**31.** What current is required in the windings of a long solenoid that has 1000 turns uniformly distributed over a length of $0.400\\text{ m}$, to produce at the center of the solenoid a magnetic field of magnitude $1.00\\times10^{-4}\\text{ T}$?"
   ]
  },
  {
   "cell_type": "markdown",
   "metadata": {},
   "source": [
    "**33.** A single-turn square loop of wire, 2.00 cm on each edge, carries a clockwise current of 0.200 A. The loop is inside a solenoid, with the plane of the loop perpendicular to the magnetic field of the solenoid. The solenoid has 30 turns/cm and carries a clockwise current of 15.0 A. Find the force on each side of the loop and the torque acting on the loop."
   ]
  },
  {
   "cell_type": "markdown",
   "metadata": {},
   "source": [
    "## 30.5 - Magnetic Flux"
   ]
  },
  {
   "cell_type": "markdown",
   "metadata": {},
   "source": [
    "**35.** A cube of edge length $l=2.50\\text{ cm}$ is positioned as shown in Figure P30.35. A uniform magnetic field given by $\\vec{B}=(5\\hat{i}+4\\hat{j}+3\\hat{k})\\text{ T}$ exists throughout the region. (a) Calculate the flux through the shaded face. (b) What is the total flux through the six faces?"
   ]
  },
  {
   "cell_type": "markdown",
   "metadata": {},
   "source": [
    "## 30.7 - Displacement Current and the General Form of Ampere's Law"
   ]
  },
  {
   "cell_type": "markdown",
   "metadata": {},
   "source": [
    "**37.** A $0.100\\text{ A}$ current is charging a capacitor that has square plates $5.00\\text{ cm}$ on each side. The plate separation is $4.00\\text{ mm}$. Find (a) the time rate of change of electric flux between the plates and (b) the displacement current between the plates."
   ]
  }
 ],
 "metadata": {
  "kernelspec": {
   "display_name": "Python 3",
   "language": "python",
   "name": "python3"
  },
  "language_info": {
   "codemirror_mode": {
    "name": "ipython",
    "version": 3
   },
   "file_extension": ".py",
   "mimetype": "text/x-python",
   "name": "python",
   "nbconvert_exporter": "python",
   "pygments_lexer": "ipython3",
   "version": "3.8.5"
  }
 },
 "nbformat": 4,
 "nbformat_minor": 4
}
