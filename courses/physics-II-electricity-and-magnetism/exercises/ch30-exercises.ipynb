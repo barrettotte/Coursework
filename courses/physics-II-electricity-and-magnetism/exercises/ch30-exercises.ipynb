{
 "cells": [
  {
   "cell_type": "markdown",
   "metadata": {},
   "source": [
    "# Chapter 30 - Sources of the Magnetic Field"
   ]
  },
  {
   "cell_type": "markdown",
   "metadata": {},
   "source": [
    "## 30.1 - The Biot-Savart Law"
   ]
  },
  {
   "cell_type": "markdown",
   "metadata": {},
   "source": [
    "**1.** In Niels Bohr's 1913 model of the hydrogen atom an electron circles the proton at a distance of $5.29\\times10^{-11}\\text{ m}$ with a speed of $2.19\\times10^6\\text{ m/s}$. Compute the magnitude of the magnetic field that this motion produces at the location of the proton.\n",
    "\n",
    "$B=\\frac{\\mu_0I}{2\\pi r}$\n",
    "\n",
    "$I=\\frac{q}{T}$\n",
    "\n",
    "$T=\\frac{2\\pi}{\\omega},\\quad \\omega=\\frac{v}{r}$\n",
    "\n",
    "$I=\\frac{qv}{2\\pi r}$\n",
    "\n",
    "$B=\\frac{\\mu_0I}{2\\pi r}$\n",
    "$=\\frac{(4\\pi\\times10^{-7})}{2\\pi(5.29\\times10^{-11})}\\cdot \\frac{(1.6\\times10^{-19})(2.19\\times10^6)}{2\\pi (5.29\\times10^{-11})}$\n",
    "$=3.99\\text{ T}$\n"
   ]
  },
  {
   "cell_type": "markdown",
   "metadata": {},
   "source": [
    "**7.** The segment of wire in Figure P30.7 carries a current of $I=5.00\\text{ A}$, where the radius of the circular arc is $R=3.00\\text{ cm}$. Determine the magnitude and direction of the magnetic field at the origin.\n",
    "\n",
    "$d\\vec{B}=d\\vec{s}\\times\\vec{r}=0$\n",
    "\n",
    "$B=\\frac{B_{wire}}{4}=\\frac{\\mu_0I}{4(2R)}=\\frac{\\mu_0 I}{8R}$\n",
    "\n",
    "$B=\\frac{(4\\pi\\times10^{-7})\\cdot 5}{8(0.03)}=26.2\\times10^{-6}\\text{ T}$"
   ]
  },
  {
   "cell_type": "markdown",
   "metadata": {},
   "source": [
    "## 30.3 - Ampere's Law"
   ]
  },
  {
   "cell_type": "markdown",
   "metadata": {},
   "source": [
    "**21.** Four long, parallel conductors carry equal currents of $I=5.00\\text{ A}$. Figure P30.21 is an end view of the conductors. The current direction nis into the page at points $A$ and $B$ (indicated by the crosses) and out of the page at $C$ and $D$ (indicated by the dots). Calculate the magnitude and direction of the magnetic field at point $P$, located at the center of the square of edge length $0.200\\text{ m}$.\n",
    "\n",
    "$r=\\sqrt{(\\frac{l}{2})^2+(\\frac{l}{2})^2}$\n",
    "$=\\sqrt{\\frac{2l^2}{4}}$\n",
    "$=\\frac{l}{\\sqrt{2}}$\n",
    "\n",
    "$B=\\frac{\\mu_0 NI}{2\\pi r}$\n",
    "$=\\frac{\\mu_0(\\sqrt{2})I}{2\\pi l}$\n",
    "$=\\frac{\\mu_0I}{\\sqrt{2}\\pi l}$\n",
    "\n",
    "$B_\\text{net}=4B\\cos45^\\circ$\n",
    "$=4(\\frac{\\mu_0I}{\\sqrt{2}\\pi l})\\cos45^\\circ$\n",
    "$=\\frac{2\\mu_0 I}{\\pi l}$\n",
    "\n",
    "$B_\\text{net}=\\frac{2(4\\pi\\times10^{-7})\\cdot 5}{\\pi(0.2)}$\n",
    "$=2\\times10^{-5}\\text{ T}$"
   ]
  },
  {
   "cell_type": "markdown",
   "metadata": {},
   "source": [
    "**23.** Figure P30.23 is a cross-sectional view of a coaxial cable. The center conductor is surrounded by a rubber layer, which is surrounded by an outer conductor, which is surrounded by another rubber layer. In a particular application, the current in the inner conductor is $1.00\\text{ A}$ out of the page and the current in the outer conductor is $3.00\\text{ A}$ into the page. Determine the magnitude and direction of the magnetic field at points $a$ and $b$.\n",
    "\n",
    "$\\vec{B}_a=\\vec{B}_{1a}+\\vec{B}_{2a}$\n",
    "\n",
    "$B_a=\\sqrt{(B_{1a})^2+(B_{2a})^2}$\n",
    "\n",
    "$B_12\\pi a=\\mu_0I_1$\n",
    "$\\implies B_1=\\frac{\\mu_0I_1}{2\\pi a}$\n",
    "$=2\\times10^{-4}\\text{ T}$\n",
    "\n",
    "$B_a=B_{1a}=2\\times10^{-4}\\text{ T}$ directed upward\n",
    "\n",
    "$B_b=\\sqrt{(B_{1b})^2+(B_{2b})^2}$\n",
    "\n",
    "$B_{1b}=\\frac{\\mu_0I_1}{2\\pi b}=0.7\\times10^{-4}$\n",
    "\n",
    "$B_{2b}=\\frac{\\mu_0I_2}{2\\pi a}=2\\times10^{-4}$\n",
    "\n",
    "$B_b=B_{2b}-B_{1b}=1.3\\times10^{-4}\\text{ T}$ directed downward"
   ]
  },
  {
   "cell_type": "markdown",
   "metadata": {},
   "source": [
    "## 30.4 - The Magnetic Field of a Solenoid"
   ]
  },
  {
   "cell_type": "markdown",
   "metadata": {},
   "source": [
    "**31.** What current is required in the windings of a long solenoid that has 1000 turns uniformly distributed over a length of $0.400\\text{ m}$, to produce at the center of the solenoid a magnetic field of magnitude $1.00\\times10^{-4}\\text{ T}$?\n",
    "\n",
    "$B=\\frac{\\mu_0 NI}{l}$\n",
    "$\\implies I=\\frac{Bl}{\\mu_0 N}$\n",
    "\n",
    "$I=\\frac{0.4\\times10^{-4}}{(4\\pi\\times10^{-7})\\cdot 1000}$\n",
    "$=32\\times10^{-3}=32\\text{ mA}$"
   ]
  },
  {
   "cell_type": "markdown",
   "metadata": {},
   "source": [
    "**33.** A single-turn square loop of wire, 2.00 cm on each edge, carries a clockwise current of 0.200 A. The loop is inside a solenoid, with the plane of the loop perpendicular to the magnetic field of the solenoid. The solenoid has 30 turns/cm and carries a clockwise current of 15.0 A. Find the force on each side of the loop and the torque acting on the loop.\n",
    "\n",
    "$B=\\mu_0 NI_s$\n",
    "$=(4\\pi\\times10^{-7})(30\\times10^2)(15)$\n",
    "$=0.0565\\text{ T}$\n",
    "\n",
    "$F_B=I_lLB\\sin\\theta$\n",
    "$=(0.2)(0.02)(0.0565)\\sin90^\\circ$\n",
    "\n",
    "$F_B=2.02\\times10^{-4}\\text{ N}$ away from center\n",
    "\n",
    "$\\tau=0$"
   ]
  },
  {
   "cell_type": "markdown",
   "metadata": {},
   "source": [
    "## 30.5 - Magnetic Flux"
   ]
  },
  {
   "cell_type": "markdown",
   "metadata": {},
   "source": [
    "**35.** A cube of edge length $l=2.50\\text{ cm}$ is positioned as shown in Figure P30.35. A uniform magnetic field given by $\\vec{B}=(5\\hat{i}+4\\hat{j}+3\\hat{k})\\text{ T}$ exists throughout the region. (a) Calculate the flux through the shaded face. (b) What is the total flux through the six faces?\n",
    "\n",
    "**a.**\n",
    "\n",
    "$\\displaystyle \\Phi_B=\\oint\\vec{B}\\cdot d\\vec{A}=0$\n",
    "\n",
    "$\\vec{A}=A\\hat{i}=l^2\\hat{i}=(6.25\\times10^{-4})\\hat{i}$\n",
    "\n",
    "$\\Phi_B=\\vec{B}\\cdot\\vec{A}$\n",
    "$=(5\\hat{i}+4\\hat{j}+3\\hat{k})\\cdot((6.25\\times10^{-4})\\hat{i})$\n",
    "$=3.13\\times10^{-3}\\text{ Wb}$\n",
    "\n",
    "**b.**\n",
    "\n",
    "$\\displaystyle \\Phi_B=\\oint\\vec{B}\\cdot d\\vec{A}=0$"
   ]
  }
 ],
 "metadata": {
  "kernelspec": {
   "display_name": "Python 3",
   "language": "python",
   "name": "python3"
  },
  "language_info": {
   "codemirror_mode": {
    "name": "ipython",
    "version": 3
   },
   "file_extension": ".py",
   "mimetype": "text/x-python",
   "name": "python",
   "nbconvert_exporter": "python",
   "pygments_lexer": "ipython3",
   "version": "3.8.5"
  }
 },
 "nbformat": 4,
 "nbformat_minor": 4
}
