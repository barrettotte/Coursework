{
 "cells": [
  {
   "cell_type": "markdown",
   "metadata": {},
   "source": [
    "# Exam 3 - Double Integrals and Line Integrals in the Plane"
   ]
  },
  {
   "cell_type": "markdown",
   "metadata": {},
   "source": [
    "**1.** Let $(\\bar{x},\\bar{y})$ be the center of mass of the triangle with vertices\n",
    "at $(-2,0),\\;(0,1),\\;(2,0)$ and uniform density $\\delta=1$\n",
    "\n",
    "a) Write an integral formula for $\\bar{y}$. Do not evaluate the integral(s), but write\n",
    "explicitly the integrand and limits of integration.\n",
    "\n",
    "$A=\\frac{1}{2}bh$\n",
    "\n",
    "$A=\\frac{1}{2}(4)(1)=2$\n",
    "\n",
    "<br>\n",
    "\n",
    "right side: $y=mx+b\\implies y=\\frac{1}{2}x+1 \\implies x=2y-2$\n",
    "\n",
    "left side: reflect over y-axis $\\implies x=2-2y$\n",
    "\n",
    "$\\bar{y}=\\frac{1}{2}\\int_0^1\\int_{2y-2}^{2-2y}y\\;dxdy$\n",
    "\n",
    "\n",
    "b) Find $\\bar{x}$\n",
    "\n",
    "Triangle is symmetric $\\implies \\bar{x}=0$"
   ]
  },
  {
   "cell_type": "markdown",
   "metadata": {},
   "source": [
    "<hr>\n",
    "\n",
    "**2.** Find the polar amount of inertia of the unit desk with density equal to the distance from the $y$-axis\n",
    "\n",
    "$I_O=\\iint\\limits_D r^2\\delta r drd\\theta$\n",
    "\n",
    "$\\int_0^{2\\pi}\\int_0^1 r^2\\delta r drd\\theta$\n",
    "$=\\int_0^{2\\pi}\\int_0^1 r^2|r\\cos\\theta|rdrd\\theta$\n",
    "\n",
    "$=4\\int_0^{\\pi/2}\\int_0^1 r^4\\cos(\\theta)drd\\theta$\n",
    "\n",
    "\n",
    "$\\int_0^1 r^4\\cos\\theta drd\\theta$\n",
    "$=\\cos\\theta\\int_0^1r^4drd\\theta$\n",
    "\n",
    "$=\\cos(\\theta)\\big[\\frac{r^5}{5}\\big]_0^1$\n",
    "$=\\cos(\\theta)\\frac{1}{5}$\n",
    "\n",
    "$4\\int_0^{\\pi/2}\\cos(\\theta)\\frac{1}{5}d\\theta$\n",
    "$=\\frac{4}{5}\\int_0^{\\pi/2}\\cos(\\theta) d\\theta$\n",
    "$=\\frac{4}{5}\\big[\\sin(\\theta)\\big]_0^{\\pi/2}$\n",
    "$=\\frac{4}{5}$\n",
    "\n",
    "**answer:** $\\frac{4}{5}$"
   ]
  },
  {
   "cell_type": "markdown",
   "metadata": {},
   "source": [
    "<hr>\n",
    "\n",
    "**3.** Let $\\vec{F}=(ax^2y+y^3+1)\\hat{i}+(2x^3+bxy^2+2)\\hat{j}$\n",
    "be a vector field, where $a$ and $b$ are constants.\n",
    "\n",
    "Find the values of $a$ and $b$ for which $\\vec{F}$ is conservative.\n",
    "\n",
    "$\\vec{F}=P\\hat{i}+Q\\hat{j}$ is conservative when $P_y=Q_x$\n",
    "\n",
    "$Q_x=6x^2+by^2,\\quad P_y=ax^2+3y^2$\n",
    "\n",
    "$6x^2+by^2=ax^2+3y^2 \\implies a=6,\\;b=3$\n",
    "\n",
    "**answer:** $a=6,b=3$"
   ]
  },
  {
   "cell_type": "markdown",
   "metadata": {},
   "source": [
    "<hr>\n",
    "\n",
    "**4.** For $\\vec{F}=yx^3\\hat{i}+y^2\\hat{j}$, find $\\int_C \\vec{F}\\cdot d\\vec{r}$ on\n",
    "the portion of the curve $y=x^2$ from $(0,0)$ to $(1,1)$\n",
    "\n",
    "$\\int_C yx^3dx+y^2dy$\n",
    "$=\\int_0^1 (x^2)x^3dx + (x^2)^2(2xdx)$\n",
    "\n",
    "$=\\int_0^1 3x^5dx$\n",
    "$=\\big[ \\frac{3x^6}{6} \\big]_0^1$\n",
    "$=\\frac{1}{2}$\n",
    "\n",
    "**answer:** $\\frac{1}{2}$"
   ]
  },
  {
   "cell_type": "markdown",
   "metadata": {},
   "source": [
    "<hr>\n",
    "\n",
    "**5.** Consider the region $R$ in the first quadrant bounded by the curves $y=x^2,\\;y=x^2/5,\\;xy=2$, and $xy=4$\n",
    "\n",
    "a) Compute $dxdy$ in terms of $dudv$ if $u=x^2/y$ and $v=xy$\n",
    "\n",
    "$\\frac{\\partial(x,y)}{\\partial(u,v)}=$\n",
    "$\\begin{vmatrix}\\frac{\\partial x}{\\partial u}& \\frac{\\partial x}{\\partial v}\\\\ \\frac{\\partial y}{\\partial u}& \\frac{\\partial y}{\\partial v}\\end{vmatrix}$\n",
    "$= \\frac{\\partial x}{\\partial u}\\frac{\\partial y}{\\partial v}-\\frac{\\partial x}{\\partial v}\\frac{\\partial y}{\\partial u}$\n",
    "\n",
    "$\\begin{vmatrix} \\frac{2x}{y}&\\frac{-x^2}{y^2}\\\\y&x \\end{vmatrix}$\n",
    "$=\\frac{3x^2}{y}$\n",
    "\n",
    "$dudv=(\\frac{3x^2}{y})dxdy$\n",
    "$=3u\\;dxdy$\n",
    "$\\implies dxdy=\\frac{1}{3u}dudv$\n",
    "\n",
    "b) Find a double integral for the area of $R$ in $uv$ coordinates and evaluate it."
   ]
  },
  {
   "cell_type": "markdown",
   "metadata": {},
   "source": [
    "<hr>\n",
    "\n",
    "**6.** a) Let $C$ be a simple closed curve going counterwise around a region $R$.\n",
    "Let $M=M(x,y)$. Express $\\oint_C Mdx$ as a double integral over $R$.\n",
    "\n",
    "\n",
    "$\\int_C Pdx + Qdy = \\iint\\limits_D\\left(\\frac{\\partial Q}{\\partial x}-\\frac{\\partial P}{\\partial y}\\right)dA$\n",
    "\n",
    "$\\oint_C Mdx=\\iint\\limits_R -M_y dA$\n",
    "\n",
    "<br>\n",
    "\n",
    "b) Find $M$ so that $\\oint_C Mdx$ is the mass of $R$ with density $\\delta(x,y)=(x+y)^2$."
   ]
  },
  {
   "cell_type": "markdown",
   "metadata": {},
   "source": [
    "<hr>\n",
    "\n",
    "**7.** Consider the region $R$ enclosed by the $x$-axis, $x=1$, and $y=x^3$.\n",
    "\n",
    "a) Use the normal form of Green's theorem to find the flux of $\\vec{F}=(1+y^2)\\hat{j}$ out of $R$.\n",
    "\n",
    "$\\oint_C Pdy-Qdx = \\iint\\limits_R(\\frac{\\partial P}{\\partial x}+\\frac{\\partial Q}{\\partial y})dA$\n",
    "$=\\iint\\limits_R \\text{div}\\;\\vec{F}\\;dA$\n",
    "\n",
    "$\\text{div}\\;\\vec{F}=\\frac{\\partial P}{\\partial x}$\n",
    "$+\\frac{\\partial Q}{\\partial y}$\n",
    "\n",
    "<br>\n",
    "\n",
    "$\\text{div}\\;\\vec{F}=\\frac{\\partial}{\\partial y}(1+y^2)$\n",
    "$=2y$\n",
    "\n",
    "$\\iint\\limits_R 2y\\;dA$\n",
    "$=\\int_0^1\\int_0^{x^3} 2y\\;dydx$\n",
    "\n",
    "$\\int_0^{x^3}2y\\;dy$\n",
    "$=2\\big[\\frac{y^2}{2}\\big]_0^{x^3}$\n",
    "$=2(\\frac{x^6}{2})$\n",
    "$=x^6$\n",
    "\n",
    "$\\int_0^1 x^6\\;dx$\n",
    "$=\\big[\\frac{x^7}{7}\\big]_0^1$\n",
    "$=\\frac{1}{7}$\n",
    "\n",
    "<br>\n",
    "\n",
    "b) Find the flux out of $R$ through the two sides $C_1$ (the horizontal segment)\n",
    "and $C_2$ (the vertical segment)."
   ]
  }
 ],
 "metadata": {
  "kernelspec": {
   "display_name": "Python 3.6.9 64-bit",
   "language": "python",
   "name": "python36964bit02ef2681bbc5400fadc04eb658c88111"
  },
  "language_info": {
   "codemirror_mode": {
    "name": "ipython",
    "version": 3
   },
   "file_extension": ".py",
   "mimetype": "text/x-python",
   "name": "python",
   "nbconvert_exporter": "python",
   "pygments_lexer": "ipython3",
   "version": "3.6.9"
  }
 },
 "nbformat": 4,
 "nbformat_minor": 4
}
