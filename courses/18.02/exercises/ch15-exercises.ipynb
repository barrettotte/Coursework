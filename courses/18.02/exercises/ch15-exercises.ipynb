{
 "cells": [
  {
   "cell_type": "markdown",
   "metadata": {},
   "source": [
    "# Chapter 15 - Multiple Integrals"
   ]
  },
  {
   "cell_type": "markdown",
   "metadata": {},
   "source": [
    "**3.** Calculate the iterated integral $\\int_1^2\\int_0^2(y+2xe^y)dxdy$\n",
    "\n",
    "$\\int_0^2 y\\;dx + \\int_0^2 2e^y x\\;dx$\n",
    "\n",
    "$[yx]\\big|_0^2 + 2e^y\\left[\\frac{x^2}{2}\\right]_0^2$\n",
    "$=2y + 2e^2\\cdot 2$\n",
    "$=2y+4e^y$\n",
    "\n",
    "<br>\n",
    "\n",
    "$\\int_1^2 2y+4e^y\\;dy$\n",
    "$=\\int_1^2 2y\\;dy + \\int_1^2 4e^y\\;dy$\n",
    "\n",
    "$2\\left[ \\frac{y^2}{2} \\right]_1^2 + 4\\left[ e^y \\right]_1^2$\n",
    "$=(2\\cdot\\frac{3}{2}) + 4(e^2-e)$\n",
    "\n",
    "**answer:** $3+4(e^2-e)$"
   ]
  },
  {
   "cell_type": "markdown",
   "metadata": {},
   "source": [
    "<hr>\n",
    "\n",
    "**5.** Calculate the iterated integral $\\int_0^1\\int_0^x\\cos(x^2)dydx$\n",
    "\n",
    "$\\int_0^x \\cos^2(x)dy$\n",
    "$=\\cos^2(x)y\\big|_0^x$\n",
    "$=x\\cos^2(x)$\n",
    "\n",
    "$\\int_0^1 x\\cos^2(x)dx$\n",
    "\n",
    "$\\int uv'=uv-\\int u'v\\quad$ (integration by parts) \n",
    "\n",
    "$u=x \\quad v'=\\cos^2(x)$\n",
    "\n",
    "$u'=\\frac{d}{dx}(x)=1 \\quad v=\\frac{1}{2}(x+\\frac{1}{2}\\sin(2x))$\n",
    "\n",
    "$[x\\frac{1}{2}(x+\\frac{1}{2}\\sin(2x)) - \\frac{1}{2}(\\frac{x^2}{2}-\\frac{1}{4}\\cos(2x))]\\big|_0^1$\n",
    "\n",
    "$[\\frac{1}{8}(2x^2 + 2x\\sin(2x)+\\cos(2x))]_0^1$\n",
    "\n",
    "**answer:** $\\frac{1}{8}+\\frac{1}{4}\\sin(2)+\\frac{1}{8}\\cos(2)$\n",
    "\n"
   ]
  },
  {
   "cell_type": "markdown",
   "metadata": {},
   "source": [
    "<hr>\n",
    "\n",
    "**11.** Describe the region whose area is given by the integral $\\int_0^{\\pi/2}\\int_0^{\\sin2\\theta}rdrd\\theta$"
   ]
  },
  {
   "cell_type": "markdown",
   "metadata": {},
   "source": [
    "<hr>\n",
    "\n",
    "**15.** Calculate\n",
    "$\\iint\\limits_R ye^{xy}dA$, where $R=\\{(x,y)\\;|\\;0\\le x\\le 2,\\; 0\\le y\\le 3\\}$"
   ]
  },
  {
   "cell_type": "markdown",
   "metadata": {},
   "source": [
    "<hr>\n",
    "\n",
    "**17.** Calculate $\\iint\\limits_D \\frac{y}{1+x^2}dA$, where $D$ is bounded by $y=\\sqrt{x}, y=0, x=1$"
   ]
  },
  {
   "cell_type": "markdown",
   "metadata": {},
   "source": [
    "<hr>\n",
    "\n",
    "**23.** Calculate $\\iiint\\limits_E xydV$, where $E=\\{(x,y,z)\\;|\\;0\\le x\\le 3,\\; 0\\le y\\le x,\\; 0\\le z\\le x+y\\}$"
   ]
  },
  {
   "cell_type": "markdown",
   "metadata": {},
   "source": [
    "<hr>\n",
    "\n",
    "**25.** Calculate $\\iiint\\limits_E y^2z^2 dV$, where $E$ is bounded by the paraboloid $x=1-y^2-z^2$ and the plane $x=0$"
   ]
  },
  {
   "cell_type": "markdown",
   "metadata": {},
   "source": [
    "<hr>\n",
    "\n",
    "**29.** Find the volume under the paraboloid $z=x^2+4y^2$ and above the rectangle $R=[0,2]\\times[1,4]$"
   ]
  },
  {
   "cell_type": "markdown",
   "metadata": {},
   "source": [
    "<hr>\n",
    "\n",
    "**31.** Find the volume of one of the wedges cut from the cylinder $x^2+9y^2=a^2$ by the planes $z=0$ and $z=mx$"
   ]
  },
  {
   "cell_type": "markdown",
   "metadata": {},
   "source": [
    "<hr>\n",
    "\n",
    "**35.** Consider a lamina that occupies the region $D$ bounded by the parabola $x=1-y^2$ and the coordinate axes in the first quadrant with density function $\\rho(x,y)=y$.\n",
    "\n",
    "a). Find the mass of the lamina\n",
    "\n",
    "b). Find the center of mass\n",
    "\n",
    "c). Find the moments of inertia and radii of gyration about the x- and y- axes"
   ]
  },
  {
   "cell_type": "markdown",
   "metadata": {},
   "source": [
    "<hr>\n",
    "\n",
    "**41.** Use polar coordinates to evaluate $\\int_0^3\\int_{-\\sqrt{9-x^2}}^{\\sqrt{9-x^2}}(x^3+xy^2)dydx$"
   ]
  },
  {
   "cell_type": "markdown",
   "metadata": {},
   "source": [
    "<hr>\n",
    "\n",
    "**49.** Use the transformation $u=x-y,\\;v=x+y$ to evaluate $\\iint\\limits_R \\frac{x-y}{x+y}dA$\n",
    "where $R$ is the square with vertices $(0,2),\\;(1,1),\\;(2,2),\\;(1,3)$"
   ]
  },
  {
   "cell_type": "markdown",
   "metadata": {},
   "source": [
    "<hr>\n",
    "\n",
    "**51.** Use the change of variables formula and an appropriate transformation to evaluate $\\iint\\limits_R xydA$,\n",
    "where $R$ is the square with vertices $(0,0),\\;(1,1),\\;(2,0),\\;(1,-1)$"
   ]
  }
 ],
 "metadata": {
  "kernelspec": {
   "display_name": "Python 3.6.9 64-bit",
   "language": "python",
   "name": "python36964bit02ef2681bbc5400fadc04eb658c88111"
  },
  "language_info": {
   "codemirror_mode": {
    "name": "ipython",
    "version": 3
   },
   "file_extension": ".py",
   "mimetype": "text/x-python",
   "name": "python",
   "nbconvert_exporter": "python",
   "pygments_lexer": "ipython3",
   "version": "3.6.9"
  }
 },
 "nbformat": 4,
 "nbformat_minor": 4
}
