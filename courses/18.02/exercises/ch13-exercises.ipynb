{
 "cells": [
  {
   "cell_type": "markdown",
   "metadata": {},
   "source": [
    "# Chapter 13 - Vector Functions"
   ]
  },
  {
   "cell_type": "markdown",
   "metadata": {},
   "source": [
    "**3.** Find a vector function that represents the curve of intersection of the cylinder $x^2+y^2=16$ and the plane $x+z=5$"
   ]
  },
  {
   "cell_type": "markdown",
   "metadata": {},
   "source": [
    "<hr>\n",
    "\n",
    "**5.** If $\\boldsymbol{r}(t) = t^2\\boldsymbol{i} + t\\cos(\\pi)t\\boldsymbol{j} + \\sin(\\pi)t\\boldsymbol{k}\\;$, evaluate\n",
    "$\\int_0^1 \\boldsymbol{r}(t) dt$"
   ]
  },
  {
   "cell_type": "markdown",
   "metadata": {},
   "source": [
    "<hr>\n",
    "\n",
    "**9.** The helix $\\boldsymbol{r}_1(t) = \\cos(t)\\boldsymbol{i} + \\sin(t)\\boldsymbol{j} + t\\boldsymbol{k}$ intersects the curve $\\boldsymbol{r}_2(t) = (1+t)\\boldsymbol{i} + t^2\\boldsymbol{j} + t^3\\boldsymbol{k}$ at the point $(1,0,0)$. Find the angle of intersection of these curves."
   ]
  },
  {
   "cell_type": "markdown",
   "metadata": {},
   "source": [
    "<hr>\n",
    "\n",
    "**11.** For the curve given by $\\boldsymbol{r}(t) = \\langle \\frac{1}{3}t^3,\\frac{1}{2}t^2,t \\rangle$, find\n",
    "\n",
    "a) the unit tangent vector\n",
    "\n",
    "b) the unit normal vector\n",
    "\n",
    "c) the curvature"
   ]
  },
  {
   "cell_type": "markdown",
   "metadata": {},
   "source": [
    "<hr>\n",
    "\n",
    "**13.** Find the curvature of the curve $y=x^4$ at the point $(1,1)$"
   ]
  },
  {
   "cell_type": "markdown",
   "metadata": {},
   "source": [
    "<hr>\n",
    "\n",
    "**15.** Find an equation of the osculating plane of the curve $y=x^4-x^2$ at the origin.\n",
    "Graph both the curve and its osculating circle."
   ]
  },
  {
   "cell_type": "markdown",
   "metadata": {},
   "source": [
    "<hr>\n",
    "\n",
    "**17.** A particle moves with position function \n",
    "$\\boldsymbol{r}(t) = t\\ln(t)\\boldsymbol{i} + t\\boldsymbol{j} + e^{-t}\\boldsymbol{k}$. \n",
    "Find the velocity, speed, and acceleration of the particle."
   ]
  },
  {
   "cell_type": "markdown",
   "metadata": {},
   "source": [
    "<hr>\n",
    "\n",
    "**19.** An athlete throws a shot at angle of 45 degress to the horizontal at an initial speed 43 ft/s. It leaves his hand 7ft above the ground.\n",
    "\n",
    "a). Where is the shot 2 seconds later?\n",
    "\n",
    "b). How high does the shot go?\n",
    "\n",
    "c). Where does the shot land?"
   ]
  },
  {
   "cell_type": "markdown",
   "metadata": {},
   "source": [
    "<hr>\n",
    "\n"
   ]
  }
 ],
 "metadata": {
  "kernelspec": {
   "display_name": "Python 3.6.9 64-bit",
   "language": "python",
   "name": "python36964bit02ef2681bbc5400fadc04eb658c88111"
  },
  "language_info": {
   "codemirror_mode": {
    "name": "ipython",
    "version": 3
   },
   "file_extension": ".py",
   "mimetype": "text/x-python",
   "name": "python",
   "nbconvert_exporter": "python",
   "pygments_lexer": "ipython3",
   "version": "3.6.9"
  }
 },
 "nbformat": 4,
 "nbformat_minor": 4
}
