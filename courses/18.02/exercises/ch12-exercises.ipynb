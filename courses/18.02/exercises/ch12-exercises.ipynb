{
 "cells": [
  {
   "cell_type": "markdown",
   "metadata": {},
   "source": [
    "# Chapter 12 - Vectors and the Geometry of Space"
   ]
  },
  {
   "cell_type": "markdown",
   "metadata": {},
   "source": [
    "**5.** Find the values of $x$ such that the vectors $\\langle 3,2,x \\rangle$ and $\\langle 2x,4,x\\rangle$ are orthogonal."
   ]
  },
  {
   "cell_type": "markdown",
   "metadata": {},
   "source": [
    "<hr>\n",
    "\n",
    "**7.** Suppose that $u \\cdot (v \\times w) = 2$ Find\n",
    "\n",
    "a). $(u \\times v) \\cdot w$\n",
    "\n",
    "b). $u \\cdot (w\\times v)$\n",
    "\n",
    "c). $v \\cdot (u \\times w)$\n",
    "\n",
    "d). $(u \\times v)\\cdot v$"
   ]
  },
  {
   "cell_type": "markdown",
   "metadata": {},
   "source": [
    "<hr>\n",
    "\n",
    "**9.** Find the acute angle between two diagonals of a cube."
   ]
  },
  {
   "cell_type": "markdown",
   "metadata": {},
   "source": [
    "<hr>\n",
    "\n",
    "**11.** \n",
    "\n",
    "a). Find a vector perpendicular to the plane through the points $A(1,0,0),B(2,0,-1)$, and $C(1,4,3)$\n",
    "\n",
    "b). Find the area of triangle $ABC$"
   ]
  },
  {
   "cell_type": "markdown",
   "metadata": {},
   "source": [
    "<hr>\n",
    "\n",
    "**15.** Find parametric equations for the line through $(4,-1,2)$ and $(1,1,5)$"
   ]
  },
  {
   "cell_type": "markdown",
   "metadata": {},
   "source": [
    "<hr>\n",
    "\n",
    "**17.** Find parametric equations for the line through $(-2,2,4)$ and perpendicular to the plane $2x-y+5z=12$"
   ]
  },
  {
   "cell_type": "markdown",
   "metadata": {},
   "source": [
    "<hr>\n",
    "\n",
    "**19.** Find an equation of the plan through $(3,-1,1)$, $(4,0,2)$, and $(6,3,1)$"
   ]
  },
  {
   "cell_type": "markdown",
   "metadata": {},
   "source": [
    "<hr>\n",
    "\n",
    "**21.** Find the point in which the line with parametric equations $\\;x=2-t,\\;y=1+3t,\\;z=4t\\;$ intersects the plane $2x-y+z=2$"
   ]
  },
  {
   "cell_type": "markdown",
   "metadata": {},
   "source": [
    "<hr>\n",
    "\n",
    "**27.** Find the distance between the planes $3x+y-4z=2$ and $3x+y-4z=24$"
   ]
  }
 ],
 "metadata": {
  "kernelspec": {
   "display_name": "Python 3.6.9 64-bit",
   "language": "python",
   "name": "python36964bit02ef2681bbc5400fadc04eb658c88111"
  },
  "language_info": {
   "codemirror_mode": {
    "name": "ipython",
    "version": 3
   },
   "file_extension": ".py",
   "mimetype": "text/x-python",
   "name": "python",
   "nbconvert_exporter": "python",
   "pygments_lexer": "ipython3",
   "version": "3.6.9"
  }
 },
 "nbformat": 4,
 "nbformat_minor": 4
}
