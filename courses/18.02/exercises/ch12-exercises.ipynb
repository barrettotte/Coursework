{
 "cells": [
  {
   "cell_type": "markdown",
   "metadata": {},
   "source": [
    "# Chapter 12 - Vectors and the Geometry of Space"
   ]
  },
  {
   "cell_type": "markdown",
   "metadata": {},
   "source": [
    "**5.** Find the values of $x$ such that the vectors $\\langle 3,2,x \\rangle$ and $\\langle 2x,4,x\\rangle$ are orthogonal.\n",
    "\n",
    "$\\langle 3,2,x \\rangle \\cdot \\langle 2x,4,x \\rangle = 0$\n",
    "\n",
    "$6x+8+x^2=0$\n",
    "$\\Rightarrow (x+4)(x+2)=0$\n",
    "\n",
    "**answer:** $x=-4,\\; -2$"
   ]
  },
  {
   "cell_type": "markdown",
   "metadata": {},
   "source": [
    "<hr>\n",
    "\n",
    "**9.** Find the acute angle between two diagonals of a cube.\n",
    "\n",
    "$a=\\langle 1,1,1 \\rangle$\n",
    "$,\\quad b=\\langle 1,-1,1 \\rangle$\n",
    "\n",
    "$|a| = |b| = \\sqrt{1+1+1} = \\sqrt{3}$\n",
    "\n",
    "$\\cos\\theta = \\frac{a\\cdot b}{|a||b|}$\n",
    "\n",
    "$\\cos\\theta = \\frac{1-1+1}{\\sqrt{3}\\sqrt{3}}$\n",
    "$= \\frac{1}{3}$\n",
    "\n",
    "**answer:** $70.53^{\\circ}$"
   ]
  },
  {
   "cell_type": "markdown",
   "metadata": {},
   "source": [
    "<hr>\n",
    "\n",
    "**11.** \n",
    "\n",
    "a). Find a vector perpendicular to the plane through the points $A(1,0,0),B(2,0,-1)$, and $C(1,4,3)$\n",
    "\n",
    "$\\overrightarrow{AB} = \\langle 1,0,-1 \\rangle$\n",
    "$,\\quad \\overrightarrow{AC} = \\langle 0,4,3 \\rangle$\n",
    "\n",
    "$\\begin{vmatrix} \\overrightarrow{i}&\\overrightarrow{j}&\\overrightarrow{k}\\\\ 1&0&-1\\\\ 0&4&3 \\end{vmatrix}$\n",
    "$= \\overrightarrow{i}\\begin{vmatrix} 0&-1\\\\4&3 \\end{vmatrix}$\n",
    "$-\\;\\overrightarrow{j}\\begin{vmatrix} 1&0\\\\-1&3 \\end{vmatrix}$\n",
    "$+\\;\\overrightarrow{k}\\begin{vmatrix} 1&0\\\\0&4 \\end{vmatrix}$\n",
    "\n",
    "$4\\overrightarrow{i} - 3\\overrightarrow{j} + 4\\overrightarrow{k}$\n",
    "\n",
    "**answer:** $\\langle 4,-3,4 \\rangle$\n",
    "\n",
    "<br>\n",
    "\n",
    "b). Find the area of triangle $ABC$\n",
    "\n",
    "$\\overrightarrow{c} = \\overrightarrow{a}\\times\\overrightarrow{b}$\n",
    "$\\Rightarrow \\langle 4,-3,4 \\rangle$\n",
    "\n",
    "$\\text{area} = \\frac{1}{2}|\\overrightarrow{c}|$\n",
    "$= \\frac{1}{2}\\sqrt{4^2+(-3)^2+4^2}$\n",
    "\n",
    "**answer:** $\\text{area} = \\frac{\\sqrt{41}}{2}$"
   ]
  },
  {
   "cell_type": "markdown",
   "metadata": {},
   "source": [
    "<hr>\n",
    "\n",
    "**15.** Find parametric equations for the line through $(4,-1,2)$ and $(1,1,5)$\n",
    "\n",
    "$A=(4,-1,2),\\quad B=(1,1,5)$\n",
    "\n",
    "$\\overrightarrow{AB} = \\langle -3,2,3 \\rangle$\n",
    "\n",
    "**answer:** $x=4-3t,\\quad y=-1+2t,\\quad z=2+3t$"
   ]
  },
  {
   "cell_type": "markdown",
   "metadata": {},
   "source": [
    "<hr>\n",
    "\n",
    "**17.** Find parametric equations for the line through $(-2,2,4)$ and perpendicular to the plane $2x-y+5z=12$\n",
    "\n",
    "$P_0=(-2,2,4)$\n",
    "$\\quad \\langle a,b,c \\rangle = \\langle 2,-1,5 \\rangle$\n",
    "\n",
    "$x=x_0+at,\\quad y=y_0+bt,\\quad z=z_0+ct$\n",
    "\n",
    "**answer:** $x=-2+2t,\\quad y=2-t,\\quad z=4+5t$"
   ]
  },
  {
   "cell_type": "markdown",
   "metadata": {},
   "source": [
    "<hr>\n",
    "\n",
    "**19.** Find an equation of the plane through $(3,-1,1)$, $(4,0,2)$, and $(6,3,1)$\n",
    "\n",
    "$\\overrightarrow{u} = \\langle 4-3,\\; 0+1,\\; 2-1 \\rangle$\n",
    "$= \\langle 1,1,1 \\rangle$\n",
    "\n",
    "$\\overrightarrow{v} = \\langle 6-3,\\; 3+1,\\; 1-1\\rangle$\n",
    "$= \\langle 3,4,0 \\rangle$\n",
    "\n",
    "$\\overrightarrow{n} = \\overrightarrow{u}\\times\\overrightarrow{v}$\n",
    "\n",
    "$\\begin{vmatrix} i&j&k\\\\ 1&1&1\\\\ 3&4&0 \\end{vmatrix}$\n",
    "$=\\begin{vmatrix}1&1\\\\4&0\\end{vmatrix}\\overrightarrow{i}\\;$\n",
    "$-\\begin{vmatrix}1&1\\\\3&0\\end{vmatrix}\\overrightarrow{j}\\;$\n",
    "$+\\begin{vmatrix}1&1\\\\3&4\\end{vmatrix}\\overrightarrow{k}$\n",
    "$\\; = \\langle -4,3,1 \\rangle$\n",
    "\n",
    "$a(x-x_0) + b(y-y_0) + c(z-z_0) = 0$\n",
    "\n",
    "$-4(x-4)+3(y-0)+1(z-2)=0$\n",
    "\n",
    "**answer:** $-4x+3y+z=-14$"
   ]
  },
  {
   "cell_type": "markdown",
   "metadata": {},
   "source": [
    "<hr>\n",
    "\n",
    "**21.** Find the point in which the line with parametric equations $\\;x=2-t,\\;y=1+3t,\\;z=4t\\;$ intersects the plane $2x-y+z=2$\n",
    "\n",
    "\n",
    "$a(x-x_0) + b(y-y_0) + c(z-z_0) = 0$\n",
    "\n",
    "$2(2-t)-(1+3t)+4t = 2$\n",
    "\n",
    "$4-2t-1-3t+4t = 2$\n",
    "\n",
    "$t = 1$\n",
    "\n",
    "$(2-1,\\; 1+3,\\; 4(1))$\n",
    "\n",
    "**answer:** $(1,4,4)$"
   ]
  },
  {
   "cell_type": "markdown",
   "metadata": {},
   "source": [
    "<hr>\n",
    "\n",
    "**27.** Find the distance between the planes $3x+y-4z=2$ and $3x+y-4z=24$\n",
    "\n",
    "let $x=0, z=0$\n",
    "\n",
    "$3x+y-4z=2 \\Rightarrow 3(0)+y-4(0)$\n",
    "$\\Rightarrow y = 2$\n",
    "\n",
    "$P_1 = (0,2,0)$\n",
    "\n",
    "$D=\\frac{|ax_1+by_1+cz_1+d|}{\\sqrt{a^2+b^2+c^2}}$\n",
    "$=\\frac{|3(0)+1(2)-4(0)-24}{\\sqrt{3^2+1^2+(-4)^2}}$\n",
    "\n",
    "**answer:** $\\frac{22}{\\sqrt{26}}$"
   ]
  }
 ],
 "metadata": {
  "kernelspec": {
   "display_name": "Python 3.6.9 64-bit",
   "language": "python",
   "name": "python36964bit02ef2681bbc5400fadc04eb658c88111"
  },
  "language_info": {
   "codemirror_mode": {
    "name": "ipython",
    "version": 3
   },
   "file_extension": ".py",
   "mimetype": "text/x-python",
   "name": "python",
   "nbconvert_exporter": "python",
   "pygments_lexer": "ipython3",
   "version": "3.6.9"
  }
 },
 "nbformat": 4,
 "nbformat_minor": 4
}
