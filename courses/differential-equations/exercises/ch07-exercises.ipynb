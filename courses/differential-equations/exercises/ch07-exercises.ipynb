{
 "cells": [
  {
   "cell_type": "markdown",
   "id": "refined-missouri",
   "metadata": {},
   "source": [
    "# Chapter 7 - The Laplace Transform"
   ]
  },
  {
   "cell_type": "markdown",
   "id": "black-metropolitan",
   "metadata": {},
   "source": [
    "## 7.1 - Definition of the Laplace Transform"
   ]
  },
  {
   "cell_type": "markdown",
   "id": "angry-jonathan",
   "metadata": {},
   "source": [
    "**1.** Find $\\mathcal{L}\\{f(t)\\}\\quad$ $f(t)=\\begin{cases}-1,\\quad -1 \\le t \\lt 1\\\\ 1,\\quad t\\ge 1\\end{cases}$\n",
    "\n",
    "$f(t)=(-1)\\mathcal{U}(t-0)+(1-(-1))\\mathcal{U}(-1)$\n",
    "$=-\\mathcal{U}(t)+2\\mathcal{U}(t-1)$\n",
    "\n",
    "$\\mathcal{L}\\{f(t)\\}=\\int_0^\\infty e^{-st}f(t)dt$\n",
    "\n",
    "$=\\int_0^\\infty e^{-st}(-\\mathcal{U}(t)+2\\mathcal{U}(t-1))dt$\n",
    "\n",
    "$=-\\int_0^\\infty e^{-st}dt + 2\\int_1^\\infty e^{-st}dt$\n",
    "\n",
    "$=\\lim\\limits_{n\\to\\infty}\\left[\\frac{e^{-st}}{s}\\right]_{t=0}^{t=n}$\n",
    "$-\\lim\\limits_{n\\to\\infty}\\left[2\\frac{e^{-st}}{s}\\right]_{t=1}^{t=n}$\n",
    "\n",
    "$=\\lim\\limits_{n\\to\\infty}\\left(\\frac{e^{-sn}}{s}-\\frac{1}{s}\\right)$\n",
    "$-2\\lim_{n\\to\\infty}\\left(\\frac{e^{-sn}}{s}-\\frac{e^{-s}}{s}\\right)$\n",
    "\n",
    "$=-\\frac{1}{s}+\\frac{2e^{-s}}{s}$"
   ]
  },
  {
   "cell_type": "markdown",
   "id": "previous-washington",
   "metadata": {},
   "source": [
    "<hr>\n",
    "\n",
    "**11.** Find $\\mathcal{L}\\{f(t)\\}\\quad$ $f(t)=e^{t+7}$\n",
    "\n",
    "$\\mathcal{L}\\{f(t)\\}=\\int_0^\\infty e^{-st}f(t)dt$\n",
    "\n",
    "$=\\int_0^\\infty e^{-st}e^{t+7}dt$\n",
    "$=e^7\\int_0^\\infty e^{t(1-s)}dt$\n",
    "\n",
    "$=e^7\\lim\\limits_{b\\to\\infty}\\left[\\frac{e^{t(1-s)}}{1-s}\\right]_{t=0}^{t=b}$\n",
    "$=-\\frac{e^7}{1-s}=\\frac{e^7}{s-1}$"
   ]
  },
  {
   "cell_type": "markdown",
   "id": "pending-improvement",
   "metadata": {},
   "source": [
    "<hr>\n",
    "\n",
    "**17.** Find $\\mathcal{L}\\{f(t)\\}\\quad$ $f(t)=t\\cos t$\n",
    "\n",
    "$\\mathcal{L}\\{f(t)\\}=\\int_0^\\infty e^{-st}f(t)dt$\n",
    "\n",
    "$=\\int_0^{\\infty}t\\cos(t)e^{-st}dt$\n",
    "\n",
    "Laplace transform table:\n",
    "$(-1)^1\\frac{d}{ds}(\\mathcal{L}\\{\\cos t\\})$\n",
    "\n",
    "$\\mathcal{L}\\{\\cos t\\}=\\frac{s}{s^2+1}$\n",
    "\n",
    "$\\frac{d}{ds}(\\frac{s}{s^2+1})=\\frac{-s^2+1}{(s^2+1)^2}$\n",
    "\n",
    "$=-\\frac{-s^2+1}{(s^2+1)^2}$"
   ]
  },
  {
   "cell_type": "markdown",
   "id": "racial-throw",
   "metadata": {},
   "source": [
    "<hr>\n",
    "\n",
    "**23.** Find $\\mathcal{L}\\{f(t)\\}\\quad$ $f(t)=t^2+6t-3$\n",
    "\n",
    "\n",
    "$\\mathcal{L}\\{f(t)\\}=\\int_0^\\infty e^{-st}f(t)dt$\n",
    "\n",
    "$=\\int_0^{\\infty}e^{-st}(t^2+6t-3)dt$\n",
    "\n",
    "$=\\mathcal{L}\\{t^2\\}+6\\mathcal{L}\\{t\\}-\\mathcal{L}\\{3\\}$\n",
    "\n",
    "$=\\frac{2}{s^3}+\\frac{6}{s^2}-\\frac{3}{s}$\n"
   ]
  },
  {
   "cell_type": "markdown",
   "id": "understood-wisdom",
   "metadata": {},
   "source": [
    "<hr>\n",
    "\n",
    "**27.** Find $\\mathcal{L}\\{f(t)\\}\\quad$ $f(t)=1+e^{4t}$\n",
    "\n",
    "\n",
    "$\\mathcal{L}\\{1\\}+\\mathcal{L}\\{e^{4t}\\}$\n",
    "\n",
    "$=\\frac{1}{s}+\\frac{1}{s-4}$"
   ]
  },
  {
   "cell_type": "markdown",
   "id": "humanitarian-stretch",
   "metadata": {},
   "source": [
    "## 7.2 - Inverse Transforms and Transforms of Derivatives"
   ]
  },
  {
   "cell_type": "markdown",
   "id": "precious-submission",
   "metadata": {},
   "source": [
    "**1.** Find $\\mathcal{L}^{-1}\\{\\frac{1}{s^3}\\}$\n",
    "\n",
    "$\\mathcal{L}^{-1}\\{\\frac{1}{s^3}\\}$\n",
    "$=\\mathcal{L}^{-1}\\{\\frac{1}{2}\\cdot\\frac{2}{s^3}\\}$\n",
    "$=\\frac{1}{2}\\mathcal{L}^{-1}\\{\\frac{2}{s^3}\\}$\n",
    "\n",
    "$\\frac{1}{2}t^2=\\frac{t^2}{2}$"
   ]
  },
  {
   "cell_type": "markdown",
   "id": "tight-threat",
   "metadata": {},
   "source": [
    "<hr>\n",
    "\n",
    "**9.** Find $\\mathcal{L}^{-1}\\{\\frac{1}{4s+1}\\}$\n",
    "\n",
    "\n",
    "$\\mathcal{L}^{-1}\\{\\frac{1}{4s+1}\\}$\n",
    "$=\\mathcal{L}^{-1}\\{\\frac{1}{4}\\cdot\\frac{4}{s+1}\\}$\n",
    "\n",
    "$\\frac{1}{4}\\mathcal{L}^{-1}\\{\\frac{4}{4s+1}\\}$\n",
    "\n",
    "$\\frac{1}{4}e^{-\\frac{t}{4}}$"
   ]
  },
  {
   "cell_type": "markdown",
   "id": "spare-relevance",
   "metadata": {},
   "source": [
    "<hr>\n",
    "\n",
    "**15.** Find $\\mathcal{L}^{-1}\\{\\frac{2s-6}{s^2+9}\\}$\n",
    "\n",
    "$\\mathcal{L}^{-1}\\{\\frac{2s-6}{s^2+9}\\}$\n",
    "$=2\\mathcal{L}^{-1}\\{\\frac{s}{s^2+9}\\}-6\\mathcal{L}^{-1}\\{\\frac{1}{s^2+9}\\}$\n",
    "\n",
    "$=2\\cos(3t)-6\\frac{1}{3}\\sin(3t)$\n",
    "$=2\\cos(3t)-2\\sin(3t)$"
   ]
  },
  {
   "cell_type": "markdown",
   "id": "according-thumbnail",
   "metadata": {},
   "source": [
    "## 7.3 - Operational Properties I"
   ]
  },
  {
   "cell_type": "markdown",
   "id": "younger-alexander",
   "metadata": {},
   "source": [
    "**1.** Find $f(t)\\quad \\mathcal{L}\\{te^{10t}\\}$\n",
    "\n",
    "$=(-1)^1\\frac{d}{ds}(\\mathcal{L}\\{e^{10t}\\})$\n",
    "$=(-1)\\frac{d}{ds}(\\frac{1}{s-10})$\n",
    "\n",
    "$=-(-\\frac{1}{(s-10)^2})$\n",
    "$=\\frac{1}{(s-10)^2}$"
   ]
  },
  {
   "cell_type": "markdown",
   "id": "preliminary-division",
   "metadata": {},
   "source": [
    "<hr>\n",
    "\n",
    "**3.** Find $f(t)\\quad \\mathcal{L}\\{t^3e^{-2t}\\}$\n",
    "\n",
    "$=(-1)^3\\frac{d^3}{ds^3}\\left(\\mathcal{L}\\{e^{-2t}\\}\\right)$\n",
    "$=(-1)\\frac{d^3}{ds^3}(\\frac{1}{s+2})$\n",
    "\n",
    "$=-(-\\frac{6}{(s+2)^4})$\n",
    "$=\\frac{6}{(s+2)^4}$"
   ]
  },
  {
   "cell_type": "markdown",
   "id": "widespread-claim",
   "metadata": {},
   "source": [
    "<hr>\n",
    "\n",
    "**7.** Find $f(t)\\quad \\mathcal{L}\\{e^t\\sin 3t\\}$\n",
    "\n",
    "$=\\mathcal{L}\\{\\sin(3t)\\}(s-1)$\n",
    "$=\\frac{3}{(s-1)^2+9}$"
   ]
  },
  {
   "cell_type": "markdown",
   "id": "personalized-logic",
   "metadata": {},
   "source": [
    "<hr>\n",
    "\n",
    "**15.** Find $F(s)\\quad \\mathcal{L}\\{\\frac{s}{s^2-4s+5}\\}$\n",
    "\n",
    "$\\mathcal{L}^{-1}\\{\\frac{s}{s^2+4s+5}\\}$\n",
    "$=\\mathcal{L}^{-1}\\{\\frac{s}{(s+2)(s+2)+1}\\}$\n",
    "$=\\mathcal{L}^{-1}\\{\\frac{s}{(s+2)^2+1}\\}$\n",
    "\n",
    "$=\\mathcal{L}^{-1}\\{\\frac{s+2-2}{(s+2)^2+1}\\}$\n",
    "$=\\mathcal{L}^{-1}\\{\\frac{s+2}{(s+2)^2+1}-\\frac{2}{(s+2)^2+1}\\}$\n",
    "\n",
    "$=\\mathcal{L}^{-1}\\{\\frac{s+2}{(s+2)^2+1}\\}$\n",
    "$-2\\mathcal{L}^{-1}\\{\\frac{1}{(s+2)^2+1}\\}$\n",
    "\n",
    "$=e^{-2t}\\cos(t)-2e^{-2t}\\sin t$"
   ]
  },
  {
   "cell_type": "markdown",
   "id": "successful-heather",
   "metadata": {},
   "source": [
    "<hr>\n",
    "\n",
    "**21.** Use the Laplace transform to solve the given IVP $\\quad y'+4y=e^{-4t},\\quad y(0)=2$\n",
    "\n",
    "\n",
    "$\\mathcal{L}\\{y'+4y\\}=\\mathcal{L}\\{e^{-4t}\\}$\n",
    "\n",
    "$s\\mathcal{L}\\{y\\}-y(0)+4\\mathcal{L}\\{y\\}=\\frac{1}{s+4}$\n",
    "\n",
    "$s\\mathcal{L}\\{y\\}-2+4\\mathcal{L}\\{y\\}=\\frac{1}{s+4}$\n",
    "\n",
    "$\\mathcal{L}\\{y\\}=\\frac{2s+9}{(s+4)^2}$\n",
    "\n",
    "$y=\\mathcal{L}^{-1}\\{\\frac{2s+9}{(s+4)^2}\\}$\n",
    "\n",
    "$y=2e^{-4t}+e^{-4t}t$"
   ]
  },
  {
   "cell_type": "markdown",
   "id": "rough-luxury",
   "metadata": {},
   "source": [
    "<hr>\n",
    "\n",
    "**37.** $\\mathcal{L}\\{(t-1)\\mathcal{U}(t-1)\\}$\n",
    "\n",
    "$e^{-as}F(s)$\n",
    "\n",
    "$\\mathcal{L}\\{(t-1)\\mathcal{U}(t-1)\\}=e^{-s}\\mathcal{L}\\{t\\}$\n",
    "\n",
    "$=e^{-s}\\cdot\\frac{1}{s^2}$\n",
    "$=\\frac{e^{-s}}{s^2}$"
   ]
  },
  {
   "cell_type": "markdown",
   "id": "official-adelaide",
   "metadata": {},
   "source": [
    "<hr>\n",
    "\n",
    "**39.** $\\mathcal{L}\\{t\\mathcal{U}(t-2)\\}$\n",
    "\n",
    "$\\mathcal{L}\\{(t-2+2)\\mathcal{U}(t-2)$\n",
    "\n",
    "$=\\mathcal{L}\\{(t-2)\\mathcal{U}(t-2)\\}+\\mathcal{L}\\{2\\mathcal{U}(t-2)\\}$\n",
    "\n",
    "$=\\mathcal{L}\\{(t-2)\\mathcal{U}(t-2)\\}+2\\mathcal{L}\\{\\mathcal{U}(t-2)\\}$\n",
    "\n",
    "$=\\frac{1}{s^2}e^{-2s}+\\frac{2}{s}e^{-2s}$"
   ]
  }
 ],
 "metadata": {
  "kernelspec": {
   "display_name": "Python 3",
   "language": "python",
   "name": "python3"
  },
  "language_info": {
   "codemirror_mode": {
    "name": "ipython",
    "version": 3
   },
   "file_extension": ".py",
   "mimetype": "text/x-python",
   "name": "python",
   "nbconvert_exporter": "python",
   "pygments_lexer": "ipython3",
   "version": "3.6.5"
  }
 },
 "nbformat": 4,
 "nbformat_minor": 5
}
