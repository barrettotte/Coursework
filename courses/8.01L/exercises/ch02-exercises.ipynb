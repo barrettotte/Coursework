{
 "cells": [
  {
   "cell_type": "markdown",
   "metadata": {},
   "source": [
    "# Chapter 02 - Motion in One Dimension"
   ]
  },
  {
   "cell_type": "markdown",
   "metadata": {},
   "source": [
    "## 2.1 - Position, Velocity, and Speed"
   ]
  },
  {
   "cell_type": "markdown",
   "metadata": {},
   "source": [
    "**3.** The position versus time for a certain particle moving along the x axis is shown in Figure P2.3. Find the average velocity in the time intervals (a) 0 to 2 s, (b) 0 to 4 s, (c) 2 s to 4 s, (d) 4 s to 7 s, (e) 0 to 8 s.\n",
    "\n",
    "$\\bar{v}=\\frac{\\Delta x}{\\Delta t}$\n",
    "\n",
    "$\\frac{10-0}{2-0}=5\\text{ m/s}$\n",
    "\n",
    "$\\frac{5-0}{4-0}=1.25\\text{ m/s}$\n",
    "\n",
    "$\\frac{5-10}{4-2}=-2.5\\text{ m/s}$\n",
    "\n",
    "$\\frac{-5-5}{7-4}=-3.3\\text{ m/s}$\n",
    "\n",
    "$\\frac{0-0}{8-0}=0\\text{ m/s}$"
   ]
  },
  {
   "cell_type": "markdown",
   "metadata": {},
   "source": [
    "**5.** A person walks first at a constant speed of 5.00 m/s along a straight line from point A to point B and then back along the line from point B to A at a constant speed of 3.00 m/s. What is (a) her average speed over the entire trip? (b) her average velocity over the entire trip?\n",
    "\n",
    "$\\bar{s}=\\frac{\\text{total distance}}{\\text{total time}}$\n",
    "\n",
    "$\\text{total distance}=2d$\n",
    "\n",
    "$t_{AB}=\\frac{d}{s_{AB}},\\quad t_{BA}=\\frac{d}{s_{BA}}$\n",
    "\n",
    "$\\text{total time}=t_{AB}+t_{BA}$\n",
    "\n",
    "$\\bar{s}=\\frac{2d}{\\frac{d}{s_{AB}}+\\frac{d}{s_{BA}}}$\n",
    "$=\\frac{2(s_{AB}\\cdot s_{BA})}{s_{AB}+s_{BA}}$\n",
    "$=2\\cdot\\frac{(5\\text{ m/s})(3\\text{ m/s})}{(5\\text{ m/s})+(3\\text{ m/s})}$\n",
    "$=3.75\\text{ m/s}$\n",
    "\n",
    "$\\bar{v}=\\frac{\\Delta x}{\\Delta t}$\n",
    "\n",
    "$=\\frac{d-d}{...}=0\\implies \\bar{v}=0\\text{ m/s}$\n"
   ]
  },
  {
   "cell_type": "markdown",
   "metadata": {},
   "source": [
    "## 2.2 - Instantaneous Velocity and Speed"
   ]
  },
  {
   "cell_type": "markdown",
   "metadata": {},
   "source": [
    "**7.** A position-time graph for a particle moving along the x axis is shown in Figure P2.7. (a) Find the average velocity in the time interval $t=1.50\\text{ s to } t=4.00\\text{ s}$. (b) Determine the instantaneous velocity at $t=2.00\\text{ s}$ by measuring the slope of the tangent line shown in the graph. (c) At what value of $t$ is the velocity zero?\n",
    "\n",
    "**a.** $\\bar{v}=\\frac{\\Delta x}{\\Delta t}$\n",
    "\n",
    "$\\bar{v}=\\frac{2\\text{ m}-8\\text{ m}}{4\\text{ s}-1.5\\text{ s}}=-2.4\\text{ m/s}$\n",
    "\n",
    "<br>\n",
    "\n",
    "**b.** $v=\\frac{0\\text{ m}-13\\text{ m}}{3.5\\text{ s}-0\\text{ s}}=-3.7\\text{ m/s}$\n",
    "\n",
    "<br>\n",
    "\n",
    "**c.** $t=4\\text{ s}$"
   ]
  },
  {
   "cell_type": "markdown",
   "metadata": {},
   "source": [
    "**9.** Find the instantaneous velocity of the particle described in Figure P2.3 at the following times: (a) $t=1.0\\text{ s}$, (b) $t=3.0\\text{s}$, (c) $t=4.5\\text{ s}$, and (d) $t=7.5\\text{ s}$.\n",
    "\n",
    "\n",
    "$v=\\frac{\\Delta x}{\\Delta t}$\n",
    "\n",
    "**a.** $v=\\frac{5\\text{ m}-0\\text{ m}}{1\\text{ s}-0\\text{ s}}=5\\text{ m/s}$\n",
    "\n",
    "**b.** $v=\\frac{5\\text{ m}-10\\text{ m}}{4\\text{ s}-2\\text{ s}}=-2.5\\text{ m/s}$\n",
    "\n",
    "**c.** $v=\\frac{5\\text{ m}-5\\text{ m}}{5\\text{ s}-4\\text{ s}}=0\\text{ m/s}$\n",
    "\n",
    "**d.** $v=\\frac{0\\text{ m}-(-5)\\text{ m}}{8\\text{ s}-7\\text{ s}}=5\\text{ m/s}$"
   ]
  },
  {
   "cell_type": "markdown",
   "metadata": {},
   "source": [
    "## 2.3 - Acceleration"
   ]
  },
  {
   "cell_type": "markdown",
   "metadata": {},
   "source": [
    "**11.** A 50.0 g superball traveling at 25.0 m/s bounces off a brick wall and rebounds at 22.0 m/s. A high-speed camera records this event. If the ball is in contact with the wall for 3.50 ms, what is the magnitude of the average acceleration of the ball during this time interval? (note: 1 ms=$10^{-3}s)$\n",
    "\n",
    "$a=\\frac{\\Delta v}{\\Delta t}$\n",
    "\n",
    "$a=\\frac{22.0\\text{ m/s}-(-25\\text{ m/s})}{3.50\\times10^{-3}\\text{ s}}$\n",
    "$=1.34\\times10^4\\text{ m/s}^2$"
   ]
  },
  {
   "cell_type": "markdown",
   "metadata": {},
   "source": [
    "**13.** Secretariat won the Kentucky Derby with times for successive quarter-mile segments of 25.2 s, 24.0 s, 23.8 s, and 23.0 s. (a) Find his average speed during each quarter-mile segment. (b) Assuming that Secretariat's instantaneous speed at the finish line was the same as the average speed during the final quarter mile, find his average acceleration for the entire race.\n",
    "\n",
    "$\\bar{v}=\\frac{\\Delta x}{\\Delta t}$\n",
    "\n",
    "**a.**\n",
    "\n",
    "$\\Delta x=0.25\\text{ mi.}=402\\text{ m}$\n",
    "\n",
    "$\\bar{v_1}=\\frac{402\\text{ m}}{25.2\\text{ s}}=15.95\\text{ m/s}$\n",
    "\n",
    "$\\bar{v_1}=\\frac{402\\text{ m}}{24.0\\text{ s}}=16.75\\text{ m/s}$\n",
    "\n",
    "$\\bar{v_1}=\\frac{402\\text{ m}}{23.8\\text{ s}}=16.89\\text{ m/s}$\n",
    "\n",
    "$\\bar{v_1}=\\frac{402\\text{ m}}{23.0\\text{ s}}=17.48\\text{ m/s}$\n",
    "\n",
    "**b.**\n",
    "\n",
    "$\\bar{a}=\\frac{\\Delta v}{\\text{total }\\Delta t}$\n",
    "\n",
    "$\\bar{a}=\\frac{17.48\\text{ m/s}-0.00\\text{ m/s}}{25.2\\text{ s}+25.0\\text{ s}+23.8\\text{ s}+23\\text{ s}}$\n",
    "$=0.18\\text{ m/s}^2$"
   ]
  },
  {
   "cell_type": "markdown",
   "metadata": {},
   "source": [
    "**15.** A particle moves along the x axis according to the equations $x=2.00+3.00t-1.00t^2$, where $x$ is in meters and $t$ is in seconds. At $t=3.00\\text{ s}$, find (a) the position of the particle, (b) its velocity, and (c) its acceleration.\n",
    "\n",
    "**a.**\n",
    "At $t=3\\text{ s}$,\n",
    "$\\quad x=2.00+3.00(3)-1.00(3)^2$\n",
    "$=2.00\\text{ m}$\n",
    "\n",
    "**b.** $v=\\frac{dx}{dt}=3.00-2.00t\\quad 3.00-2.00(3)=-3.00\\text{ m/s}$\n",
    "\n",
    "**c.** $a=\\frac{dv}{dt}=-2.00\\text{ m/s}^2$"
   ]
  },
  {
   "cell_type": "markdown",
   "metadata": {},
   "source": [
    "## 2.5 - One-Dimensional Motion with Constant Acceleration"
   ]
  },
  {
   "cell_type": "markdown",
   "metadata": {},
   "source": [
    "**21.** An object moving with uniform acceleration has a velocity of 12.0 cm/s in the positive $x$ direction when its $x$ coordinate is 3.00 cm. If its $x$ coordinate 2.00 s later is -5.00 cm, what is its acceleration?\n",
    "\n",
    "\n",
    "$x_f=x_i+v_{xi}t+\\frac{1}{2}a_xt^2$\n",
    "\n",
    "$a_x=\\frac{2(x_f-x_i-v_{xi}t)}{t^2}$\n",
    "$=\\frac{2(-5-3-(12)(2))}{2^2}$\n",
    "$=-16\\text{ cm/s}^2$"
   ]
  },
  {
   "cell_type": "markdown",
   "metadata": {},
   "source": [
    "**23.** A speedboat moving at 30.0 m/s approaches a no-wake buoy marker 100 m ahead. The pilot slows the boat with a constant acceleration of $-3.50\\text{ m/s}^2$ by reducing the throttle. (a) How long does it take the boat to reach the buoy? (b) What is the velocity of the boat when it reaches the buoy?\n",
    "\n",
    "${v_{xf}}^2={v_{xi}}^2+2a_x(x_f-x_i)$\n",
    "\n",
    "$v_{xf}=\\sqrt{(30\\text{ m/s})^2+2(-3.50\\text{ m/s}^2)((100-0)\\text{ m})}$\n",
    "$=14.14\\text{ m/s}$\n",
    "\n",
    "<br>\n",
    "\n",
    "$a_x=\\frac{\\Delta v}{\\Delta t}$\n",
    "\n",
    "$\\Delta t=\\frac{\\Delta v}{a_x}$\n",
    "\n",
    "$\\Delta t=\\frac{14.14\\text{ m/s}-30\\text{ m/s}}{-3.50\\text{ m/s}^2}$\n",
    "$=4.53\\text{ s}$"
   ]
  },
  {
   "cell_type": "markdown",
   "metadata": {},
   "source": [
    "**27.** A jet plane lands with a speed of 100 m/s and can accelerate at a maximum rate of $-5.00\\text{ m/s}^2$ as it comes to rest. (a) From the instant the plane touches the runway, what is the minimum time interval needed before it can come to rest? (b) Can this plane land on a small tropical island airport where the runway is 0.800 km long?\n",
    "\n",
    "$a_x=\\frac{\\Delta v}{\\Delta t}$\n",
    "$,\\quad\\Delta t=\\frac{\\Delta v}{a_x}$\n",
    "\n",
    "**a.**\n",
    "\n",
    "$\\Delta t=\\frac{0\\text{ m/s}-100\\text{ m/s}}{-5.00\\text{ m/s}^2}$\n",
    "$=20\\text{ s}$\n",
    "\n",
    "**b.**\n",
    "\n",
    "$x_f=x_i+v_{xi}\\Delta t+\\frac{1}{2}a_x\\Delta t^2$\n",
    "\n",
    "$x_f=0\\text{ m}+100\\text{ m/s}\\cdot 20\\text{s}+\\frac{1}{2}(-5.00\\text{ m/s})(20\\text{ s})^2$\n",
    "$=1000\\text{ m}$\n",
    "\n",
    "No, the island is too small $\\implies 0.800\\text{ km} < 1\\text{ km}$"
   ]
  },
  {
   "cell_type": "markdown",
   "metadata": {},
   "source": [
    "## 2.6 - Freely Falling Objects"
   ]
  },
  {
   "cell_type": "markdown",
   "metadata": {},
   "source": [
    "**43.** A student throws a set of keys vertically upward to her sorority sister who is in a window 4.00 m above. The keys are caught 1.50 s later by the sister's outstretched hand. (a) With what initial velocity were the keys thrown? (b) What was the velocity of the keys just before they were caught?\n",
    "\n",
    "**a.**\n",
    "$x_f=x_i+v_it+\\frac{1}{2}at^2$\n",
    "\n",
    "$v_i=\\frac{x_f-x_i-\\frac{1}{2}at^2}{t}$\n",
    "$=\\frac{4-0-\\frac{1}{2}(-9.8)(1.5)}{1.5}$\n",
    "$=10\\text{ m/s}$\n",
    "\n",
    "**b.** $v_f=v_i+at$\n",
    "\n",
    "$v_f=10+(-9.8\\cdot 1.5)=-4.68\\text{ m/s}$"
   ]
  },
  {
   "cell_type": "markdown",
   "metadata": {},
   "source": [
    "**45.** In Mostar, Bosnia, the ultimate test of a young man's courage once was to jump off a 400-year-old bridge (now destroyed) into the River Neretva, 23.0 m below the bridge. (a) How long did the jump last? (b) How fast was the diver traveling upon impact with the water? (c) If the speed of sound in air is 340 m/s, how long after the diver took off did a spectator on the bridge hear the splash?\n",
    "\n",
    "**a.**\n",
    "\n",
    "$h=v_i t+\\frac{1}{2}gt^2$\n",
    "\n",
    "$23=(0)t+\\frac{1}{2}gt^2$\n",
    "\n",
    "$\\frac{46}{g}=t^2$\n",
    "\n",
    "$t=\\sqrt{\\frac{46}{9.80}}=2.167\\text{ s}$\n",
    "\n",
    "**b.**\n",
    "\n",
    "$v_f=v_i+gt$\n",
    "\n",
    "$v_f=0+9.80(2.167)=21.24\\text{ m/s}$\n",
    "\n",
    "**c.**\n",
    "\n",
    "$t_\\text{sound}=\\frac{23}{340}=0.067\\text{ s}$\n",
    "\n",
    "$t_\\text{hear}=2.167+0.067=2.234\\text{ s}$"
   ]
  },
  {
   "cell_type": "markdown",
   "metadata": {},
   "source": [
    "**47.** A baseball is hit so that it travels straight upward after being struck by a bat. A fan observes that it takes 3.00 s for the ball to reach its maximum height. Find (a) its initial velocity and (b) the height it reaches.\n",
    "\n",
    "**a.**\n",
    "\n",
    "$v_f=v_i+at$\n",
    "\n",
    "$0=v_i-gt\\implies v_i=gt$\n",
    "\n",
    "$=9.80(3)=29.4\\text{ m/s}$\n",
    "\n",
    "**b.**\n",
    "\n",
    "$h=v_it +\\frac{1}{2}gt^2$\n",
    "\n",
    "$h=0(3)+\\frac{1}{2}(9.8)(3)^2$\n",
    "$=44.1\\text{ m}$"
   ]
  },
  {
   "cell_type": "markdown",
   "metadata": {},
   "source": [
    "**51.** The height of a helicoptor above the ground is given by $h=3.00t^3$, where $h$ is in meters and $t$ is in seconds. After 2.00 s, the helicopter releases a small mailbag. How long after its release does the mailbag reach the ground?\n",
    "\n",
    "$x_f=x_i+v_{xi}t+\\frac{1}{2}a_xt^2$\n",
    "\n",
    "$h=3.00t^3\\implies h=3.00(2)^3=24.0\\text{ m}$\n",
    "\n",
    "$v_i=\\frac{dh}{dt}=9t^2=9(2)^2=36\\text{ m/s}$\n",
    "\n",
    "$0=24+36t+\\frac{1}{2}(-9.8)t^2$\n",
    "\n",
    "$0=4.9t^2-36t-24$\n",
    "\n",
    "$t=\\frac{36\\pm\\sqrt{(-36)^2+4(4.9)(24)}}{9.8}$\n",
    "$=7.91\\text{ s}$"
   ]
  }
 ],
 "metadata": {
  "kernelspec": {
   "display_name": "Python 3",
   "language": "python",
   "name": "python3"
  },
  "language_info": {
   "codemirror_mode": {
    "name": "ipython",
    "version": 3
   },
   "file_extension": ".py",
   "mimetype": "text/x-python",
   "name": "python",
   "nbconvert_exporter": "python",
   "pygments_lexer": "ipython3",
   "version": "3.8.5"
  }
 },
 "nbformat": 4,
 "nbformat_minor": 4
}
