{
 "cells": [
  {
   "cell_type": "markdown",
   "metadata": {},
   "source": [
    "# Chapter 8 - Potential Energy"
   ]
  },
  {
   "cell_type": "markdown",
   "metadata": {},
   "source": [
    "## 8.1 - Potential Energy of a System"
   ]
  },
  {
   "cell_type": "markdown",
   "metadata": {},
   "source": [
    "**1.** A 1000-kg roller coaster train is initially at the top of a rise, at point $A$. It then moves 135 ft, at an angle of $40.0^\\circ$ below the horizontal, to a lower point $B$. (a) Choose point $B$ to be the zero level for gravitational potential energy. Find the potential energy of the roller coaster-Earth system at points $A$ and $B$, and the change in potential energy as the coaster moves. (b) Repeat part (a), setting the zero reference level at point $A$."
   ]
  },
  {
   "cell_type": "markdown",
   "metadata": {},
   "source": [
    "**3.** A person with a remote mountain cabin plans to install her own hydroelectric plant. A nearby stream is 3.00 m wide and 0.500 m deep. Water flows at 1.20 m/s over the brink of a waterfall 5.00 m high. The manufacturer promises only 25.0% efficiency in converting the potential energy of the water-Earth system into electric energy. Find the power she can generate. (Large-scale hydroelectric plants, with a much larger drop, are more efficient.)"
   ]
  },
  {
   "cell_type": "markdown",
   "metadata": {},
   "source": [
    "## 8.2 - The Isolated System-Conservation of Mechanical Energy"
   ]
  },
  {
   "cell_type": "markdown",
   "metadata": {},
   "source": [
    "**5.** A bead slides without friction around a loop-the-loop (Fig. P8.5). The bead is released from a height $h=3.50\\text{R}$. (a) What is its speed at point $A$? (b) How large is the normal force on it if its mass is 5.00 g?"
   ]
  },
  {
   "cell_type": "markdown",
   "metadata": {},
   "source": [
    "**7.** A glider of mass 0.150 kg moves on a horizontal friction-less air track. It is permanently attached to one end of a massless horizontal spring, which has a force constant of 10.0 N/m both for extension and for compression.\n",
    "The other end of the spring is fixed. The glider is moved to compress the spring by 0.180 m and then released from rest. Calculate the speed of the glider (a) at the point where it has moved 0.180 m from its starting point, so that the spring is momentarily exerting no force and (b) at the point where it has moved 0.250 m from its starting point."
   ]
  },
  {
   "cell_type": "markdown",
   "metadata": {},
   "source": [
    "**11.** A block of mass 0.250 kg is placed on top of a light vertical spring of force constant 5000 N/m and pushed downward so that the spring is compressesd by 0.100 m. After the block is released from rest, it travels upward and then leaves the spring. To what maximum height above the point of release does it rise?"
   ]
  },
  {
   "cell_type": "markdown",
   "metadata": {},
   "source": [
    "**15.** A light rigid rod is 77.0 cm long. Its top end is pivoted on a low-friction horizontal axle. The ord hangs straight down at rest with a small massive ball attached to its bottom end. You strike the ball, suddenly giving it a horizontal velocity so that it swings around in a full circle. What minimum speed at the bottom is required to make the ball go over the top of the circle?"
   ]
  },
  {
   "cell_type": "markdown",
   "metadata": {},
   "source": [
    "**17.** A 20.0-kg cannon ball is fired from a cannon with muzzle speed of 1000 m/s at an angle of $37.0^\\circ$ with the horizontal. A second ball is fired at an angle of $90.0^\\circ$. Use the conservation of energy principle to find (a) the maximum height reached by each ball and (b) the total mechanical energy at the maximum height for each ball. Let $y=0$ at the cannon."
   ]
  },
  {
   "cell_type": "markdown",
   "metadata": {},
   "source": [
    "## 8.3 - Conservative and Nonconservative Forces"
   ]
  },
  {
   "cell_type": "markdown",
   "metadata": {},
   "source": [
    "**23.** A force acting on a particle moving in the $xy$ plane is given by $\\vec{F}=(2y\\hat{i}+x^2\\hat{j})$ N, where $x$ and $y$ are in meters. The particle moves from the origin to a final position having coordinates $x=5.00\\text{ m}$ and $y=5.00\\text{ m}$, as in Figure 8.21. Calculate the work done by $\\vec{F}$ along (a) $OAC$, (b) $OBC$, c() $OC$, (d) Is $\\vec{F}$ conservative or nonconservative? Explain."
   ]
  },
  {
   "cell_type": "markdown",
   "metadata": {},
   "source": [
    "**25.** A single constant force $\\vec{F}=(3\\hat{i}+5\\hat{j})$ N acts on a 4.00-kg particle. (a) Calculate the work done by this force if the particle moves from the origin to the point having the vector position $\\vec{r}=(2\\hat{i}-3\\hat{j})\\text{ m}$. Does this result depend on the path? Explain. (b) What is the speed of the particle at $\\vec{r}$ if its speed at the origin is 4.00 m/s? (c) What is the change in the potential energy?"
   ]
  },
  {
   "cell_type": "markdown",
   "metadata": {},
   "source": [
    "## 8.4 - Changes in Mechanical Energy for Nonconservative Forces"
   ]
  },
  {
   "cell_type": "markdown",
   "metadata": {},
   "source": [
    "**27.** In her hand a softball pitcher swings a ball of mass 0.250 kg around a vertical circular path of radius 60.0 cm before releasing it from her hand. The pitcher maintains a component of force on the ball of constant magnitude 30.0 N in the direction of motion around the complete path. The speed of the ball at the top of the circle is 15.0 m/s. If she releases the ball at the bottom of the circle, what is its speed upon release?"
   ]
  },
  {
   "cell_type": "markdown",
   "metadata": {},
   "source": [
    "**29.** The world's biggest locomotive is the MK5000C, a behemoth of mass 160 metric tons driven by the most powerful enegine ever used for rail transportation, a Caterpillar diesel capable of 5000 hp. Such a huge machine can provide a gain in efficiency, but its large mass presents challenges as well. The engineer finds that the locomotive handles differently from conventional units, notably in braking and climbing hills. Consider the locomotive pulling no train, but traveling at 27.0 m/s on a level track while operating with output power 1000 hp. It comes to a 5.00% grade (a slope that rise 5.00 m for every 100 m along the track). If the throttle is not advanced, so that the power level is held steady, to what value will the speed drop? Assume that friction forces do not depend on the speed."
   ]
  },
  {
   "cell_type": "markdown",
   "metadata": {},
   "source": [
    "**33.** A 5.00-kg block is set into motion up an inclined plane with an initial speed of 8.00 m/s (Fig. P8.33). The block comes to rest after traveling 3.00 m along the plane, which is inclined at an angle of $30.0^\\circ$ to the horizontal. For this motion determine (a) the change in the block's kinetic energy, (b) the change in the potential energy of the block-Earth system, and (c) the friction force exerted on the block (assumed to be constant), (d) What is the coefficient of kinetic friction?"
   ]
  },
  {
   "cell_type": "markdown",
   "metadata": {},
   "source": [
    "**35.** A toy cannon uses a spring to project a 5.30-g soft rubber ball. The spring is originally compressed by 5.00 cm and has a force constant of 8.00 N/m. When the cannon is fired, the ball moves 15.0 cm through the horizontal barrel of the cannon, and there is a constant friction force of 0.0320 N between the barrel and the ball. (a) With what speed does the projectile leave the barrel of the cannon? (b) At what point does the ball have maximum speed? (c) What is this maximum speed?"
   ]
  }
 ],
 "metadata": {
  "kernelspec": {
   "display_name": "Python 3",
   "language": "python",
   "name": "python3"
  },
  "language_info": {
   "codemirror_mode": {
    "name": "ipython",
    "version": 3
   },
   "file_extension": ".py",
   "mimetype": "text/x-python",
   "name": "python",
   "nbconvert_exporter": "python",
   "pygments_lexer": "ipython3",
   "version": "3.8.5"
  }
 },
 "nbformat": 4,
 "nbformat_minor": 4
}
