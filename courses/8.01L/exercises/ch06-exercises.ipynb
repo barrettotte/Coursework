{
 "cells": [
  {
   "cell_type": "markdown",
   "metadata": {},
   "source": [
    "# Chapter 06 - Circular Motion and Other Applications of Newton's Laws"
   ]
  },
  {
   "cell_type": "markdown",
   "metadata": {},
   "source": [
    "## 6.1 - Newton's Second Law Applied to Uniform Circular Motion"
   ]
  },
  {
   "cell_type": "markdown",
   "metadata": {},
   "source": [
    "**1.** A light string can support a stationary hanging load of 25.0 kg before breaking. A 3.00 kg object attached to the string rotates on the horizontal, frictionless table in a circle of radius 0.800 m, while the other end of the string is held fixed. What range of speeds can the object have before the string breaks.\n",
    "\n",
    "$T=mg=25(9.80)=245\\text{ N}$\n",
    "\n",
    "$T=\\frac{mv^2}{r}\\implies v^2=\\frac{Tr}{m}\\implies\\sqrt{\\frac{Tr}{m}}$\n",
    "\n",
    "$T=\\sqrt{\\frac{245\\text{ N}(0.800)}{3.00}}=8.083\\text{ m/s}$\n",
    "\n",
    "$0\\text{ m/s}\\le v\\le 8.083\\text{ m/s}$"
   ]
  },
  {
   "cell_type": "markdown",
   "metadata": {},
   "source": [
    "**3.** In the Bohr model of the hydrogen atom, the speed of the electron is approximately $2.20\\times10^6$ m/s. Find (a) the force acting on the electron as it revolves in a circular orbit of radius $0.530\\times10^{-10}$ m and (b) the centripetal acceleration of the electron.\n",
    "\n",
    "$v=2.20\\times10^6\\text{ m/s}$\n",
    "$,\\quad r=0.530\\times10^{-10}\\text{ m}$\n",
    "\n",
    "$m=9.11\\times10^{-31}\\text{ kg}$\n",
    "\n",
    "$F=\\frac{mv^2}{r}$\n",
    "$=\\frac{(9.11\\times10^{-31})(2.20\\times10^6)^2}{0.530\\times10^{-10}}$\n",
    "$=8.32\\times10^{-8}\\text{ N}$\n",
    "\n",
    "\n",
    "$a_c=\\frac{v^2}{r}$\n",
    "$=\\frac{(2.20\\times10^6)^2}{0.530\\times10^{-10}}=9.3\\times10^{22}\\text{ m/s}^2$"
   ]
  },
  {
   "cell_type": "markdown",
   "metadata": {},
   "source": [
    "**7.** A crate of eggs is located in the middle of the flat bed of a pickup truck as the truck negotiates an unbanked curve in the road. The curve may be regarded as an arc of a circle of radius 35.0 m. If the coefficient of static friction between crate and truck is 0.600, how fast can the truck be moving without the crate sliding?\n",
    "\n",
    "![assets/ch06-07.png](assets/ch06-07.png)\n",
    "\n",
    "$\\Sigma F_y=n-mg=0\\implies n=mg$\n",
    "\n",
    "$\\Sigma F_x=f_s=ma_c=\\frac{mv^2}{r}$\n",
    "\n",
    "$f_s=\\mu_sn$\n",
    "\n",
    "$\\Sigma F_x=\\mu_smg=\\frac{mv^2}{r}$\n",
    "\n",
    "$v=\\sqrt{\\mu_sgr}=\\sqrt{(0.6)(9.80)(35)}=14.3\\text{ m/s}$"
   ]
  },
  {
   "cell_type": "markdown",
   "metadata": {},
   "source": [
    "## 6.2 - Nonuniform Circular Motion"
   ]
  },
  {
   "cell_type": "markdown",
   "metadata": {},
   "source": [
    "**13.** A 40.0 kg child swings in a swing supported by two chains, each 3.00 m long. If the tension in each chain at the lowest point is 350 N, find (a) the child's speed at the lowest point and (b) the force exerted by the seat on the child at the lowest point (Neglect the mass of the seat)\n",
    "\n",
    "**a.**\n",
    "\n",
    "$F=2T-mg=\\frac{mv^2}{r}$\n",
    "\n",
    "$F=2(350)-(40)(9.80)$\n",
    "\n",
    "$308=\\frac{mv^2}{r}$\n",
    "\n",
    "$v=\\sqrt{\\frac{308r}{m}}=\\frac{308(3)}{40}=4.81\\text{ m/s}$\n",
    "\n",
    "**b.**\n",
    "\n",
    "$F=n-mg=\\frac{mv^2}{r}\\implies n=mg+\\frac{mv^2}{r}$\n",
    "\n",
    "$n=4(9.80)+\\frac{4(4.81)^2}{3}=700\\text{ N}$"
   ]
  },
  {
   "cell_type": "markdown",
   "metadata": {},
   "source": [
    "**15.** Tarzan $(m=85.0\\text{ kg})$ tries to cross a river by swinging from a vine. The vine is 10.0 m long, and his speed at the bottom of the swing (as he just clears the water) will be 8.00 m/s. Tarzan doesn't know that the vine has a breaking strength of 1000 N. Does he make it safely across the river?\n",
    "\n",
    "$F_r=\\frac{mv^2}{r}=T-mg$\n",
    "\n",
    "$T=m(g+\\frac{v^2}{r})$\n",
    "$=85(9.80+\\frac{8}{10}=1377\\text{ N}$\n",
    "\n",
    "$1377\\text{ N}\\gt 1000\\text{ N}$ . So, no the vine will break"
   ]
  },
  {
   "cell_type": "markdown",
   "metadata": {},
   "source": [
    "**19.** A roller coaster car (Fig. P6.19) has a mass of 500 kg when fully loaded with passengers. (a) If the vehicle has a speed of 20.0 m/s at point $A$, what is the force exerted by the track on the car at this point? (b) What is the maximum speed the vehicle can have at $B$ and still remain on the track?\n",
    "\n",
    "**a.**\n",
    "\n",
    "$\\Sigma F=n-mg=ma_c=\\frac{mv^2}{r}$\n",
    "\n",
    "$n=\\frac{mv^2}{r}+mg$\n",
    "$=\\frac{500(20)^2}{10}+500(9.80)=24905\\text{ N}$\n",
    "\n",
    "**b.**\n",
    "\n",
    "$v=\\sqrt{gr}=\\sqrt{9.80(15)}=12.1\\text{ m/s}$\n"
   ]
  },
  {
   "cell_type": "markdown",
   "metadata": {},
   "source": [
    "## 6.3 - Motion in Accelerated Frames"
   ]
  },
  {
   "cell_type": "markdown",
   "metadata": {},
   "source": [
    "**21.** An object of mass 5.00 kg, attached to a spring scale, rests on a frictionless, horizontal surface as in Figure P6.21. The spring scale, attached to the front end of a boxcar, has a constant reading of 18.0 N when the car is in motion. (a) If the spring scale reads zero when the car is at rest, determine the acceleration of the car. (b) What constant reading will the spring scale show if the car moves with constant velocity? (c) Describe the forces on the object as observed by someone in the car and by someone at rest outside the car.\n",
    "\n",
    "\n",
    "**a.**\n",
    "\n",
    "$\\Sigma F_x=T=ma$\n",
    "\n",
    "$a=\\frac{T}{m}=\\frac{18}{5}=3.6\\text{ m/s}^2$\n",
    "\n",
    "**b.**\n",
    "\n",
    "$T-m(0)=0\\text{ N}$\n",
    "\n",
    "**c.**\n",
    "\n",
    "The observer in the car would feel the tension force (spring) and a\n",
    "fictitious force.\n",
    "\n",
    "An observer at rest would observe only the tension force."
   ]
  },
  {
   "cell_type": "markdown",
   "metadata": {},
   "source": [
    "**23.** A 0.500 kg object is suspended from the ceiling of an accelerating boxcar as in Figure 6.13. If $a=3.00\\text{ m/s}^2$, find (a) the angle that the string makes with the vertical and (b) the tension in the string.\n",
    "\n",
    "$T\\sin\\theta=ma_x$\n",
    "$,\\quad T\\cos\\theta-mg=0$\n",
    "\n",
    "**a.**\n",
    "\n",
    "$\\tan\\theta=\\frac{a_x}{g}=\\frac{3}{9.80}=0.3$\n",
    "\n",
    "$\\theta=\\tan^{-1}(\\frac{3}{9.80})=17°$\n",
    "\n",
    "**b.**\n",
    "\n",
    "$T=\\frac{ma_x}{\\sin\\theta}=\\frac{0.5(3)}{\\sin17°}=5.12\\text{ N}$\n"
   ]
  },
  {
   "cell_type": "markdown",
   "metadata": {},
   "source": [
    "## 6.4 - Motion in the Presence of Resistive Forces"
   ]
  },
  {
   "cell_type": "markdown",
   "metadata": {},
   "source": [
    "**33.** A small piece of Styrofoam packing material is dropped from a height of 2.00 m above the ground. Until it reaches terminal speed, the magnitude of its acceleration is given by $a=g-bv$. After falling 0.500 m, the Styrofoam effectively reaches terminal speed, and then takes 5.00 s more to reach the ground. (a) What is the value of the constant $b$? (b) What is the acceleration at $t=0?$ (c) What is the acceleration when the speed is 0.150 m/s?\n",
    "\n",
    "$a=g-bv$\n",
    "\n",
    "**a.**\n",
    "\n",
    "$v_T=\\frac{1.5}{5}=0.3\\text{ m/s}$\n",
    "\n",
    "$0=g-bv_T$\n",
    "\n",
    "$b=\\frac{g}{v_T}=\\frac{9.80}{0.3}=32.7\\text{ s}^{-1}$\n",
    "\n",
    "**b.**\n",
    "\n",
    "$a=g-b(0)=g$\n",
    "\n",
    "**c.**\n",
    "\n",
    "$a=g-b(0.15)=9.80-32.7(0.15)=4.9\\text{ m/s}^2$"
   ]
  },
  {
   "cell_type": "markdown",
   "metadata": {},
   "source": [
    "**35.** Calculate the force required to pull a copper ball of radius 2.00 cm upward through a fluid at the constant speed 9.00 cm/s. Take the drag force to be proportional to the speed, with proportionality constant 0.950 kg/s. Ignore the buoyant force.\n",
    "\n",
    "\n",
    "$R=bv$\n",
    "\n",
    "$m=\\rho V=\\rho(\\frac{4}{3}\\pi r^3)$\n",
    "$=(8.92\\times10^3)(\\frac{4}{3}\\pi(0.02)^3)$\n",
    "$=0.3\\text{ kg}$\n",
    "\n",
    "$\\Sigma F_y=F-bv-mg=ma$\n",
    "\n",
    "$F-bv-mg=0$\n",
    "\n",
    "$F=bv+mg=0.95(0.09)+(0.3)(9.80)=3.03\\text{ N}$"
   ]
  }
 ],
 "metadata": {
  "kernelspec": {
   "display_name": "Python 3",
   "language": "python",
   "name": "python3"
  },
  "language_info": {
   "codemirror_mode": {
    "name": "ipython",
    "version": 3
   },
   "file_extension": ".py",
   "mimetype": "text/x-python",
   "name": "python",
   "nbconvert_exporter": "python",
   "pygments_lexer": "ipython3",
   "version": "3.8.5"
  }
 },
 "nbformat": 4,
 "nbformat_minor": 4
}
