{
 "cells": [
  {
   "cell_type": "markdown",
   "metadata": {},
   "source": [
    "# Chapter 12 - Static Equilibrium and Elasticity"
   ]
  },
  {
   "cell_type": "markdown",
   "metadata": {},
   "source": [
    "## 12.1 - The Conditions for Equilibrium of a Rigid Body"
   ]
  },
  {
   "cell_type": "markdown",
   "metadata": {},
   "source": [
    "**1.** A baseball player holds a 36-oz bat (weight=10.0 N) with one hand at the point $O$ (Fig. P12.1). The bat is in equilibrium. The weight of the bat acts along a line 60.0 cm to the right of $O$. Determine the force and the torque exerted by the player on the bat around an axis through $O$.\n",
    "\n",
    "$\\sum F_y=0$\n",
    "\n",
    "$F-10\\text{ N}=0$\n",
    "\n",
    "$\\sum\\tau=\\tau_a-(0.6\\cdot 10)=0$\n",
    "\n",
    "$\\tau_a=6\\text{ N}\\cdot\\text{m}$"
   ]
  },
  {
   "cell_type": "markdown",
   "metadata": {},
   "source": [
    "## 12.2 - More on the Center of Gravity"
   ]
  },
  {
   "cell_type": "markdown",
   "metadata": {},
   "source": [
    "**5.** A carpenter's square has the shape of an $L$, as in Figure P12.5. Locate its center of gravity.\n",
    "\n",
    "$(x_1,y_1)=(\\frac{0+4}{2},\\frac{0+18}{2})=(2,9)\\text{ cm}$\n",
    "\n",
    "$(x_2,y_1)=(\\frac{4+12}{2},\\frac{0+4}{2})=(8,2)\\text{ cm}$\n",
    "\n",
    "$A_1=4(18)=72\\text{ cm}^2$\n",
    "\n",
    "$A_2=8(4)=32\\text{ cm}^2$\n",
    "\n",
    "$m_1=\\rho A_1=\\rho(72\\text{ cm}^2)$\n",
    "\n",
    "$m_2=\\rho A_2=\\rho(32\\text{ cm}^2)$\n",
    "\n",
    "$x_{CG}=\\frac{\\Sigma mx}{\\Sigma m}=\\frac{m_1x_1+m_2x_2}{m_1+m_2}$\n",
    "$=\\frac{\\rho(72)(2)+\\rho(32)(8)}{\\rho(72+32)}$\n",
    "$=3.85\\text{ cm}$\n",
    "\n",
    "$y_{CG}=\\frac{\\Sigma my}{\\Sigma m}=\\frac{m_1y_1+m_2y_2}{m_2+m_2}$\n",
    "$=\\frac{\\rho(72)(9)+\\rho(32)(2)}{\\rho(72+32)}$\n",
    "$=6.85\\text{ cm}$\n",
    "\n",
    "$(3.85, 6.85)\\text{ cm}$"
   ]
  },
  {
   "cell_type": "markdown",
   "metadata": {},
   "source": [
    "**7.** Consider the following mass distribution: 5.00 kg at (0,0) m, 3.00 kg at (0,4.00) m, and 4.00 kg at (3.00, 0) m. Where should a fourth object of mass 8.00 kg be placed so that the center of gravity of the four-object arrangement will be at (0,0).\n",
    "\n",
    "$x_{CM}=\\frac{\\Sigma mx}{\\Sigma m}$\n",
    "\n",
    "$0=\\frac{5(0)+3(0)+4(3)+8(x_4)}{5+3+4+8}$\n",
    "$=12+8x_4=0$\n",
    "$\\implies x_4=-1.5\\text{ m}$\n",
    "\n",
    "$y_{CM}=\\frac{\\Sigma my}{\\Sigma m}$\n",
    "\n",
    "$0=\\frac{5(0)+3(4)+4(0)+8(y_4)}{5+3+4+8}$\n",
    "$\\implies y_4=-1.5\\text{ m}$\n",
    "\n",
    "$(-1.5, -1.5)\\text{ m}$"
   ]
  },
  {
   "cell_type": "markdown",
   "metadata": {},
   "source": [
    "## 12.3 - Examples of Rigid Objects in Static Equilibrium"
   ]
  },
  {
   "cell_type": "markdown",
   "metadata": {},
   "source": [
    "**9.** Find the mass $m$ of the counterweight needed to balance the 1500 kg truck on the incline shown in Figure P12.9. Assume all pulleys are frictionless and massless.\n",
    "\n",
    "\n",
    "$\\Sigma F_x=2T-Mg\\sin\\theta=0$ (translational)\n",
    "\n",
    "$T=\\frac{Mg\\sin\\theta}{2}$\n",
    "$=\\frac{1500(9.8)(\\sin45^\\circ)}{2}$\n",
    "$=5.19\\times10^3\\text{ N}$\n",
    "\n",
    "$\\Sigma\\tau=mg(3r)-T(r)=0$ (rotational)\n",
    "\n",
    "$m=\\frac{T}{3g}$\n",
    "$=\\frac{5.19\\times10^3}{3(9.8)}=177\\text{ kg}$"
   ]
  },
  {
   "cell_type": "markdown",
   "metadata": {},
   "source": [
    "**17.** A 1500 kg automobile has a wheel base (the distance between the axles) of 3.00 m. The center of mass of the automobile is on the center line at a point 1.20 m behind the front axle. Find the force exerted by the ground on each wheel.\n",
    "\n",
    "$\\Sigma\\tau=-F_1(1.2)+F_2(1.8)=0$\n",
    "\n",
    "$\\Sigma F_y=F_1+F_2-Mg=0$\n",
    "\n",
    "$1.2F_1+1.2F_2=1.2Mg$\n",
    "\n",
    "$\\Sigma\\tau+\\Sigma F_y=1.2Mg$\n",
    "\n",
    "$(1.8+1.2)F_2=1.2M_g$\n",
    "\n",
    "$F_2=(\\frac{1.2}{1.8+1.2})Mg=0.4Mg$\n",
    "\n",
    "$F_2=0.4(1500)(9.8)=5880\\text{ N}$\n",
    "\n",
    "$F_1=Mg-F_2$\n",
    "$=1500(9.8)-5880=8820\\text{ N}$\n",
    "\n",
    "$\\frac{F_1}{2}=4410\\text{ N}$\n",
    "\n",
    "$\\frac{F_2}{2}=2940\\text{ N}$"
   ]
  },
  {
   "cell_type": "markdown",
   "metadata": {},
   "source": [
    "## 12.4 - Elastic Properties of Solids"
   ]
  },
  {
   "cell_type": "markdown",
   "metadata": {},
   "source": [
    "**27.** A 200-kg load is hung on a wire having a length of 4.00 m, cross-sectional area $0.200\\times10^{-4}\\text{ m}^2$, and Young's modulus $8.00\\times10^{10}\\text{ N/m}^2$. What is its increase in length?\n",
    "\n",
    "$Y=\\frac{F/A}{\\Delta L/L}$\n",
    "\n",
    "$\\Delta L=\\frac{mgL}{AY}$\n",
    "$=\\frac{200(9.8)(4)}{(0.2\\times10^{-4})(8\\times10^{10})}$\n",
    "$=4.9\\times 10^{-3}\\text{ m}$"
   ]
  },
  {
   "cell_type": "markdown",
   "metadata": {},
   "source": [
    "**33.** If the shear stress in steel exceeds $4.00\\times10^8\\text{ N/m}^2$, the steel ruptures. Determine the shearing force necessary to (a) shear a steel bolt 1.00 cm in diameter and (b) punch a 1.00-cm-diameter hole in a steel plate 0.500 cm thick.\n",
    "\n",
    "**a.**\n",
    "\n",
    "$F=\\text{shear stress}\\cdot A$\n",
    "$=\\text{shear stress}\\cdot\\pi(\\frac{d}{2})^2$\n",
    "\n",
    "$F=(4\\times10^8)\\cdot\\pi(\\frac{0.01}{2})^2$\n",
    "$=3.14\\times10^4\\text{ N}$\n",
    "\n",
    "**b.**\n",
    "\n",
    "$A=2\\pi rt=d\\pi t$\n",
    "\n",
    "$A=0.01(\\pi)(0.005)=1.57\\times10^{-4}\\text{ m}^2$\n",
    "\n",
    "$F=(4\\times10^8)(1.57\\times10^{-4})=6.28\\times10^4\\text{ N}$"
   ]
  },
  {
   "cell_type": "markdown",
   "metadata": {},
   "source": [
    "**35.** When water freezes, it expands by about 9.00%. What pressure increase would occur inside your automobile engine block if the water in it froze? (The bulk modulus of ice is $2.00\\times10^9\\text{ N/m}^2$)\n",
    "\n",
    "$B=\\frac{-\\Delta P}{\\Delta V/V_i}$\n",
    "$\\implies \\Delta P=-\\frac{B\\Delta V}{V_i}$\n",
    "$=-\\frac{B(V_f-V_i)}{V_i}$\n",
    "\n",
    "$\\Delta P=-\\frac{(2\\times10^9)(0.09V_i)}{1.09V_i}$\n",
    "$=-1.65\\times10^8\\text{ N/m}^2$\n"
   ]
  }
 ],
 "metadata": {
  "kernelspec": {
   "display_name": "Python 3",
   "language": "python",
   "name": "python3"
  },
  "language_info": {
   "codemirror_mode": {
    "name": "ipython",
    "version": 3
   },
   "file_extension": ".py",
   "mimetype": "text/x-python",
   "name": "python",
   "nbconvert_exporter": "python",
   "pygments_lexer": "ipython3",
   "version": "3.8.5"
  }
 },
 "nbformat": 4,
 "nbformat_minor": 4
}
