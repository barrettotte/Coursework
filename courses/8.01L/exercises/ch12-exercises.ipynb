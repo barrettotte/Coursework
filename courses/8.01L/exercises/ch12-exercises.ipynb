{
 "cells": [
  {
   "cell_type": "markdown",
   "metadata": {},
   "source": [
    "# Chapter 12 - Static Equilibrium and Elasticity"
   ]
  },
  {
   "cell_type": "markdown",
   "metadata": {},
   "source": [
    "## 12.1 - The Conditions for Equilibrium of a Rigid Body"
   ]
  },
  {
   "cell_type": "markdown",
   "metadata": {},
   "source": [
    "**1.** A baseball player holds a 36-oz bat (weight=10.0 N) with one hand at the point $O$ (Fig. P12.1). The bat is in equilibrium. The weight of the bat acts along a line 60.0 cm to the right of $O$. Determine the force and the torque exerted by the player on the bat around an axis through $O$."
   ]
  },
  {
   "cell_type": "markdown",
   "metadata": {},
   "source": [
    "**3.** A uniform beam of mass $m_b$ and length $l$ supports blocks with masses $m_1$ and $m_2$ at two positions, as in Figure P12.3. The beam rests on two knife edges. For what value of $x$ will the beam be balanced at $P$ such that the normal force at $O$ is zero?"
   ]
  },
  {
   "cell_type": "markdown",
   "metadata": {},
   "source": [
    "## 12.2 - More on the Center of Gravity"
   ]
  },
  {
   "cell_type": "markdown",
   "metadata": {},
   "source": [
    "**5.** A carpenter's square has the shape of an $L$, as in Figure P12.5. Locate its center of gravity."
   ]
  },
  {
   "cell_type": "markdown",
   "metadata": {},
   "source": [
    "**7.** Consider the following mass distribution: 5.00 kg at (0,0) m, 3.00 kg at (0,4.00) m, and 4.00 kg at (3.00, 0) m. Where should a fourth object of mass 8.00 kg be placed so that the center of gravity of the four-object arrangement will be at (0,0)."
   ]
  },
  {
   "cell_type": "markdown",
   "metadata": {},
   "source": [
    "## 12.3 - Examples of Rigid Objects in Static Equilibrium"
   ]
  },
  {
   "cell_type": "markdown",
   "metadata": {},
   "source": [
    "**9.** Find the mass $m$ of the counterweight needed to balance the 1500 kg truck on the incline shown in Figure P12.9. Assume all pulleys are frictionless and massless."
   ]
  },
  {
   "cell_type": "markdown",
   "metadata": {},
   "source": [
    "**15.** Figure P12.15 shows a claw hammer as it is being used to pull a nail out of a horizontal board. If a force of 150 N is exerted horizontally as shown, find (a) the force exerted by the hammer claws on the nail and (b) the force exerted by the surface on the point of contact with the hammer head. Assume that the force the hammer exerts on the nail is parallel to the nail."
   ]
  },
  {
   "cell_type": "markdown",
   "metadata": {},
   "source": [
    "**17.** A 1500 kg automobile has a wheel base (the distance between the axles) of 3.00 m. The center of mass of the automobile is on the center line at a point 1.20 m behind the front axle. Find the force exerted by the ground on each wheel."
   ]
  },
  {
   "cell_type": "markdown",
   "metadata": {},
   "source": [
    "**25.** A vaulter holds a 29.4 N pole in equilibrium by exerting an upward force $\\vec{U}$ with her leading hand a downward force $\\vec{D}$ with her trailing hand and a downward force $\\vec{D}$ with her trailing hand, as shown in Figure P12.25. Point $C$ is the center of gravity of the pole. What are the magnitudes of $\\vec{U}$ and $\\vec{D}$?"
   ]
  },
  {
   "cell_type": "markdown",
   "metadata": {},
   "source": [
    "## 12.4 - Elastic Properties of Solids"
   ]
  },
  {
   "cell_type": "markdown",
   "metadata": {},
   "source": [
    "**27.** A 200-kg load is hung on a wire having a length of 4.00 m, cross-sectional area $0.200\\times10^{-4}\\text{ m}^2$, and Young's modulus $8.00\\times10^{10}\\text{ N/m}^2$. What is its increase in length?"
   ]
  },
  {
   "cell_type": "markdown",
   "metadata": {},
   "source": [
    "**29.** Evaluate Young's modulus for the material whose stress-versus-strain curve is shown in Figure 12.15."
   ]
  },
  {
   "cell_type": "markdown",
   "metadata": {},
   "source": [
    "**33.** If the shear stress in steel exceeds $4.00\\times10^8\\text{ N/m}^2$, the steel ruptures. Determine the shearing force necessary to (a) shear a steel bolt 1.00 cm in diameter and (b) punch a 1.00-cm-diameter hole in a steel plate 0.500 cm thick."
   ]
  },
  {
   "cell_type": "markdown",
   "metadata": {},
   "source": [
    "**35.** When water freezes, it expands by about 9.00%. What pressure increase would occur inside your automobile engine block if the water in it froze? (The bulk modulus of ice is $2.00\\times10^9\\text{ N/m}^2$)"
   ]
  }
 ],
 "metadata": {
  "kernelspec": {
   "display_name": "Python 3",
   "language": "python",
   "name": "python3"
  },
  "language_info": {
   "codemirror_mode": {
    "name": "ipython",
    "version": 3
   },
   "file_extension": ".py",
   "mimetype": "text/x-python",
   "name": "python",
   "nbconvert_exporter": "python",
   "pygments_lexer": "ipython3",
   "version": "3.8.5"
  }
 },
 "nbformat": 4,
 "nbformat_minor": 4
}
