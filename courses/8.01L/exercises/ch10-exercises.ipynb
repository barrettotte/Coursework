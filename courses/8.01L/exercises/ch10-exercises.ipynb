{
 "cells": [
  {
   "cell_type": "markdown",
   "metadata": {},
   "source": [
    "# Chapter 10 - Rotation of a Rigid Object About a Fixed Axis"
   ]
  },
  {
   "cell_type": "markdown",
   "metadata": {},
   "source": [
    "## 10.2 - Rotational Kinematics: Rotational Motion with Constant Angular Acceleration"
   ]
  },
  {
   "cell_type": "markdown",
   "metadata": {},
   "source": [
    "**3.** A wheel starts from rest and rotates with constant angular acceleration to reach an angular speed of 12.0 rad/s in 3.00 s. Find (a) the magnitude of the angular acceleration of the wheel and (b) the angle in radians through which it rotates in this time."
   ]
  },
  {
   "cell_type": "markdown",
   "metadata": {},
   "source": [
    "**5.** An electric motor rotating a grinding wheel at 100 rev/min is switched off. With constant negative angular acceleration of magnitude $2.00 \\text{ rad/s}^2$, (a) how long does it take the wheel to stop? (b) Through how many radians doess it turn while it is slowing down?"
   ]
  },
  {
   "cell_type": "markdown",
   "metadata": {},
   "source": [
    "## 10.3 - Angular and Linear Quanities"
   ]
  },
  {
   "cell_type": "markdown",
   "metadata": {},
   "source": [
    "**13.** A wheel 2.00 m in diameter lies in a vertical plane and rotates with a constant angular acceleration of $4.00\\text{ rad/s}^2$. The wheel starts at rest $t=0$, and the radius vector of a certain point $P$ on the rim makes an angle of $57.3^\\circ$ with the horizontal at this time. At $t=2.00\\text{ s}$, find (a) the angular speed of the wheel, (b) the tangential speed and the total acceleration of the point $P$, and (c) the angular position of the point $P$."
   ]
  },
  {
   "cell_type": "markdown",
   "metadata": {},
   "source": [
    "**15.** A discus thrower (Fig. P10.15) accelerates a discus from rest to a speed of 25.0 m/s by whirling it through 1.25 rev. Assume the discus moves on the arc of a circle 1.00 m in radius. (a) Calculate the final angular speed of the discus. (b) Determine the magnitude of the angular acceleration of the discus, assuming it to be constant. (c) Calculate the time interval required for the discus to accelerate from rest to 25.0 m/s."
   ]
  },
  {
   "cell_type": "markdown",
   "metadata": {},
   "source": [
    "**17.** A disk 8.00 cm in radius rotates at a constant rate of 1200 rev/min about its central axis. Determine (a) its angular speed, (b) the tangential speed at a point 3.00 cm from its center, (c) the radial acceleration of a point on the rim, and (d) the total distance a point on the rim moves in 2.00 s."
   ]
  },
  {
   "cell_type": "markdown",
   "metadata": {},
   "source": [
    "## 10.4 - Rotational Kinetic Energy"
   ]
  },
  {
   "cell_type": "markdown",
   "metadata": {},
   "source": [
    "**21.** The four particles in Figure P10.21 are connected by rigid rods of negligible mass. The origin is at the center of the rectangle. If the system rotates in the xy plane about the z axis with an angular speed of $6.00\\text{ rad/s}$, calculate (a) the moment of inertia of the system about the z axis and (b) the rotational kinetic energy of the system."
   ]
  },
  {
   "cell_type": "markdown",
   "metadata": {},
   "source": [
    "## 10.5 - Calculation of Moments of Inertia"
   ]
  },
  {
   "cell_type": "markdown",
   "metadata": {},
   "source": [
    "**25.** A uniform thin solid door has height 2.20 m, width 0.870 m, and mass 23.0 kg. Find its moment of inertia for rotation on its hinges. Is any piece of data unnecessary?"
   ]
  },
  {
   "cell_type": "markdown",
   "metadata": {},
   "source": [
    "**27.** The density of the Earth, at any distance $r$ from its center, is approximately\n",
    "\n",
    "$\\rho=[14.2-11.6(r/R)]\\times 10^3\\text{ kg/m}^3$\n",
    "\n",
    "where $R$ is the radius of the Earth. Show that this density leads to a moment of intertia $I=0.330MR^2$ about an axis through the center, where $M$ is the mass of the Earth."
   ]
  },
  {
   "cell_type": "markdown",
   "metadata": {},
   "source": [
    "**29.** Many machines employ cams for various purposes, such as opening and closing valves. In Figure P10.29, the cam is a circular disk rotating on a shaft that does not pass through the center of the disk. In the manufacture of the cam, a uniform solid cylinder of radius $R$ is first machined. Then an off-center hole of radius $R/2$ is drilled, parallel to the axis of the cylinder, and centered at a point a distance $R/2$ from the cneter of the cylinder. The cam,  of mass $M$, is then slipped onto the circular shaft and welded into place. What is the kinetic energy of the cam when it is rotating with angular speed $\\omega$ about the axis of the shaft?"
   ]
  },
  {
   "cell_type": "markdown",
   "metadata": {},
   "source": [
    "## 10.6 - Torque"
   ]
  },
  {
   "cell_type": "markdown",
   "metadata": {},
   "source": [
    "**31.** Find the net torque on the wheel in Figure P10.31 about the axle through $O$ if $a=10.0\\text{ cm}$ and $b=25.0\\text{ cm}$"
   ]
  },
  {
   "cell_type": "markdown",
   "metadata": {},
   "source": [
    "## 10.7 - Relationship between Torque and Angular Acceleration"
   ]
  },
  {
   "cell_type": "markdown",
   "metadata": {},
   "source": [
    "**39.**"
   ]
  },
  {
   "cell_type": "markdown",
   "metadata": {},
   "source": [
    "## 10.8 - Work, Power, and Energy in Rotational Motion"
   ]
  },
  {
   "cell_type": "markdown",
   "metadata": {},
   "source": [
    "**41.**"
   ]
  },
  {
   "cell_type": "markdown",
   "metadata": {},
   "source": [
    "**43.**"
   ]
  }
 ],
 "metadata": {
  "kernelspec": {
   "display_name": "Python 3",
   "language": "python",
   "name": "python3"
  },
  "language_info": {
   "codemirror_mode": {
    "name": "ipython",
    "version": 3
   },
   "file_extension": ".py",
   "mimetype": "text/x-python",
   "name": "python",
   "nbconvert_exporter": "python",
   "pygments_lexer": "ipython3",
   "version": "3.8.5"
  }
 },
 "nbformat": 4,
 "nbformat_minor": 4
}
