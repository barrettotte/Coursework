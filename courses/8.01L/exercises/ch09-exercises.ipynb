{
 "cells": [
  {
   "cell_type": "markdown",
   "metadata": {},
   "source": [
    "# Chapter 9 - Linear Momentum and Collisions"
   ]
  },
  {
   "cell_type": "markdown",
   "metadata": {},
   "source": [
    "## 9.1 - Linear Momentum and its Conservation"
   ]
  },
  {
   "cell_type": "markdown",
   "metadata": {},
   "source": [
    "**1.** A 3.00-kg particle has a velocity of $(3.00\\hat{i}-4.00\\hat{j})$ m/s. (a) Find its $x$ and $y$ components of momentum. (b) Find the magnitude and direction of its momentum."
   ]
  },
  {
   "cell_type": "markdown",
   "metadata": {},
   "source": [
    "**3.** How fast can you set the Earth moving? In particular, when you jump straight up as high as you can, what is the order of magnitude of the maximum recoil speed that you give to the Earth? Model the Earth as a perfectly solid object. In your solution, state the physical quantities you take as data and the values you measure or estimate for them."
   ]
  },
  {
   "cell_type": "markdown",
   "metadata": {},
   "source": [
    "**5.** (a) A particle of mass $m$ moves with momentum $p$. Show that the kinetic energy of the particle is $K=p^2/2\\text{ m}$. (b) Express the magnitude of the particle's momentum in terms of its kinetic energy and mass."
   ]
  },
  {
   "cell_type": "markdown",
   "metadata": {},
   "source": [
    "## 9.2 - Impulse and Momentum"
   ]
  },
  {
   "cell_type": "markdown",
   "metadata": {},
   "source": [
    "**7.** An estimated force-time curve for a baseball struck by a bat is shown in Figure P9.7. From this curve, determine (a) the impulse delivered to the ball, (b) the average force exerted on the ball, and (c) the peak force exerted on the ball."
   ]
  },
  {
   "cell_type": "markdown",
   "metadata": {},
   "source": [
    "**9.** A 3.00-kg steel ball strikes a wall with a speed of 10.0 m/s at an angle of $60.0^\\circ$ with the surface.\n",
    "It bounces off with the same speed and angle (Fig. P9.9). If the ball is in contact with the wall for 0.200 s, what is the average force exerted by the wall on the ball?"
   ]
  },
  {
   "cell_type": "markdown",
   "metadata": {},
   "source": [
    "**13.** A garden hose is held as shown in Figure P9.13. The hose is originally full of motionless water. What additional force is necessary to hold the nozzle stationary after the water flow is turned on, if the discharge rate is 0.600 kg/s with a speed of 25.0 m/s?"
   ]
  },
  {
   "cell_type": "markdown",
   "metadata": {},
   "source": [
    "## 9.3 - Collisions in One Dimension"
   ]
  },
  {
   "cell_type": "markdown",
   "metadata": {},
   "source": [
    "**15.** High-speed stroboscopic photographs show that the head of a golf club of mass 200 g traveling at 55.0 m/s just before it strike a 46.0-g golf ball at rest on a tee. After the collision, the club head travels (in the same direction) at 40.0 m/s. Find the speed of the golf ball just after impact."
   ]
  },
  {
   "cell_type": "markdown",
   "metadata": {},
   "source": [
    "**17.** A 10.0-g bullet is fired into a stationary block of wood $(m=5.00\\text{ kg})$. The relative motion of the bullet stops inside the block. The speed of the bullet-plus-wood combination immediately after the collision is 0.600 m/s. What was the original speed of the bullet?"
   ]
  },
  {
   "cell_type": "markdown",
   "metadata": {},
   "source": [
    "**21.** A 45.0-kg girl is standing on a plank that has a mass of 150 kg. The plank, orginally at rest, is free to slide on a frozen lake, which is a flat, frictionless supporting surface. The girl begins to walk along the plank at a constant speed of 1.50 m/s relative to the plank. (a) What is her speed relative to the ice surface? (b) What is the speed of the plank relative to the ice surface?"
   ]
  },
  {
   "cell_type": "markdown",
   "metadata": {},
   "source": [
    "**23.** A neutron in a nuclear reactor makes an elastic headon collision with the nucleus of a carbon atom initially at rest. (a) What fraction of the neutron's kinetic energy is transferred to the carbon nucleus? (b) If the initial kinetic energy of the neutron is $1.60\\times10^{-13}\\text{ J}$, find its final kinetic energy and the kinetic energy of the carbon nucleus after the collision. (The mass of the carbon nucleus is nearly 12.0 times the mass of the neutron)"
   ]
  },
  {
   "cell_type": "markdown",
   "metadata": {},
   "source": [
    "**25.** A 12.0-g wad of sticky clay is hurled horizontally at a 100-g wooden block initially at rest on a horizontal surface. The clay sticks to the block. After impact, the block slides 7.50 m before coming to rest. If the coefficient of friction between the block and the surface is 0.650, what was the speed of the clay immediately before impact?"
   ]
  },
  {
   "cell_type": "markdown",
   "metadata": {},
   "source": [
    "## 9.4 - Two-Dimensional Collisions"
   ]
  },
  {
   "cell_type": "markdown",
   "metadata": {},
   "source": [
    "**31.** The mass of the blue puck in Figure P9.31 is 20% greater than the mass of the green one. Before colliding, the pucks approach each other with momenta of equal magnitudes and opposite directions, and the green puck has an initial speed of 10.0 m/s. Find the speeds of the pucks after the collision if half the kinetic energy is lost during the collision."
   ]
  },
  {
   "cell_type": "markdown",
   "metadata": {},
   "source": [
    "**33.** A billiard ball moving at 5.00 m/s strikes a stationary ball of the same mass. After the collision, the first ball moves at 4.33 m/s, at an angle of $30.0^\\circ$ with respect to the original line of motion. Assuming an elastic collision (and ignoring friction and rotational motion), find the struck ball's velocity after the collision."
   ]
  },
  {
   "cell_type": "markdown",
   "metadata": {},
   "source": [
    "**35.** An object of mass 3.00 kg, moving with an initial velocity of $5.00\\hat{i}$ m/s, collides with and sticks to an object of mass 2.00 kg with an initial velocity of $3.00\\hat{j}$ m/s. Find the final velocity of the composite object."
   ]
  },
  {
   "cell_type": "markdown",
   "metadata": {},
   "source": [
    "**37.** An unstable atomic nucleus of mass $17.0\\times10^{-27}\\text{ kg}$ initially at rest disintegrates into three particles. One of the particles, of mass $5.00\\times10^{-27}\\text{ kg}$, moves along the $y$ axis with a speed of $4.00\\times10^6$ m/s. Find (a) the velocity of the third particle and (b) the total kinetic energy increase in the process."
   ]
  },
  {
   "cell_type": "markdown",
   "metadata": {},
   "source": [
    "## 9.5 - The Center of Mass"
   ]
  },
  {
   "cell_type": "markdown",
   "metadata": {},
   "source": [
    "**39.** A water molecule consists of an oxygen atom with two hydrogen atoms bound to it (Fig. P9.39). The angle between the two bonds is $106^\\circ$. If the bonds are 0.100 nm long, where is the center of mass of the molecule?"
   ]
  },
  {
   "cell_type": "markdown",
   "metadata": {},
   "source": [
    "**43.** A rod of length 30.0 cm has linear density (mass-per-length) given by \n",
    "\n",
    "$\\lambda=50.0\\text{ g/m}+20.0x\\text{ g/m}^2$,\n",
    "\n",
    "where $x$ is the distance from one end, measured in meters. (a) What is the mass of the rod? (b) How far from the $x=0$ end is its center of mass?"
   ]
  },
  {
   "cell_type": "markdown",
   "metadata": {},
   "source": [
    "## 9.6 - Motion of a System of Particles"
   ]
  },
  {
   "cell_type": "markdown",
   "metadata": {},
   "source": [
    "**45.** A 2.00-kg particle has a velocity $(2.00\\hat{i}-3.00\\hat{j})$ m/s, and a 3.00-kg particle has a velocity $(1.00\\hat{i}+6.00\\hat{j})$ m/s. Find (a) the velocity of the center of mass and (b) the total momentum of the system."
   ]
  },
  {
   "cell_type": "markdown",
   "metadata": {},
   "source": [
    "**47.** Romeo (77.0 kg) entertains Juliet (55.0 kg) by playing his guitar from the rear of their boat at rest in still water, 2.70 m away from Juliet, who is in the front of the boat. After the serenade, Juliet carefully moves to the rear of the boat (away from shore) to plant a kiss on Romeo's check. How far does the 80.0 kg boat move toward the shore it is facing?"
   ]
  },
  {
   "cell_type": "markdown",
   "metadata": {},
   "source": [
    "## 9.7 - Rocket Propulsion"
   ]
  },
  {
   "cell_type": "markdown",
   "metadata": {},
   "source": [
    "**49.** The first stage of a Saturn V space vehicle consumed fuel and oxidizer at the rate of $1.50\\times10^4$ kg/s, with an exhaust speed of $2.60\\times10^3$ m/s. (a) Calculate the thrust produced by these engines. (b) Find the acceleration of the vehicle just as it lifted off the launch pad on the Earth if the vehicle's initial mass was $3.00\\times10^6$ kg. Note: You must include the gravitational force to solve part (b)."
   ]
  }
 ],
 "metadata": {
  "kernelspec": {
   "display_name": "Python 3",
   "language": "python",
   "name": "python3"
  },
  "language_info": {
   "codemirror_mode": {
    "name": "ipython",
    "version": 3
   },
   "file_extension": ".py",
   "mimetype": "text/x-python",
   "name": "python",
   "nbconvert_exporter": "python",
   "pygments_lexer": "ipython3",
   "version": "3.8.5"
  }
 },
 "nbformat": 4,
 "nbformat_minor": 4
}
