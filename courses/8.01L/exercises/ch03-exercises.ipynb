{
 "cells": [
  {
   "cell_type": "markdown",
   "metadata": {},
   "source": [
    "# Chapter 03 - Vectors"
   ]
  },
  {
   "cell_type": "markdown",
   "metadata": {},
   "source": [
    "## 3.1 - Coordinate Systems"
   ]
  },
  {
   "cell_type": "markdown",
   "metadata": {},
   "source": [
    "**1.** The polar coordinates of a point are $r=5.50\\text{ m}$ and $\\theta=240°$. What are the Cartesian coordinates of this point?\n",
    "\n",
    "$x=r\\cos\\theta,\\quad y=r\\sin\\theta$\n",
    "\n",
    "$x=5.50\\cos(240)=-2.75$\n",
    "\n",
    "$y=5.5\\sin(250)=-4.763$"
   ]
  },
  {
   "cell_type": "markdown",
   "metadata": {},
   "source": [
    "<hr>\n",
    "\n",
    "**3.** A fly lands on one wall of a room. The lower left-hard corner of the wall is selected as the origin of a two-dimensional Cartesian coordinate system. If the fly is located at the point of having coordinates (2.00,1.00)m, (a) how far is it from the corner of the room? (b) What is its location in polar coordinates?\n",
    "\n",
    "\n",
    "r=$\\sqrt{(2.00-0)^2+(1.00-0)^2}=\\sqrt{5}\\text{ m}$\n",
    "\n",
    "$\\theta=\\tan^{-1}(\\frac{1}{2})=26.56°$\n",
    "\n",
    "$(\\sqrt{5}, 26.56)$"
   ]
  },
  {
   "cell_type": "markdown",
   "metadata": {},
   "source": [
    "<hr>\n",
    "\n",
    "**5.** If the rectangular coordinates of a point are given by $(2,y)$ and its polar coordinates are $(r,30°)$, determine $y$ and $r$.\n",
    "\n",
    "$x=r\\cos\\theta,\\quad y=r\\sin\\theta$\n",
    "\n",
    "$r=\\frac{x}{\\cos\\theta}=\\frac{2}{\\cos(30)}=2.31$\n",
    "\n",
    "$y=2.31\\sin(30)=1.155$"
   ]
  },
  {
   "cell_type": "markdown",
   "metadata": {},
   "source": [
    "## 3.3 - Some Properties of Vectors"
   ]
  },
  {
   "cell_type": "markdown",
   "metadata": {},
   "source": [
    "**7.** A surveyor measures the distance across a straight river by the following method: starting directly across from a tree on the opposite bank, she walks 100 m along the riverbank to establish a baseline. Then she sight across to the tree. The angle from her baseline to the tree is 35°. How wide is the river?\n",
    "\n",
    "![assets/ch03-07.png](assets/ch03-07.png)\n",
    "\n",
    "$\\tan\\theta=\\frac{\\text{opposite}}{\\text{adjacent}}$\n",
    "\n",
    "$\\tan(35)=\\frac{d}{100}$\n",
    "\n",
    "$d=70\\text{ m}$"
   ]
  },
  {
   "cell_type": "markdown",
   "metadata": {},
   "source": [
    "<hr>\n",
    "\n",
    "**9.** A plane flies from base camp to lake A, 280 km away, in a direction of 20.0° north of east. After dropping off supplies it flies to lake B, which is 190 km at 30.0° west of north from lank A. Graphically determine the distance and direction from lake B to base camp.\n",
    "\n",
    "![assets/ch03-09.png](assets/ch03-09.png)\n",
    "\n",
    "$A=((0+280\\cos(20)),(0+280\\sin(20)))=(263.11, 95.77)$\n",
    "\n",
    "$B=((263.11-190\\sin(30)),(95.77+190\\cos(30)))$\n",
    "$=(168.11,260.31)$\n",
    "\n",
    "$\\sqrt{(168.11)^2+(260.31)^2}$\n",
    "$=309.87\\text{ km}$\n",
    "\n",
    "$\\tan\\theta=\\frac{260.31}{168.11}$\n",
    "\n",
    "$\\theta=\\tan^{-1}(1.55)=57.17°$"
   ]
  },
  {
   "cell_type": "markdown",
   "metadata": {},
   "source": [
    "## 3.4 - Components of a Vector and Unit Vectors"
   ]
  },
  {
   "cell_type": "markdown",
   "metadata": {},
   "source": [
    "**19.** A vector has an $x$ component of -25.0 units and a $y$ component of 40.0 units. Find the magnitude and direction of this vector.\n",
    "\n",
    "\n",
    "$A=\\sqrt{{A_x}^2+{A_y}^2}$\n",
    "$=\\sqrt{(-25)^2+(40)^2}$\n",
    "$=47.2$\n",
    "\n",
    "$\\theta=\\tan^{-1}(\\frac{A_y}{A_x})$\n",
    "$=\\tan^{-1}\\frac{40}{-25}+180°=122°$"
   ]
  },
  {
   "cell_type": "markdown",
   "metadata": {},
   "source": [
    "<hr>\n",
    "\n",
    "**23.** A girl delivering newspapers covers her route by traveling 3.00 blocks west, 4.00 blocks north, and then 6.00 blocks east. (a) What is her resultant displacement? What is the total distance she travels?\n",
    "\n",
    "![assets/ch03-23.png](assets/ch03-23.png)\n",
    "\n",
    "**a.**\n",
    "\n",
    "$\\vec{r_t}=\\vec{r_1}+\\vec{r_2}+\\vec{r_3}$\n",
    "\n",
    "$=(-3\\hat{i})+(4\\hat{j})+(6\\hat{i})$\n",
    "$=3\\hat{i}+4\\hat{j}$\n",
    "\n",
    "$r_t=\\sqrt{(3)^2+(4)^2}=5$\n",
    "\n",
    "$\\theta=\\tan^{-1}\\frac{4}{3}=53.1°$\n",
    "\n",
    "**b.**\n",
    "\n",
    "$d_t=|r_1|+|r_2|+|r_3|=3+4+6=13$\n"
   ]
  },
  {
   "cell_type": "markdown",
   "metadata": {},
   "source": [
    "**25.** While exploring a cave, a spelunker starts at the entrace and moves the following distances. She goes 75.0 m north, 250 m east, 125 m at an angle of 30.0° north of east, and 150 m south. Find the resultant displacement from the cave entrance.\n",
    "\n",
    "![assets/ch03-25.png](assets/ch03-25.png)\n",
    "\n",
    "$\\vec{r_t}=\\vec{r_1}+\\vec{r_2}+\\vec{r_3}+\\vec{r_4}$\n",
    "\n",
    "$\\vec{r_t}=(75\\hat{j})+(250\\vec{i})+(108\\hat{i}+62.7\\hat{j})+(-150\\hat{j})$\n",
    "\n",
    "$\\vec{r_t}=358\\hat{i}-12.3\\hat{j}\\text{ m}$\n",
    "\n",
    "$r_t=\\sqrt{(358)^2+(-12.3)^2}=364\\text{ m}$\n",
    "\n",
    "$\\theta=\\tan^{-1}\\frac{-12.3}{358}=-2°$"
   ]
  },
  {
   "cell_type": "markdown",
   "metadata": {},
   "source": [
    "<hr>\n",
    "\n",
    "**41.** The vector $\\vec{A}$ has $x,y,z$ components of 8.00, 12.0, -4.00 units, respectively. (a) Write a vector expression for $\\vec{A}$ in unit-vector notation. (b) Obtain a unit-vector expression for a vector $\\vec{B}$ one fourth the length of $\\vec{A}$ pointing on the same direction as $\\vec{A}$. (c) Obtain a unit-vector expression for a vector $\\vec{C}$ three times the length of $\\vec{A}$ pointing in direction opposite of $\\vec{A}$\n",
    "\n",
    "$\\vec{A}=\\langle 8,12,-4\\rangle$\n",
    "\n",
    "**a.**\n",
    "\n",
    "$\\vec{A}=8\\hat{i}+12\\hat{j}-4\\hat{k}$\n",
    "\n",
    "**b.**\n",
    "\n",
    "$\\vec{B}=\\frac{\\vec{A}}{4}=2\\hat{i}+3\\hat{j}-\\hat{k}$\n",
    "\n",
    "**c.**\n",
    "\n",
    "$\\vec{C}=-3\\vec{A}=-24\\hat{i}-36\\hat{j}-12\\hat{k}$"
   ]
  }
 ],
 "metadata": {
  "kernelspec": {
   "display_name": "Python 3",
   "language": "python",
   "name": "python3"
  },
  "language_info": {
   "codemirror_mode": {
    "name": "ipython",
    "version": 3
   },
   "file_extension": ".py",
   "mimetype": "text/x-python",
   "name": "python",
   "nbconvert_exporter": "python",
   "pygments_lexer": "ipython3",
   "version": "3.8.5"
  }
 },
 "nbformat": 4,
 "nbformat_minor": 4
}
