{
 "cells": [
  {
   "cell_type": "markdown",
   "metadata": {},
   "source": [
    "# Chapter 7 - Energy and Energy Transfer"
   ]
  },
  {
   "cell_type": "markdown",
   "metadata": {},
   "source": [
    "## 7.2 - Work Done by a Constant Force"
   ]
  },
  {
   "cell_type": "markdown",
   "metadata": {},
   "source": [
    "**1.** A block of mass 2.50 kg is pushed 2.20 m along a frictionless horizontal table by a constant 16.0-N force directed by $25.0^\\circ$ below the horizontal. Determine the work done on the block by (a) the applied force, (b) the normal force exerted by the table, and (c) the gravitational foce. (d) Determine the total work done on the block."
   ]
  },
  {
   "cell_type": "markdown",
   "metadata": {},
   "source": [
    "## 7.3 - The Scalar Product of Two Vectors"
   ]
  },
  {
   "cell_type": "markdown",
   "metadata": {},
   "source": [
    "**5.** Vector $\\vec{A}$ has a magnitude of 5.00 units, and $\\vec{B}$ has a magnitude of 9.00 units. The two vectors make an angle of $50.0^\\circ$ with each other. Find $\\vec{A}\\cdot\\vec{B}$"
   ]
  },
  {
   "cell_type": "markdown",
   "metadata": {},
   "source": [
    "**7.** A force $\\vec{F}=(6\\hat{i}-2\\hat{j})\\text{ N}$ acts on a particle that undergoes a displacement\n",
    "$\\Delta\\vec{r}=(3\\hat{i}+\\hat{j})\\text{ m}.$ Find (a) the work done by the force on the particle and (b) the angle between $\\vec{F}$ and $\\Delta \\vec{r}$."
   ]
  },
  {
   "cell_type": "markdown",
   "metadata": {},
   "source": [
    "**9.** Using the definition of the scalar product, find theh angles between \n",
    "\n",
    "- (a) $\\vec{A}=3\\hat{i}-2\\hat{j}$ and $\\vec{B}=4\\hat{i}-4\\hat{j}$ \n",
    "- (b) $\\vec{A}=-2\\hat{i}+4\\hat{j}$ and $\\vec{B}=3\\hat{i}-4\\hat{j}+2\\hat{k}$\n",
    "- (c) $\\vec{A}=\\hat{i}-2\\hat{j}+2\\hat{k}$ and $\\vec{B}=3\\hat{j}+4\\hat{k}$"
   ]
  },
  {
   "cell_type": "markdown",
   "metadata": {},
   "source": [
    "## 7.4 - Work Done by a Varying Force"
   ]
  },
  {
   "cell_type": "markdown",
   "metadata": {},
   "source": [
    "**11.** The force acting on a particle varies as in Figure P7.11. Find the work done by the force on the particle as it moves \n",
    "\n",
    "- (a) from $x=0$ to $x=8.00\\text{ m}$\n",
    "- (b) from $x=8.00\\text{ m}$ to $x=10.0\\text{ m}$\n",
    "- (c) from $x=0$ to $x=10.0\\text{ m}$"
   ]
  },
  {
   "cell_type": "markdown",
   "metadata": {},
   "source": [
    "**13.** A particle is subject to a force $F_x$ that varies with position as in Figure P7.13. Find the work done by the force on the particle as it moves \n",
    "\n",
    "- (a) from $x=0$ to $x=5.00\\text{ m}$\n",
    "- (b) from $x=5.00\\text{ m}$ to $x=10.0\\text{ m}$\n",
    "- (c) from $x=10.0\\text{ m}$ to $x=15.0\\text{ m}$"
   ]
  },
  {
   "cell_type": "markdown",
   "metadata": {},
   "source": [
    "**15.** When a 4.00-kg object is hung vertically on a certain light spring that obeys Hooke's law, the spring stretches 2.50 cm. If the 4.00-kg object is removed, (a) how far will the spring stretch if a 1.50-kg block is hung on it, and (b) how much work must an external agent do to stretch the same spring 4.00 cm from its unstretched position?"
   ]
  },
  {
   "cell_type": "markdown",
   "metadata": {},
   "source": [
    "**17.** Truck suspensions often have \"helper springs\" that engage at high loads. One such arrangement is a leaf spring with a helper coil spring mounted on the axle, as in Figure P7.17. The helper spring engages when the main leaf spring is compressed by distance $y_0$, and then helps to support any additional load. Consider a leaf spring constant of $5.25\\times10^5\\text{ N}/\\text{ m}$, helper spring constant of $3.60\\times10^5\\text{ N}/\\text{m}$,\n",
    "and $y_0=0.500\\text{ m}$. \n",
    "\n",
    "- (a) What is the compression of the leaf spring for a load of $5.00\\times10^5\\text{ N}$?\n",
    "- (b) How much work is done in compressing the springs?"
   ]
  },
  {
   "cell_type": "markdown",
   "metadata": {},
   "source": [
    "**19.** If it takes 4.00 J of work to stretch a Hooke's-law spring 10.0 cm from its unstressed length, determinie the extra work required to stretch it an additional 10.0 cm."
   ]
  },
  {
   "cell_type": "markdown",
   "metadata": {},
   "source": [
    "## 7.7 - Situations Involving Kinetic Energy"
   ]
  },
  {
   "cell_type": "markdown",
   "metadata": {},
   "source": [
    "**31.** A 40.0-kg box initially at rest is pushed 5.00 m along a rough, horizontal floor with a constant applied horizontal force of 130 N. If the coefficient of friction between the box and floor is 0.300, find\n",
    "\n",
    "- (a) the work done by the applied force\n",
    "- (b) the increase in internal energy in the box-floor system due to friction\n",
    "- (c) the work done by the normal force\n",
    "- (d) the work done by the gravitational force\n",
    "- (e) the change in kinetic energy of the box\n",
    "- (f) the final speed of the box"
   ]
  },
  {
   "cell_type": "markdown",
   "metadata": {},
   "source": [
    "**33.** A crate of mass 10.0 kg is pulled up a rough incline with an initial speed of 1.50 m/s.\n",
    "The pulling force is 100 N parallel to the incline, which makes an angle of $20.0^\\circ$ with the horizontal.\n",
    "The coefficient of kinetic friction is 0.400, and the crate is pulled 5.00 m.\n",
    "\n",
    "- (a) How much work is done by the gravitational force on the crate?\n",
    "- (b) Determine the increase in internal energy of the crate-incline system due to friction\n",
    "- (c) How much work is done by the 100-N force on the crate?\n",
    "- (d) What is the change in kinetic energy of the crate?\n",
    "- (e) What is the speed of the crate after being pulled 5.00 m?"
   ]
  },
  {
   "cell_type": "markdown",
   "metadata": {},
   "source": [
    "**35.** A sled of mass $m$ is given a kick on a frozen pond. The kick imparts to it an initial speed of 2.00 m/s.\n",
    "The coefficient of frction between sled and ice is 0.100. Use energy considerations to find the distance the sled moves before it stops."
   ]
  },
  {
   "cell_type": "markdown",
   "metadata": {},
   "source": [
    "## 7.8 - Power"
   ]
  },
  {
   "cell_type": "markdown",
   "metadata": {},
   "source": [
    "**37.** A 700-N Marine in basic training climbs a 10.0-m vertical rope at a constant speed in 8.00 s.What is his power output?"
   ]
  },
  {
   "cell_type": "markdown",
   "metadata": {},
   "source": [
    "**39.** A skier of mass 70.0 kg is pilled up a slope by a motor-driven cable.\n",
    "\n",
    "- (a) How much work is required to pull him a distance of 60.0 m up a $30.0^\\circ$ slope (assumed frictionless) at a constant speed of 2.00 m/s?\n",
    "- (b) A motor of what power is required to perform this task?"
   ]
  },
  {
   "cell_type": "markdown",
   "metadata": {},
   "source": [
    "**41.** An energy-efficient lightbulb, taking in 28.0 W of power, can produce the same level of brightness as a conventional bulb operating at power 100 W. The lifetime of the energy efficient bulb is 10,000 h and its purchase price is $\\$17.0$, whereas the conventional bulb has lifetime 750 h and costs $\\$0.420$ per bulb.\n",
    "Determine the total savings obtained by using one energy-efficient bulb over its lifetime, as opposed to using conventional bulbs over the same time period. Assume an energy cost of $\\$0.0800$ per kilowatt-hour."
   ]
  }
 ],
 "metadata": {
  "kernelspec": {
   "display_name": "Python 3",
   "language": "python",
   "name": "python3"
  },
  "language_info": {
   "codemirror_mode": {
    "name": "ipython",
    "version": 3
   },
   "file_extension": ".py",
   "mimetype": "text/x-python",
   "name": "python",
   "nbconvert_exporter": "python",
   "pygments_lexer": "ipython3",
   "version": "3.8.5"
  }
 },
 "nbformat": 4,
 "nbformat_minor": 4
}
