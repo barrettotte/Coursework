{
 "cells": [
  {
   "cell_type": "markdown",
   "metadata": {},
   "source": [
    "# Chapter 7 - Energy and Energy Transfer"
   ]
  },
  {
   "cell_type": "markdown",
   "metadata": {},
   "source": [
    "## 7.2 - Work Done by a Constant Force"
   ]
  },
  {
   "cell_type": "markdown",
   "metadata": {},
   "source": [
    "**1.** A block of mass 2.50 kg is pushed 2.20 m along a frictionless horizontal table by a constant 16.0-N force directed by $25.0^\\circ$ below the horizontal. Determine the work done on the block by \n",
    "\n",
    "- (a) the applied force\n",
    "- (b) the normal force exerted by the table\n",
    "- (c) the gravitational force\n",
    "- (d) Determine the total work done on the block\n",
    "\n",
    "\n",
    "$W=F\\Delta r\\cos\\theta$\n",
    "\n",
    "**a.** $W_\\text{applied}=F\\Delta r\\cos\\theta=16(2.2)\\cos(25^\\circ)$\n",
    "$=31.9\\text{ J}$\n",
    "\n",
    "**b.** $W_N=N\\Delta r\\cos\\theta=N\\Delta r\\cos(90^\\circ)=0\\text{ J}$\n",
    "\n",
    "**c.** $W_g=mg\\Delta r\\cos\\theta=mg\\Delta r\\cos(90^\\circ)=0\\text{ J}$\n",
    "\n",
    "**d.** $W_\\text{net}=W_\\text{applied}+W_N+W_g=31.9\\text{ J}$"
   ]
  },
  {
   "cell_type": "markdown",
   "metadata": {},
   "source": [
    "## 7.4 - Work Done by a Varying Force"
   ]
  },
  {
   "cell_type": "markdown",
   "metadata": {},
   "source": [
    "**11.** The force acting on a particle varies as in Figure P7.11. Find the work done by the force on the particle as it moves \n",
    "\n",
    "- (a) from $x=0$ to $x=8.00\\text{ m}$\n",
    "- (b) from $x=8.00\\text{ m}$ to $x=10.0\\text{ m}$\n",
    "- (c) from $x=0$ to $x=10.0\\text{ m}$\n",
    "\n",
    "**a.** $\\triangle DAB=\\frac{1}{2}(6)(8)=24\\text{ J}=W_1$\n",
    "\n",
    "**b.** $\\triangle BCD=\\frac{1}{2}(-3)(10-8)=-3\\text{ J}=W_2$\n",
    "\n",
    "**c.** $W_3=W_1+W_2=21\\text{ J}$"
   ]
  },
  {
   "cell_type": "markdown",
   "metadata": {},
   "source": [
    "**15.** When a 4.00-kg object is hung vertically on a certain light spring that obeys Hooke's law, the spring stretches 2.50 cm. If the 4.00-kg object is removed, (a) how far will the spring stretch if a 1.50-kg block is hung on it, and (b) how much work must an external agent do to stretch the same spring 4.00 cm from its unstretched position?\n",
    "\n",
    "$\\sum F_y=ky-mg=ma$\n",
    "\n",
    "$ky-mg=0\\implies ky=mg$\n",
    "\n",
    "$k=\\frac{mg}{y}=\\frac{4(9.8)}{2.5\\times10^{-2}}=1568\\text{ N/m}$\n",
    "\n",
    "**a.** $y=\\frac{mg}{k}=\\frac{1.5(9.8)}{1568}=0.00938\\text{ m}$\n",
    "\n",
    "**b.** $W_\\text{ext}=\\frac{1}{2}{ky_f}^2-\\frac{1}{2}k{y_i}^2$\n",
    "$=\\frac{1}{2}(1568)(4\\times10^{-2})^2-0=1.25\\text{ J}$"
   ]
  },
  {
   "cell_type": "markdown",
   "metadata": {},
   "source": [
    "**19.** If it takes 4.00 J of work to stretch a Hooke's-law spring 10.0 cm from its unstressed length, determine the extra work required to stretch it an additional 10.0 cm.\n",
    "\n",
    "$W=\\int_{x_i}^{x_f}=F_x dx$\n",
    "$=\\int_{x_i}^{x_f}-(-kx)dx=\\frac{1}{2}kx^2$\n",
    "\n",
    "$W_1=\\frac{1}{2}k{x_1}^2 \\implies k=\\frac{2W_1}{{x_1}^2}$\n",
    "\n",
    "$k=\\frac{2(4.00)}{(10\\times10^{-2})^2}=800\\text{ N/m}$\n",
    "\n",
    "$W_2=\\frac{1}{2}{x_2}^2$\n",
    "$=\\frac{1}{2}(800)(20\\times10^{-2})=16\\text{ J}$"
   ]
  },
  {
   "cell_type": "markdown",
   "metadata": {},
   "source": [
    "## 7.7 - Situations Involving Kinetic Energy"
   ]
  },
  {
   "cell_type": "markdown",
   "metadata": {},
   "source": [
    "**31.** A 40.0-kg box initially at rest is pushed 5.00 m along a rough, horizontal floor with a constant applied horizontal force of 130 N. If the coefficient of friction between the box and floor is 0.300, find\n",
    "\n",
    "- (a) the work done by the applied force\n",
    "- (b) the increase in internal energy in the box-floor system due to friction\n",
    "- (c) the work done by the normal force\n",
    "- (d) the work done by the gravitational force\n",
    "- (e) the change in kinetic energy of the box\n",
    "- (f) the final speed of the box\n",
    "\n",
    "**a.** $W=Fx=130(5)=650\\text{ J}$\n",
    "\n",
    "**b.** $\\Delta E_\\text{int}=f_kx=\\mu_knx$\n",
    "\n",
    "$\\sum F_y=n-mg=0\\implies n=mg$\n",
    "\n",
    "$\\Delta E_\\text{int}=(0.3)(40(9.8))(5)=588\\text{ J}$\n",
    "\n",
    "**c.** $W=nx\\cos90=0\\text{ J}$\n",
    "\n",
    "**d.** $W=mgx\\cos90=0\\text{ J}$\n",
    "\n",
    "**e.** $\\Delta K=W-\\Delta E_\\text{int}=650-588=62\\text{ J}$\n",
    "\n",
    "**f.** $\\Delta K=\\frac{1}{2}m{v_f}^2-\\frac{1}{2}m{v_i}^2$\n",
    "\n",
    "$\\Delta K=\\frac{1}{2}m{v_f}^2-0$\n",
    "\n",
    "$v_f=\\sqrt{\\frac{2(62)}{40}}=1.76\\text{ m/s}$"
   ]
  },
  {
   "cell_type": "markdown",
   "metadata": {},
   "source": [
    "**33.** A crate of mass 10.0 kg is pulled up a rough incline with an initial speed of 1.50 m/s.\n",
    "The pulling force is 100 N parallel to the incline, which makes an angle of $20.0^\\circ$ with the horizontal.\n",
    "The coefficient of kinetic friction is 0.400, and the crate is pulled 5.00 m.\n",
    "\n",
    "- (a) How much work is done by the gravitational force on the crate?\n",
    "- (b) Determine the increase in internal energy of the crate-incline system due to friction\n",
    "- (c) How much work is done by the 100-N force on the crate?\n",
    "- (d) What is the change in kinetic energy of the crate?\n",
    "- (e) What is the speed of the crate after being pulled 5.00 m?\n",
    "\n",
    "\n",
    "\n",
    "\n",
    "**a.** $W_g=F_gr\\cos(180)$\n",
    "$=-(mg\\sin\\theta)r$\n",
    "$=-10(9.8)(5)\\sin(20)=-168\\text{ J}$\n",
    "\n",
    "**b.** $\\sum F_y=n-mg\\cos\\theta=0$\n",
    "$\\implies n=mg\\cos\\theta$\n",
    "\n",
    "$f_k=\\mu_kn=\\mu_kmg\\cos\\theta$\n",
    "$=(0.4)(10)(9.8)(\\cos20)=36.8\\text{ N}$\n",
    "\n",
    "$W_f=f_kr=36.8(5)=184\\text{ J}$\n",
    "\n",
    "**c.** $W_F=Fr=100(5)=500\\text{ J}$\n",
    "\n",
    "**d.** $W_\\text{tot}=\\Delta K$\n",
    "\n",
    "$W_\\text{tot}=W_F-W_f-W_g=500-184-168=148\\text{ J}=\\Delta K$\n",
    "\n",
    "**e.** $\\Delta k=k_f-k_i=\\frac{1}{2}m{v_f}^2-\\frac{1}{2}m{v_i}^2$\n",
    "\n",
    "$v_f=\\sqrt{\\frac{2(\\Delta k+\\frac{1}{2}m{v_i}^2)}{m}}$\n",
    "$=5.64\\text{ m/s}$"
   ]
  },
  {
   "cell_type": "markdown",
   "metadata": {},
   "source": [
    "## 7.8 - Power"
   ]
  },
  {
   "cell_type": "markdown",
   "metadata": {},
   "source": [
    "**37.** A 700-N Marine in basic training climbs a 10.0-m vertical rope at a constant speed in 8.00 s.What is his power output?\n",
    "\n",
    "$P=Fv$\n",
    "\n",
    "$v=\\frac{10}{8}=1.25\\text{ m/s}$\n",
    "\n",
    "$P=700(1.25)=875\\text{ W}$"
   ]
  },
  {
   "cell_type": "markdown",
   "metadata": {},
   "source": [
    "**41.** An energy-efficient lightbulb, taking in 28.0 W of power, can produce the same level of brightness as a conventional bulb operating at power 100 W. The lifetime of the energy efficient bulb is 10,000 h and its purchase price is $\\$17.0$, whereas the conventional bulb has lifetime 750 h and costs $\\$0.420$ per bulb.\n",
    "Determine the total savings obtained by using one energy-efficient bulb over its lifetime, as opposed to using conventional bulbs over the same time period. Assume an energy cost of $\\$0.0800$ per kilowatt-hour.\n",
    "\n",
    "energy-efficient bulb:\n",
    "\n",
    "$E=Pt=28(10000)=28\\text{ kWh}$\n",
    "\n",
    "$4.5+(280)(0.2)=\\$60.5$\n",
    "\n",
    "<br>\n",
    "\n",
    "conventional bulb:\n",
    "\n",
    "$E=(100)(10000)=1000\\text{ kWh}$\n",
    "\n",
    "$n=\\frac{10000}{750}=13.3\\text{ bulbs}$\n",
    "\n",
    "$13.3(0.42)+(1000)(0.2)=\\$205.5$\n",
    "\n",
    "$205.5-60.5=\\$145$"
   ]
  }
 ],
 "metadata": {
  "kernelspec": {
   "display_name": "Python 3",
   "language": "python",
   "name": "python3"
  },
  "language_info": {
   "codemirror_mode": {
    "name": "ipython",
    "version": 3
   },
   "file_extension": ".py",
   "mimetype": "text/x-python",
   "name": "python",
   "nbconvert_exporter": "python",
   "pygments_lexer": "ipython3",
   "version": "3.8.5"
  }
 },
 "nbformat": 4,
 "nbformat_minor": 4
}
