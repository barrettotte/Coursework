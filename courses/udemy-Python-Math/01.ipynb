{
 "cells": [
  {
   "cell_type": "markdown",
   "metadata": {},
   "source": [
    "# Math in Python Crash Course\n",
    "Learn how to use Math in Python and refresh on general Math concepts lost over the years."
   ]
  },
  {
   "cell_type": "code",
   "execution_count": 2,
   "metadata": {},
   "outputs": [],
   "source": [
    "from IPython.display import display, Math\n",
    "import sympy as sym\n",
    "import scipy as sp\n",
    "import numpy as np\n",
    "import matplotlib.pyplot as plt\n",
    "\n",
    "import sympy.plotting.plot as symplot\n",
    "from matplotlib.patches import Polygon\n",
    "\n",
    "def sep(): print('-' * 64)"
   ]
  },
  {
   "cell_type": "code",
   "execution_count": 11,
   "metadata": {},
   "outputs": [
    {
     "data": {
      "text/latex": [
       "$\\displaystyle 4 + 5 = 9$"
      ],
      "text/plain": [
       "<IPython.core.display.Math object>"
      ]
     },
     "metadata": {},
     "output_type": "display_data"
    },
    {
     "data": {
      "text/latex": [
       "$\\displaystyle \\frac{4}{5} = 0.8$"
      ],
      "text/plain": [
       "<IPython.core.display.Math object>"
      ]
     },
     "metadata": {},
     "output_type": "display_data"
    }
   ],
   "source": [
    "x = 4\n",
    "y = 5\n",
    "display(Math('%g + %g = %g' %(x, y, x + y)))\n",
    "display(Math('\\\\frac{4}{5} = 0.8'))"
   ]
  },
  {
   "cell_type": "code",
   "execution_count": 10,
   "metadata": {},
   "outputs": [
    {
     "data": {
      "image/png": "[encoded data removed]",
      "text/latex": [
       "$\\displaystyle x^{y}$"
      ],
      "text/plain": [
       " y\n",
       "x "
      ]
     },
     "metadata": {},
     "output_type": "display_data"
    },
    {
     "data": {
      "image/png": "[encoded data removed]",
      "text/latex": [
       "$\\displaystyle \\frac{x}{y}$"
      ],
      "text/plain": [
       "x\n",
       "─\n",
       "y"
      ]
     },
     "metadata": {},
     "output_type": "display_data"
    },
    {
     "data": {
      "image/png": "[encoded data removed]",
      "text/latex": [
       "$\\displaystyle 1.4142135623730951$"
      ],
      "text/plain": [
       "1.4142135623730951"
      ]
     },
     "metadata": {},
     "output_type": "display_data"
    },
    {
     "data": {
      "image/png": "[encoded data removed]",
      "text/latex": [
       "$\\displaystyle \\sqrt{2}$"
      ],
      "text/plain": [
       "√2"
      ]
     },
     "metadata": {},
     "output_type": "display_data"
    }
   ],
   "source": [
    "# Sympy Introduction\n",
    "x = sym.symbols('x')\n",
    "y,z = sym.symbols('y,z')\n",
    "y + 4\n",
    "\n",
    "display(x**y)\n",
    "display(x/y)\n",
    "\n",
    "display(np.sqrt(2))  # estimation\n",
    "display(sym.sqrt(2))"
   ]
  },
  {
   "cell_type": "code",
   "execution_count": 21,
   "metadata": {},
   "outputs": [
    {
     "data": {
      "text/plain": [
       "'4 + 3 = 7'"
      ]
     },
     "metadata": {},
     "output_type": "display_data"
    },
    {
     "data": {
      "text/latex": [
       "$\\displaystyle 4 + 3 = 7$"
      ],
      "text/plain": [
       "<IPython.core.display.Math object>"
      ]
     },
     "metadata": {},
     "output_type": "display_data"
    },
    {
     "data": {
      "text/latex": [
       "$\\displaystyle \\sigma = \\mu \\times \\sqrt{5}$"
      ],
      "text/plain": [
       "<IPython.core.display.Math object>"
      ]
     },
     "metadata": {},
     "output_type": "display_data"
    },
    {
     "data": {
      "text/latex": [
       "$\\displaystyle x_m + y ^n$"
      ],
      "text/plain": [
       "<IPython.core.display.Math object>"
      ]
     },
     "metadata": {},
     "output_type": "display_data"
    },
    {
     "data": {
      "text/latex": [
       "$\\displaystyle x_{mm} + y^{n + 2k - 15}$"
      ],
      "text/plain": [
       "<IPython.core.display.Math object>"
      ]
     },
     "metadata": {},
     "output_type": "display_data"
    },
    {
     "data": {
      "text/latex": [
       "$\\displaystyle 1 + \\sqrt{x + y^{x+y}}$"
      ],
      "text/plain": [
       "<IPython.core.display.Math object>"
      ]
     },
     "metadata": {},
     "output_type": "display_data"
    },
    {
     "data": {
      "text/latex": [
       "$\\displaystyle \\text{The answer is }\\frac{1+x}{2v-s^{t+4r}}$"
      ],
      "text/plain": [
       "<IPython.core.display.Math object>"
      ]
     },
     "metadata": {},
     "output_type": "display_data"
    }
   ],
   "source": [
    "# A bit of LaTeX\n",
    "display('4 + 3 = 7')\n",
    "display(Math('4 + 3 = 7'))\n",
    "\n",
    "display(Math('\\\\sigma = \\\\mu \\\\times \\\\sqrt{5}'))\n",
    "display(Math('x_m + y ^n'))\n",
    "display(Math('x_{mm} + y^{n + 2k - 15}'))\n",
    "display(Math('1 + \\\\sqrt{x + y^{x+y}}'))\n",
    "display(Math('\\\\text{The answer is }\\\\frac{1+x}{2v-s^{t+4r}}'))"
   ]
  },
  {
   "cell_type": "markdown",
   "metadata": {},
   "source": [
    "## LaTeX in Markdown\n",
    "$$\\frac{1+x}{2v-s^{t+4r}}$$\n",
    "inline: $\\frac{1+x}{2v-s^{t+4r}}$"
   ]
  },
  {
   "cell_type": "code",
   "execution_count": 51,
   "metadata": {},
   "outputs": [
    {
     "data": {
      "image/png": "[encoded data removed]",
      "text/latex": [
       "$\\displaystyle e^{\\frac{\\left(- \\alpha + \\mu\\right)^{2}}{2 \\sigma^{2}}}$"
      ],
      "text/plain": [
       "         2\n",
       " (-α + μ) \n",
       " ─────────\n",
       "       2  \n",
       "    2⋅σ   \n",
       "ℯ         "
      ]
     },
     "metadata": {},
     "output_type": "display_data"
    },
    {
     "data": {
      "image/png": "[encoded data removed]",
      "text/latex": [
       "$\\displaystyle 2 y + 10$"
      ],
      "text/plain": [
       "2⋅y + 10"
      ]
     },
     "metadata": {},
     "output_type": "display_data"
    },
    {
     "data": {
      "text/latex": [
       "$\\displaystyle x + 2 y + 4$"
      ],
      "text/plain": [
       "<IPython.core.display.Math object>"
      ]
     },
     "metadata": {},
     "output_type": "display_data"
    },
    {
     "data": {
      "image/png": "[encoded data removed]",
      "text/latex": [
       "$\\displaystyle x^{y} x^{z}$"
      ],
      "text/plain": [
       " y  z\n",
       "x ⋅x "
      ]
     },
     "metadata": {},
     "output_type": "display_data"
    },
    {
     "data": {
      "image/png": "[encoded data removed]",
      "text/latex": [
       "$\\displaystyle x^{y + z}$"
      ],
      "text/plain": [
       " y + z\n",
       "x     "
      ]
     },
     "metadata": {},
     "output_type": "display_data"
    },
    {
     "data": {
      "text/latex": [
       "$\\displaystyle x^{y} x^{z} = x^{y + z}$"
      ],
      "text/plain": [
       "<IPython.core.display.Math object>"
      ]
     },
     "metadata": {},
     "output_type": "display_data"
    },
    {
     "data": {
      "text/latex": [
       "$\\displaystyle x^{y} x^{- z} = x^{y - z}$"
      ],
      "text/plain": [
       "<IPython.core.display.Math object>"
      ]
     },
     "metadata": {},
     "output_type": "display_data"
    },
    {
     "data": {
      "text/latex": [
       "$\\displaystyle x^{y} y^{z} = x^{y} y^{z}$"
      ],
      "text/plain": [
       "<IPython.core.display.Math object>"
      ]
     },
     "metadata": {},
     "output_type": "display_data"
    }
   ],
   "source": [
    "# More sympy\n",
    "mu,alpha,sigma = sym.symbols('mu,alpha,sigma')\n",
    "exp = sym.exp((mu - alpha)**2 / (2*sigma**2))\n",
    "display(exp)\n",
    "\n",
    "x,y = sym.symbols('x,y')\n",
    "exp = x + 4 + 2 * y\n",
    "display(exp.subs(x, 6)) # var substitution\n",
    "\n",
    "x,y = sym.symbols('x,y')\n",
    "exp = x + 4 + 2 * y\n",
    "exp.subs({x: -4, y: 3})\n",
    "\n",
    "display(Math(sym.latex(exp)))  # get latex code of sympy expression\n",
    "\n",
    "expr = 3/x\n",
    "sym.latex(expr)\n",
    "sym.latex(sym.sympify('3/4'))  # convert string into sympy obj\n",
    "\n",
    "x,y,z = sym.symbols('x,y,z')\n",
    "ex = x**y * x**z\n",
    "display(ex)\n",
    "display(sym.simplify(ex))  # simplify expression\n",
    "\n",
    "# law of exponents\n",
    "ex1 = x**y * x**z\n",
    "ex2 = x**y / x**z\n",
    "ex3 = x**y * y**z\n",
    "\n",
    "display(Math('%s = %s' %(sym.latex(ex1), sym.latex(sym.simplify(ex1)))))\n",
    "display(Math('%s = %s' %(sym.latex(ex2), sym.latex(sym.simplify(ex2)))))\n",
    "display(Math('%s = %s' %(sym.latex(ex3), sym.latex(sym.simplify(ex3)))))"
   ]
  },
  {
   "cell_type": "markdown",
   "metadata": {},
   "source": [
    "---\n",
    "# Algebra 1"
   ]
  },
  {
   "cell_type": "code",
   "execution_count": 72,
   "metadata": {},
   "outputs": [
    {
     "data": {
      "text/latex": [
       "$\\displaystyle 2x+4=9 => 2x+4-9=0$"
      ],
      "text/plain": [
       "<IPython.core.display.Math object>"
      ]
     },
     "metadata": {},
     "output_type": "display_data"
    },
    {
     "name": "stdout",
     "output_type": "stream",
     "text": [
      "----------------------------------------------------------------\n"
     ]
    },
    {
     "data": {
      "text/latex": [
       "$\\displaystyle \\text{The solution to } 2 x - 5 \\text{ is x=} 2.5$"
      ],
      "text/plain": [
       "<IPython.core.display.Math object>"
      ]
     },
     "metadata": {},
     "output_type": "display_data"
    },
    {
     "name": "stdout",
     "output_type": "stream",
     "text": [
      "----------------------------------------------------------------\n"
     ]
    },
    {
     "data": {
      "image/png": "[encoded data removed]",
      "text/latex": [
       "$\\displaystyle x^{2} - 4$"
      ],
      "text/plain": [
       " 2    \n",
       "x  - 4"
      ]
     },
     "metadata": {},
     "output_type": "display_data"
    },
    {
     "name": "stdout",
     "output_type": "stream",
     "text": [
      "Solution #1 is -2\n",
      "Solution #2 is 2\n",
      "----------------------------------------------------------------\n"
     ]
    },
    {
     "data": {
      "image/png": "[encoded data removed]",
      "text/latex": [
       "$\\displaystyle - x y + \\frac{x}{4} + 5$"
      ],
      "text/plain": [
       "       x    \n",
       "-x⋅y + ─ + 5\n",
       "       4    "
      ]
     },
     "metadata": {},
     "output_type": "display_data"
    },
    {
     "data": {
      "image/png": "[encoded data removed]",
      "text/latex": [
       "$\\displaystyle \\left[ \\frac{x + 20}{4 x}\\right]$"
      ],
      "text/plain": [
       "⎡x + 20⎤\n",
       "⎢──────⎥\n",
       "⎣ 4⋅x  ⎦"
      ]
     },
     "execution_count": 72,
     "metadata": {},
     "output_type": "execute_result"
    }
   ],
   "source": [
    "# Solving for x\n",
    "display(Math('2x+4=9 => 2x+4-9=0')) # right hand side is in **homogenous** form\n",
    "sep()\n",
    "\n",
    "x = sym.symbols('x')\n",
    "expr = 2 * x + 4 - 9\n",
    "display(Math('\\\\text{The solution to } %s \\\\text{ is x=} %g' %(sym.latex(expr), sym.solve(expr)[0])))\n",
    "sep()\n",
    "\n",
    "expr = x**2 - 4\n",
    "display(expr)\n",
    "ans = sym.solve(expr)\n",
    "for i in range(0, len(ans)):\n",
    "    print('Solution #' + str(i+1) + ' is ' + str(ans[i]))\n",
    "sep()\n",
    "    \n",
    "y = sym.symbols('y')\n",
    "expr = x/4 - x*y + 5\n",
    "display(expr)\n",
    "sym.solve(expr, y)"
   ]
  },
  {
   "cell_type": "code",
   "execution_count": 107,
   "metadata": {},
   "outputs": [
    {
     "data": {
      "text/latex": [
       "$\\displaystyle \\bf{Distributive\\ Property:}$"
      ],
      "text/plain": [
       "<IPython.core.display.Math object>"
      ]
     },
     "metadata": {},
     "output_type": "display_data"
    },
    {
     "data": {
      "text/latex": [
       "$\\displaystyle a(b+c) = ab + ac$"
      ],
      "text/plain": [
       "<IPython.core.display.Math object>"
      ]
     },
     "metadata": {},
     "output_type": "display_data"
    },
    {
     "data": {
      "text/latex": [
       "$\\displaystyle (a+b)(c+d) = (ac + ad) + (bc + bd)$"
      ],
      "text/plain": [
       "<IPython.core.display.Math object>"
      ]
     },
     "metadata": {},
     "output_type": "display_data"
    },
    {
     "name": "stdout",
     "output_type": "stream",
     "text": [
      "----------------------------------------------------------------\n"
     ]
    },
    {
     "data": {
      "text/latex": [
       "$\\displaystyle (4 x + 5) (x)$"
      ],
      "text/plain": [
       "<IPython.core.display.Math object>"
      ]
     },
     "metadata": {},
     "output_type": "display_data"
    },
    {
     "data": {
      "image/png": "[encoded data removed]",
      "text/latex": [
       "$\\displaystyle 4 x^{2} + 5 x$"
      ],
      "text/plain": [
       "   2      \n",
       "4⋅x  + 5⋅x"
      ]
     },
     "metadata": {},
     "output_type": "display_data"
    },
    {
     "name": "stdout",
     "output_type": "stream",
     "text": [
      "----------------------------------------------------------------\n"
     ]
    },
    {
     "data": {
      "text/latex": [
       "$\\displaystyle \\left(x - 7\\right) \\left(4 x + 5\\right)$"
      ],
      "text/plain": [
       "<IPython.core.display.Math object>"
      ]
     },
     "metadata": {},
     "output_type": "display_data"
    },
    {
     "data": {
      "text/latex": [
       "$\\displaystyle 4 x^{2} - 23 x - 35$"
      ],
      "text/plain": [
       "<IPython.core.display.Math object>"
      ]
     },
     "metadata": {},
     "output_type": "display_data"
    },
    {
     "name": "stdout",
     "output_type": "stream",
     "text": [
      "----------------------------------------------------------------\n"
     ]
    },
    {
     "data": {
      "text/latex": [
       "$\\displaystyle x \\left(- \\frac{5^{x}}{x} + 2 y^{2}\\right)$"
      ],
      "text/plain": [
       "<IPython.core.display.Math object>"
      ]
     },
     "metadata": {},
     "output_type": "display_data"
    },
    {
     "data": {
      "text/latex": [
       "$\\displaystyle - 5^{x} + 2 x y^{2}$"
      ],
      "text/plain": [
       "<IPython.core.display.Math object>"
      ]
     },
     "metadata": {},
     "output_type": "display_data"
    },
    {
     "name": "stdout",
     "output_type": "stream",
     "text": [
      "----------------------------------------------------------------\n"
     ]
    },
    {
     "data": {
      "text/latex": [
       "$\\displaystyle \\text{f(x,y) = }\\left(2 - y\\right) \\left(x + 4\\right)$"
      ],
      "text/plain": [
       "<IPython.core.display.Math object>"
      ]
     },
     "metadata": {},
     "output_type": "display_data"
    },
    {
     "name": "stdout",
     "output_type": "stream",
     "text": [
      "when x=0 and y=0, f(x,y) = 8\n",
      "when x=0 and y=1, f(x,y) = 4\n",
      "when x=0 and y=2, f(x,y) = 0\n",
      "when x=1 and y=0, f(x,y) = 10\n",
      "when x=1 and y=1, f(x,y) = 5\n",
      "when x=1 and y=2, f(x,y) = 0\n",
      "when x=2 and y=0, f(x,y) = 12\n",
      "when x=2 and y=1, f(x,y) = 6\n",
      "when x=2 and y=2, f(x,y) = 0\n"
     ]
    }
   ],
   "source": [
    "# Expanding Terms\n",
    "\n",
    "display(Math('\\\\bf{Distributive\\ Property:}'))\n",
    "display(Math('a(b+c) = ab + ac'))\n",
    "display(Math('(a+b)(c+d) = (ac + ad) + (bc + bd)'))\n",
    "sep()\n",
    "\n",
    "x = sym.symbols('x')\n",
    "term1 = (4*x + 5)\n",
    "term2 = x\n",
    "display(Math('(%s) (%s)' %(sym.latex(term1), sym.latex(term2))))\n",
    "display(sym.expand(term1 * term2))\n",
    "sep()\n",
    "\n",
    "term3 = x - 7\n",
    "display(Math(sym.latex(term1 * term3)))\n",
    "display(Math(sym.latex(sym.expand(term1 * term3))))\n",
    "sep()\n",
    "\n",
    "y = sym.symbols('y')\n",
    "expr = x * (2 * y**2 - 5**x/x)\n",
    "display(Math(sym.latex(expr)))\n",
    "display(Math(sym.latex(sym.expand(expr))))\n",
    "sep()\n",
    "\n",
    "x,y = sym.symbols('x,y')\n",
    "fxy = (4+x) * (2-y)\n",
    "display(Math('\\\\text{f(x,y) = }%s' %(sym.latex(fxy))))\n",
    "for xi in range(0,3):\n",
    "  for yi in range(0,3):\n",
    "    print('when x=%g and y=%g, f(x,y) = %g' %(xi, yi, fxy.subs({x: xi, y: yi})))"
   ]
  },
  {
   "cell_type": "code",
   "execution_count": 120,
   "metadata": {},
   "outputs": [
    {
     "name": "stdout",
     "output_type": "stream",
     "text": [
      "[[1 2]\n",
      " [3 4]]\n"
     ]
    },
    {
     "data": {
      "text/latex": [
       "$\\displaystyle \\left[\\begin{matrix}1 & 2\\\\3 & 4\\end{matrix}\\right]$"
      ],
      "text/plain": [
       "<IPython.core.display.Math object>"
      ]
     },
     "metadata": {},
     "output_type": "display_data"
    },
    {
     "name": "stdout",
     "output_type": "stream",
     "text": [
      "----------------------------------------------------------------\n"
     ]
    },
    {
     "data": {
      "text/latex": [
       "$\\displaystyle \\left[\\begin{matrix}1.0 & -1.0 & 1.0 & -1.0 & 0.0 & 0.0\\\\-1.0 & 1.0 & -1.0 & 1.0 & 0.0 & 0.0\\\\1.0 & -1.0 & 1.0 & -1.0 & 7.0 & 0.0\\\\-1.0 & 1.0 & -1.0 & 1.0 & 0.0 & 0.0\\end{matrix}\\right]$"
      ],
      "text/plain": [
       "<IPython.core.display.Math object>"
      ]
     },
     "metadata": {},
     "output_type": "display_data"
    },
    {
     "name": "stdout",
     "output_type": "stream",
     "text": [
      "----------------------------------------------------------------\n"
     ]
    }
   ],
   "source": [
    "# Matrices\n",
    "# row first, then col\n",
    "\n",
    "matA = np.array([[1,2],[3,4]])\n",
    "print(matA)\n",
    "display(Math(sym.latex(sym.sympify(matA))))\n",
    "sep()\n",
    "\n",
    "mat = np.zeros([4,6])\n",
    "mat[0,1] = 2\n",
    "mat[2,4] = 7\n",
    "size = range(0,4)\n",
    "for row in size:\n",
    "  for col in size:\n",
    "    mat[row,col] = (-1) ** (row + col)\n",
    "display(Math(sym.latex(sym.sympify(mat))))\n",
    "sep()"
   ]
  },
  {
   "cell_type": "markdown",
   "metadata": {},
   "source": [
    "**Associative, Commutative, and Distributive**\n",
    "\n",
    "1. **Associative**\n",
    "$$ 2(3 \\times 4) = (2 \\times 3)4 $$\n",
    "$$ 2(12) = (6)4 $$\n",
    "$$ 24 = 24 $$\n",
    "\n",
    "2. **Commutative**\n",
    "$$ a \\times b = b \\times a $$\n",
    "$$ a \\times b \\times c = b \\times a \\times c = c \\times a \\times b $$\n",
    "\n",
    "3. **Distributive**\n",
    "$$ x(y + z) = xy + xz $$"
   ]
  },
  {
   "cell_type": "code",
   "execution_count": 20,
   "metadata": {},
   "outputs": [
    {
     "name": "stdout",
     "output_type": "stream",
     "text": [
      "0\n",
      "----------------------------------------------------------------\n",
      "24\n",
      "24\n",
      "24\n",
      "----------------------------------------------------------------\n"
     ]
    },
    {
     "data": {
      "text/latex": [
       "$\\displaystyle a c + a d + b c + b d$"
      ],
      "text/plain": [
       "a*c + a*d + b*c + b*d"
      ]
     },
     "metadata": {},
     "output_type": "display_data"
    }
   ],
   "source": [
    "x,y = sym.symbols('x,y')\n",
    "\n",
    "# Associative\n",
    "expr1 = x * (4 * y)\n",
    "expr2 = (x * 4) * y\n",
    "print(str(expr1 - expr2))\n",
    "sep()\n",
    "\n",
    "# Commutative\n",
    "expr1 = 4 * x * y\n",
    "expr2 = x * 4 * y\n",
    "expr3 = y * x * 4\n",
    "print(expr1.subs({x: 3, y: 2}))\n",
    "print(expr2.subs({x: 3, y: 2}))\n",
    "print(expr3.subs({x: 3, y: 2}))\n",
    "sep()\n",
    "\n",
    "# Distributive\n",
    "a,b,c,d = sym.symbols('a,b,c,d')\n",
    "expr = (a + b) * (c + d)\n",
    "display(sym.expand(expr))"
   ]
  },
  {
   "cell_type": "code",
   "execution_count": 6,
   "metadata": {},
   "outputs": [
    {
     "name": "stdout",
     "output_type": "stream",
     "text": [
      "{2: 4, 3: 1}\n",
      "[2, 3]\n",
      "{5: 1}\n"
     ]
    }
   ],
   "source": [
    "# Prime Factorization\n",
    "#  Breaking a number into prime multiplicands\n",
    "\n",
    "print(sym.factorint(48)) # prime factorization\n",
    "print(list(sym.factorint(48).keys()))\n",
    "print(sym.factorint(5))  # only one entry => prime number"
   ]
  },
  {
   "cell_type": "code",
   "execution_count": 13,
   "metadata": {},
   "outputs": [
    {
     "data": {
      "text/latex": [
       "$\\displaystyle \\left(-\\infty < x \\wedge x < -3\\right) \\vee \\left(1 < x \\wedge x < \\infty\\right)$"
      ],
      "text/plain": [
       "<IPython.core.display.Math object>"
      ]
     },
     "metadata": {},
     "output_type": "display_data"
    },
    {
     "data": {
      "text/latex": [
       "$\\displaystyle \\infty$"
      ],
      "text/plain": [
       "oo"
      ]
     },
     "execution_count": 13,
     "metadata": {},
     "output_type": "execute_result"
    }
   ],
   "source": [
    "# Solving Inequalities\n",
    "x = sym.symbols('x')\n",
    "\n",
    "expr = (x-1) * (x+3) > 0\n",
    "display(Math(sym.latex(sym.solve(expr))))\n",
    "\n",
    "sym.oo"
   ]
  },
  {
   "cell_type": "code",
   "execution_count": 51,
   "metadata": {},
   "outputs": [
    {
     "data": {
      "text/latex": [
       "$\\displaystyle \\text{Nth degree polynomial: } a_0 + a_1x + a_2x^2 + ... + a_nx^n$"
      ],
      "text/plain": [
       "<IPython.core.display.Math object>"
      ]
     },
     "metadata": {},
     "output_type": "display_data"
    },
    {
     "name": "stdout",
     "output_type": "stream",
     "text": [
      "----------------------------------------------------------------\n"
     ]
    },
    {
     "data": {
      "text/latex": [
       "$\\displaystyle (2 x^{3} + x^{2} - x) + (- x^{4} + x^{3} - 4 x^{2}) = - x^{4} + 3 x^{3} - 3 x^{2} - x$"
      ],
      "text/plain": [
       "<IPython.core.display.Math object>"
      ]
     },
     "metadata": {},
     "output_type": "display_data"
    },
    {
     "name": "stdout",
     "output_type": "stream",
     "text": [
      "----------------------------------------------------------------\n"
     ]
    },
    {
     "data": {
      "text/latex": [
       "$\\displaystyle \\operatorname{Poly}{\\left( 2 x^{3} + x^{2} - x, x, domain=\\mathbb{Z} \\right)}$"
      ],
      "text/plain": [
       "Poly(2*x**3 + x**2 - x, x, domain='ZZ')"
      ]
     },
     "metadata": {},
     "output_type": "display_data"
    },
    {
     "data": {
      "text/latex": [
       "$\\displaystyle 18$"
      ],
      "text/plain": [
       "18"
      ]
     },
     "metadata": {},
     "output_type": "display_data"
    },
    {
     "data": {
      "text/plain": [
       "[2, 1, -1]"
      ]
     },
     "metadata": {},
     "output_type": "display_data"
    },
    {
     "name": "stdout",
     "output_type": "stream",
     "text": [
      "----------------------------------------------------------------\n"
     ]
    },
    {
     "data": {
      "text/latex": [
       "$\\displaystyle \\text{Law of Exponents: } y^a \\cdot x^a \\cdot x^b = y^a \\cdot x^{a+b}$"
      ],
      "text/plain": [
       "<IPython.core.display.Math object>"
      ]
     },
     "metadata": {},
     "output_type": "display_data"
    },
    {
     "data": {
      "text/latex": [
       "$\\displaystyle x^{8}$"
      ],
      "text/plain": [
       "x**8"
      ]
     },
     "metadata": {},
     "output_type": "display_data"
    },
    {
     "data": {
      "text/latex": [
       "$\\displaystyle \\left(4 x^{2} - 2 x\\right) \\left(x^{3} - 1\\right)$"
      ],
      "text/plain": [
       "(4*x**2 - 2*x)*(x**3 - 1)"
      ]
     },
     "metadata": {},
     "output_type": "display_data"
    },
    {
     "data": {
      "text/latex": [
       "$\\displaystyle 4 x^{5} - 2 x^{4} - 4 x^{2} + 2 x$"
      ],
      "text/plain": [
       "4*x**5 - 2*x**4 - 4*x**2 + 2*x"
      ]
     },
     "metadata": {},
     "output_type": "display_data"
    },
    {
     "name": "stdout",
     "output_type": "stream",
     "text": [
      "----------------------------------------------------------------\n"
     ]
    },
    {
     "data": {
      "text/latex": [
       "$\\displaystyle \\frac{4 x^{5} - x}{2 x^{3} - x} = \\frac{4 x^{5} - x}{2 x^{3} - x}$"
      ],
      "text/plain": [
       "<IPython.core.display.Math object>"
      ]
     },
     "metadata": {},
     "output_type": "display_data"
    },
    {
     "data": {
      "text/latex": [
       "$\\displaystyle \\frac{4 x^{5} - x}{2 x^{3} - x} = \\frac{4 x^{5}}{2 x^{3} - x} - \\frac{x}{2 x^{3} - x}$"
      ],
      "text/plain": [
       "<IPython.core.display.Math object>"
      ]
     },
     "metadata": {},
     "output_type": "display_data"
    },
    {
     "data": {
      "text/latex": [
       "$\\displaystyle \\frac{4 x^{5} - x}{2 x^{3} - x} = 2 x^{2} + 1$"
      ],
      "text/plain": [
       "<IPython.core.display.Math object>"
      ]
     },
     "metadata": {},
     "output_type": "display_data"
    },
    {
     "name": "stdout",
     "output_type": "stream",
     "text": [
      "----------------------------------------------------------------\n"
     ]
    },
    {
     "data": {
      "text/latex": [
       "$\\displaystyle x^{2} + 4 x + 3 = \\left(x + 1\\right) \\left(x + 3\\right)$"
      ],
      "text/plain": [
       "<IPython.core.display.Math object>"
      ]
     },
     "metadata": {},
     "output_type": "display_data"
    },
    {
     "data": {
      "text/latex": [
       "$\\displaystyle 2 x^{3} y + 2 x^{2} y + 4 x^{2} - 6 x y + 6 x = 2 x \\left(x^{2} y + x y + 2 x - 3 y + 3\\right)$"
      ],
      "text/plain": [
       "<IPython.core.display.Math object>"
      ]
     },
     "metadata": {},
     "output_type": "display_data"
    }
   ],
   "source": [
    "# Polynomials\n",
    "display(Math('\\\\text{Nth degree polynomial: } a_0 + a_1x + a_2x^2 + ... + a_nx^n'))\n",
    "sep()\n",
    "\n",
    "# Adding Polynomials\n",
    "x = sym.symbols('x')\n",
    "p1 = 2*x**3 + x**2 - x\n",
    "p2 = x**3 - x**4 - 4*x**2\n",
    "display(Math('(%s) + (%s) = %s' %(sym.latex(p1), sym.latex(p2), sym.latex(p1 + p2))))\n",
    "sep()\n",
    "\n",
    "p1 = sym.Poly(2*x**3 + x**2 - x)\n",
    "display(p1)\n",
    "display(p1.eval(2))\n",
    "display(p1.coeffs())\n",
    "sep()\n",
    "\n",
    "# Multiplying Polynomials\n",
    "display(Math('\\\\text{Law of Exponents: } y^a \\\\cdot x^a \\\\cdot x^b = y^a \\\\cdot x^{a+b}'))\n",
    "x = sym.symbols('x')\n",
    "display(x**5 * x**3)\n",
    "\n",
    "p1 = 4*x**2 - 2*x\n",
    "p2 = x**3 - 1\n",
    "display(p1 * p2)\n",
    "display(sym.expand(p1 * p2))\n",
    "sep()\n",
    "\n",
    "# Dividing Polynomials\n",
    "p1 = 4*x**5 - x\n",
    "p2 = 2*x**3 - x\n",
    "display(Math('\\\\frac{%s}{%s} = %s' %(sym.latex(p1), sym.latex(p2), sym.latex(p1/p2))))\n",
    "display(Math('\\\\frac{%s}{%s} = %s' %(sym.latex(p1), sym.latex(p2), sym.latex(sym.expand(p1/p2)))))\n",
    "display(Math('\\\\frac{%s}{%s} = %s' %(sym.latex(p1), sym.latex(p2), sym.latex(sym.simplify(p1/p2)))))\n",
    "sep()\n",
    "\n",
    "# Factoring Polynomials\n",
    "x,y = sym.symbols('x,y')\n",
    "p = x**2 + 4*x + 3\n",
    "display(Math('%s = %s' %(sym.latex(p), sym.latex(sym.factor(p)))))\n",
    "\n",
    "expr = 2*x**3*y - 2*x**2 + 2*x**2*y + 6*x**2 - 6*x*y + 6*x\n",
    "display(Math('%s = %s' %(sym.latex(expr), sym.latex(sym.factor(expr)))))"
   ]
  },
  {
   "cell_type": "markdown",
   "metadata": {},
   "source": [
    "---\n",
    "# Plotting"
   ]
  },
  {
   "cell_type": "code",
   "execution_count": 68,
   "metadata": {},
   "outputs": [
    {
     "data": {
      "image/png": "[encoded data removed]",
      "text/plain": [
       "<Figure size 432x288 with 1 Axes>"
      ]
     },
     "metadata": {
      "needs_background": "light"
     },
     "output_type": "display_data"
    },
    {
     "data": {
      "image/png": "[encoded data removed]",
      "text/plain": [
       "<Figure size 432x288 with 1 Axes>"
      ]
     },
     "metadata": {
      "needs_background": "light"
     },
     "output_type": "display_data"
    },
    {
     "name": "stdout",
     "output_type": "stream",
     "text": [
      "(1.89, 2.1100000000000003)\n"
     ]
    },
    {
     "data": {
      "image/png": "[encoded data removed]",
      "text/plain": [
       "<Figure size 432x288 with 1 Axes>"
      ]
     },
     "metadata": {
      "needs_background": "light"
     },
     "output_type": "display_data"
    }
   ],
   "source": [
    "# Introduction to Plotting\n",
    "x = 3\n",
    "y = 5\n",
    "plt.plot(x, y, 'ko')\n",
    "plt.axis('square')\n",
    "plt.axis([-6, 6, -6, 6])\n",
    "plt.grid()\n",
    "plt.show()\n",
    "\n",
    "x = [-4,5,2,4,5,6,3]\n",
    "y = [0,3,4,5,2,-3,4]\n",
    "\n",
    "for i in range(0,len(x)):\n",
    "  plt.plot(x[i], y[i], 'o', label=f'point {i+1}')\n",
    "plt.axis('square')\n",
    "plt.grid()\n",
    "plt.legend()\n",
    "plt.show()\n",
    "\n",
    "plt.plot(4,2,'r+')\n",
    "axis = plt.gca()\n",
    "ylim = axis.get_ylim()\n",
    "print(ylim)\n",
    "axis.set_ylim([ylim[0], 5.1247])\n",
    "plt.show()\n"
   ]
  },
  {
   "cell_type": "code",
   "execution_count": 83,
   "metadata": {},
   "outputs": [
    {
     "data": {
      "image/png": "[encoded data removed]",
      "text/plain": [
       "<Figure size 432x288 with 1 Axes>"
      ]
     },
     "metadata": {
      "needs_background": "light"
     },
     "output_type": "display_data"
    },
    {
     "data": {
      "image/png": "[encoded data removed]",
      "text/plain": [
       "<Figure size 432x288 with 1 Axes>"
      ]
     },
     "metadata": {
      "needs_background": "light"
     },
     "output_type": "display_data"
    }
   ],
   "source": [
    "# Graphing Lines (start/end notation)\n",
    "p1 = [-3,-1]\n",
    "p2 = [4,4]\n",
    "\n",
    "plt.plot([p1[0], p2[0]], [p1[1], p2[1]], color=[1, 0.2, 0.7], linewidth=5)\n",
    "plt.axis('square')\n",
    "plt.axis([-6, 6, -6, 6])\n",
    "plt.show()\n",
    "\n",
    "x = 3\n",
    "y = 5\n",
    "plt.plot(x, y, 'ro')\n",
    "plt.plot([0,x],[0,y], 'r')\n",
    "plt.axis('square')\n",
    "plt.axis([-6, 6, -6, 6])\n",
    "plt.grid()\n",
    "plt.plot([-6,6],[0,0], 'k')\n",
    "plt.plot([0,0],[-6,6], 'k')\n",
    "plt.show()"
   ]
  },
  {
   "cell_type": "code",
   "execution_count": 92,
   "metadata": {},
   "outputs": [
    {
     "data": {
      "image/png": "[encoded data removed]",
      "text/plain": [
       "<Figure size 432x288 with 1 Axes>"
      ]
     },
     "metadata": {
      "needs_background": "light"
     },
     "output_type": "display_data"
    }
   ],
   "source": [
    "# Graphing Lines (slope intercept form - y=mx+b)\n",
    "x = [-5,5]\n",
    "m = 2\n",
    "b = 1\n",
    "\n",
    "# y = [0,0]\n",
    "# for i in range(0,len(x)):\n",
    "#   y[i] = m * x[i] + b\n",
    "# print(x,y)\n",
    "\n",
    "y = m*np.array(x) + b\n",
    "\n",
    "plt.plot(x, y, label='y=%sx+%s' %(m,b))\n",
    "plt.axis('square')\n",
    "plt.grid()\n",
    "plt.xlim(x)\n",
    "plt.ylim(x)\n",
    "axis = plt.gca()\n",
    "plt.plot(axis.get_xlim(), [0,0],'k--')\n",
    "plt.plot([0,0], axis.get_ylim(),'k--')\n",
    "plt.legend()\n",
    "plt.show()\n"
   ]
  },
  {
   "cell_type": "code",
   "execution_count": 98,
   "metadata": {},
   "outputs": [
    {
     "data": {
      "image/png": "[encoded data removed]",
      "text/plain": [
       "<Figure size 432x288 with 1 Axes>"
      ]
     },
     "metadata": {
      "needs_background": "light"
     },
     "output_type": "display_data"
    },
    {
     "data": {
      "image/png": "[encoded data removed]",
      "text/plain": [
       "<Figure size 432x288 with 1 Axes>"
      ]
     },
     "metadata": {
      "needs_background": "light"
     },
     "output_type": "display_data"
    }
   ],
   "source": [
    "# Graphing Rational Functions\n",
    "# a rational function is essentially a \"ratio\" of polynomials\n",
    "\n",
    "x = range(-3, 4)\n",
    "y = np.zeros(len(x))\n",
    "\n",
    "for i in range(0,len(x)):\n",
    "  y[i] = 2 - x[i]**2\n",
    "  \n",
    "plt.plot(x,y,'s-')\n",
    "plt.show()\n",
    "\n",
    "x = np.linspace(-3, 3, 100)  # -3 to 3, with 10 steps\n",
    "y = 2 + np.sqrt(abs(x))\n",
    "plt.plot(x, y, 'm-')\n",
    "plt.show()"
   ]
  },
  {
   "cell_type": "code",
   "execution_count": 122,
   "metadata": {},
   "outputs": [
    {
     "name": "stdout",
     "output_type": "stream",
     "text": [
      "Plot object containing:\n",
      "[0]: cartesian line: x**2 for x over (-10.0, 10.0)\n"
     ]
    },
    {
     "data": {
      "image/png": "[encoded data removed]",
      "text/plain": [
       "<Figure size 432x288 with 1 Axes>"
      ]
     },
     "metadata": {
      "needs_background": "light"
     },
     "output_type": "display_data"
    },
    {
     "data": {
      "image/png": "[encoded data removed]",
      "text/plain": [
       "<Figure size 432x288 with 1 Axes>"
      ]
     },
     "metadata": {
      "needs_background": "light"
     },
     "output_type": "display_data"
    }
   ],
   "source": [
    "# Plotting with Sympy\n",
    "x = sym.symbols('x')\n",
    "y = x**2\n",
    "\n",
    "p = sym.plotting.plot(y, show=False)\n",
    "p.xlim = [0,50]\n",
    "p[0].line_color = 'm'\n",
    "p.title = 'Plot with Sympy'\n",
    "\n",
    "print(p)\n",
    "p.show()\n",
    "\n",
    "\n",
    "# Multiple Lines\n",
    "x,a = sym.symbols('x,a')\n",
    "expr = a / x\n",
    "n = 1\n",
    "\n",
    "p = symplot(expr.subs(a,n), (x,-5,5), show=False)\n",
    "p[0].label = '$y = %s$' %sym.latex(expr.subs(a,n))\n",
    "\n",
    "p.extend(symplot(expr.subs(a,2), show=False))\n",
    "p[1].label = '$y = %s$' %sym.latex(expr.subs(a,2))\n",
    "\n",
    "p[0].line_color = 'r'\n",
    "p.ylim = [-5,5]\n",
    "\n",
    "p.legend = True\n",
    "p.show()\n"
   ]
  },
  {
   "cell_type": "code",
   "execution_count": 136,
   "metadata": {},
   "outputs": [
    {
     "data": {
      "image/png": "[encoded data removed]",
      "text/plain": [
       "<Figure size 432x288 with 1 Axes>"
      ]
     },
     "metadata": {
      "needs_background": "light"
     },
     "output_type": "display_data"
    },
    {
     "name": "stdout",
     "output_type": "stream",
     "text": [
      "----------------------------------------------------------------\n",
      "(10, 14)\n"
     ]
    },
    {
     "data": {
      "image/png": "[encoded data removed]",
      "text/plain": [
       "<Figure size 432x288 with 1 Axes>"
      ]
     },
     "metadata": {
      "needs_background": "light"
     },
     "output_type": "display_data"
    }
   ],
   "source": [
    "# Making Images from Matrices\n",
    "matA = [[1,2],[1,4]]\n",
    "plt.imshow(matA)\n",
    "plt.xticks([0,1])\n",
    "plt.yticks([0,1])\n",
    "plt.show()\n",
    "sep()\n",
    "\n",
    "matA = np.zeros((10,14))\n",
    "print(np.shape(matA))\n",
    "\n",
    "for i in range(0,np.shape(matA)[0]):\n",
    "  for j in range(0,np.shape(matA)[1]):\n",
    "    matA[i,j] = 3*i - 4*j\n",
    "plt.imshow(matA)\n",
    "\n",
    "# plt.plot([0,3],[8,2],'r',linewidth=4)\n",
    "\n",
    "for i in range(0,np.shape(matA)[0]):\n",
    "  for j in range(0,np.shape(matA)[1]):\n",
    "    plt.text(j, i, int(matA[i,j]), horizontalalignment='center', verticalalignment='center')\n",
    "    \n",
    "plt.set_cmap('Purples')\n",
    "plt.show()"
   ]
  },
  {
   "cell_type": "code",
   "execution_count": 143,
   "metadata": {},
   "outputs": [
    {
     "data": {
      "image/png": "[encoded data removed]",
      "text/plain": [
       "<Figure size 432x288 with 1 Axes>"
      ]
     },
     "metadata": {
      "needs_background": "light"
     },
     "output_type": "display_data"
    }
   ],
   "source": [
    "# Drawing Polygons\n",
    "y = np.array([ [1,1],[2,3],[3,1] ])\n",
    "p = Polygon(y, facecolor='m', alpha=0.3)\n",
    "\n",
    "fig,ax = plt.subplots()\n",
    "ax.add_patch(p)\n",
    "ax.set_ylim([0,4])\n",
    "ax.set_xlim([0,4])\n",
    "\n",
    "plt.savefig('MyFigure.png')  # PDF as well\n",
    "\n",
    "plt.show()"
   ]
  },
  {
   "cell_type": "markdown",
   "metadata": {},
   "source": [
    "---\n",
    "# Algebra 2"
   ]
  },
  {
   "cell_type": "markdown",
   "metadata": {},
   "source": [
    "### Summations and Products\n",
    "\n",
    "$$ a_1 + a_2 + \\ldots + a_n = \\sum\\limits_{i=1}^n a_i $$\n",
    "\n",
    "$$ a_1 \\times a_2 \\times \\ldots \\times a_n = \\prod\\limits_{i=1}^n a_i $$\n",
    "\n",
    "$$ y_k = \\sum\\limits_{i=1}^k a_i \\begin{cases} \n",
    "     y_1 = a_1 \\\\\n",
    "     y_2 = a_1 + a_2 \\\\\n",
    "     y_3 = a_1 + a_2 + a_3 \\\\\n",
    "     \\ldots \\\\\n",
    "     y_k = a_1 + a_2 + \\ldots + a_k\n",
    "   \\end{cases}\n",
    "$$"
   ]
  },
  {
   "cell_type": "code",
   "execution_count": 158,
   "metadata": {},
   "outputs": [
    {
     "name": "stdout",
     "output_type": "stream",
     "text": [
      "15\n",
      "15\n",
      "72\n",
      "[ 1  4  8  9 15]\n"
     ]
    },
    {
     "data": {
      "image/png": "[encoded data removed]",
      "text/plain": [
       "<Figure size 432x288 with 1 Axes>"
      ]
     },
     "metadata": {
      "needs_background": "light"
     },
     "output_type": "display_data"
    }
   ],
   "source": [
    "lst = [1,3,4,1,6]\n",
    "\n",
    "print(sum(lst))\n",
    "print(np.sum(lst))\n",
    "print(np.prod(lst))\n",
    "print(np.cumsum(lst))\n",
    "\n",
    "plt.plot(lst, 'rs-')\n",
    "plt.plot(np.cumsum(lst), 'bo-')\n",
    "plt.legend(['set', 'cumsum'])\n",
    "\n",
    "plt.show()"
   ]
  },
  {
   "cell_type": "code",
   "execution_count": 165,
   "metadata": {},
   "outputs": [
    {
     "name": "stdout",
     "output_type": "stream",
     "text": [
      "[ 2  1 -8]\n",
      "[ 0  1  2  3  4  5  6  7  8  9 10]\n",
      "[1 1 1 1 1 1 1 1 1 1]\n",
      "[0 0 0 0 0 0 0 0 0]\n"
     ]
    }
   ],
   "source": [
    "# Differences (discrete derivative)\n",
    "x = [1,3,4,-4]\n",
    "print(np.diff(x))\n",
    "\n",
    "v = np.arange(0,11)\n",
    "print(v)\n",
    "print(np.diff(v))\n",
    "print(np.diff(v,2))  # 2nd order discrete difference"
   ]
  },
  {
   "cell_type": "code",
   "execution_count": 169,
   "metadata": {},
   "outputs": [
    {
     "name": "stdout",
     "output_type": "stream",
     "text": [
      "[-1.          0.33333333]\n"
     ]
    },
    {
     "data": {
      "text/latex": [
       "$\\displaystyle \\text{At x = }-1, \\quad 3 x^{2} + 2 x - 1 = 0$"
      ],
      "text/plain": [
       "<IPython.core.display.Math object>"
      ]
     },
     "metadata": {},
     "output_type": "display_data"
    },
    {
     "data": {
      "text/latex": [
       "$\\displaystyle \\text{At x = }0.333333, \\quad 3 x^{2} + 2 x - 1 = -5.55112e-17$"
      ],
      "text/plain": [
       "<IPython.core.display.Math object>"
      ]
     },
     "metadata": {},
     "output_type": "display_data"
    }
   ],
   "source": [
    "# Roots of Polynomials\n",
    "\n",
    "# 3x^2 + 2x - 1\n",
    "coefs = [3, 2, -1]\n",
    "\n",
    "roots = np.roots(coefs)\n",
    "print(roots)\n",
    "\n",
    "x = sym.symbols('x')\n",
    "pn = 3*x**2 + 2*x - 1\n",
    "for i in roots:\n",
    "  display(Math('\\\\text{At x = }%g, \\\\quad %s = %g' %(i, sym.latex(pn), pn.subs(x,i))))"
   ]
  },
  {
   "cell_type": "code",
   "execution_count": 8,
   "metadata": {},
   "outputs": [
    {
     "name": "stdout",
     "output_type": "stream",
     "text": [
      "(-1.1666666666666665+0.5527707983925666j) (-1.1666666666666665-0.5527707983925666j)\n"
     ]
    }
   ],
   "source": [
    "# Quadratic Equation\n",
    "a = 3\n",
    "b = 7\n",
    "c = 5\n",
    "\n",
    "quadeq_p = (-b + np.lib.scimath.sqrt(b**2 - 4*a*c)) / (2*a)\n",
    "quadeq_n = (-b - np.lib.scimath.sqrt(b**2 - 4*a*c)) / (2*a)\n",
    "print(quadeq_p, quadeq_n) # complex numbers!\n",
    "\n"
   ]
  },
  {
   "cell_type": "code",
   "execution_count": 17,
   "metadata": {},
   "outputs": [
    {
     "name": "stdout",
     "output_type": "stream",
     "text": [
      "1j\n",
      "1j\n",
      "1j\n",
      "I\n",
      "----------------------------------------------------------------\n",
      "(4-5j)\n",
      "(4-5j)\n",
      "----------------------------------------------------------------\n",
      "(7+7j)\n",
      "(1+3j)\n",
      "4.0\n",
      "5.0\n"
     ]
    }
   ],
   "source": [
    "# Imaginary operator\n",
    "print(1j)\n",
    "print(np.lib.scimath.sqrt(-1))\n",
    "print(np.sqrt(-1, dtype='complex'))\n",
    "print(sym.I)\n",
    "sep()\n",
    "\n",
    "# Complex Numbers\n",
    "real_part = 4\n",
    "imag_part = -5\n",
    "c1 = np.complex(real_part, imag_part)\n",
    "c2 = real_part + 1j * imag_part\n",
    "print(c1)\n",
    "print(c2)\n",
    "sep()\n",
    "\n",
    "# Complex Arithmetic\n",
    "z1 = np.complex(4,5)\n",
    "z2 = np.complex(3,2)\n",
    "print(z1 + z2)\n",
    "print(z1 - z2)\n",
    "print(np.real(z1))\n",
    "print(np.imag(z1))\n",
    "sep()\n",
    "\n"
   ]
  },
  {
   "cell_type": "code",
   "execution_count": 29,
   "metadata": {},
   "outputs": [
    {
     "name": "stdout",
     "output_type": "stream",
     "text": [
      "34.0 + 22.0*I\n"
     ]
    },
    {
     "data": {
      "text/latex": [
       "$\\displaystyle \\frac{(4+2j)}{2} = (2+1j)$"
      ],
      "text/plain": [
       "<IPython.core.display.Math object>"
      ]
     },
     "metadata": {},
     "output_type": "display_data"
    },
    {
     "data": {
      "text/latex": [
       "$\\displaystyle \\frac{(4+2j)}{(2-3j)} = \\frac{(4+2j) \\times (2+3j)}{(2-3j)\\times (2+3j)} = (0.15384615384615383+1.2307692307692308j)$"
      ],
      "text/plain": [
       "<IPython.core.display.Math object>"
      ]
     },
     "metadata": {},
     "output_type": "display_data"
    }
   ],
   "source": [
    "# Complex Multiplication\n",
    "z1 = np.complex(4,5)\n",
    "z2 = np.complex(6,-2)\n",
    "\n",
    "w = z1 * z2\n",
    "print(sym.sympify(w))\n",
    "\n",
    "# Complex Conjugate\n",
    "np.conj(z2)\n",
    "\n",
    "# Complex Division\n",
    "z = np.complex(4,2)\n",
    "display(Math('\\\\frac{%s}{2} = %s' %(z, z/2)))\n",
    "\n",
    "z1 = np.complex(4,2)\n",
    "z2 = np.complex(2,-3)\n",
    "display(Math('\\\\frac{%s}{%s} = \\\\frac{%s \\\\times %s}{%s\\\\times %s} = %s' \\\n",
    "             %(z1, z2, z1, np.conj(z2), z2, np.conj(z2), z1/z2)))"
   ]
  },
  {
   "cell_type": "code",
   "execution_count": 33,
   "metadata": {},
   "outputs": [
    {
     "data": {
      "image/png": "[encoded data removed]",
      "text/plain": [
       "<Figure size 432x288 with 1 Axes>"
      ]
     },
     "metadata": {
      "needs_background": "light"
     },
     "output_type": "display_data"
    }
   ],
   "source": [
    "# Graphing Complex Numbers\n",
    "z = np.complex(2,3)\n",
    "plt.plot(np.real(z), np.imag(z), 'ro')\n",
    "plt.plot([0,np.real(z)], [0,np.imag(z)], 'r')\n",
    "\n",
    "plt.xlabel('real')\n",
    "plt.ylabel('imag')\n",
    "plt.grid()\n",
    "plt.axis([-4,4,-4,4])\n",
    "\n",
    "plt.show()"
   ]
  },
  {
   "cell_type": "code",
   "execution_count": 44,
   "metadata": {},
   "outputs": [
    {
     "data": {
      "image/png": "[encoded data removed]",
      "text/plain": [
       "<Figure size 432x288 with 1 Axes>"
      ]
     },
     "metadata": {
      "needs_background": "light"
     },
     "output_type": "display_data"
    }
   ],
   "source": [
    "# The Unit Circle\n",
    "x = np.linspace(0,2*np.pi,100)\n",
    "\n",
    "plt.plot(np.cos(x), np.sin(x), 'k')\n",
    "plt.plot([-1.1, 1.1], [0, 0], '--', color=[0.8, 0.8, 0.8])\n",
    "plt.plot([0, 0],[-1.1, 1.1], '--', color=[0.8, 0.8, 0.8])\n",
    "\n",
    "angle = np.pi / 4\n",
    "plt.plot([0, np.cos(angle)], [0, np.sin(angle)], 'r')\n",
    "\n",
    "plt.axis('square')\n",
    "plt.axis([-1.1, 1.1, -1.1, 1.1])\n",
    "plt.xlabel('cos(x)')\n",
    "plt.ylabel('sin(x)')\n",
    "plt.show()"
   ]
  },
  {
   "cell_type": "code",
   "execution_count": 50,
   "metadata": {},
   "outputs": [
    {
     "data": {
      "image/png": "[encoded data removed]",
      "text/plain": [
       "<Figure size 432x288 with 1 Axes>"
      ]
     },
     "metadata": {
      "needs_background": "light"
     },
     "output_type": "display_data"
    },
    {
     "name": "stderr",
     "output_type": "stream",
     "text": [
      "/home/barrett/.local/lib/python3.6/site-packages/ipykernel_launcher.py:9: RuntimeWarning: divide by zero encountered in log\n",
      "  if __name__ == '__main__':\n",
      "/home/barrett/.local/lib/python3.6/site-packages/ipykernel_launcher.py:9: RuntimeWarning: invalid value encountered in log\n",
      "  if __name__ == '__main__':\n"
     ]
    },
    {
     "data": {
      "image/png": "[encoded data removed]",
      "text/plain": [
       "<Figure size 432x288 with 1 Axes>"
      ]
     },
     "metadata": {
      "needs_background": "light"
     },
     "output_type": "display_data"
    }
   ],
   "source": [
    "# Natural Exponent\n",
    "x = np.linspace(-3, 3, 99)\n",
    "plt.plot(x, np.exp(x))\n",
    "plt.xlabel('x')\n",
    "plt.ylabel('$e^x$')\n",
    "plt.show()\n",
    "\n",
    "# Logarithm\n",
    "plt.plot(x, np.log(x))\n",
    "plt.xlabel('x')\n",
    "plt.ylabel('log(x)')\n",
    "plt.show()"
   ]
  },
  {
   "cell_type": "code",
   "execution_count": null,
   "metadata": {},
   "outputs": [],
   "source": [
    "# Gaussian Curve\n"
   ]
  }
 ],
 "metadata": {
  "kernelspec": {
   "display_name": "Python 3.6.9 64-bit",
   "language": "python",
   "name": "python36964bit02ef2681bbc5400fadc04eb658c88111"
  },
  "language_info": {
   "codemirror_mode": {
    "name": "ipython",
    "version": 3
   },
   "file_extension": ".py",
   "mimetype": "text/x-python",
   "name": "python",
   "nbconvert_exporter": "python",
   "pygments_lexer": "ipython3",
   "version": "3.6.9"
  }
 },
 "nbformat": 4,
 "nbformat_minor": 2
}
