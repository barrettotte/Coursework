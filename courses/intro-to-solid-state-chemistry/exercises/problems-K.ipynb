{
 "cells": [
  {
   "cell_type": "markdown",
   "metadata": {},
   "source": [
    "# Problem set K - Aqueous Solutions & Acids/Bases"
   ]
  },
  {
   "cell_type": "markdown",
   "metadata": {},
   "source": [
    "## 4.6 - Acid-Base Reactions"
   ]
  },
  {
   "cell_type": "markdown",
   "metadata": {},
   "source": [
    "**4.6.5** What is the hydrogen ion concentration of each substance in the indicated pH range?\n",
    "\n",
    "- black coffee - pH 5.10\n",
    "- milk - pH 6.30-7.6\n",
    "- tomatoes - pH 4.00-4.40\n",
    "\n",
    "$10^{-\\text{pH}}=[\\text{H}^+]$\n",
    "\n",
    "- $7.9\\times10^{-6}\\text{ M H}^+$\n",
    "- $5.0\\times10^{-7}\\text{ to }2.5\\times10^{-8}\\text{ M H}^+$\n",
    "- $1.0\\times10^{-4}\\text{ to }4.0\\times10^{-5}\\text{ M H}^+$"
   ]
  },
  {
   "cell_type": "markdown",
   "metadata": {},
   "source": [
    "**4.6.15** How many moles of solute are contained in each?\n",
    "\n",
    "- 25.00 mL of 1.86 M $\\text{NaOH}$ => $0.025\\text{ L}\\cdot 1.86\\text{ M}=0.0465\\text{ moles}$\n",
    "- 50.00 mL of 0.0898 M $\\text{HCl}$ => $0.050\\text{ L}\\cdot 0.0898\\text{ M}=0.00449\\text{ moles}$\n",
    "- 13.89 mL of 0.102 M $\\text{HBr}$ => $0.01389\\text{ L}\\cdot 0.102\\text{ M}=0.00142\\text{ moles}$"
   ]
  }
 ],
 "metadata": {
  "kernelspec": {
   "display_name": "Python 3",
   "language": "python",
   "name": "python3"
  },
  "language_info": {
   "codemirror_mode": {
    "name": "ipython",
    "version": 3
   },
   "file_extension": ".py",
   "mimetype": "text/x-python",
   "name": "python",
   "nbconvert_exporter": "python",
   "pygments_lexer": "ipython3",
   "version": "3.8.5"
  }
 },
 "nbformat": 4,
 "nbformat_minor": 4
}
