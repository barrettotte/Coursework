{
 "cells": [
  {
   "cell_type": "markdown",
   "metadata": {},
   "source": [
    "# Chapter 6 - Series Solutions of Linear Equations"
   ]
  },
  {
   "cell_type": "markdown",
   "metadata": {},
   "source": [
    "## 6.1 - Solutions about Ordinary Points"
   ]
  },
  {
   "cell_type": "markdown",
   "metadata": {},
   "source": [
    "**1.** Find the radius of convergence and interval of convergence for the power series\n",
    "$\\quad \\sum\\limits_{n=1}^\\infty\\frac{2^n}{n}x^n$"
   ]
  },
  {
   "cell_type": "markdown",
   "metadata": {},
   "source": [
    "**3.** Find the radius of convergence and interval of convergence for the power series\n",
    "$\\quad \\sum\\limits_{k=1}^\\infty\\frac{(-1)^k}{10^k}(x-5)^k$"
   ]
  },
  {
   "cell_type": "markdown",
   "metadata": {},
   "source": [
    "**9.** Rewrite the given power series so that its general term involves $x^k$. \n",
    "$\\quad\\sum\\limits_{n=1}^\\infty nc_nx^{n+2}$"
   ]
  },
  {
   "cell_type": "markdown",
   "metadata": {},
   "source": [
    "**11.** Rewrite the given expression as a single power series whose general term involves $x^k$\n",
    "$\\quad \\sum\\limits_{n=1}^\\infty 2nc_nx^{n-1}+\\sum\\limits_{n=0}^\\infty 6c_nx^{n+1}$"
   ]
  },
  {
   "cell_type": "markdown",
   "metadata": {},
   "source": [
    "**13.** Verify by direct substitution that the given power series is a particular solution of\n",
    "the indicated differential equation.\n",
    "\n",
    "- $y=\\sum\\limits_{n=1}^\\infty \\frac{(-1)^{n+1}}{n}x^n$\n",
    "- $(x+1)y''+y'=0$"
   ]
  },
  {
   "cell_type": "markdown",
   "metadata": {},
   "source": [
    "**15.** Without solving the differential equation, find a lower bound for the radius of convergence of power series solutions about the ordinary point $x=0$. About the ordinary point $x=1$.\n",
    "\n",
    "$(x^2-25)y''+2xy'+y=0$"
   ]
  },
  {
   "cell_type": "markdown",
   "metadata": {},
   "source": [
    "**17.** Find two power series solutions of the given differential equation about the ordinary point $x=0$.\n",
    "$\\quad y''-xy=0$"
   ]
  },
  {
   "cell_type": "markdown",
   "metadata": {},
   "source": [
    "**19.** Find two power series solutions of the given differential equation about the ordinary point $x=0$.\n",
    "$\\quad y''-2xy'+y=0$"
   ]
  },
  {
   "cell_type": "markdown",
   "metadata": {},
   "source": [
    "**21.** Find two power series solutions of the given differential equation about the ordinary point $x=0$.\n",
    "$\\quad y''+x^2y'+xy=0$"
   ]
  },
  {
   "cell_type": "markdown",
   "metadata": {},
   "source": [
    "**29.** Use the power series method to solve the given initial-value problem.\n",
    "\n",
    "- $(x-1)y''-xy'+y=0$\n",
    "- $y(0)=-2,\\quad y'(0)=6$"
   ]
  },
  {
   "cell_type": "markdown",
   "metadata": {},
   "source": [
    "## 6.2 - Solutions about Singular Points"
   ]
  },
  {
   "cell_type": "markdown",
   "metadata": {},
   "source": [
    "**1.** Determine the singular points of the differential equation. Classify each singular point as regular or irregular. $\\quad x^3y''+4x^2y'+3y=0$"
   ]
  },
  {
   "cell_type": "markdown",
   "metadata": {},
   "source": [
    "**3.** Determine the singular points of the differential equation. Classify each singular point as regular or irregular. $\\quad (x^2-9)^2y''+(x+3)y'+2y=0$"
   ]
  },
  {
   "cell_type": "markdown",
   "metadata": {},
   "source": [
    "**5.** Determine the singular points of the differential equation. Classify each singular point as regular or irregular. $\\quad (x^3+4x)y''-2xy'+6y=0$"
   ]
  },
  {
   "cell_type": "markdown",
   "metadata": {},
   "source": [
    "**7.** Determine the singular points of the differential equation. Classify each singular point as regular or irregular. $\\quad (x^2+x-6)y''+(x+3)y'+(x-2)y=0$"
   ]
  },
  {
   "cell_type": "markdown",
   "metadata": {},
   "source": [
    "**15.** $x=0$ is a regular singular point of the differential equation. Show that the indicial roots of the singularity do not differ by an integer. Use the method of Frobenius to obtain two linearly independent series\n",
    "solutions about $x=0$. Form the general solution on $(0,\\infty)$. $\\quad 2xy''-y'+2y=0$"
   ]
  }
 ],
 "metadata": {
  "kernelspec": {
   "display_name": "Python 3.6.9 64-bit",
   "language": "python",
   "name": "python36964bit02ef2681bbc5400fadc04eb658c88111"
  },
  "language_info": {
   "codemirror_mode": {
    "name": "ipython",
    "version": 3
   },
   "file_extension": ".py",
   "mimetype": "text/x-python",
   "name": "python",
   "nbconvert_exporter": "python",
   "pygments_lexer": "ipython3",
   "version": "3.8.5"
  }
 },
 "nbformat": 4,
 "nbformat_minor": 4
}
