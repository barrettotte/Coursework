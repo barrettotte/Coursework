{
 "cells": [
  {
   "cell_type": "markdown",
   "metadata": {},
   "source": [
    "# Chapter 4 - Higher-Order Differential Equations"
   ]
  },
  {
   "cell_type": "markdown",
   "metadata": {},
   "source": [
    "## 4.1 - Preliminary Theory - Linear Equations"
   ]
  },
  {
   "cell_type": "markdown",
   "metadata": {},
   "source": [
    "**1.** Find a member of the given family of functions that is the solution of the initial value problem.\n",
    "\n",
    "- $y=c_1e^x+c_2e^{-x},\\quad (-\\infty,\\infty)$\n",
    "- $y''-y=0,\\quad y(0)=0,\\quad y'(0)=2$"
   ]
  },
  {
   "cell_type": "markdown",
   "metadata": {},
   "source": [
    "**3.** Find a member of the given family of functions that is the solution of the initial value problem.\n",
    "\n",
    "- $y=c_1x+c_2x\\ln x,\\quad (0,\\infty)$\n",
    "- $x^2y''-xy'+y=0,\\quad y(1)=3,\\quad y'(1)=-1$"
   ]
  },
  {
   "cell_type": "markdown",
   "metadata": {},
   "source": [
    "**7.** Given that $x(t)=c_1\\cos(wt)+c_2\\sin(wt)$ is the general solution of $x''+w^2x=0$ on the interval \n",
    "$(-\\infty,\\infty)$, show that a solution satisfying the initial conditions $x(0)=x_0,\\quad x'(0)=x_1$ is given by\n",
    "$x(t)=x_0\\cos(wt)+\\frac{x_1}{w}\\sin(wt)$"
   ]
  },
  {
   "cell_type": "markdown",
   "metadata": {},
   "source": [
    "**9.** Find interval centered about $x=0$ for which the given initial-value problem has a unique solution \n",
    "\n",
    "- $(x-2)y''+3y=x$\n",
    "- $y(0)=0,\\quad y'(0)=1$"
   ]
  },
  {
   "cell_type": "markdown",
   "metadata": {},
   "source": [
    "**15.** Determine whether the given set of functions is linearly independent on the interval $(-\\infty,\\infty)$.\n",
    "\n",
    "- $f_1(x)=x$\n",
    "- $f_2(x)=x^2$\n",
    "- $f_3(x)=4x-3x^2$"
   ]
  },
  {
   "cell_type": "markdown",
   "metadata": {},
   "source": [
    "**17.** Determine whether the given set of functions is linearly independent on the interval $(-\\infty,\\infty)$.\n",
    "\n",
    "- $f_1(x)=\\cos(2x)$\n",
    "- $f_2(x)=\\cos^2(x)$\n",
    "- $f_3(x)=\\sin^2(x)$"
   ]
  },
  {
   "cell_type": "markdown",
   "metadata": {},
   "source": [
    "**19.** Determine whether the given set of functions is linearly independent on the interval $(-\\infty,\\infty)$.\n",
    "\n",
    "- $f_1(x)=x$\n",
    "- $f_2(x)=x-1$\n",
    "- $f_3(x)=x+3$"
   ]
  },
  {
   "cell_type": "markdown",
   "metadata": {},
   "source": [
    "**23.** Verify that the given functions form a fundamental set of solutions of the differential equation on the indicated interval. Form the general solution.\n",
    "\n",
    "- $y''-y'-12y=0$\n",
    "- $e^{-3x},\\quad e^{4x},\\quad (-\\infty,\\infty)$"
   ]
  },
  {
   "cell_type": "markdown",
   "metadata": {},
   "source": [
    "**31.** Verify that the given two-parameter family of functions is the general solution of the nonhomogenous differential equation on the indicated interval.\n",
    "\n",
    "- $y''-7y'+10y=24e^x$\n",
    "- $y=c_1e^{2x}+c_2e^{5x}+6e^x,\\quad (-\\infty,\\infty)$"
   ]
  },
  {
   "cell_type": "markdown",
   "metadata": {},
   "source": [
    "**33.** Verify that the given two-parameter family of functions is the general solution of the nonhomogenous differential equation on the indicated interval.\n",
    "\n",
    "- $y''-4y'+4y=2e^{2x}+4x-12$\n",
    "- $y=c_1e^{2x}+c_2xe^{2x}+x^2e^{2x}+x-2,\\quad (-\\infty,\\infty)$"
   ]
  },
  {
   "cell_type": "markdown",
   "metadata": {},
   "source": [
    "## 4.2 - Reduction of Order"
   ]
  },
  {
   "cell_type": "markdown",
   "metadata": {},
   "source": [
    "**1.** Use reduction of order or formula (5) to find a second solution $y_2(x)$ given a solution of the given differential equation $y_1(x)$.\n",
    "\n",
    "- $y''-4y'+4y=0$\n",
    "- $y_1=e^{2x}$"
   ]
  },
  {
   "cell_type": "markdown",
   "metadata": {},
   "source": [
    "**3.** Use reduction of order or formula (5) to find a second solution $y_2(x)$ given a solution of the given differential equation $y_1(x)$.\n",
    "\n",
    "- $y''+16y=0$\n",
    "- $y_1=\\cos(4x)$"
   ]
  },
  {
   "cell_type": "markdown",
   "metadata": {},
   "source": [
    "**5.** Use reduction of order or formula (5) to find a second solution $y_2(x)$ given a solution of the given differential equation $y_1(x)$.\n",
    "\n",
    "- $y''-y=0$\n",
    "- $y_1=\\cosh(x)$"
   ]
  },
  {
   "cell_type": "markdown",
   "metadata": {},
   "source": [
    "**7.** Use reduction of order or formula (5) to find a second solution $y_2(x)$ given a solution of the given differential equation $y_1(x)$.\n",
    "\n",
    "- $9y''-12y'+4y=0$\n",
    "- $y_1=e^{2x/3}$"
   ]
  },
  {
   "cell_type": "markdown",
   "metadata": {},
   "source": [
    "**9.** Use reduction of order or formula (5) to find a second solution $y_2(x)$ given a solution of the given differential equation $y_1(x)$.\n",
    "\n",
    "- $x^2y''-7xy'+16y=0$\n",
    "- $y_1=x^4$"
   ]
  },
  {
   "cell_type": "markdown",
   "metadata": {},
   "source": [
    "## 4.3 - Homogenous Linear Equations with Constant Coefficients"
   ]
  },
  {
   "cell_type": "markdown",
   "metadata": {},
   "source": [
    "**1.** Find the general solution of the given second-order differential equation. \n",
    "$\\quad 4y''+y'=0$"
   ]
  },
  {
   "cell_type": "markdown",
   "metadata": {},
   "source": [
    "**3.** Find the general solution of the given second-order differential equation. \n",
    "$\\quad y''-y'-6y=0$"
   ]
  },
  {
   "cell_type": "markdown",
   "metadata": {},
   "source": [
    "**5.** Find the general solution of the given second-order differential equation. \n",
    "$\\quad y''+8y'+16y=0$"
   ]
  },
  {
   "cell_type": "markdown",
   "metadata": {},
   "source": [
    "**7.** Find the general solution of the given second-order differential equation. \n",
    "$\\quad 12y''-5y'-2y=0$"
   ]
  },
  {
   "cell_type": "markdown",
   "metadata": {},
   "source": [
    "**15.** Find the general solution of the given higher-order differential equation. \n",
    "$\\quad y'''-4y''-5y'=0$"
   ]
  },
  {
   "cell_type": "markdown",
   "metadata": {},
   "source": [
    "**17.** Find the general solution of the given higher-order differential equation. \n",
    "$\\quad y'''-5y''+3y'+9y=0$"
   ]
  },
  {
   "cell_type": "markdown",
   "metadata": {},
   "source": [
    "**23.** Find the general solution of the given higher-order differential equation. \n",
    "$\\quad y^{(4)}+y'''+y''=0$"
   ]
  },
  {
   "cell_type": "markdown",
   "metadata": {},
   "source": [
    "**29.** Solve the given initial-value problem.\n",
    "\n",
    "- $y''+16y=0$\n",
    "- $y(0)=2,\\quad y'(0)=-2$"
   ]
  },
  {
   "cell_type": "markdown",
   "metadata": {},
   "source": [
    "**31.** Solve the given initial-value problem.\n",
    "\n",
    "- $\\frac{d^2y}{dt^2}-4\\frac{dy}{dt}=0$\n",
    "- $y(1)=0,\\quad y'(1)=2$"
   ]
  },
  {
   "cell_type": "markdown",
   "metadata": {},
   "source": [
    "**37.** Solve the given boundary-value problem.\n",
    "\n",
    "- $y''-10y'+25y=0$\n",
    "- $y(0)=1,\\quad y(1)=0$"
   ]
  },
  {
   "cell_type": "markdown",
   "metadata": {},
   "source": [
    "## 4.4 - Undetermined Coefficients - Superposition Approach"
   ]
  },
  {
   "cell_type": "markdown",
   "metadata": {},
   "source": [
    "**1.** Solve the given differential equation by undetermined coefficients. $\\quad y''+3y'+2y=6$"
   ]
  },
  {
   "cell_type": "markdown",
   "metadata": {},
   "source": [
    "**3.** Solve the given differential equation by undetermined coefficients. $\\quad y''-10y'+25y=30x+3$"
   ]
  },
  {
   "cell_type": "markdown",
   "metadata": {},
   "source": [
    "**5.** Solve the given differential equation by undetermined coefficients. $\\quad \\frac{1}{4}y''+y'+y=x^2-2x$"
   ]
  },
  {
   "cell_type": "markdown",
   "metadata": {},
   "source": [
    "**7.** Solve the given differential equation by undetermined coefficients. $\\quad y''+3y=-48x^2e^{3x}$"
   ]
  },
  {
   "cell_type": "markdown",
   "metadata": {},
   "source": [
    "**9.** Solve the given differential equation by undetermined coefficients. $\\quad y''-y'=-3$"
   ]
  },
  {
   "cell_type": "markdown",
   "metadata": {},
   "source": [
    "**11.** Solve the given differential equation by undetermined coefficients. $\\quad y''-y'+\\frac{1}{4}y=3+e^{x/2}$"
   ]
  },
  {
   "cell_type": "markdown",
   "metadata": {},
   "source": [
    "**13.** Solve the given differential equation by undetermined coefficients. $\\quad y''+4y=3\\sin(2x)$"
   ]
  },
  {
   "cell_type": "markdown",
   "metadata": {},
   "source": [
    "**29.** Solve the given initial-value problem.\n",
    "\n",
    "- $5y''+y'=-6x$\n",
    "- $y(0)=0,\\quad y'(0)=-10$"
   ]
  },
  {
   "cell_type": "markdown",
   "metadata": {},
   "source": [
    "**31.** Solve the given initial-value problem.\n",
    "\n",
    "- $y''+4y'+5y=35e^{-4x}$\n",
    "- $y(0)=-3,\\quad y'(0)=1$"
   ]
  },
  {
   "cell_type": "markdown",
   "metadata": {},
   "source": [
    "**37.** Solve the given boundary-value problem.\n",
    "\n",
    "- $y''+y=x^2+1$\n",
    "- $y(0)=5,\\quad y(1)=0$"
   ]
  },
  {
   "cell_type": "markdown",
   "metadata": {},
   "source": [
    "## 4.5 - Undetermined Coefficients - Annihilator Approach"
   ]
  },
  {
   "cell_type": "markdown",
   "metadata": {},
   "source": [
    "**1.** Write the given differential equation in the form $L(y)=g(x)$, where $L$ is a linear differential operator with constant coefficients. If possible, factor $L$. $\\quad 9y''-4y=\\sin(x)$"
   ]
  },
  {
   "cell_type": "markdown",
   "metadata": {},
   "source": [
    "**3.** Write the given differential equation in the form $L(y)=g(x)$, where $L$ is a linear differential operator with constant coefficients. If possible, factor $L$. $\\quad y''-4y'-12y=x-6$"
   ]
  },
  {
   "cell_type": "markdown",
   "metadata": {},
   "source": [
    "**5.** Write the given differential equation in the form $L(y)=g(x)$, where $L$ is a linear differential operator with constant coefficients. If possible, factor $L$. $\\quad y'''+10y''+25y'=e^x$"
   ]
  },
  {
   "cell_type": "markdown",
   "metadata": {},
   "source": [
    "**11.** Verify that the given differential operator annihilates the indicated functions.\n",
    "\n",
    "- $D^4$\n",
    "- $y=10x^3-2x$"
   ]
  },
  {
   "cell_type": "markdown",
   "metadata": {},
   "source": [
    "**15.** Find a linear differential operator that annihilates the given function. $\\quad 1+6x-2x^3$"
   ]
  },
  {
   "cell_type": "markdown",
   "metadata": {},
   "source": [
    "**17.** Find a linear differential operator that annihilates the given function. $\\quad 1+7e^{2x}$"
   ]
  },
  {
   "cell_type": "markdown",
   "metadata": {},
   "source": [
    "**19.** Find a linear differential operator that annihilates the given function. $\\quad \\cos(2x)$"
   ]
  },
  {
   "cell_type": "markdown",
   "metadata": {},
   "source": [
    "**27.** Find linearly independent functions that are annihilated by the given differential operator.\n",
    "$\\quad D^5$"
   ]
  },
  {
   "cell_type": "markdown",
   "metadata": {},
   "source": [
    "**29.** Find linearly independent functions that are annihilated by the given differential operator.\n",
    "$\\quad (D-6)(2D+3)$"
   ]
  },
  {
   "cell_type": "markdown",
   "metadata": {},
   "source": [
    "**35.** Solve the given differential equation by undetermined coefficients. $\\quad y''-9y=54$"
   ]
  },
  {
   "cell_type": "markdown",
   "metadata": {},
   "source": [
    "**39.** Solve the given differential equation by undetermined coefficients. $\\quad y''+4y'+4y=2x+6$"
   ]
  },
  {
   "cell_type": "markdown",
   "metadata": {},
   "source": [
    "**41.** Solve the given differential equation by undetermined coefficients. $\\quad y'''+y''=8x^2$"
   ]
  },
  {
   "cell_type": "markdown",
   "metadata": {},
   "source": [
    "**43.** Solve the given differential equation by undetermined coefficients. $\\quad y''-y''-12y=e^{4x}$"
   ]
  },
  {
   "cell_type": "markdown",
   "metadata": {},
   "source": [
    "**45.** Solve the given differential equation by undetermined coefficients. $\\quad y''-2y'-3y=4e^x-9$"
   ]
  },
  {
   "cell_type": "markdown",
   "metadata": {},
   "source": [
    "**65.** Solve the initial-value problem.\n",
    "\n",
    "- $y''-64y=16$\n",
    "- $y(0)=1,\\quad y'(0)=0$"
   ]
  },
  {
   "cell_type": "markdown",
   "metadata": {},
   "source": [
    "**67.** Solve the initial-value problem.\n",
    "\n",
    "- $y''-5y'=x-2$\n",
    "- $y(0)=0,\\quad y'(0)=2$"
   ]
  },
  {
   "cell_type": "markdown",
   "metadata": {},
   "source": [
    "## 4.6 - Variation of Parameters"
   ]
  },
  {
   "cell_type": "markdown",
   "metadata": {},
   "source": [
    "**1.** Solve the differential equation by variation of parameters. $\\quad y''+y=\\sec(x)$"
   ]
  },
  {
   "cell_type": "markdown",
   "metadata": {},
   "source": [
    "**3.** Solve the differential equation by variation of parameters. $\\quad y''+y=\\sin(x)$"
   ]
  },
  {
   "cell_type": "markdown",
   "metadata": {},
   "source": [
    "**9.** Solve the differential equation by variation of parameters. $\\quad y''-4y=\\frac{e^{2x}}{x}$"
   ]
  },
  {
   "cell_type": "markdown",
   "metadata": {},
   "source": [
    "**13.** Solve the differential equation by variation of parameters. $\\quad y''+3y'+2y=\\frac{1}{1+e^x}$"
   ]
  },
  {
   "cell_type": "markdown",
   "metadata": {},
   "source": [
    "**19.** Solve the differential equation by variation of parameters, subject to the initial conditions.\n",
    "\n",
    "- $4y''-y=xe^{x/2}$\n",
    "- $y(0)=1,\\quad y'(0)=0$"
   ]
  },
  {
   "cell_type": "markdown",
   "metadata": {},
   "source": [
    "## 4.7 - Cauchy-Euler Equation"
   ]
  },
  {
   "cell_type": "markdown",
   "metadata": {},
   "source": [
    "**1.** Solve the given differential equation. $\\quad x^2y''-2y=0$"
   ]
  },
  {
   "cell_type": "markdown",
   "metadata": {},
   "source": [
    "**3.** Solve the given differential equation. $\\quad xy''+y'=0$"
   ]
  },
  {
   "cell_type": "markdown",
   "metadata": {},
   "source": [
    "**5.** Solve the given differential equation. $\\quad x^2y''+xy'+4y=0$"
   ]
  },
  {
   "cell_type": "markdown",
   "metadata": {},
   "source": [
    "**9.** Solve the given differential equation. $\\quad 25x^2y''+5xy'+y=0$"
   ]
  },
  {
   "cell_type": "markdown",
   "metadata": {},
   "source": [
    "**11.** Solve the given differential equation. $\\quad x^2y''+5xy'+4y=0$"
   ]
  },
  {
   "cell_type": "markdown",
   "metadata": {},
   "source": [
    "**19.** Solve the given differential equation by variation of parameters. $\\quad xy''-4y'=x^4$"
   ]
  },
  {
   "cell_type": "markdown",
   "metadata": {},
   "source": [
    "**31.** Use the substitution $x=e^t$ to transform the given Cauchy-Euler equation to a differential equation with constant coefficients. Solve the original equation by solving the new equation using the procedures in sections 4.3-4.5. $\\quad x^2+y''+9xy'-20y=0$"
   ]
  },
  {
   "cell_type": "markdown",
   "metadata": {},
   "source": [
    "**33.** Use the substitution $x=e^t$ to transform the given Cauchy-Euler equation to a differential equation with constant coefficients. Solve the original equation by solving the new equation using the procedures in sections 4.3-4.5. $\\quad x^2y''+10xy'+8y=x^2$"
   ]
  }
 ],
 "metadata": {
  "kernelspec": {
   "display_name": "Python 3",
   "language": "python",
   "name": "python3"
  },
  "language_info": {
   "codemirror_mode": {
    "name": "ipython",
    "version": 3
   },
   "file_extension": ".py",
   "mimetype": "text/x-python",
   "name": "python",
   "nbconvert_exporter": "python",
   "pygments_lexer": "ipython3",
   "version": "3.8.5"
  }
 },
 "nbformat": 4,
 "nbformat_minor": 4
}
