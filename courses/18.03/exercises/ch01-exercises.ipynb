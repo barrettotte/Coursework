{
 "cells": [
  {
   "cell_type": "markdown",
   "metadata": {},
   "source": [
    "# Chapter 01 - Introduction to Differential Equations"
   ]
  },
  {
   "cell_type": "markdown",
   "metadata": {},
   "source": [
    "## 1.1 - Definitions and Terminology"
   ]
  },
  {
   "cell_type": "markdown",
   "metadata": {},
   "source": [
    "**1.** State the order of the ODE. Determine whether the equation is linear or nonlinear.\n",
    "$\\quad(1-x)y''-4xy'+5y=\\cos(x)$"
   ]
  },
  {
   "cell_type": "markdown",
   "metadata": {},
   "source": [
    "<hr>\n",
    "\n",
    "**5.** State the order of the ODE. Determine whether the equation is linear or nonlinear.\n",
    "$\\quad\\frac{d^2y}{dx^2}=\\sqrt{1+(\\frac{dy}{dx})^2}$"
   ]
  },
  {
   "cell_type": "markdown",
   "metadata": {},
   "source": [
    "<hr>\n",
    "\n",
    "**5.** Compute $y'$ and $y''$ and then combine these derivatives with $y$ as a linear second-order differential equation that is free of the symbols $c_1$ and $c_2$ and has the form $F(y,y',y'')=0$. The symbols $c_1$ and $c_2$ represent constants.\n",
    "$y=c_1e^x+c_2xe^x$"
   ]
  },
  {
   "cell_type": "markdown",
   "metadata": {},
   "source": [
    "<hr>\n",
    "\n",
    "**11.** Verify that the given function is an explicit solution of the given differential equation.\n",
    "Assume an appropriate interval $I$ of definition for the solution.\n",
    "\n",
    "$2y'+y=0;\\quad y=e^{-x/2}$"
   ]
  },
  {
   "cell_type": "markdown",
   "metadata": {},
   "source": [
    "<hr>\n",
    "\n",
    "**13.** Verify that the given function is an explicit solution of the given differential equation.\n",
    "Assume an appropriate interval $I$ of definition for the solution.\n",
    "\n",
    "$y''-6y'+13y=0;\\quad y=e^{3x}\\cos(2x)$"
   ]
  },
  {
   "cell_type": "markdown",
   "metadata": {},
   "source": [
    "<hr>\n",
    "\n",
    "**19.** Verify that the indicated expression is an implicit solution of the given first-order differential equation. Find at least one explicit solution $y=\\phi(x)$ in each case. Use a graphing utility to obtain the\n",
    "graph of an explicit solution. Given an interval $I$ of definition of each solution $\\phi$.\n",
    "\n",
    "$\\frac{dX}{dt}=(X-1)(1-2X);\\quad \\ln(\\frac{2X-1}{X-1})=t$"
   ]
  },
  {
   "cell_type": "markdown",
   "metadata": {},
   "source": [
    "<hr>\n",
    "\n",
    "**27.** Find values of $m$ so that the function $y=e^{mx}$ is a solution of the differential equation \n",
    "$y'+2y=0$"
   ]
  },
  {
   "cell_type": "markdown",
   "metadata": {},
   "source": [
    "<hr>\n",
    "\n",
    "**31.** Find values of $m$ so that the function $y=x^m$ is a solution of the differential equation\n",
    "$xy''+2y'=0$"
   ]
  },
  {
   "cell_type": "markdown",
   "metadata": {},
   "source": [
    "<hr>\n",
    "\n",
    "## 1.2 - Initial-Value Problems"
   ]
  },
  {
   "cell_type": "markdown",
   "metadata": {},
   "source": [
    "**1.** $y=\\frac{1}{1+c_1e^{-x}}$ is a one-parameter family of solutions of the first-order DE $y'=y-y^2$.\n",
    "Find a solution of the first-order IVP consisting of this differentiaal equation and the given initial condition.\n",
    "$\\quad y(0)=-\\frac{1}{3}$"
   ]
  },
  {
   "cell_type": "markdown",
   "metadata": {},
   "source": [
    "<hr>\n",
    "\n",
    "**3.** $y=\\frac{1}{x^+c}$ is a one-parameter family of solutions of the first-order DE $y'+2xy^2=0$. Find\n",
    "a solution of the first-order IVP consisting of this differential equation and the given initial condition.\n",
    "Give the largest interval $I$ over which the solution is defined.\n",
    "$\\quad y(2)=\\frac{1}{3}$"
   ]
  },
  {
   "cell_type": "markdown",
   "metadata": {},
   "source": [
    "<hr>\n",
    "\n",
    "**7.** $x=c_1\\cos(t)+c_2\\sin(t)$ is a two-parameter family of solutions of the second-order DE $x''+x=0$.\n",
    "Find a solution of the second-order IVP consisting of this differential equation and the given initial conditions.\n",
    "$\\quad x(0)=-1,\\quad x'(0)=8$"
   ]
  },
  {
   "cell_type": "markdown",
   "metadata": {},
   "source": [
    "<hr>\n",
    "\n",
    "**11.** $y=c_1e^x+c_2e^{-x}$ is a two-parameter family of solutions of the second-order DE $y''-y=0$. Find a solution of the second-order IVP consisting of this differential equation and the given initial conditions.\n",
    "$\\quad y(0)=1,\\quad y'(0)=2$"
   ]
  },
  {
   "cell_type": "markdown",
   "metadata": {},
   "source": [
    "<hr>\n",
    "\n",
    "**17.** Determine a region of the xy-plane for which the given differential equation would have a unique solution whose graph passes through a point $(x_0,y_0)$ in the region. $\\quad\\frac{dy}{dx}=y^{2/3}$\n",
    "\n"
   ]
  },
  {
   "cell_type": "markdown",
   "metadata": {},
   "source": [
    "<hr>\n",
    "\n",
    "**19.** Determine a region of the xy-plane for which the given differential equation would have a unique solution\n",
    "whose graph passes through a point $(x_0,y_0)$ in the region. $\\quad x\\frac{dy}{dx}=y$"
   ]
  },
  {
   "cell_type": "markdown",
   "metadata": {},
   "source": [
    "<hr>\n",
    "\n",
    "**25.** Determine whether Theorem 1.2.1 guarantees that the differential equation $y'=\\sqrt{y^2-9}$ possess a unique solution through the given point $(1,4)$."
   ]
  },
  {
   "cell_type": "markdown",
   "metadata": {},
   "source": [
    "<hr>\n",
    "\n",
    "**31.** \n",
    "\n",
    "**a)** Verify that $y=-\\frac{1}{x+c}$ is a one-parameter family of solutions of the differential equation $y'=y^2$.\n",
    "\n",
    "**b)** Since $f(x,y)=y^2$ and $\\frac{\\partial f}{\\partial y}=2y$ are continuous everywhere, the region $R$ in\n",
    "theorem 1.2.1 can be taken to be the entire $xy$-plane. Find a solution from the family in part (a) that satisfies $y(0)=1$. Then find a solution from the family in part (a) that satisfies $y(0)=-1$. Determine the largest interval $I$ of definition for the solution of each initial-value problem."
   ]
  },
  {
   "cell_type": "markdown",
   "metadata": {},
   "source": [
    "<hr>\n",
    "\n",
    "## 1.3 - Differential Equations as Mathematical Models"
   ]
  },
  {
   "cell_type": "markdown",
   "metadata": {},
   "source": [
    "**1.** Under the same assumptions that underlie the model in (1), determine a differential equation for the population $P(t)$ of a country when individuals are allowed to immigrate into the country at a constant rate $r>0$. What is the differential equation for the population $P(t)$ of the country when individuals are allowed to emigrate from the country at a constant rate $r>0$?"
   ]
  },
  {
   "cell_type": "markdown",
   "metadata": {},
   "source": [
    "<hr>\n",
    "\n",
    "**3.** Relating to question 1, determine a model for a population present at time $t$ but the death rate is proportional to the square of the population present at time $t$."
   ]
  },
  {
   "cell_type": "markdown",
   "metadata": {},
   "source": [
    "<hr>\n",
    "\n",
    "**5.** A cup of coffee cools according to Newton's law of cooling (3). Use date from the graph of the temperature $T(t)$ in figure 1.3.9 to estimate the constants $T_m,T_0,k$ in a model of the form of a first-order initial-value problem: $\\frac{dT}{dt}=k(T-T_m),T(0)=T_0$"
   ]
  },
  {
   "cell_type": "markdown",
   "metadata": {},
   "source": [
    "<hr>\n",
    "\n",
    "**7.** Suppose a student carrying a flu virus returns to an isolated college campus of 1000 students. Determine a differential equation for the number of people $x(t)$ who have contracted the flu if the rate at which the disease spreads is proportional to the number of interactions between the number of students who have the flu and the number of students who have not yet been exposed to it."
   ]
  },
  {
   "cell_type": "markdown",
   "metadata": {},
   "source": [
    "<hr>\n",
    "\n",
    "**9.** Suppose that a large mixing tank initially holds 300 gallons of water in which 50 pounds of salt have been dissolved. Pure water is pumped into the tank at a rate of 3 gal/min, and when the solution is well stirred, it is then pumped out at the same rate. Determine a differential equation for the amount of salt $A(t)$ in the tank at time $t$. What is $A(0)$?"
   ]
  },
  {
   "cell_type": "markdown",
   "metadata": {},
   "source": [
    "<hr>\n",
    "\n",
    "**15.** A series circuit contains a resistor and an inductor as shown in Figure 1.3.13. Determine a differential equation for the current $i(t)$ if the resistance is $R$, the inductance is $L$, and the impressed voltage is $E(t)$."
   ]
  },
  {
   "cell_type": "markdown",
   "metadata": {},
   "source": [
    "<hr>\n",
    "\n",
    "**17.** For high-speed motion through the air - such as the skydiver shown in Figure 1.3.15., falling before the parachute is opened - air resistance is closer to a power of the instantaneous velocity $v(t)$. Determine a differential equation for the velocity $v(t)$ of a falling body of mass $m$ if air resistance is proportional to the square of the instantaneous velocity."
   ]
  },
  {
   "cell_type": "markdown",
   "metadata": {},
   "source": [
    "<hr>\n",
    "\n",
    "**19.** After a mass $m$ is attached to a spring, it stretches it $s$ units and then hangs at rest in the equilibrium position as shown in Figure 1.3.17(b). After the spring/mass system has been set in motion, let $x(t)$ denote the directed distance of the mass beyond the equilibrium position. As indicated in Figure 1.3.17(c), assume that the downward direction is positive, that the motion takes place in a vertical straight line through the center of gravity of the massm and that the only forces acting on the system are the weight of the mass and the restoring force of the stretched spring. Use Hooke's law: The restoring force of a spring is proportional to the its total elongation. Determine a differential equation for the displacement $x(t)$ at time $t$."
   ]
  }
 ],
 "metadata": {
  "kernelspec": {
   "display_name": "Python 3",
   "language": "python",
   "name": "python3"
  },
  "language_info": {
   "codemirror_mode": {
    "name": "ipython",
    "version": 3
   },
   "file_extension": ".py",
   "mimetype": "text/x-python",
   "name": "python",
   "nbconvert_exporter": "python",
   "pygments_lexer": "ipython3",
   "version": "3.8.5"
  }
 },
 "nbformat": 4,
 "nbformat_minor": 4
}
