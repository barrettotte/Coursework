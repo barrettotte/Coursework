{
 "cells": [
  {
   "cell_type": "markdown",
   "metadata": {},
   "source": [
    "# Chapter 01 - Introduction to Differential Equations"
   ]
  },
  {
   "cell_type": "markdown",
   "metadata": {},
   "source": [
    "## 1.1 - Definitions and Terminology"
   ]
  },
  {
   "cell_type": "markdown",
   "metadata": {},
   "source": [
    "**1.** State the order of the ODE. Determine whether the equation is linear or nonlinear.\n",
    "$\\quad(1-x)y''-4xy'+5y=\\cos(x)$\n",
    "\n",
    "linear; second order"
   ]
  },
  {
   "cell_type": "markdown",
   "metadata": {},
   "source": [
    "<hr>\n",
    "\n",
    "**5.** State the order of the ODE. Determine whether the equation is linear or nonlinear.\n",
    "$\\quad\\frac{d^2y}{dx^2}=\\sqrt{1+(\\frac{dy}{dx})^2}$\n",
    "\n",
    "nonlinear; second order"
   ]
  },
  {
   "cell_type": "markdown",
   "metadata": {},
   "source": [
    "<hr>\n",
    "\n",
    "**11.** Verify that the given function is an explicit solution of the given differential equation.\n",
    "Assume an appropriate interval $I$ of definition for the solution.\n",
    "$\\quad2y'+y=0;\\quad y=e^{-x/2}$\n",
    "\n",
    "$y'=-\\frac{1}{2}e^{-x/2}$\n",
    "\n",
    "$2(-\\frac{1}{2}e^{-x/2})+e^{-x/2}$\n",
    "\n",
    "$=-e^{x/2}+e^{x/2}=0$"
   ]
  },
  {
   "cell_type": "markdown",
   "metadata": {},
   "source": [
    "<hr>\n",
    "\n",
    "**13.** Verify that the given function is an explicit solution of the given differential equation.\n",
    "Assume an appropriate interval $I$ of definition for the solution.\n",
    "\n",
    "$y''-6y'+13y=0;\\quad y=e^{3x}\\cos(2x)$\n",
    "\n",
    "$y'=\\frac{d}{dx}(e^{3x}\\cos(2x))$\n",
    "\n",
    "$(f\\cdot g)'=f'\\cdot g+f\\cdot g'\\quad(\\text{product rule})$\n",
    "\n",
    "$\\frac{d}{dx}(e^{3x})\\cos(2x)+\\frac{d}{dx}(\\cos(2x))e^{3x}$\n",
    "\n",
    "$y'=e^{3x}(-2\\sin(2x)+3\\cos(2x))$\n",
    "\n",
    "<br>\n",
    "\n",
    "$y''=\\frac{d}{dx}(e^{3x}(-2\\sin(2x)+3\\cos(2x)))$\n",
    "\n",
    "$=\\frac{d}{dx}(e^{3x})(-2\\sin(2x)+3\\cos(2x))+\\frac{d}{dx}(-2\\sin(2x)+3\\cos(2x))e^{3x}$\n",
    "\n",
    "$=-12e^{3x}\\sin(2x)+5e^{3x}\\cos(2x)$\n",
    "\n",
    "$y''=e^{3x}(5\\cos(2x)-12\\sin(2x))$\n",
    "\n",
    "<br>\n",
    "\n",
    "$0=e^{3x}(5\\cos(2x)-12\\sin(2x))$\n",
    "$-6e^{3x}(3\\cos(2x)-2\\sin(2x))+13e^{3x}\\cos(2x)$\n",
    "\n",
    "$0=5e^{3x}\\cos(2x)-12e^{3x}\\sin(2x)-18e^{3x}\\cos(2x)$\n",
    "$+12e^{3x}\\sin(2x)+13e^{3x}\\cos(2x)$\n",
    "\n",
    "$0=0$"
   ]
  },
  {
   "cell_type": "markdown",
   "metadata": {},
   "source": [
    "<hr>\n",
    "\n",
    "**27.** Find values of $m$ so that the function $y=e^{mx}$ is a solution of the differential equation \n",
    "$y'+2y=0$\n",
    "\n",
    "$y'=\\frac{d}{dx}(e^{mx})=me^{mx}$\n",
    "\n",
    "$me^{mx}+2(e^{mx})=0$\n",
    "\n",
    "$me^{mx}=-2e^{mx}\\implies m=-2$"
   ]
  },
  {
   "cell_type": "markdown",
   "metadata": {},
   "source": [
    "<hr>\n",
    "\n",
    "**31.** Find values of $m$ so that the function $y=x^m$ is a solution of the differential equation\n",
    "$xy''+2y'=0$\n",
    "\n",
    "$y'=\\frac{d}{dx}(x^m)=mx^{m-1}$\n",
    "\n",
    "$y''=\\frac{d}{dx}(mx^{m-1})=m(m-1)x^{m-2}$\n",
    "\n",
    "$x(m(m-1)x^{m-2})+2(mx^{m-1})=0$\n",
    "\n",
    "$m(m-1)x^{m-1}+2mx^{m-1}=0$\n",
    "\n",
    "$(m^2+m)x^{m-1}=0$\n",
    "\n",
    "$(m^2+m)=0\\implies m(m+1)=0\\implies m=0,-1$"
   ]
  },
  {
   "cell_type": "markdown",
   "metadata": {},
   "source": [
    "<hr>\n",
    "\n",
    "## 1.2 - Initial-Value Problems"
   ]
  },
  {
   "cell_type": "markdown",
   "metadata": {},
   "source": [
    "**1.** $y=\\frac{1}{1+c_1e^{-x}}$ is a one-parameter family of solutions of the first-order DE $y'=y-y^2$.\n",
    "Find a solution of the first-order IVP consisting of this differential equation and the given initial condition.\n",
    "$\\quad y(0)=-\\frac{1}{3}$\n",
    "\n",
    "$-\\frac{1}{3}=\\frac{1}{1+c_1e^{-0}}=\\frac{1}{1+c_1}$\n",
    "\n",
    "$1+c_1=-3\\implies c_1=-4$\n",
    "\n",
    "$y=\\frac{1}{1-4e^{-x}}$"
   ]
  },
  {
   "cell_type": "markdown",
   "metadata": {},
   "source": [
    "<hr>\n",
    "\n",
    "**3.** $y=\\frac{1}{x^2+c}$ is a one-parameter family of solutions of the first-order DE $y'+2xy^2=0$. Find\n",
    "a solution of the first-order IVP consisting of this differential equation and the given initial condition.\n",
    "$\\quad y(2)=\\frac{1}{3}$\n",
    "\n",
    "$y=\\frac{1}{x^2+c}$\n",
    "\n",
    "$\\frac{1}{3}=\\frac{1}{2^2+c}$\n",
    "\n",
    "$3 = 4+c\\implies c=-1$"
   ]
  },
  {
   "cell_type": "markdown",
   "metadata": {},
   "source": [
    "<hr>\n",
    "\n",
    "**7.** $x=c_1\\cos(t)+c_2\\sin(t)$ is a two-parameter family of solutions of the second-order DE $x''+x=0$.\n",
    "Find a solution of the second-order IVP consisting of this differential equation and the given initial conditions.\n",
    "$\\quad x(0)=-1,\\quad x'(0)=8$\n",
    "\n",
    "$-1=c_1\\cos(0)+c_2\\sin(0)$\n",
    "$\\implies-1=c_1$\n",
    "\n",
    "$x'=-c_1\\sin(t)+c_2\\cos(t)$\n",
    "\n",
    "$8=-(-1)\\sin(0)+c_2\\cos(0)$\n",
    "$\\implies8=c_2$\n",
    "\n",
    "$x=-\\cos(t)+8\\sin(t)$"
   ]
  },
  {
   "cell_type": "markdown",
   "metadata": {},
   "source": [
    "<hr>\n",
    "\n",
    "**11.** $y=c_1e^x+c_2e^{-x}$ is a two-parameter family of solutions of the second-order DE $y''-y=0$. Find a solution of the second-order IVP consisting of this differential equation and the given initial conditions.\n",
    "$\\quad y(0)=1,\\quad y'(0)=2$\n",
    "\n",
    "$1=c_1e^0+c_2e^{-0}$\n",
    "$\\implies1=c_1+c_2$\n",
    "\n",
    "$y'=c_1e^{x}-c_2e^{-x}$\n",
    "\n",
    "$2=c_1e^{0}-c_2e^{-0}$\n",
    "$\\implies2=c_1-c_2$\n",
    "\n",
    "$1+2=(c_1+c_2)+(c_1-c_2)$\n",
    "\n",
    "$2c_1=3\\implies c_1=\\frac{3}{2}$\n",
    "\n",
    "$\\frac{3}{2}+c_2=1\\implies c_2=-\\frac{1}{2}$\n",
    "\n",
    "$y=\\frac{3}{2}e^{x}-\\frac{1}{2}e^{-x}$"
   ]
  }
 ],
 "metadata": {
  "kernelspec": {
   "display_name": "Python 3",
   "language": "python",
   "name": "python3"
  },
  "language_info": {
   "codemirror_mode": {
    "name": "ipython",
    "version": 3
   },
   "file_extension": ".py",
   "mimetype": "text/x-python",
   "name": "python",
   "nbconvert_exporter": "python",
   "pygments_lexer": "ipython3",
   "version": "3.8.5"
  }
 },
 "nbformat": 4,
 "nbformat_minor": 4
}
