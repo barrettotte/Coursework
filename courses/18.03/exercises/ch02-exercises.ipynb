{
 "cells": [
  {
   "cell_type": "markdown",
   "metadata": {},
   "source": [
    "# Chapter 2 - First-Order-Differential Equations"
   ]
  },
  {
   "cell_type": "markdown",
   "metadata": {},
   "source": [
    "<br>\n",
    "\n",
    "## 2.2 - Separable Variables"
   ]
  },
  {
   "cell_type": "markdown",
   "metadata": {},
   "source": [
    "<hr>\n",
    "\n",
    "**1.** Solve using separation of variables. $\\quad\\frac{dy}{dx}=\\sin 5x$\n",
    "\n",
    "$dy=\\sin(5x)dx$\n",
    "\n",
    "$\\int dy=\\int\\sin(5x)dx$\n",
    "\n",
    "let $u=5x\\implies du=5dx,\\quad dx=\\frac{1}{5}du$\n",
    "\n",
    "$\\int\\sin(u)\\frac{1}{5}du$\n",
    "$=\\frac{1}{5}\\int\\sin(u)du$\n",
    "\n",
    "$\\frac{1}{5}(-\\cos(u))$\n",
    "$=-\\frac{1}{5}(\\cos(5x))+c$\n",
    "\n",
    "$y=-\\frac{1}{5}(\\cos(5x))+c$"
   ]
  },
  {
   "cell_type": "markdown",
   "metadata": {},
   "source": [
    "<hr>\n",
    "\n",
    "**3.** Solve using separation of variables. $\\quad dx+e^{3x}dy=0$\n",
    "\n",
    "$dy=-\\frac{dx}{e^{3x}}$\n",
    "\n",
    "$\\int dy=-\\int\\frac{1}{e^{3x}}dx$\n",
    "\n",
    "$y=-\\int e^{-3x}dx$\n",
    "\n",
    "let $u=-3x\\implies du=-3dx,\\quad dx=-\\frac{1}{3}du$\n",
    "\n",
    "$\\int e^{u}(-\\frac{1}{3})du$\n",
    "\n",
    "$-(-\\frac{1}{3})\\int e^u du$\n",
    "$=\\frac{1}{3}e^u$\n",
    "\n",
    "$y=\\frac{1}{3}e^{-3x}+c$"
   ]
  },
  {
   "cell_type": "markdown",
   "metadata": {},
   "source": [
    "<hr>\n",
    "\n",
    "**7.** Solve using separation of variables. $\\quad\\frac{dy}{dx}=e^{3x+2y}$\n",
    "\n",
    "$dy=e^{3x}\\cdot e^{2y}dx$\n",
    "\n",
    "$e^{-2y}dy=e^{3x}dx$\n",
    "\n",
    "$\\int e^{-2y}dy=\\int e^{3x}dx$\n",
    "\n",
    "<br>\n",
    "\n",
    "$\\int e^{3x}dx$\n",
    "\n",
    "let $u=3x\\implies du=3dx,\\quad dx=\\frac{1}{3}du$\n",
    "\n",
    "$\\int e^u\\frac{1}{3}du$\n",
    "$=\\frac{1}{3}\\int e^u du$\n",
    "$=\\frac{1}{3}e^u$\n",
    "$=\\frac{1}{3}e^{3x}+c$\n",
    "\n",
    "<br>\n",
    "\n",
    "$\\int e^{-2y}dy$\n",
    "\n",
    "let $u=-2y\\implies du=-2dy,\\quad dy=-\\frac{1}{2}du$\n",
    "\n",
    "$\\int e^u(-\\frac{1}{2})du$\n",
    "$=-\\frac{1}{2}\\int e^u du$\n",
    "$=-\\frac{1}{2}e^u$\n",
    "$=-\\frac{1}{2}e^{-2y}$\n",
    "\n",
    "<br>\n",
    "\n",
    "$-\\frac{1}{2}e^{-2y}=\\frac{1}{3}e^{3x}+c$\n",
    "\n",
    "$e^{-2y}=-\\frac{2}{3}e^{3x}+c$\n",
    "\n",
    "$-2y=\\ln\\left( -\\frac{2}{3}e^{3x}+c \\right)$\n",
    "\n",
    "$y=\\frac{\\ln\\left( -\\frac{2}{3}e^{3x}+c \\right)}{2}$"
   ]
  },
  {
   "cell_type": "markdown",
   "metadata": {},
   "source": [
    "<hr>\n",
    "\n",
    "**23.** Find an explicit solution of the given IVP $\\quad\\frac{dx}{dt}=4(x^2+1),\\quad x(\\frac{\\pi}{4})=1$\n",
    "\n",
    "$\\frac{1}{(x^2+1)}dx=4dt$\n",
    "\n",
    "$\\int\\frac{1}{(x^2+1)}dx=\\int 4dt$\n",
    "\n",
    "$\\tan^{-1} x=4t+c$\n",
    "\n",
    "$x=\\tan(4t+c)$\n",
    "\n",
    "$1=\\tan(4\\frac{\\pi}{4}+c)$\n",
    "\n",
    "$1=\\tan(\\pi+c)$\n",
    "\n",
    "$\\tan^{-1}(1)=\\pi+c$\n",
    "\n",
    "$\\frac{\\pi}{4}=\\pi+c\\implies c=-\\frac{3\\pi}{4}$\n",
    "\n",
    "$x=\\tan(4t-\\frac{3\\pi}{4})$"
   ]
  },
  {
   "cell_type": "markdown",
   "metadata": {},
   "source": [
    "<br>\n",
    "\n",
    "## 2.3 - Linear Equations"
   ]
  },
  {
   "cell_type": "markdown",
   "metadata": {},
   "source": [
    "<hr>\n",
    "\n",
    "**1.** Find the general solution of $\\quad\\frac{dy}{dx}=5y$\n",
    "\n",
    "$\\frac{dy}{dx}+P(x)y=f(x),\\quad \\mu(x)=e^{(\\int P(x)dx)}$\n",
    "\n",
    "$\\frac{dy}{dx}-5y=0$\n",
    "\n",
    "$P(x)=-5,\\quad f(x)=0$\n",
    "\n",
    "$\\mu(x)=e^{(\\int(-5)dx)}$\n",
    "$=e^{-5x}$\n",
    "\n",
    "$\\frac{dy}{dx}e^{-5x}-5ye^{-5x}=0$\n",
    "\n",
    "$\\frac{d}{dx}(y\\cdot e^{-5x})=\\frac{dy}{dx}e^{-5x}+(-5e^{-5x}y)=0$\n",
    "\n",
    "$\\int\\frac{d}{dx}(y\\cdot e^{-5x})dx=\\int 0dx$\n",
    "\n",
    "$y\\cdot e^{-5x}=c\\implies y=ce^{5x}$"
   ]
  },
  {
   "cell_type": "markdown",
   "metadata": {},
   "source": [
    "<hr>\n",
    "\n",
    "**3.** Find the general solution of $\\quad\\frac{dy}{dx}+y=e^{3x}$\n",
    "\n",
    "$\\mu(x)=e^{(\\int P(x)dx)}=e^x$\n",
    "\n",
    "$e^x (\\frac{dy}{dx}+y)=e^x(e^{3x})$\n",
    "\n",
    "$\\frac{d}{dx}(e^xy)=e^{4x}$\n",
    "\n",
    "$\\int (\\frac{d}{dx}(e^xy))dx=\\int e^{4x}dx$\n",
    "\n",
    "$e^xy=\\frac{e^{3x}}{4}+c$\n",
    "\n",
    "$y=\\frac{e^{3x}}{4}+ce^{-x}$\n"
   ]
  },
  {
   "cell_type": "markdown",
   "metadata": {},
   "source": [
    "<hr>\n",
    "\n",
    "**5.** Find the general solution of $\\quad y'+3x^2y=x^2$\n",
    "\n",
    "$\\mu(x)=e^{(\\int P(x)dx)}=e^{(\\int 3x^2dx)}=e^{x^3}$\n",
    "\n",
    "$e^{x^3}(\\frac{dy}{dx}+3x^2y)=e^{x^3}(x^2)$\n",
    "\n",
    "$\\frac{d}{dx}(ye^{x^3})=x^2e^{x^3}$\n",
    "\n",
    "$\\int(\\frac{d}{dx}(e^{x^3}y))dx=\\int x^2e^{x^3}dx$\n",
    "\n",
    "let $u=x^3\\implies du=3x^2dx,\\quad dx=\\frac{1}{3x^2}du$\n",
    "\n",
    "$e^{x^3}y=\\int x^2e^u\\frac{1}{3x^2}du$\n",
    "\n",
    "$e^{x^3}y=\\int\\frac{e^u}{3}du$\n",
    "\n",
    "$e^{x^3}y=\\frac{1}{3}\\int e^udu$\n",
    "\n",
    "$e^{x^3}y=\\frac{1}{3}e^u$\n",
    "\n",
    "$e^{x^3}y=\\frac{1}{3}e^{x^3}+c$\n",
    "\n",
    "$y=\\frac{1}{3}+\\frac{c}{e^{x^3}}$\n",
    "\n",
    "$y=\\frac{1}{3}+ce^{-x^3}$"
   ]
  },
  {
   "cell_type": "markdown",
   "metadata": {},
   "source": [
    "<hr>\n",
    "\n",
    "**17.** Find the general solution of $\\quad \\cos(x)\\frac{dy}{dx}+(\\sin(x))y=1$\n",
    "\n",
    "$\\frac{dy}{dx}+y\\tan(x)=\\sec(x)$\n",
    "\n",
    "$\\mu(x)=e^{(\\int P(x)dx)}=e^{(\\int \\tan(x)dx)}$\n",
    "\n",
    "$\\mu(x)=e^{-\\ln|\\cos(x)|}$\n",
    "$=e^{(\\ln(\\sec(x)))}=\\sec(x)$\n",
    "\n",
    "$\\sec(x)(\\frac{dy}{dx}+y\\tan(x))=\\sec(x)(\\sec(x))$\n",
    "\n",
    "$\\frac{d}{dx}(y\\sec(x))=\\sec^2(x)$\n",
    "\n",
    "$\\int (\\frac{d}{dx}(y\\sec(x)))dx=\\int\\sec^2(x)dx$\n",
    "\n",
    "$y\\sec(x)=\\tan(x)+c$\n",
    "\n",
    "$y=\\frac{\\tan(x)+c}{\\sec(x)}$\n",
    "$=\\frac{\\tan(x)+c}{\\frac{1}{\\cos(x)}}$\n",
    "$=\\sin(x)+c\\cos(x)$"
   ]
  },
  {
   "cell_type": "markdown",
   "metadata": {},
   "source": [
    "<br>\n",
    "\n",
    "## 2.4 - Exact Equations"
   ]
  },
  {
   "cell_type": "markdown",
   "metadata": {},
   "source": [
    "<hr>\n",
    "\n",
    "**1.** Solve the differential equation if its exact $\\quad (2x-1)dx+(3y+7)dy=0$\n",
    "\n",
    "$\\frac{\\partial M}{\\partial y}=0=\\frac{\\partial N}{\\partial x}$\n",
    "\n",
    "$\\frac{\\partial f}{\\partial x}=2x-1\\quad\\frac{\\partial f}{\\partial y}=3y+7$\n",
    "\n",
    "$f(x,y)=x^2-x+g(y)$\n",
    "\n",
    "$\\frac{\\partial f}{\\partial y}=g'(y)=3y+7$\n",
    "$\\implies g(y)=\\int 3y+7dy$\n",
    "\n",
    "$g(y)=\\frac{3}{2}y^2+7y$\n",
    "\n",
    "$x^2-x+\\frac{3}{2}y^2+7y=c$"
   ]
  },
  {
   "cell_type": "markdown",
   "metadata": {},
   "source": [
    "<hr>\n",
    "\n",
    "**3.** Solve the differential equation if its exact $\\quad (5x+4y)dx+(4x-8y^3)dy=0$\n",
    "\n",
    "$\\frac{\\partial f}{\\partial x}=5x+4y\\quad\\frac{\\partial f}{\\partial y}=4x-8y^3$\n",
    "\n",
    "$f(x,y)=\\frac{5}{2}x^2+4xy+g(y)$\n",
    "\n",
    "$\\frac{\\partial f}{\\partial y}=4x-8y^3\\implies g(y)=\\int 4x-8y^3dy = -2y^4$\n",
    "\n",
    "$\\frac{5}{2}x^2+4xy-2y^4=c$"
   ]
  },
  {
   "cell_type": "markdown",
   "metadata": {},
   "source": [
    "<hr>\n",
    "\n",
    "**7.** Solve the differential equation if its exact $\\quad (x^2-y^2)dx+(x^2-2xy)dy=0$\n",
    "\n",
    "$M(x,y)=x^2-y^2\\implies\\frac{\\partial M}{\\partial y}=-2y$\n",
    "\n",
    "$N(x,y)=x^2-2xy\\implies\\frac{\\partial N}{\\partial x}=2x-xy$\n",
    "\n",
    "$\\frac{\\partial M}{\\partial y}\\ne\\frac{\\partial N}{\\partial x}$, not exact."
   ]
  },
  {
   "cell_type": "markdown",
   "metadata": {},
   "source": [
    "<hr>\n",
    "\n",
    "**11.** Solve the differential equation if its exact $\\quad (y\\ln y-e^{-xy})dx+(\\frac{1}{y}+x\\ln y)dy=0$\n",
    "\n",
    "$M(x,y)=y\\ln(y)-e^{-xy}\\implies\\frac{\\partial M}{\\partial y}=1+\\ln(y)+xe^{-xy}$\n",
    "\n",
    "$N(x,y)=\\frac{1}{y}+x\\ln(y)\\implies\\frac{\\partial N}{\\partial x}=\\ln(y)$\n",
    "\n",
    "$\\frac{\\partial N}{\\partial y}\\ne\\frac{\\partial M}{\\partial x}$, not exact"
   ]
  },
  {
   "cell_type": "markdown",
   "metadata": {},
   "source": [
    "<br>\n",
    "\n",
    "## 2.5 - Solutions by Substitutions"
   ]
  },
  {
   "cell_type": "markdown",
   "metadata": {},
   "source": [
    "<hr>\n",
    "\n",
    "**1.** Solve the homogenous differential equation $\\quad(x-y)dx+xdy=0$\n",
    "\n",
    "let $x=vy\\implies dx=vdy+ydv$\n",
    "\n",
    "$(vy-y)(vdy+ydv)+vydy=0$\n",
    "\n",
    "$v^2ydy-vydy+vy^2dv-y^2dv+vydy=0$\n",
    "\n",
    "$v^2ydy+vy^2dv-y^2dv=0$\n",
    "\n",
    "$y^2(v-1)dv+v^2ydy=0$\n",
    "\n",
    "$(v-1)dv=-\\frac{v^2ydy}{y^2}$\n",
    "\n",
    "$\\frac{v-1}{v^2}dv=-\\frac{1}{y}dy$\n",
    "\n",
    "$\\int\\frac{v-1}{v^2}dv=\\int-\\frac{1}{y}dy$\n",
    "\n",
    "$\\ln|v|+\\frac{1}{v}+c=-\\ln(y)$\n",
    "\n",
    "$\\ln|\\frac{x}{y}|+\\frac{1}{\\frac{x}{y}}+c=-\\ln(y)$\n",
    "\n",
    "$\\ln|\\frac{x}{y}|+\\frac{y}{x}+c=-\\ln(y)$\n",
    "\n",
    "$\\frac{y}{x}=-\\ln(y)-\\ln(\\frac{x}{y})+c$\n",
    "\n",
    "$y=-x(\\ln(y)+\\ln(\\frac{x}{y}))+cx$\n",
    "\n",
    "$y=-x\\ln(x)+cx$"
   ]
  },
  {
   "cell_type": "markdown",
   "metadata": {},
   "source": [
    "<hr>\n",
    "\n",
    "**3.** Solve the homogenous differential equation $\\quad xdx+(y-2x)dy=0$\n",
    "\n",
    "let $y=ux\\implies dy=udx+xdu\\implies u=\\frac{y}{x}$\n",
    "\n",
    "$xdx+(ux-2x)(udx+xdu)=0$\n",
    "\n",
    "$xdx+((u-2)x)(udx+xdu)=0$\n",
    "\n",
    "$xdx+xu(u-2)dx+(u-2)x^2du=0$\n",
    "\n",
    "$x(1+u(u-2))dx+(u-2)x^2du=0$\n",
    "\n",
    "$x(u^2-2u+1)dx+(u-2)x^2du=0$\n",
    "\n",
    "$x(u-1)^2dx+(u-2)x^2du=0$\n",
    "\n",
    "$\\frac{(u-1)^2}{x}dx=-(u-2)du$\n",
    "\n",
    "$\\frac{u-2}{(u-1)^2}du=-\\frac{1}{x}dx$\n",
    "\n",
    "$\\int \\frac{u-2}{(u-1)^2}du=-\\int\\frac{1}{x}dx$\n",
    "\n",
    "$\\int\\frac{u-1-1}{(u-1)^2}du=-\\ln(x)+c$\n",
    "\n",
    "$\\int\\frac{1}{u-1}du-\\int\\frac{1}{(u-1)^2}du=-\\ln(x)+c$\n",
    "\n",
    "$\\ln(u-1)+\\frac{1}{u-1}=-\\ln(x)+c$\n",
    "\n",
    "$\\ln(\\frac{y}{x}-1)+\\frac{1}{\\frac{y}{x}-1}=-\\ln(x)+c$\n",
    "\n",
    "$\\ln(x(\\frac{y}{x}-1))+\\frac{x}{y-x}=c$\n",
    "\n",
    "$\\ln(y-x)+\\frac{x}{y-x}=c$"
   ]
  }
 ],
 "metadata": {
  "kernelspec": {
   "display_name": "Python 3",
   "language": "python",
   "name": "python3"
  },
  "language_info": {
   "codemirror_mode": {
    "name": "ipython",
    "version": 3
   },
   "file_extension": ".py",
   "mimetype": "text/x-python",
   "name": "python",
   "nbconvert_exporter": "python",
   "pygments_lexer": "ipython3",
   "version": "3.8.5"
  }
 },
 "nbformat": 4,
 "nbformat_minor": 4
}
