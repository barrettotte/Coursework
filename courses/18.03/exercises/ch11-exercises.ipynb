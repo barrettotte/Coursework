{
 "cells": [
  {
   "cell_type": "markdown",
   "id": "intensive-equation",
   "metadata": {},
   "source": [
    "# Chapter 11 - Orthogonal Functions and Fourier Series"
   ]
  },
  {
   "cell_type": "markdown",
   "id": "strategic-messenger",
   "metadata": {},
   "source": [
    "## 11.2 - Fourier Series"
   ]
  },
  {
   "cell_type": "markdown",
   "id": "thirty-routine",
   "metadata": {},
   "source": [
    "**1.** Find the Fourier series of $f$ on the given interval. \n",
    "$\\quad f(x)=\\begin{cases}0,\\quad -\\pi\\lt x\\lt 0\\\\ 1,\\quad 0\\le x\\lt\\pi \\end{cases}$\n",
    "\n",
    "$f(x)=\\frac{a_0}{2}+\\sum\\limits_{n=1}^\\infty\\left[a_n\\cos\\frac{n\\pi x}{p}+b_n\\sin\\frac{n\\pi x}{p}\\right]$\n",
    "\n",
    "$a_0=\\frac{1}{p}\\int_{-p}^p f(x)dx$\n",
    "\n",
    "$a_n=\\frac{1}{p}\\int_{-p}^p f(x)\\cos\\frac{n\\pi x}{p}dx$\n",
    "\n",
    "$b_n=\\frac{1}{p}\\int_{-p}^p f(x)\\sin\\frac{n\\pi x}{p}dx$\n",
    "\n",
    "<br>\n",
    "\n",
    "\n",
    "$a_0=\\frac{1}{\\pi}\\int_{-\\pi}^\\pi f(x)dx$\n",
    "\n",
    "$=\\frac{1}{\\pi}\\int_{-\\pi}^0 0dx +\\frac{1}{\\pi}\\int_0^\\pi 1dx$\n",
    "$=\\frac{1}{\\pi}\\big[x\\big]_0^\\pi$\n",
    "$=1$\n",
    "\n",
    "<br>\n",
    "\n",
    "$a_n=\\frac{1}{\\pi}\\int_0^\\pi\\cos\\frac{n\\pi x}{\\pi}dx$\n",
    "\n",
    "$=\\frac{1}{\\pi}\\left[\\frac{\\sin nx}{n}\\right]_0^\\pi$\n",
    "$=0$\n",
    "\n",
    "<br>\n",
    "\n",
    "$b_n=\\frac{1}{\\pi}\\int_0^\\pi \\sin\\frac{n\\pi x}{\\pi}dx$\n",
    "\n",
    "$=\\frac{1}{\\pi}\\left[\\frac{-\\cos nx}{n}\\right]_0^\\pi$\n",
    "$=\\frac{1}{\\pi}\\left[\\frac{-(-1)^n+1}{n}\\right]$\n",
    "\n",
    "$=\\frac{1}{\\pi}\\left[\\frac{(-1)^{n+1}+1}{n}\\right]$\n",
    "$=\\frac{(-1)^{n+1}+1}{n\\pi}$\n",
    "\n",
    "<br>\n",
    "\n",
    "$f(x)=\\frac{1}{2}+\\sum\\limits_{n=1}^\\infty$\n",
    "$\\left[(0)\\cos\\frac{n\\pi x}{\\pi}+\\frac{(-1)^{n+1}+1}{n\\pi}\\sin\\frac{n\\pi x}{\\pi}\\right]$\n",
    "\n",
    "$=\\frac{1}{2}+\\sum\\limits_{n=1}^\\infty\\frac{(-1)^{n+1}+1}{n\\pi}\\sin nx$\n",
    "\n"
   ]
  },
  {
   "cell_type": "markdown",
   "id": "threaded-network",
   "metadata": {},
   "source": [
    "## 11.3 - Fourier Cosine and Sine Series"
   ]
  },
  {
   "cell_type": "markdown",
   "id": "military-acceptance",
   "metadata": {},
   "source": [
    "**11.** Expand the given function in an appropriate cosine or sine series. \n",
    "$\\quad f(x)=\\begin{cases}-1,\\quad -\\pi\\lt x\\lt 0\\\\ 1,\\quad 0\\le x\\lt\\pi \\end{cases}$\n",
    "\n",
    "odd function\n",
    "\n",
    "$f(x)=\\sum\\limits_{n=1}^\\infty b_n\\sin\\frac{n\\pi}{p}x$\n",
    ", where\n",
    "$b_n=\\frac{2}{p}\\int_0^pf(x)\\sin\\frac{n\\pi}{p}xdx$\n",
    "\n",
    "<br>\n",
    "\n",
    "$b_n=\\frac{2}{\\pi}\\int_0^\\pi 1\\cdot \\sin(\\frac{n\\pi x}{n})dx$\n",
    "$=\\frac{2}{\\pi}\\int_0^\\pi \\sin(nx)dx$\n",
    "\n",
    "let $u=nx\\implies du=ndx,\\quad dx=\\frac{1}{n}du$\n",
    "\n",
    "$\\frac{1}{n}\\int\\sin(u)du$\n",
    "$=-\\frac{1}{n}\\cos(u)+C$\n",
    "$=-\\frac{1}{n}\\cos(nx)+C$\n",
    "\n",
    "$\\frac{2}{\\pi}\\big[-\\frac{1}{n}\\cos(nx)\\big]_0^\\pi$\n",
    "$=\\frac{2}{\\pi}(-\\frac{1}{n}(-1)^n+\\frac{1}{n})$\n",
    "$=\\frac{2}{n\\pi}(1-(-1)^n)$\n",
    "\n",
    "$\\sum\\limits_{n=1}^\\infty \\frac{2}{n\\pi}(1-(-1)^n)\\sin(nx)$"
   ]
  },
  {
   "cell_type": "markdown",
   "id": "protected-stroke",
   "metadata": {},
   "source": [
    "<hr>\n",
    "\n",
    "**15.** Expand the given function in an appropriate cosine or sine series. \n",
    "$\\quad f(x)=x^2,\\quad -1\\lt x\\lt 1$\n",
    "\n",
    "function is even\n",
    "\n",
    "$f(x)=\\frac{a_0}{2}+\\sum\\limits_{n=1}^\\infty a_n\\cos\\frac{n\\pi}{p}x$\n",
    ", where\n",
    "\n",
    "- $a_0=\\frac{2}{p}\\int_0^pf(x)dx$\n",
    "- $a_n=\\frac{2}{p}\\int_0^pf(x)\\cos\\frac{n\\pi}{p}xdx$\n",
    "\n",
    "$a_0=\\frac{2}{1}\\int_0^1 x^2 dx$\n",
    "$=2\\left[\\frac{x^3}{3}\\right]_0^1$\n",
    "$=\\frac{2}{3}$\n",
    "\n",
    "$a_n=\\frac{2}{1}\\int_0^1x^2\\cos\\frac{n\\pi x}{1}dx$\n",
    "$=2\\int_0^1x^2\\cos n\\pi x dx$\n",
    "\n",
    "let $u=x^2\\implies du=2xdx$\n",
    "\n",
    "$\\quad dv=\\cos n\\pi xdx\\implies v=\\frac{1}{n\\pi}\\sin n\\pi x$\n",
    "\n",
    "$a_n=-\\frac{4}{n\\pi}\\int_0^1 x\\sin(n)dx$\n",
    "\n",
    "$=-\\frac{4}{n\\pi}\\left[ \\left[-\\frac{1}{n\\pi}x\\cos n\\pi x\\right]_0^1+\\frac{1}{n\\pi}\\int_0^1\\cos(n\\pi x)dx\\right]$\n",
    "\n",
    "$=-\\frac{4}{n\\pi}\\left[ \\left[-\\frac{1}{n\\pi}x\\cos n\\pi x\\right]_0^1+\\frac{1}{n\\pi}\\left[\\frac{\\sin n\\pi x}{n\\pi}\\right]_0^1 \\right]$\n",
    "\n",
    "$=\\frac{4(-1)^n}{n^2\\pi^2}$\n",
    "\n",
    "\n",
    "$\\frac{1}{3}+\\sum\\limits_{n=1}^\\infty\\frac{4(-1)^n}{n^2\\pi^2}\\cos n\\pi x$\n"
   ]
  }
 ],
 "metadata": {
  "kernelspec": {
   "display_name": "Python 3",
   "language": "python",
   "name": "python3"
  },
  "language_info": {
   "codemirror_mode": {
    "name": "ipython",
    "version": 3
   },
   "file_extension": ".py",
   "mimetype": "text/x-python",
   "name": "python",
   "nbconvert_exporter": "python",
   "pygments_lexer": "ipython3",
   "version": "3.6.5"
  }
 },
 "nbformat": 4,
 "nbformat_minor": 5
}
