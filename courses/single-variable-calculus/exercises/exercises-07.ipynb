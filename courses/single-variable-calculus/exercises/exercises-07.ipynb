{
 "cells": [
  {
   "cell_type": "markdown",
   "metadata": {},
   "source": [
    "# Chapter 7 - The Calculus of Inverse Functions"
   ]
  },
  {
   "cell_type": "markdown",
   "metadata": {},
   "source": [
    "**For exercises 1-25, find $\\frac{dy}{dx}$**"
   ]
  },
  {
   "cell_type": "markdown",
   "metadata": {},
   "source": [
    "**(1)** $\\;y = \\arcsin(\\frac{x}{3})$\n",
    "\n",
    "let $f=\\arcsin(u),\\;u=\\frac{x}{3}$\n",
    "\n",
    "$\\frac{d}{du}(\\arcsin(u))\\frac{d}{dx}(\\frac{x}{3})$\n",
    "\n",
    "$\\frac{1}{\\sqrt{1-u^2}}\\cdot\\frac{1}{3}$\n",
    "$\\;=\\; \\frac{1}{3}\\cdot\\frac{1}{\\sqrt{1-(\\frac{x}{3})^2}}$\n",
    "$\\;=\\; \\frac{1}{3}\\cdot\\frac{3}{\\sqrt{-x^2+9}}$\n",
    "$\\;=\\; \\frac{1}{\\sqrt{-x^2+9}}$\n",
    "\n",
    "**answer:** $\\;\\frac{1}{\\sqrt{-x^2+9}}$"
   ]
  },
  {
   "cell_type": "markdown",
   "metadata": {},
   "source": [
    "---\n",
    "\n",
    "**(3)** $\\; y = e^{x^3}$\n",
    "\n",
    "let $f=e^u,\\;u=x^3$\n",
    "\n",
    "$\\frac{d}{du}(e^u)\\frac{d}{dx}(x^3)$\n",
    "$\\;=\\; e^u \\cdot 3x^2$\n",
    "$\\;=\\; e^{x^3} \\cdot 3x^2$\n",
    "\n",
    "**answer:** $\\; e^{x^3} \\cdot 3x^2$"
   ]
  },
  {
   "cell_type": "markdown",
   "metadata": {},
   "source": [
    "---\n",
    "\n",
    "**(11)** $\\; y = \\log_{10}\\frac{x+1}{x^2+1}$\n",
    "\n",
    "\n",
    "$\\frac{d}{dx}\\left( \\frac{\\ln\\left( \\frac{x+1}{x^2+1} \\right)}{\\ln(10)} \\right)$\n",
    "$\\;=\\;\\frac{1}{\\ln(10)}\\frac{d}{dx}(\\ln\\left( \\frac{x+1}{x^2+1} \\right))$\n",
    "\n",
    "let $f=\\ln(u),\\;u=\\frac{x+1}{x^2+1}$\n",
    "\n",
    "$\\frac{1}{\\ln(10)}\\frac{d}{du}(\\ln(u))\\frac{d}{dx}(\\frac{x+1}{x^2+1})$\n",
    "$\\;=\\;\\frac{1}{\\ln(10)}\\frac{1}{u} \\cdot \\frac{d}{dx}(\\frac{x+1}{x^2+1})$\n",
    "\n",
    "$\\frac{1}{\\ln(10)}\\frac{1}{\\frac{x+1}{x^2+1}}\\frac{d}{dx}(\\frac{x+1}{x^2+1})$\n",
    "$\\;=\\; \\frac{1}{\\ln(10)}\\frac{1}{\\frac{x+1}{x^2+1}} \\cdot \\frac{(x^2+1) - 2x(x+1)}{(x^2+1)^2}$\n",
    "$\\;=\\; \\frac{1}{\\ln(10)}\\frac{1}{\\frac{x+1}{x^2+1}} \\cdot \\frac{-x^2-2x+1}{(x^2+1)^2}$\n",
    "\n",
    "$\\frac{(x^2+1)(-x^2-2x+1)}{\\ln(10)(x+1)(x^2+1)^2}$\n",
    "$\\;=\\; \\frac{-x^2-2x+1}{\\ln(10)(x+1)(x^2+1)}$\n",
    "\n",
    "**answer:** $\\; \\frac{-x^2-2x+1}{\\ln(10)(x+1)(x^2+1)}$"
   ]
  },
  {
   "cell_type": "markdown",
   "metadata": {},
   "source": [
    "---\n",
    "\n",
    "**(15)** $\\; y = x - \\ln(1+e^x)$\n",
    "\n",
    "$\\frac{d}{dx}(x) - \\frac{d}{dx}(\\ln(1+e^x))$\n",
    "\n",
    "let $f=\\ln(u),\\;u=1+e^x$\n",
    "\n",
    "$1 - [\\frac{d}{dx}(\\ln(u))\\frac{d}{dx}(1+e^x)]$\n",
    "$\\;=\\; 1- [\\frac{1}{u}\\frac{d}{dx}(1+e^x)]$\n",
    "$\\;=\\; 1- [\\frac{1}{1+e^x}e^x]$\n",
    "\n",
    "**answer:** $\\; 1 - \\frac{e^x}{1+e^x}$"
   ]
  },
  {
   "cell_type": "markdown",
   "metadata": {},
   "source": [
    "---\n",
    "\n",
    "**(19)** $\\; y = \\frac{1+e^{3x}}{\\cosh(x)}$\n",
    "\n",
    "$\\frac{\\frac{d}{dx}(1+e^{3x})\\cosh(x) - \\frac{d}{dx}(\\cosh(x))(1+e^{3x})}{\\cosh^2(x)}$\n",
    "\n",
    "**answer:** $\\; \\frac{3e^{3x}\\cosh(x) - \\sinh(x)(1+e^{3x})}{\\cosh^2(x)}$"
   ]
  },
  {
   "cell_type": "markdown",
   "metadata": {},
   "source": [
    "---\n",
    "\n",
    "**For exercises 27-39, evaluate the integrals**"
   ]
  },
  {
   "cell_type": "markdown",
   "metadata": {},
   "source": [
    "**(27)** $\\int\\frac{dx}{x^2+9}$\n",
    "\n",
    "Let $x=3u$\n",
    "\n",
    "$\\frac{dx}{du} = 3 \\implies dx = 3du$\n",
    "\n",
    "$\\int\\frac{1}{(3u)^2+9}\\cdot 3du$\n",
    "$\\;=\\; \\int\\frac{3}{9u^2+9}du$\n",
    "$\\;=\\; \\int\\frac{1}{3(u^2+1)}du$\n",
    "$\\;=\\; \\frac{1}{3}\\int\\frac{1}{u^2+1}du$\n",
    "\n",
    "$\\frac{1}{3}\\arctan(u)$\n",
    "$\\;=\\; \\frac{1}{3}\\arctan(\\frac{x}{3}) + C$\n",
    "\n",
    "**answer:** $\\; \\frac{1}{3}\\arctan(\\frac{x}{3}) + C$"
   ]
  },
  {
   "cell_type": "markdown",
   "metadata": {},
   "source": [
    "---\n",
    "\n",
    "**(33)** $\\int\\frac{e^xdx}{\\sqrt{1-e^{2x}}}$\n",
    "\n",
    "Let $u = e^x$\n",
    "\n",
    "$\\frac{du}{dx}(e^x) = e^x \\implies du=e^xdx\\quad dx=\\frac{1}{e^x}du$\n",
    "\n",
    "$\\int \\frac{u}{\\sqrt{1-e^{2x}}}\\cdot \\frac{1}{e^x}du$\n",
    "$\\;=\\; \\int\\frac{u}{\\sqrt{1-e^{2x}}} \\cdot \\frac{1}{u}du$\n",
    "$\\;=\\; \\int\\frac{u}{u\\sqrt{1-e^{2x}}}du$\n",
    "\n",
    "$\\int\\frac{1}{\\sqrt{1-e^{2x}}}du$\n",
    "\n",
    "$u=e^x \\implies e^{2x} = u^2$\n",
    "\n",
    "$\\int\\frac{1}{\\sqrt{1-u^2}}du$\n",
    "$\\;=\\;\\arcsin(u)$\n",
    "$\\;=\\;\\arcsin(e^x)+C$\n",
    "\n",
    "**answer:** $\\; \\arcsin(e^x)+C$"
   ]
  },
  {
   "cell_type": "markdown",
   "metadata": {},
   "source": [
    "---\n",
    "\n",
    "**(35)** $\\int\\frac{dx}{x^2-2x+2}$\n",
    "\n",
    "\n",
    "$\\int\\frac{1}{(x-1)^2+1}dx$\n",
    "\n",
    "let $u=x-1$\n",
    "\n",
    "$\\frac{d}{dx}(x-1) = 1 \\implies du=1dx \\quad dx=1du$\n",
    "\n",
    "$\\int\\frac{1}{u^2+1}du$\n",
    "$\\;=\\; \\arctan(u)$\n",
    "$\\;=\\; \\arctan(x-1)+C$\n",
    "\n",
    "**answer:** $\\; \\arctan(x-1)+C$"
   ]
  },
  {
   "cell_type": "markdown",
   "metadata": {},
   "source": [
    "---\n",
    "\n",
    "**(37)** $\\int_{-1}^1 2^x dx$\n",
    "\n",
    "$\\frac{2^x}{\\ln(2)}\\big|_{-1}^1$\n",
    "$\\;=\\; \\frac{2}{\\ln(2)} - \\frac{1}{2\\ln(2)}$\n",
    "$\\;=\\; \\frac{3}{2\\ln(2)}$\n",
    "\n",
    "**answer:** $\\; \\frac{3}{2\\ln(2)}$"
   ]
  },
  {
   "cell_type": "markdown",
   "metadata": {},
   "source": [
    "---\n",
    "\n",
    "**(39)** $\\int\\frac{\\sinh(\\ln x)}{x}dx$\n",
    "\n",
    "Let $u=\\ln(x)$\n",
    "\n",
    "$\\frac{d}{dx}(\\ln(x)) = \\frac{1}{x}\\implies du=\\frac{1}{x}dx\\quad dx=xdu$\n",
    "\n",
    "$\\int\\frac{\\sinh(u)}{x}xdu$\n",
    "$\\;=\\; \\int\\sinh(u)du$\n",
    "$\\;=\\; \\cosh(u)$\n",
    "$\\;=\\; \\cosh(\\ln(x)) + C$\n",
    "\n",
    "**answer:** $\\; \\cosh(\\ln(x)) + C$"
   ]
  }
 ],
 "metadata": {
  "kernelspec": {
   "display_name": "Python 3.6.9 64-bit",
   "language": "python",
   "name": "python36964bit02ef2681bbc5400fadc04eb658c88111"
  },
  "language_info": {
   "codemirror_mode": {
    "name": "ipython",
    "version": 3
   },
   "file_extension": ".py",
   "mimetype": "text/x-python",
   "name": "python",
   "nbconvert_exporter": "python",
   "pygments_lexer": "ipython3",
   "version": "3.6.9"
  }
 },
 "nbformat": 4,
 "nbformat_minor": 4
}
