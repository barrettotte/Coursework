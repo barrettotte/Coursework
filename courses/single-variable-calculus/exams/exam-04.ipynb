{
 "cells": [
  {
   "cell_type": "markdown",
   "metadata": {},
   "source": [
    "# Exam 4"
   ]
  },
  {
   "cell_type": "markdown",
   "metadata": {},
   "source": [
    "---\n",
    "\n",
    "**(1.)** Evaluate $\\int \\frac{dx}{x(x+1)^2}$\n",
    "\n",
    "let $u=x+1$\n",
    "\n",
    "$\\frac{d}{dx} = 1 \\implies du=1dx,\\; dx=1du$\n",
    "\n",
    "$\\int \\frac{1}{(u-1)u^2}du$\n",
    "$\\;=\\; \\int\\frac{1}{u-1} - \\frac{1}{u}-\\frac{1}{u^2}du$\n",
    "$\\;=\\; \\int\\frac{1}{u-1}du - \\int\\frac{1}{u}du - \\int\\frac{1}{u^2}du$\n",
    "\n",
    "$\\ln|u-1| - \\ln|u| + \\frac{1}{u}$\n",
    "\n",
    "$\\ln|x+1-1| - \\ln|x+1| + \\frac{1}{x+1}$\n",
    "\n",
    "**answer:** $\\; \\ln|x| - \\ln|x+1| + \\frac{1}{x+1} + C$"
   ]
  },
  {
   "cell_type": "markdown",
   "metadata": {},
   "source": [
    "---\n",
    "\n",
    "**(2.)** Evaluate $\\int\\ln(x)x^2dx$\n",
    "\n",
    "\n",
    "Integrate by parts $\\int uv' = uv-\\int u'v$\n",
    "\n",
    "Let $\\; u=\\ln(x),\\; v'=x^2 \\implies u'=\\frac{1}{x},\\; v=\\frac{x^3}{3}$\n",
    "\n",
    "$\\ln(x)\\frac{x^3}{3} - \\int\\frac{1}{x}\\cdot\\frac{x^3}{3}dx$\n",
    "$\\;=\\; \\frac{1}{3}x^3\\ln(x) - \\int\\frac{x^2}{3}dx$\n",
    "\n",
    "**answer:** $\\frac{1}{3}x^3\\ln(x) - \\frac{x^3}{9} + C$"
   ]
  },
  {
   "cell_type": "markdown",
   "metadata": {},
   "source": [
    "---\n",
    "\n",
    "**(3.)** Use a trigonometric substitution to evaluate $\\int_0^1\\frac{dx}{(4+x^3)^{3/2}}$\n",
    "\n",
    "\n",
    "$x=2\\tan u,\\; dx=2\\sec^2udu$\n",
    "\n",
    "$\\int_0^1\\frac{2\\sec^2du}{(4+4tan^2u)^{3/2}}$\n",
    "\n",
    "$\\int_0^1\\frac{2\\sec^2u du}{8\\sec^3 u}$\n",
    "$\\;=\\; \\frac{1}{4}\\int_0^1\\cos(u) du$\n",
    "$\\;=\\; \\frac{1}{4}\\sin(u)$"
   ]
  },
  {
   "cell_type": "markdown",
   "metadata": {},
   "source": [
    "---\n",
    "\n",
    "**(4.)** **a.** Find an integral formula for the arc length of the curve $y=2\\sqrt{x+1}$ for $0\\le x\\le 1$. Do not evaluate\n",
    "\n",
    "\n",
    "$\\frac{d}{dx}(2\\sqrt{x+1}) = \\frac{1}{\\sqrt{x+1}}$\n",
    "\n",
    "**answer:** $\\; L = \\int_0^1 \\sqrt{1+\\frac{1}{x+1}}dx$\n",
    "\n",
    "<br>\n",
    "\n",
    "\n",
    "$\\quad$ **b.** Find an integral formula for the surface area of the curve in part (a) rotated around the x-axis. Simplify the integrand and evaluate the integral.\n",
    "\n",
    "$ds = \\sqrt{1+\\frac{1}{x+1}}$\n",
    "\n",
    "$A = \\int_0^1 2\\pi yds = \\int_0^1 2\\pi (2\\sqrt{x+1})\\sqrt{1 + \\frac{1}{x+1}}dx$\n",
    "\n",
    "$4\\pi\\int_0^1 \\sqrt{x+2}dx$\n",
    "$\\;=\\; 4\\pi \\frac{2}{3}(x+2)^{3/2}\\big|_{0}^1$\n",
    "\n",
    "$4\\pi\\left[ \\frac{2}{3}(3)^{3/2} - \\frac{2}{3}(2)^{3/2} \\right]$\n",
    "$\\;=\\; 4\\pi\\frac{2}{3}(3^{3/2}-2^{3/2})$\n",
    "\n",
    "**answer:** $\\frac{8\\pi}{3}(3^{3/2}-2^{3/2})$"
   ]
  },
  {
   "cell_type": "markdown",
   "metadata": {},
   "source": [
    "---\n",
    "\n",
    "**(6.)** **a.** Find the equation in polar coordinates for the line $y=x-1$ in the form $r=\\int\\theta$\n",
    "\n",
    "$r\\sin\\theta = r\\cos\\theta - 1 \\implies 1 = r\\cos\\theta-r\\sin\\theta$\n",
    "\n",
    "**answer:** $\\frac{1}{\\cos\\theta-\\sin\\theta}$"
   ]
  }
 ],
 "metadata": {
  "kernelspec": {
   "display_name": "Python 3.6.9 64-bit",
   "language": "python",
   "name": "python36964bit02ef2681bbc5400fadc04eb658c88111"
  },
  "language_info": {
   "codemirror_mode": {
    "name": "ipython",
    "version": 3
   },
   "file_extension": ".py",
   "mimetype": "text/x-python",
   "name": "python",
   "nbconvert_exporter": "python",
   "pygments_lexer": "ipython3",
   "version": "3.6.9"
  }
 },
 "nbformat": 4,
 "nbformat_minor": 4
}
