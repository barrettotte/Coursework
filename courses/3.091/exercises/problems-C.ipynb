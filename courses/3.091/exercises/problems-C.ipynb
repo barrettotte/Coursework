{
 "cells": [
  {
   "cell_type": "markdown",
   "metadata": {},
   "source": [
    "# Problem set C - Bonding"
   ]
  },
  {
   "cell_type": "markdown",
   "metadata": {},
   "source": [
    "## Building Up the Periodic Table"
   ]
  },
  {
   "cell_type": "markdown",
   "metadata": {},
   "source": [
    "**6.6.21** How many unpaired electrons does each species contain?\n",
    "\n",
    "- lead\n",
    "- cesium\n",
    "- copper\n",
    "- silicon\n",
    "- selenium"
   ]
  },
  {
   "cell_type": "markdown",
   "metadata": {},
   "source": [
    "## Energetics of Ion Formation"
   ]
  },
  {
   "cell_type": "markdown",
   "metadata": {},
   "source": [
    "**7.3.7** Arrange each set of elements in order of decreasing magnitude of electron affinity.\n",
    "\n",
    "- $\\text{As, Bi, and N}$\n",
    "- $\\text{O, F, and Ar}$\n",
    "- $\\text{Cs, Ba, and Rb}$"
   ]
  },
  {
   "cell_type": "markdown",
   "metadata": {},
   "source": [
    "## Lattice Energies in Ionic Solids"
   ]
  },
  {
   "cell_type": "markdown",
   "metadata": {},
   "source": [
    "**8.3.7** Which would have the larger lattice energy $\\text{CrCl}_2$ or $\\text{CrCl}_3$ assuming similar arrangements of ions in the lattice? Explain your answer."
   ]
  },
  {
   "cell_type": "markdown",
   "metadata": {},
   "source": [
    "**8.3.9** Which cation in each pair would be expected to form an oxide with the higher melting point, assuming \n",
    "similar arrangements of ions in the lattice? Explain your reasoning.\n",
    "\n",
    "- $\\text{Mg}^{2+},\\text{Sr}^{2+}$\n",
    "- $\\text{Cs}^+, \\text{Ba}^{2+}$\n",
    "- $\\text{Fe}^{2+}, \\text{Fe}^{3+}$"
   ]
  },
  {
   "cell_type": "markdown",
   "metadata": {},
   "source": [
    "## Lewis Structures and Covalent Bonding"
   ]
  },
  {
   "cell_type": "markdown",
   "metadata": {},
   "source": [
    "**8.5.7** Determine the total number of valence electrons in the following:\n",
    "\n",
    "- $\\text{Ag}$\n",
    "- $\\text{Pt}^{2+}$\n",
    "- $\\text{H}_2\\text{S}$\n",
    "- $\\text{OH}^-$\n",
    "- $\\text{I}_2$\n",
    "- $\\text{CH}_4$\n",
    "- $\\text{SO}^{2-}_4$\n",
    "- $\\text{NH}^+_4$"
   ]
  },
  {
   "cell_type": "markdown",
   "metadata": {},
   "source": [
    "**8.5.9** Draw lewis electron structures for the following:\n",
    "\n",
    "- $\\text{Br}_2$\n",
    "- $\\text{CH}_3\\text{Br}$\n",
    "- $\\text{SO}^{2-}_4$\n",
    "- $\\text{O}_2$\n",
    "- $\\text{S}^{2-}_2$\n",
    "- $\\text{BF}_3$"
   ]
  },
  {
   "cell_type": "markdown",
   "metadata": {},
   "source": [
    "**8.5.13** Use lewis dot symbols to predict whether $\\text{ICl}$ and $\\text{NO}^-_4$ are chemically reasonable formulas."
   ]
  },
  {
   "cell_type": "markdown",
   "metadata": {},
   "source": [
    "**8.5.15** Draw a plausible lewis electron structure for a compound with molecular formula $\\text{CH}_4\\text{O}$"
   ]
  },
  {
   "cell_type": "markdown",
   "metadata": {},
   "source": [
    "## Exceptions to the Octet Rule"
   ]
  },
  {
   "cell_type": "markdown",
   "metadata": {},
   "source": [
    "**8.6.3** Draw Lewis electron structures for $\\text{ClO}_4^-, \\text{IF}_5, \\text{SeCl}_4, \\text{SbF}_5$"
   ]
  },
  {
   "cell_type": "markdown",
   "metadata": {},
   "source": [
    "**8.6.7** Using Lewis structures, draw all of the resonance structures for the $\\text{BrO}_3^- ion."
   ]
  },
  {
   "cell_type": "markdown",
   "metadata": {},
   "source": [
    "## Polar Covalent Bonds"
   ]
  },
  {
   "cell_type": "markdown",
   "metadata": {},
   "source": [
    "**8.9.1** Predict whether each compound is purely covalent, purely ionic, or polar covalent.\n",
    "- $\\text{RbCl}$\n",
    "- $\\text{S}_8$\n",
    "- $\\text{TiCl}_2$\n",
    "- $\\text{SbCl}_3$\n",
    "- $\\text{LiI}$\n",
    "- $\\text{Br}_2$"
   ]
  },
  {
   "cell_type": "markdown",
   "metadata": {},
   "source": [
    "**8.9.3** Based on relative electronegativities, classify the bonding in each compound as ionic, covalent, or polar covalent. Indicate the direction of the bond dipole for each polar covalent bond.\n",
    "\n",
    "- $\\text{NaBr}$\n",
    "- $\\text{OF}_2$\n",
    "- $\\text{BCl}_3$\n",
    "- The $\\text{S}-\\text{S}$ bond in $\\text{CH}_3\\text{CH}_2\\text{SSCH}_2\\text{CH}_3$\n",
    "- The $\\text{C}-\\text{Cl}$ bond in $\\text{CH}_2\\text{Cl}_2$\n",
    "- $\\text{PtCl}_4^{2-}$"
   ]
  }
 ],
 "metadata": {
  "kernelspec": {
   "display_name": "Python 3.6.9 64-bit",
   "language": "python",
   "name": "python36964bit02ef2681bbc5400fadc04eb658c88111"
  },
  "language_info": {
   "codemirror_mode": {
    "name": "ipython",
    "version": 3
   },
   "file_extension": ".py",
   "mimetype": "text/x-python",
   "name": "python",
   "nbconvert_exporter": "python",
   "pygments_lexer": "ipython3",
   "version": "3.8.5"
  }
 },
 "nbformat": 4,
 "nbformat_minor": 4
}
