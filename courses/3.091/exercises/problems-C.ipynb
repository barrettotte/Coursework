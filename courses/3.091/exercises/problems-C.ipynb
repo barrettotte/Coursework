{
 "cells": [
  {
   "cell_type": "markdown",
   "metadata": {},
   "source": [
    "# Problem set C - Bonding"
   ]
  },
  {
   "cell_type": "markdown",
   "metadata": {},
   "source": [
    "## Energetics of Ion Formation"
   ]
  },
  {
   "cell_type": "markdown",
   "metadata": {},
   "source": [
    "**7.3.7** Arrange each set of elements in order of decreasing magnitude of electron affinity.\n",
    "\n",
    "- $\\text{As, Bi, and N}$ $\\to \\text{Bi, As, N}$\n",
    "- $\\text{O, F, and Ar}$ $\\to \\text{F, O, Ar}$\n",
    "- $\\text{Cs, Ba, and Rb}$ $\\to \\text{Rb, Cs, Ba}$"
   ]
  },
  {
   "cell_type": "markdown",
   "metadata": {},
   "source": [
    "## Lattice Energies in Ionic Solids"
   ]
  },
  {
   "cell_type": "markdown",
   "metadata": {},
   "source": [
    "**8.3.7** Which would have the larger lattice energy $\\text{CrCl}_2$ or $\\text{CrCl}_3$ assuming similar arrangements of ions in the lattice? Explain your answer.\n",
    "\n",
    "I would expect $\\text{CrCl}_3$ to have a larger lattice energy because the third chlorine\n",
    "atom would increase the molecule's stability even further."
   ]
  },
  {
   "cell_type": "markdown",
   "metadata": {},
   "source": [
    "**8.3.9** Which cation in each pair would be expected to form an oxide with the higher melting point, assuming \n",
    "similar arrangements of ions in the lattice? Explain your reasoning.\n",
    "\n",
    "- $\\text{Mg}^{2+},\\text{Sr}^{2+}$ => $\\text{Sr}$ since it is below $\\text{Mg}$ on the periodic table\n",
    "- $\\text{Cs}^+, \\text{Ba}^{2+}$ => $\\text{Ba}$ since it is more charged than $\\text{Cs}$\n",
    "- $\\text{Fe}^{2+}, \\text{Fe}^{3+}$ => $\\text{Fe}^{3+}$ since it is more charged than $\\text{Fe}^{2+}$"
   ]
  },
  {
   "cell_type": "markdown",
   "metadata": {},
   "source": [
    "## Lewis Structures and Covalent Bonding"
   ]
  },
  {
   "cell_type": "markdown",
   "metadata": {},
   "source": [
    "**8.5.7** Determine the total number of valence electrons in the following:\n",
    "\n",
    "- $\\text{Ag}$ = 11\n",
    "- $\\text{Pt}^{2+}$ = 10 - 2 = 8\n",
    "- $\\text{H}_2\\text{S}$ = 4 + 2(2 bonds) = 8\n",
    "- $\\text{OH}^-$ = 7 + 1 = 8\n",
    "- $\\text{I}_2$ = 7(2) = 14\n",
    "- $\\text{CH}_4$ = 2(4 bonds) = 8\n",
    "- $\\text{SO}^{2-}_4$ = 2(4 bonds) + 20 + 2 + 2 = 32\n",
    "- $\\text{NH}^+_4$ = 2(4 bonds) + 1 - 1 = 8\n"
   ]
  },
  {
   "cell_type": "markdown",
   "metadata": {},
   "source": [
    "**8.5.9** Draw lewis electron structures for the following:\n",
    "\n",
    "- $\\text{Br}_2$\n",
    "- $\\text{CH}_3\\text{Br}$\n",
    "- $\\text{SO}^{2-}_4$\n",
    "- $\\text{O}_2$\n",
    "- $\\text{S}^{2-}_2$\n",
    "- $\\text{BF}_3$\n",
    "\n",
    "![assets/problems-C-8.5.9.png](assets/problems-C-8.5.9.png)\n",
    "\n",
    "```tex\n",
    "$\\text{Br}_2$\n",
    "\\hspace{15pt}\n",
    "\\chemfig{\n",
    "  \\Lewis{2:4:6:,Br}(-[:0]\\Lewis{0:2:6:,Br})\n",
    "}\n",
    "\\vspace{25pt}\n",
    "\n",
    "\n",
    "$\\text{CH}_3\\text{Br}$\n",
    "\\hspace{15pt}\n",
    "\\chemfig{\n",
    "  C(-[:0]H)(-[:90]H)((-[:180]H)-[:270]\\Lewis{0:4:6:,Br})\n",
    "}\n",
    "\\vspace{25pt}\n",
    "\n",
    "\n",
    "$\\text{SO}_4^{2-}$\n",
    "\\hspace{15pt}\n",
    "\\chemfig{\n",
    "  S\n",
    "    (=[:0]\\Lewis{0:2:6:,O})\n",
    "    (-[:90]\\Lewis{0:2:4:,O})\n",
    "    (=[:180]\\Lewis{2:4:6:,O})\n",
    "    (-[:270]\\Lewis{0:4:6:,O})\n",
    "}\n",
    "\\vspace{25pt}\n",
    "\n",
    "\n",
    "$\\text{O}_2$\n",
    "\\hspace{15pt}\n",
    "\\chemfig{\n",
    "  \\Lewis{2:4:6:,O}\n",
    "    (=[:0]\\Lewis{0:2:6:,O})\n",
    "}\n",
    "\\vspace{25pt}\n",
    "\n",
    "\n",
    "$\\text{S}_2^{2-}$\n",
    "\\hspace{15pt}\n",
    "[\n",
    "  \\chemfig{\n",
    "    \\Lewis{2:4:6:,S}\n",
    "    (-[:0]\\Lewis{0:2:6:,S})\n",
    "  }\n",
    "$]^{2-}$\n",
    "\\vspace{25pt}\n",
    "\n",
    "\n",
    "$\\text{BF}_3$\n",
    "\\hspace{15pt}\n",
    "\\chemfig{\n",
    "  B\n",
    "  (-[:0]\\Lewis{0:2:6:,F})\n",
    "  (-[:90]\\Lewis{0:2:4:,F})\n",
    "  (-[:180]\\Lewis{2:4:6:,F})\n",
    "}\n",
    "\\vspace{25pt}\n",
    "```"
   ]
  },
  {
   "cell_type": "markdown",
   "metadata": {},
   "source": [
    "**8.5.15** Draw a plausible lewis electron structure for a compound with molecular formula $\\text{CH}_4\\text{O}$\n",
    "\n",
    "![assets/problems-C-8.5.15.png](assets/problems-C-8.5.15.png)\n",
    "\n",
    "```tex\n",
    "$\\text{CH}_4\\text{O}$\n",
    "\\hspace{15pt}\n",
    "\\chemfig{\n",
    "  C\n",
    "    (-[:0]\\Lewis{2:6:,O}\n",
    "      (-[:0]H)\n",
    "    )\n",
    "    (-[:90]H)\n",
    "    (-[:180]H)\n",
    "    (-[:270]H)\n",
    "}\n",
    "\\vspace{25pt}\n",
    "```"
   ]
  },
  {
   "cell_type": "markdown",
   "metadata": {},
   "source": [
    "## Polar Covalent Bonds"
   ]
  },
  {
   "cell_type": "markdown",
   "metadata": {},
   "source": [
    "**8.9.1** Predict whether each compound is purely covalent, purely ionic, or polar covalent.\n",
    "- $\\text{RbCl}$\n",
    "- $\\text{S}_8$\n",
    "- $\\text{TiCl}_2$\n",
    "- $\\text{SbCl}_3$\n",
    "- $\\text{LiI}$\n",
    "- $\\text{Br}_2$"
   ]
  },
  {
   "cell_type": "markdown",
   "metadata": {},
   "source": [
    "**8.9.3** Based on relative electronegativities, classify the bonding in each compound as ionic, covalent, or polar covalent. Indicate the direction of the bond dipole for each polar covalent bond.\n",
    "\n",
    "- $\\text{NaBr}$\n",
    "- $\\text{OF}_2$\n",
    "- $\\text{BCl}_3$\n",
    "- The $\\text{S}-\\text{S}$ bond in $\\text{CH}_3\\text{CH}_2\\text{SSCH}_2\\text{CH}_3$\n",
    "- The $\\text{C}-\\text{Cl}$ bond in $\\text{CH}_2\\text{Cl}_2$\n",
    "- $\\text{PtCl}_4^{2-}$"
   ]
  }
 ],
 "metadata": {
  "kernelspec": {
   "display_name": "Python 3.6.9 64-bit",
   "language": "python",
   "name": "python36964bit02ef2681bbc5400fadc04eb658c88111"
  },
  "language_info": {
   "codemirror_mode": {
    "name": "ipython",
    "version": 3
   },
   "file_extension": ".py",
   "mimetype": "text/x-python",
   "name": "python",
   "nbconvert_exporter": "python",
   "pygments_lexer": "ipython3",
   "version": "3.8.5"
  }
 },
 "nbformat": 4,
 "nbformat_minor": 4
}
