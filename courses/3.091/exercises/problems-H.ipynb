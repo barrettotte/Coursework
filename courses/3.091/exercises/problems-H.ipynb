{
 "cells": [
  {
   "cell_type": "markdown",
   "metadata": {},
   "source": [
    "# Problem set H - Defects"
   ]
  },
  {
   "cell_type": "markdown",
   "metadata": {},
   "source": [
    "## 12.4 - Defects in Crystals"
   ]
  },
  {
   "cell_type": "markdown",
   "metadata": {},
   "source": [
    "**12.4.1** The ionic radius of $\\text{K}^+$ is 133 pm, whereas that of $\\text{Na}^+$ is 98 pm. Do you expect $\\text{K}^+$ to be a common substitutional impurity in compound containing $\\text{Na}^+$? Why or why not?\n",
    "\n",
    "No, $\\text{K}^+$ is larger than $\\text{Na}^+$."
   ]
  },
  {
   "cell_type": "markdown",
   "metadata": {},
   "source": [
    "**12.4.3** After aluminum, iron is the second most abundant metal in the Earth's crust. The silvery-white, ductile metal has a body-centered cubic (bcc) unit cell with an edge length of 286.65 pm.\n",
    "\n",
    "**a)** Use this information to calculate the density of iron.\n",
    "\n",
    "$\\rho=\\frac{2\\times M_\\text{molar}}{a^3\\times N_A}$\n",
    "\n",
    "$\\rho=\\frac{2\\times (55.845\\text{ g/mol})}{(286.65\\text{ pm})^3(6.022\\times10^{23}\\text{ mol})}$\n",
    "$=7.8744\\text{ g/cm}^3$\n",
    "\n",
    "**b)** What would the density of iron be if 0.15% of the iron sites were vacant?\n",
    "\n",
    "$(7.8744\\text{ g/cm}^3)\\times 0.0015 = 7.8626\\text{ g/cm}^3$\n",
    "\n",
    "**c)** How does the mass $1.00 \\text{ cm}^3$ of iron without defects compare with the mass of $1.00\\text{ cm}^3$ of iron with 0.15% vacancies?\n",
    "\n",
    "Without the vacancies caused by defects, the iron would be 0.15% more heavy."
   ]
  }
 ],
 "metadata": {
  "kernelspec": {
   "display_name": "Python 3",
   "language": "python",
   "name": "python3"
  },
  "language_info": {
   "codemirror_mode": {
    "name": "ipython",
    "version": 3
   },
   "file_extension": ".py",
   "mimetype": "text/x-python",
   "name": "python",
   "nbconvert_exporter": "python",
   "pygments_lexer": "ipython3",
   "version": "3.8.5"
  }
 },
 "nbformat": 4,
 "nbformat_minor": 4
}
