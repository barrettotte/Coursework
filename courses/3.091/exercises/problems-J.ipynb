{
 "cells": [
  {
   "cell_type": "markdown",
   "metadata": {},
   "source": [
    "# Problem set J - Kinetics & Reactions"
   ]
  },
  {
   "cell_type": "markdown",
   "metadata": {},
   "source": [
    "## 14.3 - Methods of Determining Reaction Order"
   ]
  },
  {
   "cell_type": "markdown",
   "metadata": {},
   "source": [
    "**14.3.1** Iodide reduces $\\text{Fe(III)}$ according to the following reaction:\n",
    "\n",
    "$2\\text{Fe}^{3+}\\text{(soln)}+2\\text{I}^-\\text{(soln)}\\to2\\text{Fe}^{2+}\\text{(soln)}+\\text{I}_2\\text{(soln)}$\n",
    "\n",
    "Experimentally, it was found that doubling the concentration of $\\text{Fe(III)}$ doubled the reaction rate, and doubling the iodide concentration increased the reaction rate by a factor of 4. What is the reaction order with respect to each species? What is the overall rate law? What is the overall reaction order?\n",
    "\n",
    "$\\text{Fe}^{3+}$ is first order (2x doubles).\n",
    "\n",
    "$\\text{I}^-$ is second order (2x quadrupled).\n",
    "\n",
    "$\\text{rate}=[\\text{Fe}^{3+}]^1[\\text{I}^-]^2$\n",
    "\n",
    "Overall it is third order, (1+2=3)\n"
   ]
  },
  {
   "cell_type": "markdown",
   "metadata": {},
   "source": [
    "## 14.5 - Half-Lives and Radioactive Decay Kinetics"
   ]
  },
  {
   "cell_type": "markdown",
   "metadata": {},
   "source": [
    "**14.5.1** Half-lives for the reaction $A+B\\to C$ were calculated at three values of $[A]_0$, and $[B]$ was the same in all cases. The data is listed in the following table:\n",
    "\n",
    "- Col I = $[A]_0$ (M)\n",
    "- Col II = $t_{1/2}$ (s)\n",
    "\n",
    "| Col I | Col II |\n",
    "| ---- | ---- |\n",
    "| 0.50 | 420 |\n",
    "| 0.75 | 280 |\n",
    "| 1.0 | 210 |\n",
    "\n",
    "Does this reaction follow first-order kinetics? On what do you base your answer?\n",
    "\n",
    "The half-life decreases as reactant concentration increases, so it is second order and does not follow first-order kinetics."
   ]
  }
 ],
 "metadata": {
  "kernelspec": {
   "display_name": "Python 3",
   "language": "python",
   "name": "python3"
  },
  "language_info": {
   "codemirror_mode": {
    "name": "ipython",
    "version": 3
   },
   "file_extension": ".py",
   "mimetype": "text/x-python",
   "name": "python",
   "nbconvert_exporter": "python",
   "pygments_lexer": "ipython3",
   "version": "3.8.5"
  }
 },
 "nbformat": 4,
 "nbformat_minor": 4
}
