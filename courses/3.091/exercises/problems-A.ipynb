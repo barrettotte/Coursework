{
 "cells": [
  {
   "cell_type": "markdown",
   "metadata": {},
   "source": [
    "# Problem set A - Atoms"
   ]
  },
  {
   "cell_type": "markdown",
   "metadata": {},
   "source": [
    "## The Atom"
   ]
  },
  {
   "cell_type": "markdown",
   "metadata": {},
   "source": [
    "**1.6.5** Give the symbol $\\;^A_ZX$ for these elements, all of which exist as a single isotope:\n",
    "- beryllium\n",
    "- ruthenium\n",
    "- phosphorus\n",
    "- aluminum\n",
    "- cesium\n",
    "- praseodymium\n",
    "- cobalt\n",
    "- yttrium\n",
    "- arsenic"
   ]
  },
  {
   "cell_type": "markdown",
   "metadata": {},
   "source": [
    "<hr>\n",
    "\n",
    "**1.6.5** Copper, an excellent conductor of heat, has two isotopes $\\;^{63}\\text{Cu}$ and $\\;^{65}\\text{Cu}$.\n",
    "Use the followin information to calculate the average atomic mass of copper:\n",
    "\n",
    "| Isotope | Percent Abundance (%) | Atomic Mass (AMU) |\n",
    "| ------- | --------------------- | ----------------- |\n",
    "| $\\;^{63}\\text{Cu}$ | 69.09 | 62.9298 |\n",
    "| $\\;^{65}\\text{Cu}$ | 30.92 | 64.9278 |"
   ]
  },
  {
   "cell_type": "markdown",
   "metadata": {},
   "source": [
    "<hr>\n",
    "\n",
    "**1.6.9** Complete the following table:\n",
    "\n",
    "| Isotope            | Number of Protons | Number of Neutrons | Number of Electrons |\n",
    "| ------------------ | ----------------- | ------------------ | ------------------- |\n",
    "| $\\;^{238}\\text{X}$ |                   |                    | **95**              |\n",
    "| $\\;^{238}\\text{U}$ |                   |                    |                     |\n",
    "|                    | **75**            | **112**            |                     |\n",
    "\n"
   ]
  },
  {
   "cell_type": "markdown",
   "metadata": {},
   "source": [
    "## The Mole and Molar Masses"
   ]
  },
  {
   "cell_type": "markdown",
   "metadata": {},
   "source": [
    "**3.1.3** Calculate the molecular mass or formula mass (molar mass) of each compound:\n",
    "\n",
    "- $\\text{V}_2\\text{O}_4$ (vanadium(IV) oxide)\n",
    "- $\\text{CaSiO}_3$ (calcium silicate)\n",
    "- $\\text{BiOCl}$ (bismuth oxychloride)\n",
    "- $\\text{CH}_3\\text{COOH}$ (acetic acid)\n",
    "- $\\text{Ag}_2\\text{SO}_4$ (silver sulfate)\n",
    "- $\\text{Na}_2\\text{CO}_3$ (sodium carbonate)\n",
    "- $(\\text{CH}_3)_2\\text{CHOH}$ (isopropyl alcohol)"
   ]
  },
  {
   "cell_type": "markdown",
   "metadata": {},
   "source": [
    "<hr>\n",
    "\n",
    "**3.1.9** Calculate the mass in grams of each sample.\n",
    "\n",
    "- 0.520 mol of $\\text{N}_2\\text{O}_4$\n",
    "- 1.63 mol of $\\text{C}_6\\text{H}_4\\text{Br}_2$\n",
    "- 4.62 mol of $(\\text{NH}_4)_2\\text{SO}_3$"
   ]
  },
  {
   "cell_type": "markdown",
   "metadata": {},
   "source": [
    "<hr>\n",
    "\n",
    "**3.1.15** What is the total number of atoms in each sample?\n",
    "\n",
    "- 2.48g of $\\text{HBr}$\n",
    "- 4.77g of $\\text{Cs}_2$\n",
    "- 1.89g of $\\text{NaOH}$\n",
    "- 1.46g of $\\text{SrC}_2\\text{O}_4$"
   ]
  },
  {
   "cell_type": "markdown",
   "metadata": {},
   "source": [
    "## Chemical Equations"
   ]
  },
  {
   "cell_type": "markdown",
   "metadata": {},
   "source": [
    "**3.3.1** Balance each chemical equation\n",
    "- $\\text{KI(aq)} + \\text{Br}_2\\text{(l)} \\to \\text{KBr(aq)}+\\text{I}_2\\text{(s)}$\n",
    "- $\\text{MnO}_2\\text{(s)}+\\text{HCl(aq)} \\to \\text{MnCl}_2\\text{(aq)}+\\text{Cl}_2\\text{(g)}+\\text{H}_2\\text{O(l)}$\n",
    "- $\\text{Na}_2\\text{O(s)}+\\text{H}_2\\text{O(l)} \\to \\text{NaOH(aq)}$\n",
    "- $\\text{Cu(s)}+\\text{AgNO}_3\\text{(aq)} \\to \\text{Cu}(\\text{NO}_3)_2\\text{(aq)}+\\text{Ag(s)}$\n",
    "- $\\text{SO}_2\\text{(g)}+\\text{H}_2\\text{O(l)} \\to \\text{H}_2\\text{SO}_3\\text{(aq)}$\n",
    "- $\\text{S}_2\\text{Cl}_2\\text{l}+\\text{NH}_3\\text{(l)} \\to \\text{S}_4\\text{N}_4\\text{(s)}+\\text{S}_8\\text{(s)}+\\text{NH}_4\\text{Cl(s)}$"
   ]
  },
  {
   "cell_type": "markdown",
   "metadata": {},
   "source": [
    "## Mass Relationships in Chemical Equations"
   ]
  },
  {
   "cell_type": "markdown",
   "metadata": {},
   "source": [
    "**3.4.13** Under the proper conditions, ammonia and oxygen will react to form dinitrogen monoxide (nitrous oxide) and water. Write a balanced chemical equation for this reaction. Determine which reactant is in excess for each\n",
    "combination of reactants.\n",
    "\n",
    "- 24.6 g of ammonia and 21.4 g of oxygen\n",
    "- 3.8 mol of ammonia and 84.2 g of oxygen\n",
    "- $3.6\\times10^{24}$ molecules of ammonia and 318 g of oxygen\n",
    "- 2.1 mol of ammonia and 36.4 g of oxygen"
   ]
  },
  {
   "cell_type": "markdown",
   "metadata": {},
   "source": [
    "<hr>\n",
    "\n",
    "**3.4.25** Aniline $(\\text{C}_6\\text{H}_5\\text{NH}_2)$ can be produced from chlorobenzene \n",
    "$(\\text{C}_6\\text{H}_5\\text{Cl})$ via the following reaction:\n",
    "\n",
    "$\\text{C}_6\\text{H}_5\\text{Cl(l)}+2\\text{NH}_3\\text{(g)} \\to \\text{C}_6\\text{H}_5\\text{NH}_2\\text{(l)}+\\text{NH}_4\\text{Cl(s)}$\n",
    "\n",
    "Assume that 20.0 g of chlorobenzene at 92% purity is mixed with 8.3 g of ammonia.\n",
    "\n",
    "- What is the limiting reactant?\n",
    "- Which reactant is present in excess?\n",
    "- What is the theoretical yield of ammonium chloride in grams?\n",
    "- If 4.78 g of $\\text{NH}_4\\text{Cl}$ was recovered, what was the percent yield?\n",
    "- Derive a general expression for the theoretical yield of ammonium chloride in terms of grams of chlorobenzene reactant, if ammonia is present in excess.\n"
   ]
  }
 ],
 "metadata": {
  "kernelspec": {
   "display_name": "Python 3.6.9 64-bit",
   "language": "python",
   "name": "python36964bit02ef2681bbc5400fadc04eb658c88111"
  },
  "language_info": {
   "codemirror_mode": {
    "name": "ipython",
    "version": 3
   },
   "file_extension": ".py",
   "mimetype": "text/x-python",
   "name": "python",
   "nbconvert_exporter": "python",
   "pygments_lexer": "ipython3",
   "version": "3.8.5"
  }
 },
 "nbformat": 4,
 "nbformat_minor": 4
}
