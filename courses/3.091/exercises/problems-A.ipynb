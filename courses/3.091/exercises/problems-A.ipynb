{
 "cells": [
  {
   "cell_type": "markdown",
   "metadata": {},
   "source": [
    "# Problem set A - Atoms"
   ]
  },
  {
   "cell_type": "markdown",
   "metadata": {},
   "source": [
    "## The Atom"
   ]
  },
  {
   "cell_type": "markdown",
   "metadata": {},
   "source": [
    "**1.6.5.c** Give the symbol $\\;^A_ZX$ for these elements, all of which exist as a single isotope:\n",
    "**a)** beryllium => $\\;^9_4\\text{Be}$\n",
    "\n",
    "**b)** ruthenium => $\\;^{101}_{44}\\text{Ru}$\n",
    "\n",
    "**c)** phosphorus => $\\;^{31}_{15}\\text{P}$\n",
    "\n",
    "**d)** aluminum => $\\;^{27}_{13}\\text{Al}$\n",
    "\n",
    "**e)** cesium => $\\;^{133}_{55}\\text{Cs}$\n",
    "\n",
    "**f)** praseodymium => $\\;^{141}_{59}\\text{Pr}$\n",
    "\n",
    "**g)** cobalt => $\\;^{59}_{27}\\text{Co}$\n",
    "\n",
    "**h)** yttrium => $\\;^{89}_{39}\\text{Y}$\n",
    "\n",
    "**i)** arsenic => $\\;^{75}_{33}\\text{As}$"
   ]
  },
  {
   "cell_type": "markdown",
   "metadata": {},
   "source": [
    "<hr>\n",
    "\n",
    "**1.6.5** Copper, an excellent conductor of heat, has two isotopes $\\;^{63}\\text{Cu}$ and $\\;^{65}\\text{Cu}$.\n",
    "Use the following information to calculate the average atomic mass of copper:\n",
    "\n",
    "| Isotope | Percent Abundance (%) | Atomic Mass (AMU) |\n",
    "| ------- | --------------------- | ----------------- |\n",
    "| $\\;^{63}\\text{Cu}$ | 69.09 | 62.9298 |\n",
    "| $\\;^{65}\\text{Cu}$ | 30.92 | 64.9278 |\n",
    "\n",
    "- $\\;^63\\text{Cu: }\\frac{69.09}{100}=0.6909\\times 62.9298 = 43.478$\n",
    "- $\\;^65\\text{Cu: }\\frac{30.92}{100}=0.3092\\times 64.9278 = 20.076$\n",
    "\n",
    "$43.478+20.076=63.554\\text{ amu}$"
   ]
  },
  {
   "cell_type": "markdown",
   "metadata": {},
   "source": [
    "## The Mole and Molar Masses"
   ]
  },
  {
   "cell_type": "markdown",
   "metadata": {},
   "source": [
    "**3.1.3** Calculate the molecular mass or formula mass (molar mass) of each compound:\n",
    "\n",
    "**a)** $\\text{V}_2\\text{O}_4$ (vanadium(IV) oxide) $=(2*50.942)+(4*15.999)=165.88\\text{ amu}$\n",
    "\n",
    "**b)** $\\text{CaSiO}_3$ (calcium silicate) $=(3*40.078)+(3*28.086)+(3*15.999)=252.489\\text{ amu}$\n",
    "\n",
    "**c)** $\\text{BiOCl}$ (bismuth oxychloride) $=208.98+15.999+35.453=260.432\\text{ amu}$\n",
    "\n",
    "**d)** $\\text{CH}_3\\text{COOH}$ (acetic acid) $=(4*12.011)+(4*1.008)+(2*15.999)=84.074\\text{ amu}$\n",
    "\n",
    "**e)** $\\text{Ag}_2\\text{SO}_4$ (silver sulfate) $=(2*107.868)+(4*32.066)+(4*15.999)=407.996\\text{ amu}$\n",
    "\n",
    "**f)** $\\text{Na}_2\\text{CO}_3$ (sodium carbonate) $=(2*22.99)+(3*12.011)+(3*15.999)=130.01\\text{ amu}$\n",
    "\n",
    "**g)** $(\\text{CH}_3)_2\\text{CHOH}$ (isopropyl alcohol) $=(6*12.011)+(6*1.008)=78.114\\text{ amu}$"
   ]
  },
  {
   "cell_type": "markdown",
   "metadata": {},
   "source": [
    "<hr>\n",
    "\n",
    "**3.1.9** Calculate the mass in grams of each sample.\n",
    "\n",
    "**a)** 0.520 mol of $\\text{N}_2\\text{O}_4$ = $0.520*((2*14.007)+(4*15.999))=47.845\\text{ g}$\n",
    "\n",
    "**b)** 1.63 mol of $\\text{C}_6\\text{H}_4\\text{Br}_2$ = $1.63*((6*12.011)+(4*1.008)+(2*79.904))=384.527\\text{ g}$\n",
    "\n",
    "**c)** 4.62 mol of $(\\text{NH}_4)_2\\text{SO}_3$ =$4.62*((14.007)+(8*1.008)+(3*15.999)+(3*32.066))=768.149\\text{ g}$"
   ]
  },
  {
   "cell_type": "markdown",
   "metadata": {},
   "source": [
    "<hr>\n",
    "\n",
    "**3.1.15** What is the total number of atoms in each sample?\n",
    "\n",
    "**a)** 2.48g of $\\text{HBr}$ = $\\frac{2.48}{1.008+79.904}*(6.022\\times10^{23})=1.846\\times10^{23}$\n",
    "\n",
    "**b)** 4.77g of $\\text{Cs}_2$ = $\\frac{4.77}{2*132.905}*(6.022\\times10^{23})=1.081\\times10^{23}$\n",
    "\n",
    "**c)** 1.89g of $\\text{NaOH}$ = $\\frac{1.89}{22.99+15.999+1.008}*(6.022\\times10^{23})=2.846\\times10^{22}$\n",
    "\n",
    "**d)** 1.46g of $\\text{SrC}_2\\text{O}_4$ = $\\frac{1.46}{(2*87.62)+(2*12.011)+(4*15.999)}*(6.022\\times10^{23})=3.34\\times10^{21}$"
   ]
  },
  {
   "cell_type": "markdown",
   "metadata": {},
   "source": [
    "## Chemical Equations"
   ]
  },
  {
   "cell_type": "markdown",
   "metadata": {},
   "source": [
    "**3.3.1** Balance each chemical equation\n",
    "\n",
    "**a)** $\\text{KI(aq)} + \\text{Br}_2\\text{(l)} \\to \\text{KBr(aq)}+\\text{I}_2\\text{(s)}$\n",
    "\n",
    "$\\text{2KI}+\\text{Br}_2 \\to 2\\text{KBr}+\\text{I}_2$\n",
    "\n",
    "<br>\n",
    "\n",
    "**b)** $\\text{MnO}_2\\text{(s)}+\\text{HCl(aq)} \\to \\text{MnCl}_2\\text{(aq)}+\\text{Cl}_2\\text{(g)}+\\text{H}_2\\text{O(l)}$\n",
    "\n",
    "$\\text{MnO}_2+4\\text{HCl}\\to\\text{MnCl}_2+2\\text{H}_2\\text{O}+\\text{Cl}_2$\n",
    "\n",
    "<br>\n",
    "\n",
    "**c)** $\\text{Na}_2\\text{O(s)}+\\text{H}_2\\text{O(l)} \\to \\text{NaOH(aq)}$\n",
    "\n",
    "$3\\text{Na}_2\\text{O}+3\\text{H}_2\\text{O}\\to6\\text{NaOH}$\n",
    "\n",
    "<br>\n",
    "\n",
    "**d)** $\\text{Cu(s)}+\\text{AgNO}_3\\text{(aq)} \\to \\text{Cu}(\\text{NO}_3)_2\\text{(aq)}+\\text{Ag(s)}$\n",
    "\n",
    "$\\text{Cu}+2\\text{AgNO}_3\\to\\text{Cu}(\\text{NO}_3)_2+2\\text{Ag}$\n",
    "\n",
    "<br>\n",
    "\n",
    "**e)** $\\text{SO}_2\\text{(g)}+\\text{H}_2\\text{O(l)} \\to \\text{H}_2\\text{SO}_3\\text{(aq)}$\n",
    "\n",
    "$\\text{SO}_2+\\text{H}_2\\text{O}\\to\\text{H}_2\\text{SO}_3$\n",
    "\n",
    "<br>\n",
    "\n",
    "**f)** $\\text{S}_2\\text{Cl}_2\\text{(l)}+\\text{NH}_3\\text{(l)} \\to \\text{S}_4\\text{N}_4\\text{(s)}+\\text{S}_8\\text{(s)}+\\text{NH}_4\\text{Cl(s)}$\n",
    "\n",
    "$6\\text{S}_2\\text{Cl}_2+16\\text{NH}_3\\to\\text{S}_4\\text{N}_4+\\text{S}_8+12\\text{NH}_4\\text{Cl}$\n"
   ]
  },
  {
   "cell_type": "markdown",
   "metadata": {},
   "source": [
    "## Mass Relationships in Chemical Equations"
   ]
  },
  {
   "cell_type": "markdown",
   "metadata": {},
   "source": [
    "**3.4.13** Under the proper conditions, ammonia and oxygen will react to form dinitrogen monoxide (nitrous oxide) and water. Write a balanced chemical equation for this reaction. Determine which reactant is in excess for each\n",
    "combination of reactants.\n",
    "\n",
    "$\\text{NH}_3+\\text{O}_2\\to\\text{N}_2\\text{O}+\\text{H}_2\\text{O}$\n",
    "\n",
    "$2\\text{NH}_3+2\\text{O}_2\\to\\text{N}_2\\text{O}+3\\text{H}_2\\text{O}$\n",
    "\n",
    "<br>\n",
    "\n",
    "**a)** 24.6 g of ammonia and 21.4 g of oxygen\n",
    "\n",
    "$\\frac{24.6}{\\text{NH}_3}=\\frac{24.6}{14.007+3(1.008)}=1.44\\text{ moles}$\n",
    "\n",
    "$\\frac{21.4}{\\text{O}}=\\frac{21.4}{2*15.999}=0.669\\text{ moles}$\n",
    "\n",
    "$\\text{NH}_3$ is in excess\n",
    "\n",
    "<br>\n",
    "\n",
    "**b)** 3.8 mol of ammonia and 84.2 g of oxygen\n",
    "\n",
    "$3.8\\text{ moles}$\n",
    "\n",
    "$\\frac{84.2}{15.999*2}=2.631\\text{ moles}$\n",
    "\n",
    "$\\text{NH}_3$ is in excess\n",
    "\n",
    "<br>\n",
    "\n",
    "**c)** $3.6\\times10^{24}$ molecules of ammonia and 318 g of oxygen\n",
    "\n",
    "$\\frac{3.6\\times10^{24}}{6.022\\times10^{23}}=5.978\\text{ moles}$\n",
    "\n",
    "$\\frac{318}{2*15.999}=9.93\\text{ moles}$\n",
    "\n",
    "$\\text{O}$ is in excess\n",
    "\n",
    "<br>\n",
    "\n",
    "**d)** 2.1 mol of ammonia and 36.4 g of oxygen\n",
    "\n",
    "$2.1\\text{ moles}$\n",
    "\n",
    "$\\frac{36.4}{2*15.999}=1.138\\text{ moles}$\n",
    "\n",
    "$\\text{NH}_3$ is in excess\n"
   ]
  }
 ],
 "metadata": {
  "kernelspec": {
   "display_name": "Python 3.6.9 64-bit",
   "language": "python",
   "name": "python36964bit02ef2681bbc5400fadc04eb658c88111"
  },
  "language_info": {
   "codemirror_mode": {
    "name": "ipython",
    "version": 3
   },
   "file_extension": ".py",
   "mimetype": "text/x-python",
   "name": "python",
   "nbconvert_exporter": "python",
   "pygments_lexer": "ipython3",
   "version": "3.8.5"
  }
 },
 "nbformat": 4,
 "nbformat_minor": 4
}
