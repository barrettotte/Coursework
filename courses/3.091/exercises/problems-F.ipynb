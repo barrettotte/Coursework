{
 "cells": [
  {
   "cell_type": "markdown",
   "metadata": {},
   "source": [
    "# Problem set F - Electronic Materials and Crystallography"
   ]
  },
  {
   "cell_type": "markdown",
   "metadata": {},
   "source": [
    "## 12.6 - Bonding in Metals and Semiconductors"
   ]
  },
  {
   "cell_type": "markdown",
   "metadata": {},
   "source": [
    "**12.6.5 (conceptual)** As the ionic character of a compound increases, does its band gap increase or decrease? Why?"
   ]
  },
  {
   "cell_type": "markdown",
   "metadata": {},
   "source": [
    "**12.6.1** Of $\\text{Ca}$,$\\text{N}$,$\\text{B}$, and $\\text{Ge}$, which will convert pure silicon into a p-type semiconductor when doping? Explain your reasoning."
   ]
  },
  {
   "cell_type": "markdown",
   "metadata": {},
   "source": [
    "**12.6.2** Of $\\text{Ga},\\text{Si},\\text{Br}$, and $\\text{P}$, which will convert pure germanium into an n-type semiconductor when doping? Explain your reasoning."
   ]
  },
  {
   "cell_type": "markdown",
   "metadata": {},
   "source": [
    "## 12.1 - Crystalline and Amorphous Solids"
   ]
  },
  {
   "cell_type": "markdown",
   "metadata": {},
   "source": [
    "**12.1.3 (conceptual)** Why is the arrangement of the constituent atoms or molecules more important in determining the properties of a solid than a liquid or a gas?"
   ]
  },
  {
   "cell_type": "markdown",
   "metadata": {},
   "source": [
    "**12.1.7 (conceptual)** A student obtained a solid product in a laboratory synthesis. To verify the identity of the solid, she measured its melting point and found that the material melted over a 12°C range. After it had cooled, she measured the melting point of the same sample again and found that this time the solid had a sharp melting point at the temperature that is characteristic of the desired product. Why were the two melting points different? What was responsible for the change in the melting point?"
   ]
  },
  {
   "cell_type": "markdown",
   "metadata": {},
   "source": [
    "## 12.2 - The Arrangement of Atoms in Crystalline Solids"
   ]
  },
  {
   "cell_type": "markdown",
   "metadata": {},
   "source": [
    "**12.2.1** Metallic rhodium has an fcc unit cell. How many atoms of rhodium does each unit cell contain?"
   ]
  },
  {
   "cell_type": "markdown",
   "metadata": {},
   "source": [
    "**12.2.3** The density of nickel is $8.908\\text{ g/cm}^3$. If the metallic radius is 125 pm, what is the structure of metallic nickel?"
   ]
  },
  {
   "cell_type": "markdown",
   "metadata": {},
   "source": [
    "**12.2.5** An element has a density of $10.25\\text{ g/cm}^3$ and a metallic radius of 136.3 pm. The metal crystallizes in a bcc lattice. Identify the element."
   ]
  },
  {
   "cell_type": "markdown",
   "metadata": {},
   "source": [
    "**12.2.7** A sample of an alkali metal that has a bcc unit cell is found to have a mass of 1.000 g and a volume of 1.0298 $\\text{cm}^3$. When the metal reacts with excess water, the reaction produces 539.29 mL of hydrogren gas at 0.980 atm and 23°C. Identify the metal, determine the unit cell dimensions, and give the approximate size of the atom in picometers."
   ]
  },
  {
   "cell_type": "markdown",
   "metadata": {},
   "source": [
    "**12.2.9** Lithium crystallizes in a bcc structure with an edge length of 3.509 Å. Calculate its density. What is the approximate metallic radius of lithium in picometers?"
   ]
  },
  {
   "cell_type": "markdown",
   "metadata": {},
   "source": [
    "## 12.3 - Structures of Simple Binary Compounds"
   ]
  },
  {
   "cell_type": "markdown",
   "metadata": {},
   "source": [
    "**12.3.1** Thallium bromide crystallizes in the cesium chloride structure. This bcc structure contains a $\\text{Ti}^+$ ion in the center of the cube with $\\text{Br}^-$ ions at the corners. Sketch an alternative unit cell for this compound."
   ]
  },
  {
   "cell_type": "markdown",
   "metadata": {},
   "source": [
    "**12.3.3** Calcium fluoride is used to fluoridate drinking water to promote dental health.\n",
    "Crystalline $\\text{CaF}_2$ (d=3.1805 $\\text{ g/cm}^3$) has a structure in which calcium ions are located at each cornere and the middle of each edge of the unit cell, which contains eight fluoride ions per unit cell. The length of the edge of this unit cell is 5.463 Å. Use this information to determine Avogadro's number."
   ]
  },
  {
   "cell_type": "markdown",
   "metadata": {},
   "source": [
    "**12.3.5** Here are two representations of the perovskite structure:\n",
    "\n",
    "![assets/problems-F-12.3.5.png](assets/problems-F-12.3.5.png)\n",
    "\n",
    "Are they identical? What is the empirical formulas corresponding to each representation?"
   ]
  },
  {
   "cell_type": "markdown",
   "metadata": {},
   "source": [
    "**12.3.7** A compound has a structure based on simple cubic packing of the anions, and the cations occupy half of the cubic holes. What is the empirical formula of this compound? What is the coordination number of the cation?"
   ]
  },
  {
   "cell_type": "markdown",
   "metadata": {},
   "source": [
    "**12.3.9** Cadmium chloride is used in paints as a yellow pigment. Is the following structure consistent with an empirical formula of $\\text{CdCl}_2$. If not, what is the empirical formula of the structure shown?\n",
    "\n",
    "![assets/problems-F-12.3.9.png](assets/problems-F-12.3.9.png)"
   ]
  },
  {
   "cell_type": "markdown",
   "metadata": {},
   "source": [
    "**12.3.11** Calculate the angle of diffraction when x-rays from a copper tube $(\\lambda=154\\text{ pm})$ are diffracted by planes of atoms parallel to the faces of the cubic unit cell for $\\text{Mg}$ (260 pm), $\\text{Zn}$ (247 pm), and $\\text{Ni}$ (216 pm). The length on one edge of the unit cell is given in parentheses; assume first-order diffraction (n=1)."
   ]
  }
 ],
 "metadata": {
  "kernelspec": {
   "display_name": "Python 3",
   "language": "python",
   "name": "python3"
  },
  "language_info": {
   "codemirror_mode": {
    "name": "ipython",
    "version": 3
   },
   "file_extension": ".py",
   "mimetype": "text/x-python",
   "name": "python",
   "nbconvert_exporter": "python",
   "pygments_lexer": "ipython3",
   "version": "3.8.5"
  }
 },
 "nbformat": 4,
 "nbformat_minor": 4
}
