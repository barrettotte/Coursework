{
 "cells": [
  {
   "cell_type": "markdown",
   "metadata": {},
   "source": [
    "# Problem set F - Electronic Materials and Crystallography"
   ]
  },
  {
   "cell_type": "markdown",
   "metadata": {},
   "source": [
    "## 12.6 - Bonding in Metals and Semiconductors"
   ]
  },
  {
   "cell_type": "markdown",
   "metadata": {},
   "source": [
    "**12.6.5 (conceptual)** As the ionic character of a compound increases, does its band gap increase or decrease? Why?\n",
    "\n",
    "An increase in ionic character increases the difference of electronegativity, which decreases the overlap in orbitals. A decrease in orbital overlap leads to an increase in band gap."
   ]
  },
  {
   "cell_type": "markdown",
   "metadata": {},
   "source": [
    "**12.6.1** Of $\\text{Ca}$,$\\text{ N}$,$\\text{ B}$, and $\\text{Ge}$, which will convert pure silicon into a p-type semiconductor when doping? Explain your reasoning.\n",
    "\n",
    "p-type = positive => boron accepts electrons from silicon leaving a \"hole\" and the molecule becomes positive."
   ]
  },
  {
   "cell_type": "markdown",
   "metadata": {},
   "source": [
    "**12.6.2** Of $\\text{Ga},\\text{Si},\\text{Br}$, and $\\text{P}$, which will convert pure germanium into an n-type semiconductor when doping? Explain your reasoning.\n",
    "\n",
    "n-type = negative => when phosphorus is bonded to silicon there is a free electron and the molecule becomes negative."
   ]
  },
  {
   "cell_type": "markdown",
   "metadata": {},
   "source": [
    "## 12.1 - Crystalline and Amorphous Solids"
   ]
  },
  {
   "cell_type": "markdown",
   "metadata": {},
   "source": [
    "**12.1.3 (conceptual)** Why is the arrangement of the constituent atoms or molecules more important in determining the properties of a solid than a liquid or a gas?\n",
    "\n",
    "The arrangement of atoms or molecules is a lot less \"volatile\" than the phase of a substance.\n",
    "Generally a substance can change phases a lot easier than the molecular or atomic structure can."
   ]
  },
  {
   "cell_type": "markdown",
   "metadata": {},
   "source": [
    "**12.1.7 (conceptual)** A student obtained a solid product in a laboratory synthesis. To verify the identity of the solid, she measured its melting point and found that the material melted over a 12°C range. After it had cooled, she measured the melting point of the same sample again and found that this time the solid had a sharp melting point at the temperature that is characteristic of the desired product. Why were the two melting points different? What was responsible for the change in the melting point?\n",
    "\n",
    "The product was originally an amorphous solid since it had such a large melting point range. After slowly cooling the second time, the product was able to crystallize and exhibited the expected properties."
   ]
  },
  {
   "cell_type": "markdown",
   "metadata": {},
   "source": [
    "## 12.2 - The Arrangement of Atoms in Crystalline Solids"
   ]
  },
  {
   "cell_type": "markdown",
   "metadata": {},
   "source": [
    "**12.2.1** Metallic rhodium has an fcc unit cell. How many atoms of rhodium does each unit cell contain?\n",
    "\n",
    "$8(\\frac{1}{8}) + 6(\\frac{1}{2}) = 4\\text{ atoms}$"
   ]
  },
  {
   "cell_type": "markdown",
   "metadata": {},
   "source": [
    "**12.2.3** The density of nickel is $8.908\\text{ g/cm}^3$. If the metallic radius is 125 pm, what is the structure of metallic nickel?\n",
    "\n",
    "$\\text{Ni}$ => FCC (looked at periodic table)"
   ]
  },
  {
   "cell_type": "markdown",
   "metadata": {},
   "source": [
    "**12.2.5** An element has a density of $10.25\\text{ g/cm}^3$ and a metallic radius of 136.3 pm. The metal crystallizes in a bcc lattice. Identify the element.\n",
    "\n",
    "Used periodic table for density $10.25\\text{ g/cm}^3$ and found molybdenum $(\\text{Mo})$"
   ]
  },
  {
   "cell_type": "markdown",
   "metadata": {},
   "source": [
    "## 12.3 - Structures of Simple Binary Compounds"
   ]
  },
  {
   "cell_type": "markdown",
   "metadata": {},
   "source": [
    "**12.3.5** Here are two representations of the perovskite structure:\n",
    "\n",
    "![assets/problems-F-12.3.5.png](assets/problems-F-12.3.5.png)\n",
    "\n",
    "Are they identical? What are the empirical formulas corresponding to each representation?\n",
    "\n",
    "- faces contribute $\\frac{1}{2}$ atom to each unit cell. \n",
    "- edges contribute $\\frac{1}{4}$ atom to each unit cell.\n",
    "- corners contribute $\\frac{1}{8}$ atom to each unit cell.\n",
    "\n",
    "first: $8(\\frac{1}{8})\\text{Ti}+1\\text{Ca}+12(\\frac{1}{4})\\text{O}$\n",
    "$=5$\n",
    "\n",
    "second: $8(\\frac{1}{8})\\text{Ti}+1\\text{Ca}+6(\\frac{1}{2})\\text{O}=5$\n",
    "\n",
    "\n",
    "They are identical with formula $\\text{CaTiO}_3$\n",
    "and stoichiometrically equivalent."
   ]
  },
  {
   "cell_type": "markdown",
   "metadata": {},
   "source": [
    "**12.3.9** Cadmium chloride is used in paints as a yellow pigment. Is the following structure consistent with an empirical formula of $\\text{CdCl}_2$. If not, what is the empirical formula of the structure shown?\n",
    "\n",
    "![assets/problems-F-12.3.9.png](assets/problems-F-12.3.9.png)\n",
    "\n",
    "$8(\\frac{1}{8})\\text{Cl}_2^-$\n",
    "$+\\;6(\\frac{1}{2})\\text{Cl}_2^-$\n",
    "$+\\;6(\\frac{1}{4})\\text{Cd}^{2+}$\n",
    "\n",
    "$4\\text{Cl}_2^- +\\frac{3}{2}\\text{Cd}^{2+}$\n",
    "$=4\\text{Cl}_2^-+3\\text{Cd}$\n",
    "\n",
    "$\\text{Cl}_8+\\text{Cd}_3$\n",
    "\n",
    "No, this structure corresponds to $\\text{Cd}_3\\text{Cl}_8$"
   ]
  },
  {
   "cell_type": "markdown",
   "metadata": {},
   "source": [
    "**12.3.11** Calculate the angle of diffraction when x-rays from a copper tube $(\\lambda=154\\text{ pm})$ are diffracted by planes of atoms parallel to the faces of the cubic unit cell for $\\text{Mg}$ (260 pm), $\\text{Zn}$ (247 pm), and $\\text{Ni}$ (216 pm). The length on one edge of the unit cell is given in parentheses; assume first-order diffraction (n=1).\n",
    "\n",
    "$2d\\sin\\theta=n\\lambda$\n",
    "\n",
    "$$\n",
    "\\begin{aligned}\n",
    "  \\text{Mg}:&\\\\\n",
    "  2(260\\text{ pm})\\sin\\theta&=(1)(154\\text{ pm})\\\\\n",
    "  520\\text{ pm}\\cdot\\sin\\theta&=154\\text{ pm}\\\\\n",
    "  \\theta&=\\sin^{-1}\\left( \\frac{154\\text{ pm}}{520\\text{ pm}} \\right)\\\\\n",
    "  \\theta&=17.227°\n",
    "\\end{aligned}\n",
    "$$\n",
    "\n",
    "$$\n",
    "\\begin{aligned}\n",
    "  \\text{Zn}:&\\\\\n",
    "  2(247\\text{ pm})\\sin\\theta&=(1)(154\\text{ pm})\\\\\n",
    "  494\\text{ pm}\\cdot\\sin\\theta&=154\\text{ pm}\\\\\n",
    "  \\theta&=\\sin^{-1}\\left( \\frac{154\\text{ pm}}{494\\text{ pm}} \\right)\\\\\n",
    "  \\theta&=18.164°\n",
    "\\end{aligned}\n",
    "$$\n",
    "\n",
    "$$\n",
    "\\begin{aligned}\n",
    "  \\text{Ni}:&\\\\\n",
    "  2(216\\text{ pm})\\sin\\theta&=(1)(154\\text{ pm})\\\\\n",
    "  432\\text{ pm}\\cdot\\sin\\theta&=154\\text{ pm}\\\\\n",
    "  \\theta&=\\sin^{-1}\\left( \\frac{154\\text{ pm}}{432\\text{ pm}} \\right)\\\\\n",
    "  \\theta&=20.884°\n",
    "\\end{aligned}\n",
    "$$"
   ]
  }
 ],
 "metadata": {
  "kernelspec": {
   "display_name": "Python 3",
   "language": "python",
   "name": "python3"
  },
  "language_info": {
   "codemirror_mode": {
    "name": "ipython",
    "version": 3
   },
   "file_extension": ".py",
   "mimetype": "text/x-python",
   "name": "python",
   "nbconvert_exporter": "python",
   "pygments_lexer": "ipython3",
   "version": "3.8.5"
  }
 },
 "nbformat": 4,
 "nbformat_minor": 4
}
