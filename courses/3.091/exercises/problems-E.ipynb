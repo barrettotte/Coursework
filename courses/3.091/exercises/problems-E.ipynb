{
 "cells": [
  {
   "cell_type": "markdown",
   "metadata": {},
   "source": [
    "# Problem set E - IMFs & Phases"
   ]
  },
  {
   "cell_type": "markdown",
   "metadata": {},
   "source": [
    "## IMFs and Perodic Trends"
   ]
  },
  {
   "cell_type": "markdown",
   "metadata": {},
   "source": [
    "**11.2.9 (conceptual)** In group 17 of the periodic table, elemental fluorine and chlorine are gases, whereas bromine is a liquid and iodine is a solid. Why?\n",
    "\n",
    "Larger atoms with more electrons are more polarizable than smaller ones.\n",
    "This increases the strength of London dispersion forces."
   ]
  },
  {
   "cell_type": "markdown",
   "metadata": {},
   "source": [
    "**11.2.11 (conceptual)** Identify the most important intermolecular interaction in each of the following.\n",
    "\n",
    "- $\\text{SO}_2$ => dipole-dipole (polar $\\text{S}=\\text{O}$ bonds)\n",
    "- $\\text{HF}$ => hydogen bonding\n",
    "- $\\text{CO}_2$ => London dispersion (linear molecule - no net dipole)\n",
    "- $\\text{CCl}_4$ => London dispersion (symmetric molecule - no net dipole)\n",
    "- $\\text{CH}_2\\text{Cl}_2$ => dipole-dipole (polarizable $\\text{Cl}$)"
   ]
  },
  {
   "cell_type": "markdown",
   "metadata": {},
   "source": [
    "## Vapor Pressure"
   ]
  },
  {
   "cell_type": "markdown",
   "metadata": {},
   "source": [
    "**11.4.1** Acetylene $\\text{C}_2\\text{H}_2$, which is used for industrial welding, is transported in pressurized cylinders. Its vapor pressure at various temperatures is given in the following table. Plot the data and use your graph to estimate the vapor pressure of acetylene at 293 K. Then use your graph the determine the value of $\\Delta H_\\text{vap}$ for acetylene.\n",
    "\n",
    "| T(K) | P (mmHg) |\n",
    "| ---- | -------- |\n",
    "| 145  | 1.3      |\n",
    "| 155  | 7.8      |\n",
    "| 175  | 32.2     |\n",
    "| 200  | 190      |\n",
    "| 225  | 579      |\n",
    "| 250  | 1370     |\n",
    "| 300  | 5093     |\n",
    "\n",
    "\n",
    "$\\ln\\left(\\frac{P_2}{P_1}\\right)$\n",
    "$=\\frac{-\\Delta H_\\text{vap}}{R}\\left(\\frac{1}{T_2}-\\frac{1}{T_1}\\right)$\n",
    "\n",
    "let $P_1=7.8,\\;T_1=155,\\quad P_2=190,\\;T_2=200$\n",
    "\n",
    "$\\ln\\left( \\frac{190\\text{ mmHg}}{7.8\\text{ mmHg}} \\right)$\n",
    "$=\\frac{-\\Delta H_\\text{vap}}{8.314\\text{ J/}(\\text{mol}\\cdot\\text{K})}$\n",
    "$\\left( \\frac{1}{200\\text{ K}}-\\frac{1}{155\\text{ K}} \\right)$\n",
    "\n",
    "$\\ln(24.359\\text{ mmHg})=-\\Delta H_\\text{vap}\\cdot\\frac{1}{8.314\\text{ J}\\cdot\\text{mol}^{-1}\\cdot\\text{K}^{-1})}\\cdot(-1.45\\times10^{-3}\\text{ K}^{-1})$\n",
    "\n",
    "$3.2003\\text{ mmHg}=-\\Delta H_\\text{vap}\\cdot(1.74\\times10^{-4})\\text{ J}^{-1}\\cdot\\text{mol}$\n",
    "\n",
    "$-18392.32\\text{ J/mol}=-\\Delta H_\\text{vap}$\n",
    "\n",
    "$\\Delta H_\\text{vap} = 18392.32\\text{ J/mol}$\n",
    "\n",
    "<br>\n",
    "\n",
    "$\\ln\\left( \\frac{P_2}{7.8} \\right)=\\frac{-18392.32\\text{ J/mol}}{8.314\\text{ J/}(\\text{mol}\\cdot\\text{K})}$\n",
    "$\\left( \\frac{1}{293}-\\frac{1}{155} \\right)$\n",
    "\n",
    "$\\ln\\left(\\frac{P_2}{7.8}\\right)=6.72$\n",
    "\n",
    "$\\frac{P_2}{7.8}=e^{6.72}$\n",
    "\n",
    "$P_2=828.818\\cdot7.8=6464.78\\text{ mmHg}$"
   ]
  },
  {
   "cell_type": "markdown",
   "metadata": {},
   "source": [
    "## Changes of State"
   ]
  },
  {
   "cell_type": "markdown",
   "metadata": {},
   "source": [
    "**11.5.1** The density of oxygen at 1 atm and various temperatures is given in the following table. Plot the data and use your graph to predict the normal boiling point of oxygen.\n",
    "\n",
    "| T (K) | d (mol/L) |\n",
    "| ----- | --------- |\n",
    "| 60    | 40.1      |\n",
    "| 70    | 38.6      |\n",
    "| 80    | 37.2      |\n",
    "| 90    | 35.6      |\n",
    "| 100   | 0.123     |\n",
    "| 120   | 0.102     |\n",
    "| 140   | 0.087     |\n",
    "\n",
    "Normal boiling point of oxygen is between 90 K and 100 K"
   ]
  }
 ],
 "metadata": {
  "kernelspec": {
   "display_name": "Python 3",
   "language": "python",
   "name": "python3"
  },
  "language_info": {
   "codemirror_mode": {
    "name": "ipython",
    "version": 3
   },
   "file_extension": ".py",
   "mimetype": "text/x-python",
   "name": "python",
   "nbconvert_exporter": "python",
   "pygments_lexer": "ipython3",
   "version": "3.8.5"
  }
 },
 "nbformat": 4,
 "nbformat_minor": 4
}
