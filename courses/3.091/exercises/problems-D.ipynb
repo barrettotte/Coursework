{
 "cells": [
  {
   "cell_type": "markdown",
   "metadata": {},
   "source": [
    "# Problem set D - Orbitals & Molecules"
   ]
  },
  {
   "cell_type": "markdown",
   "metadata": {},
   "source": [
    "## Predicting the Geometry of Molecules and Polyatomic Ions"
   ]
  },
  {
   "cell_type": "markdown",
   "metadata": {},
   "source": [
    "**9.1.1** Give the number of electron groups around the central atom and the molecular geometry for each molecule. Classify the electron groups in each species as bonding pairs or lone pairs.\n",
    "\n",
    "- $\\text{BF}_3$ => trigonal planar; all groups are bonding pairs\n",
    "- $\\text{PCl}_3$ => tetrahedral; one lone pair on $\\text{P}$\n",
    "- $\\text{XeF}_2$ => trigonal bipyramidal; three lone pairs on $\\text{Xe}$\n",
    "- $\\text{AlCl}_4^-$ => tetrahedral; all groups on $\\text{Al}$ are bonding pairs\n",
    "- $\\text{CH}_2\\text{Cl}_2$ => tetrahedral; all groups on $\\text{C}$ are bonding pairs"
   ]
  },
  {
   "cell_type": "markdown",
   "metadata": {},
   "source": [
    "## Localized Bonding and Hybrid Atomic Orbitals"
   ]
  },
  {
   "cell_type": "markdown",
   "metadata": {},
   "source": [
    "**9.2.5** What is the hybridization of the central atom in each of the following?\n",
    "\n",
    "- $\\text{CF}_4$\n",
    "- $\\text{CCl}_2^{2-}$\n",
    "- $\\text{IO}_3^-$\n",
    "- $\\text{SiH}_4$\n",
    "\n",
    "All are $\\text{sp}^3$ hybridized"
   ]
  },
  {
   "cell_type": "markdown",
   "metadata": {},
   "source": [
    "## Delocalized Bonding and Molecular Orbitals"
   ]
  },
  {
   "cell_type": "markdown",
   "metadata": {},
   "source": [
    "**9.3.1** Use a qualitative molecular orbital energy-level diagram to describe the bonding in $\\text{S}_2^{2-}$. \n",
    "What is the bond order? How many unpaired electrons does it have?\n",
    "\n",
    "$\\text{S } \\to \\text{[Ne]}3s^23p^4$\n",
    "\n",
    "![assets/problems-D-9.3.1.png](assets/problems-D-9.3.1.png)\n",
    "\n",
    "$2(6)+2=14$ electrons\n",
    "\n",
    "Bond order: $\\frac{14-12}{2}=1$. This ion has no unpaired electrons."
   ]
  },
  {
   "cell_type": "markdown",
   "metadata": {},
   "source": [
    "**9.3.5** Sketch the possible ways of combining two 1s orbitals on adjacent atoms. How many molecular orbitals can be formed by this combination? Be sure to indicate any nodal planes.\n",
    "\n",
    "![assets/problems-D-9.3.5.png](assets/problems-D-9.3.5.png)"
   ]
  }
 ],
 "metadata": {
  "kernelspec": {
   "display_name": "Python 3.6.9 64-bit",
   "language": "python",
   "name": "python36964bit02ef2681bbc5400fadc04eb658c88111"
  },
  "language_info": {
   "codemirror_mode": {
    "name": "ipython",
    "version": 3
   },
   "file_extension": ".py",
   "mimetype": "text/x-python",
   "name": "python",
   "nbconvert_exporter": "python",
   "pygments_lexer": "ipython3",
   "version": "3.8.5"
  }
 },
 "nbformat": 4,
 "nbformat_minor": 4
}
