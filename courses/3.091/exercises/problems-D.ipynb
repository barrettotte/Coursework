{
 "cells": [
  {
   "cell_type": "markdown",
   "metadata": {},
   "source": [
    "# Problem set D - Orbitals & Molecules"
   ]
  },
  {
   "cell_type": "markdown",
   "metadata": {},
   "source": [
    "## Predicting the Geometry of Molecules and Polyatomic Ions"
   ]
  },
  {
   "cell_type": "markdown",
   "metadata": {},
   "source": [
    "**9.1.1** Give the number of electron groups around the central atom and the molecular geometry for each molecule. Classify the electron groups in each species as bonding pairs or lone pairs.\n",
    "\n",
    "- $\\text{BF}_3$\n",
    "- $\\text{PCl}_3$\n",
    "- $\\text{XeF}_2$\n",
    "- $\\text{AlCl}_4^-$\n",
    "- $\\text{CH}_2\\text{Cl}_2$"
   ]
  },
  {
   "cell_type": "markdown",
   "metadata": {},
   "source": [
    "**9.1.5** What is the molecular geometry of $\\text{ClF}_3$? Draw a three-dimensional representation of\n",
    "its structure and explain the effect of any lone pairs on the idealized geometry."
   ]
  },
  {
   "cell_type": "markdown",
   "metadata": {},
   "source": [
    "**9.1.7** Predict whether each molecule has a net dipole moment. Justify your answers and indicate the direction of any bond dipoles.\n",
    "\n",
    "- $\\text{NO}$\n",
    "- $\\text{HF}$\n",
    "- $\\text{PCl}_3$\n",
    "- $\\text{CO}_2$\n",
    "- $\\text{SO}_2$\n",
    "- $\\text{SF}_4$"
   ]
  },
  {
   "cell_type": "markdown",
   "metadata": {},
   "source": [
    "## Localized Bonding and Hybrid Atomic Orbitals"
   ]
  },
  {
   "cell_type": "markdown",
   "metadata": {},
   "source": [
    "**9.2.5** What is the hybridization of the central atom in each of the following?\n",
    "\n",
    "- $\\text{CF}_4$\n",
    "- $\\text{CCl}_2^{2-}$\n",
    "- $\\text{IO}_3^-$\n",
    "- $\\text{SiH}_4$"
   ]
  },
  {
   "cell_type": "markdown",
   "metadata": {},
   "source": [
    "## Delocalized Bonding and Molecular Orbitals"
   ]
  },
  {
   "cell_type": "markdown",
   "metadata": {},
   "source": [
    "**9.3.1** Use a qualitative molecular orbital energy-level diagram to describe the bonding in $\\text{S}_2^{2-}$. \n",
    "What is the bond order? How many unpaired electrons does it have?"
   ]
  },
  {
   "cell_type": "markdown",
   "metadata": {},
   "source": [
    "**9.3.5** Sketch the possible ways of combining two 1s orbitals on adjacent atoms. How many molecular orbitals can be formed by this combination? Be sure to indicate any nodal planes."
   ]
  },
  {
   "cell_type": "markdown",
   "metadata": {},
   "source": [
    "**9.3.11** Draw a molecular orbital energy-level diagram for $\\text{Na}_2^+$. What is the bond order in this ion?\n",
    "Is this ion likely to be a stable species? If not, would you recommend an oxidation or a reduction to improve stability? Explain your answer. Based on your answers, will $\\text{Na}_2^+$, $\\text{Na_2}$, or $\\text{Na}_2^-$ be the most stable? Why?"
   ]
  },
  {
   "cell_type": "markdown",
   "metadata": {},
   "source": [
    "**9.3.13** Draw a molecular orbital energy-level diagram for $\\text{O}_2^{2-}$ and predict its valence electron configuration, bond order, and stability."
   ]
  },
  {
   "cell_type": "markdown",
   "metadata": {},
   "source": [
    "**9.3.17** Sketch a molecular orbital energy-level diagram for each ion. Based on your diagram, what is the bond order of each species?\n",
    "\n",
    "- $\\text{NO}^+$\n",
    "- $\\text{NO}^-$"
   ]
  }
 ],
 "metadata": {
  "kernelspec": {
   "display_name": "Python 3.6.9 64-bit",
   "language": "python",
   "name": "python36964bit02ef2681bbc5400fadc04eb658c88111"
  },
  "language_info": {
   "codemirror_mode": {
    "name": "ipython",
    "version": 3
   },
   "file_extension": ".py",
   "mimetype": "text/x-python",
   "name": "python",
   "nbconvert_exporter": "python",
   "pygments_lexer": "ipython3",
   "version": "3.8.5"
  }
 },
 "nbformat": 4,
 "nbformat_minor": 4
}
