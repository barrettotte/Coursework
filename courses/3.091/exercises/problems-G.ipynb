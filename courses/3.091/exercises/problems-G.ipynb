{
 "cells": [
  {
   "cell_type": "markdown",
   "metadata": {},
   "source": [
    "# Problem set G - Diffraction & x-rays"
   ]
  },
  {
   "cell_type": "markdown",
   "metadata": {},
   "source": [
    "## 12.3 - Structures of Simple Binary Compounds"
   ]
  },
  {
   "cell_type": "markdown",
   "metadata": {},
   "source": [
    ">12.3.5, 12.3.9, 12.3.11 were done in problem set F"
   ]
  },
  {
   "cell_type": "markdown",
   "metadata": {},
   "source": [
    "**12.3.5 (conceptual)** Why are x-rays used to determine the structure of crystalline materials?\n",
    "Could gamma rays also be used to determine crystalline structures? Why or why not?\n",
    "\n",
    "The wavelengths of x-rays are nearly the same magnitude as the distances\n",
    "between atoms in molecules or ions. This provides a clear diffraction pattern that can be examined clearly.\n",
    "\n",
    "The wavelength of a gamma ray is ~100 times smaller than an x-ray's wavelength. A gamma ray would penetrate the crystal, but the diffraction pattern would not be very clear."
   ]
  },
  {
   "cell_type": "markdown",
   "metadata": {},
   "source": [
    "**12.3.9 (conceptual)** Based on the Bragg equation, if crystal A has larger spacing in its diffraction\n",
    "pattern than crystal B, what conclusion can you draw about the spacing between layers of atoms in A compared with B?\n",
    "\n",
    "The shorter the spacing, the larger the angle difference between two diffraction peaks will be."
   ]
  }
 ],
 "metadata": {
  "kernelspec": {
   "display_name": "Python 3",
   "language": "python",
   "name": "python3"
  },
  "language_info": {
   "codemirror_mode": {
    "name": "ipython",
    "version": 3
   },
   "file_extension": ".py",
   "mimetype": "text/x-python",
   "name": "python",
   "nbconvert_exporter": "python",
   "pygments_lexer": "ipython3",
   "version": "3.8.5"
  }
 },
 "nbformat": 4,
 "nbformat_minor": 4
}
