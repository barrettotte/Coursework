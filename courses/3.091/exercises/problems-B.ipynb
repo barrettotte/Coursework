{
 "cells": [
  {
   "cell_type": "markdown",
   "metadata": {},
   "source": [
    "# Problem set B - Atomic Spectra & Quantum"
   ]
  },
  {
   "cell_type": "markdown",
   "metadata": {},
   "source": [
    "## Waves and Electromagnetic Radiation"
   ]
  },
  {
   "cell_type": "markdown",
   "metadata": {},
   "source": [
    "**6.1.7** An AM radio station broadcasts with a wavelength of 248.0 m. What is the broadcast frequency of the\n",
    "station in kilohertz? An AM station has a broadcast range of 92.6 MHz. What is the corresponding wavelength range\n",
    "in meters for this reception?\n",
    "\n",
    "$\\lambda=\\frac{c}{f}$\n",
    "\n",
    "$240=\\frac{3.00\\times10^8}{f}$\n",
    "\n",
    "$f = \\frac{3.00\\times10^8}{240}=1.25\\times10^6\\text{ Hz}=1250\\text{ KHz}$\n",
    "\n",
    "<br>\n",
    "\n",
    "$\\lambda=\\frac{3\\times10^8}{9.26\\times10^7}$\n",
    "$=3.24\\text{ m}$\n"
   ]
  },
  {
   "cell_type": "markdown",
   "metadata": {},
   "source": [
    "## The Quantization of Energy"
   ]
  },
  {
   "cell_type": "markdown",
   "metadata": {},
   "source": [
    "**6.2.3** A mole of photons is found to have an energy of 225 kJ. What is the wavelength of the radiation?\n",
    "\n",
    "\n",
    "$E=hv,\\quad\\lambda=\\frac{c}{f}$\n",
    "\n",
    "$\\frac{2.25\\times10^5\\text{ J}}{6.022\\times10^{23}}=(6.626\\times 10^{-34} Js)f$\n",
    "\n",
    "$f=\\frac{3.74\\times10^{-19}\\text{ J}}{6.626\\times 10^{-34} Js}$\n",
    "$=5.644\\times10^{14}\\text{ Hz}$\n",
    "\n",
    "$\\lambda=\\frac{3.00\\times10^8}{5.644\\times10^{14}\\text{ Hz}}$\n",
    "$=5.3\\times10^{-7}\\text{ m}$"
   ]
  },
  {
   "cell_type": "markdown",
   "metadata": {},
   "source": [
    "## Atomic Orbitals and Their Energies"
   ]
  },
  {
   "cell_type": "markdown",
   "metadata": {},
   "source": [
    "**6.5.1** How many subshells are possible for n=3? What are they?\n",
    "\n",
    "1. $l=0 (s)$\n",
    "2. $l=1 (p)$\n",
    "3. $l=2 (d)$"
   ]
  },
  {
   "cell_type": "markdown",
   "metadata": {},
   "source": [
    "**6.5.3** What values of $l$ correspond to a d-subshell? How many orbitals are in this subshell?\n",
    "\n",
    "$l=2 \\to 5\\text{ orbitals}$"
   ]
  },
  {
   "cell_type": "markdown",
   "metadata": {},
   "source": [
    "**6.5.5** State the number of orbitals and electrons that can occupy each subshell.\n",
    "\n",
    "- 2s $\\to 2\\text{ electrons}, 1\\text{ orbital}$\n",
    "- 3p $\\to 6\\text{ electrons}, 3\\text{ orbitals}$\n",
    "- 4d $\\to 10\\text{ electrons}, 5\\text{ orbitals}$\n",
    "- 6f $\\to 14\\text{ electrons}, 7\\text{ orbitals}$"
   ]
  },
  {
   "cell_type": "markdown",
   "metadata": {},
   "source": [
    "**6.5.7** How many orbitals and subshells are found within the principal shell n=6?\n",
    "\n",
    "n=6 contains 36 (1+3+5+7+9+11) orbitals and 6 (0-5) subshells."
   ]
  },
  {
   "cell_type": "markdown",
   "metadata": {},
   "source": [
    "## Building up the Periodic Table"
   ]
  },
  {
   "cell_type": "markdown",
   "metadata": {},
   "source": [
    "**6.6.3** If $l=2$ and $m_l=2$, give all the allowed combinations of the four quantum numbers\n",
    "$(n,l,m_l,m_s)$ for electrons in the corresponding 3d subshell.\n",
    "\n",
    "- $n=3,l=2,m_l=2,m_s=\\frac{1}{2}$\n",
    "- $n=3,l=2,m_l=2,m_s=-\\frac{1}{2}$"
   ]
  },
  {
   "cell_type": "markdown",
   "metadata": {},
   "source": [
    "**6.6.15** Write the electron configuration for each element in the ground state.\n",
    "\n",
    "- boron $\\to\\text{[He]}2s^2$\n",
    "- rubidium $\\to\\text{[Ar]}3d^{10}4s^24p^6$\n",
    "- bromine $\\to\\text{[Ar]}3d^{10}4s^24p^5$\n",
    "- germanium $\\to\\text{[Ar]}3d^{10}4s^24p^2$\n",
    "- vanadium $\\to\\text{[Ar]}3d^34s^2$\n",
    "- palladium $\\to\\text{[Kr]}4d^{10}$\n",
    "- bismuth $\\to\\text{[Xe]}4f^{14}5d^{10}6s^26p^4$\n",
    "- europium $\\to\\text{[Xe]}4f^76s^2$"
   ]
  }
 ],
 "metadata": {
  "kernelspec": {
   "display_name": "Python 3",
   "language": "python",
   "name": "python3"
  },
  "language_info": {
   "codemirror_mode": {
    "name": "ipython",
    "version": 3
   },
   "file_extension": ".py",
   "mimetype": "text/x-python",
   "name": "python",
   "nbconvert_exporter": "python",
   "pygments_lexer": "ipython3",
   "version": "3.8.5"
  }
 },
 "nbformat": 4,
 "nbformat_minor": 4
}
