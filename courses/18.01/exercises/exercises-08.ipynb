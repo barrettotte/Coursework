{
 "cells": [
  {
   "cell_type": "markdown",
   "metadata": {},
   "source": [
    "# Chapter 8 - Techniques of Integration"
   ]
  },
  {
   "cell_type": "markdown",
   "metadata": {},
   "source": [
    "---\n",
    "\n",
    "**(3.)** $\\int(\\sin2x)^3(\\cos2x)^2dx$\n",
    "\n",
    "Let $u=2x$\n",
    "\n",
    "$\\frac{d}{dx}(2x) = 2 \\implies du=2dx,\\; dx=\\frac{1}{2}du$\n",
    "\n",
    "$\\int \\sin^3(u)\\cos^2(u)\\frac{1}{2}du$\n",
    "$\\;=\\; \\frac{1}{2}\\int \\sin^3(u)\\cos^2(u)du$\n",
    "\n",
    "$\\frac{1}{2}\\int \\sin^2(u)\\sin(u)\\cos^2(u)du$\n",
    "\n",
    "trig identity: $\\sin^2(x) = 1 - \\cos^2(x)$\n",
    "\n",
    "$\\frac{1}{2}\\int (1-\\cos^2(u))\\sin(u)\\cos^2(u)du$\n",
    "\n",
    "<br>\n",
    "\n",
    "Let $v=\\cos(u)$\n",
    "\n",
    "$\\frac{d}{du}\\cos(u) = -\\sin(u) \\implies dv=-sin(u)du,\\; du=(-\\frac{1}{sin(u)})dv$\n",
    "\n",
    "$\\frac{1}{2}\\int (1-v^2)\\sin(u)v^2\\left( -\\frac{1}{\\sin(u)} \\right)dv$\n",
    "$\\;=\\; \\frac{1}{2}\\int -v^2(1-v^2)dv$\n",
    "\n",
    "$\\frac{1}{2}\\int -v^2+v^4dv$\n",
    "$\\;=\\; \\frac{1}{2}\\left( -\\int v^2dv + \\int v^4dv \\right)$\n",
    "$\\;=\\; \\frac{1}{2}\\left( -\\frac{v^3}{3} + \\frac{v^5}{5} \\right)$\n",
    "\n",
    "$\\frac{1}{2}\\left( -\\frac{\\cos^3(2x)}{3} + \\frac{\\cos^5(2x)}{5} \\right) + C$\n",
    "\n",
    "**answer:** $\\; \\frac{1}{2}\\left( -\\frac{\\cos^3(2x)}{3} + \\frac{\\cos^5(2x)}{5} \\right) + C$ "
   ]
  },
  {
   "cell_type": "markdown",
   "metadata": {},
   "source": [
    "---\n",
    "\n",
    "**(5.)** $\\int x^2\\ln(x)dx$\n",
    "\n",
    "$\\int uv' = uv-\\int u'v \\quad$ let u=$\\ln(x),\\; v'=x^2$\n",
    "\n",
    "$u' = \\frac{d}{dx}(\\ln(x)) = \\frac{1}{x}$\n",
    "$\\quad v = \\int x^2dx = \\frac{x^3}{3}$\n",
    "\n",
    "$\\ln(x)\\frac{x^3}{3} - \\int \\frac{1}{x}\\frac{x^3}{3}dx$\n",
    "$\\;=\\; \\frac{1}{3}x^3\\ln(x) - \\frac{1}{3}\\int x^2dx$\n",
    "\n",
    "$\\frac{1}{3}x^3\\ln(x) - \\frac{x^3}{9}$\n",
    "\n",
    "**answer:** $\\; \\frac{1}{3}x^3\\ln(x) - \\frac{x^3}{9} + C$"
   ]
  },
  {
   "cell_type": "markdown",
   "metadata": {},
   "source": [
    "---\n",
    "\n",
    "**(15.)** $\\int \\frac{x}{x^2 + 6x+10}dx$\n",
    "\n",
    "$\\int\\frac{x}{(x+3)^2+1}dx$\n",
    "\n",
    "let $u=x+3$\n",
    "\n",
    "$\\frac{d}{dx}(x+3) = 1 \\implies du=1dx,\\; dx=1du$\n",
    "\n",
    "$\\int\\frac{x}{u^2+1}du$\n",
    "\n",
    "$u=x+3\\implies x=u-3$\n",
    "\n",
    "$\\int \\frac{u-3}{u^2+1}du$\n",
    "$\\;=\\; \\int\\frac{u}{u^2+1}du - \\int\\frac{3}{u^2+1}du$\n",
    "\n",
    "<br>\n",
    "\n",
    "let $v=u^2+1$\n",
    "\n",
    "$\\frac{d}{du}(u^2+1) = 2u \\implies dv=2udu,\\; \\frac{1}{2u}dv$\n",
    "\n",
    "$\\int \\frac{u}{v}\\frac{1}{2u}dv$\n",
    "$\\;=\\; \\int\\frac{1}{2v}dv$\n",
    "$\\;=\\; \\frac{1}{2}\\int\\frac{1}{v}dv$\n",
    "$\\;=\\; \\frac{1}{2}\\ln|v|$\n",
    "\n",
    "$\\frac{1}{2}\\ln\\left|u^2+1\\right|$\n",
    "\n",
    "<br>\n",
    "\n",
    "$3\\int\\frac{1}{u^2+1}du$\n",
    "$\\;=\\;3 \\arctan(u)$\n",
    "\n",
    "<br>\n",
    "\n",
    "$\\frac{1}{2}\\ln\\left| u^2+1 \\right| - 3\\arctan(u)$\n",
    "$\\;=\\;\\frac{1}{2}\\ln\\left| (x+3)^2+1 \\right| -3\\arctan(x+3)$\n",
    "\n",
    "$\\frac{1}{2}\\ln\\left| x^2+6x+10 \\right| -3\\arctan(x+3) + C$\n",
    "\n",
    "**answer:** $\\; \\frac{1}{2}\\ln\\left| x^2+6x+10 \\right| -3\\arctan(x+3) + C$"
   ]
  },
  {
   "cell_type": "markdown",
   "metadata": {},
   "source": [
    "---\n",
    "\n",
    "**(35.)** $\\int 2x\\sqrt{x+1}dx$\n",
    "\n",
    "$2\\int x\\sqrt{x+1}dx$\n",
    "\n",
    "Let $u=x+1$\n",
    "\n",
    "$\\frac{d}{dx}(x+1) = 1 \\implies du=1dx,\\;dx=1du$\n",
    "\n",
    "$2\\int x\\sqrt{u}du$\n",
    "\n",
    "$u=x+1 \\implies x=u-1$\n",
    "\n",
    "$2\\int(u-1)\\sqrt{u}du$\n",
    "$\\;=\\; 2(\\int u^{3/2}du - \\int\\sqrt{u}du)$\n",
    "\n",
    "$2\\left( \\frac{2}{5}u^{5/2} - \\frac{2}{3}u^{3/2} \\right)$\n",
    "\n",
    "**answer:** $\\; \\frac{4}{5}(x+1)^{5/2} - \\frac{4}{3}(x+1)^{3/2} + C$"
   ]
  },
  {
   "cell_type": "markdown",
   "metadata": {},
   "source": [
    "---\n",
    "\n",
    "**(37.)** $\\int \\frac{e^x}{1+e^x}dx$\n",
    "\n",
    "\n",
    "let $u=1+e^x$\n",
    "\n",
    "$\\frac{d}{dx}(1+e^x) = e^x \\implies du=e^xdx,\\;dx=\\frac{1}{e^x}du$\n",
    "\n",
    "$\\int\\frac{e^x}{u}\\frac{1}{e^x}du$\n",
    "$\\;=\\;\\int\\frac{1}{u}du$\n",
    "\n",
    "$\\ln\\left| u \\right|$\n",
    "$\\;=\\; \\ln\\left| 1+e^x \\right|$\n",
    "\n",
    "**answer:** $\\;\\ln\\left| 1+e^x \\right| + C$"
   ]
  }
 ],
 "metadata": {
  "kernelspec": {
   "display_name": "Python 3.6.9 64-bit",
   "language": "python",
   "name": "python36964bit02ef2681bbc5400fadc04eb658c88111"
  },
  "language_info": {
   "codemirror_mode": {
    "name": "ipython",
    "version": 3
   },
   "file_extension": ".py",
   "mimetype": "text/x-python",
   "name": "python",
   "nbconvert_exporter": "python",
   "pygments_lexer": "ipython3",
   "version": "3.6.9"
  }
 },
 "nbformat": 4,
 "nbformat_minor": 4
}
