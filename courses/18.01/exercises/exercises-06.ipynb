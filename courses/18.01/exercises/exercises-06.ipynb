{
 "cells": [
  {
   "cell_type": "markdown",
   "metadata": {},
   "source": [
    "# Chapter 6 - Applications of the Definite Integral"
   ]
  },
  {
   "cell_type": "markdown",
   "metadata": {},
   "source": [
    "**(1)** Find the area bounded by the region $\\; y=\\sqrt{x},\\; y=x^3$\n",
    "\n",
    "\n",
    "$\\sqrt{x} = x^3 \\implies \\text{intersects at } x=0,\\:x=1$\n",
    "\n",
    "$\\int_0^1|\\sqrt{x} - x^3|dx$\n",
    "$\\;=\\; \\int_0^1\\sqrt{x}dx - \\int_0^1x^3dx$\n",
    "$\\;=\\; \\int_0^1x^{\\frac{1}{2}}dx - \\int_0^1x^3dx$\n",
    "\n",
    "$\\frac{2}{3}x^{\\frac{3}{2}}\\big|_0^1 - \\frac{x^4}{4}\\big|_0^1$\n",
    "$\\;=\\; \\frac{2}{3} - \\frac{1}{4}$\n",
    "$\\;=\\; \\frac{5}{12}$\n",
    "\n",
    "**answer:** $\\;\\frac{5}{12}$"
   ]
  },
  {
   "cell_type": "markdown",
   "metadata": {},
   "source": [
    "---\n",
    "\n",
    "**For 9-11 find the volume generated if the region bounded by the curves described in each problem is rotated about the indicated line**"
   ]
  },
  {
   "cell_type": "markdown",
   "metadata": {},
   "source": [
    "---\n",
    "\n",
    "**(9)** $\\; y=\\frac{6}{x},\\; x=2,\\; x=4,\\; y=0;\\;\\;\\text{about the x-axis}$\n",
    "\n",
    "$\\int_2^4\\pi|\\frac{6}{x}^2 - 0^2|dx$\n",
    "$\\;=\\; \\int_2^4\\frac{36\\pi}{|x|^2}dx$\n",
    "\n",
    "$36\\pi\\int_2^4\\frac{1}{x^2}dx$\n",
    "$\\;=\\; 36\\pi\\int_2^4 x^{-2}dx$\n",
    "$\\;=\\; 36\\pi(-\\frac{x^{-1}}{1}\\big|_2^4)$\n",
    "$\\;=\\; 36\\pi(-\\frac{1}{x}\\big|_2^4)$\n",
    "\n",
    "$36\\pi(-\\frac{1}{4} - (-\\frac{1}{2}))$\n",
    "$\\;=\\; 36\\pi\\frac{1}{4}$\n",
    "$\\;=\\; \\frac{36\\pi}{4}$\n",
    "$\\;=\\; 9\\pi$\n",
    "\n",
    "**answer:** $\\; 9\\pi$"
   ]
  },
  {
   "cell_type": "markdown",
   "metadata": {},
   "source": [
    "---\n",
    "\n",
    "**(11)** $\\; y^2 = 4x,\\; x=4;\\;\\;\\text{about the x-axis}$\n",
    "\n",
    "$\\int_0^4\\pi(\\sqrt{4x})^2dx$\n",
    "$\\;=\\; 4\\pi\\int_0^4xdx$\n",
    "$\\;=\\; 4\\pi(\\frac{x^2}{2}\\big|_0^4)$\n",
    "\n",
    "$4\\pi(8 - 0) \\;=\\; 4\\pi * 8 \\;=\\; 32\\pi$\n",
    "\n",
    "**answer:** $\\; 32\\pi$"
   ]
  }
 ],
 "metadata": {
  "kernelspec": {
   "display_name": "Python 3.6.9 64-bit",
   "language": "python",
   "name": "python36964bit02ef2681bbc5400fadc04eb658c88111"
  },
  "language_info": {
   "codemirror_mode": {
    "name": "ipython",
    "version": 3
   },
   "file_extension": ".py",
   "mimetype": "text/x-python",
   "name": "python",
   "nbconvert_exporter": "python",
   "pygments_lexer": "ipython3",
   "version": "3.6.9"
  }
 },
 "nbformat": 4,
 "nbformat_minor": 4
}
