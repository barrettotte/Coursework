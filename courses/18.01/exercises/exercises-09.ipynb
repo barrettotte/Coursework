{
 "cells": [
  {
   "cell_type": "markdown",
   "metadata": {},
   "source": [
    "# Chapter 9 - Sequences and Series"
   ]
  },
  {
   "cell_type": "markdown",
   "metadata": {},
   "source": [
    "**For 15-33, determine whether the series are divergent, conditionally convergent, or absolutely convergent**"
   ]
  },
  {
   "cell_type": "markdown",
   "metadata": {},
   "source": [
    "**(15.)** $\\sum\\limits_{n=1}^\\infty \\frac{1}{1+\\sqrt{n}}$\n",
    "\n",
    "$\\int \\frac{1}{1+\\sqrt{n}}dn$\n",
    "\n",
    "let $u=1+\\sqrt{n}$\n",
    "\n",
    "$\\frac{d}{dn}(1+\\sqrt{n}) = \\frac{1}{2\\sqrt{n}}\\implies du=\\frac{1}{2\\sqrt{n}}dn,\\;dn=2\\sqrt{n}du$\n",
    "\n",
    "$\\int \\frac{1}{u}2\\sqrt{n}du$\n",
    "$\\;=\\; \\int\\frac{2\\sqrt{n}}{u}du$\n",
    "\n",
    "$u = 1+\\sqrt{n} \\implies \\sqrt{n}=u-1$\n",
    "\n",
    "$\\int\\frac{2(u-1)}{u}du$\n",
    "$\\;=\\; 2 \\int\\frac{u-1}{u}du$\n",
    "\n",
    "$2(u - \\ln|u|)$\n",
    "$\\;=\\; 2(1+\\sqrt{n}-\\ln\\left| 1+\\sqrt{n} \\right|)+C$\n",
    "\n",
    "$\\lim_{n\\to\\infty}\\left( 2(1+\\sqrt{n}-\\ln\\left| 1+\\sqrt{n} \\right|) \\right) = \\infty$\n",
    "\n",
    "**answer:** $\\;$ diverges"
   ]
  },
  {
   "cell_type": "markdown",
   "metadata": {},
   "source": [
    "---\n",
    "\n",
    "**(17.)** $\\sum\\limits_{n=1}^\\infty \\frac{1}{e^n}$\n",
    "\n",
    "\n",
    "$\\sum\\limits_{n=0}^\\infty \\frac{1}{e^n}-\\frac{1}{e^0}$\n",
    "\n",
    "Geometric series:  $\\; |r|<1 \\implies \\frac{1}{1-r}$\n",
    "\n",
    "$\\frac{1}{1-\\frac{1}{e}} = \\frac{e}{e-1}$\n",
    "\n",
    "**answer:** converges absolutely at $\\frac{e}{e-1}$"
   ]
  },
  {
   "cell_type": "markdown",
   "metadata": {},
   "source": [
    "---\n",
    "\n",
    "**(25.)** $\\sum\\limits_{n=1}^\\infty \\frac{(-1)^n(1+4n)}{7n^2-1}$\n",
    "\n",
    "\n",
    "$a_n=\\frac{1+4n}{7n^2-1}$\n",
    "\n",
    "alternating series test:\n",
    "$\\;a_n$ is positive and monotone descreasing from $n=1$\n",
    "\n",
    "$\\lim_{n\\to\\infty}\\left( \\frac{1+4n}{7n^2-1} \\right) = 0$\n",
    "\n",
    "**answer:** converges"
   ]
  },
  {
   "cell_type": "markdown",
   "metadata": {},
   "source": [
    "---\n",
    "\n",
    "**(29.)** $\\sum\\limits_{n=1}^\\infty \\frac{(-1)^n \\ln(n)}{n+1}$\n",
    "\n",
    "$a_n = \\frac{\\ln(n)}{n+1}$\n",
    "\n",
    "alternating series test: $a_n$ is positive and monotone decreasing from $n=4$\n",
    "\n",
    "$\\lim_{n\\to\\infty}\\left( \\frac{\\ln(n)}{n+1} \\right) = 0$\n",
    "\n",
    "**answer:** converges"
   ]
  },
  {
   "cell_type": "markdown",
   "metadata": {},
   "source": [
    "<br>\n",
    "\n",
    "I skipped out on Power, Taylor, and Maclaurin series questions."
   ]
  }
 ],
 "metadata": {
  "kernelspec": {
   "display_name": "Python 3.6.9 64-bit",
   "language": "python",
   "name": "python36964bit02ef2681bbc5400fadc04eb658c88111"
  },
  "language_info": {
   "codemirror_mode": {
    "name": "ipython",
    "version": 3
   },
   "file_extension": ".py",
   "mimetype": "text/x-python",
   "name": "python",
   "nbconvert_exporter": "python",
   "pygments_lexer": "ipython3",
   "version": "3.6.9"
  }
 },
 "nbformat": 4,
 "nbformat_minor": 4
}
