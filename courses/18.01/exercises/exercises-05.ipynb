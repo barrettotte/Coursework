{
 "cells": [
  {
   "cell_type": "markdown",
   "metadata": {},
   "source": [
    "# Chapter 5 - Integrals"
   ]
  },
  {
   "cell_type": "markdown",
   "metadata": {},
   "source": [
    "---\n",
    "\n",
    "**(1)** Evaluate $\\; \\sum\\limits_{i=1}^4 2^i$\n",
    "\n",
    "$2^1 + 2^2 + 2^3 + 2^4 = 2 + 4 + 8 + 16 = 30$\n",
    "\n",
    "**answer:** $\\;30$"
   ]
  },
  {
   "cell_type": "markdown",
   "metadata": {},
   "source": [
    "---\n",
    "\n",
    "**(3)** Evaluate $\\;\\sum\\limits_{i=3}^6(2i+1)$\n",
    "\n",
    "$(2(3)+1) + (2(4)+1) + (2(5)+1) + (2(6)+1)$\n",
    "$\\;=\\; 7 + 9 + 11 + 13 \\;=\\; 40$\n",
    "\n",
    "**answer:** $\\; 40$"
   ]
  },
  {
   "cell_type": "markdown",
   "metadata": {},
   "source": [
    "---\n",
    "\n",
    "**(5)** Evaluate $\\;\\sum\\limits_{i=1}^n(3i-5)$\n",
    "\n",
    "$= \\sum\\limits_{i=1}^n 3^i - \\sum\\limits_{i=1}^n 1^5$\n",
    "$\\;=\\; 3 \\sum\\limits_{i=1}^n 1^i - 5n$\n",
    "\n",
    "$\\sum\\limits_{k=1}^n k = \\frac{1}{2}n(n+1)\\quad\\text{(sum formula)}$\n",
    "\n",
    "$= \\frac{3}{2}n(n+1)- 5n$\n",
    "$\\;=\\; \\frac{3}{2}n^2 + \\frac{3}{2}n - 5n$\n",
    "$\\;=\\; \\frac{3}{2}n^2 - \\frac{7}{2}n$\n",
    "$\\;=\\; \\frac{3n^2-7n}{2}$\n",
    "\n",
    "**answer:** $\\; \\frac{3n^2-7n}{2}$"
   ]
  },
  {
   "cell_type": "markdown",
   "metadata": {},
   "source": [
    "---\n",
    "\n",
    "**(11)** Evaluate $\\int x^3dx$\n",
    "\n",
    "**answer:** $\\; \\frac{x^4}{4} + C$"
   ]
  },
  {
   "cell_type": "markdown",
   "metadata": {},
   "source": [
    "---\n",
    "\n",
    "**(13)** Evaluate $\\int_{-3}^5(2x^3+5)dx$\n",
    "\n",
    "\n",
    "$ = \\int_5^{-3} 2x^3 dx + \\int_{-3}^5 5dx$\n",
    "\n",
    "$ = 2\\int_5^{-3}x^3dx + [5(5)-5(-3)]$\n",
    "\n",
    "$ = 2\\cdot \\left[\\frac{x^4}{4}\\right]_{-3}^5 + 40$\n",
    "$ \\;=\\; 2\\cdot[\\frac{(5)^4}{4} - \\frac{(-3)^4}{4}] + 40$\n",
    "\n",
    "$ = 2\\cdot[\\frac{544}{4}]+40$\n",
    "$ \\;=\\; 272 + 40 \\;=\\; 312$\n",
    "\n",
    "**answer:** $\\; 312$"
   ]
  },
  {
   "cell_type": "markdown",
   "metadata": {},
   "source": [
    "---\n",
    "\n",
    "**(15)** Evaluate $\\int 4(4x+7)^3dx$\n",
    "\n",
    "$4\\int(4x+7)^3dx$\n",
    "\n",
    "let $u=4x+7$\n",
    "\n",
    "$\\frac{d}{dx}(4x+7)$\n",
    "$\\;=\\; \\frac{d}{dx}(4x) + \\frac{d}{dx}(7) \\;=\\; 4$\n",
    "\n",
    "$du = 4dx\\quad dx=\\frac{1}{4}du$\n",
    "\n",
    "<br>\n",
    "\n",
    "\n",
    "$4\\int \\frac{u^3}{4}du$\n",
    "$\\;=\\; \\int u^3du$\n",
    "$\\;=\\; \\frac{u^4}{4}$\n",
    "\n",
    "$\\frac{(4x+7)^4}{4}$\n",
    "$\\;=\\; \\frac{(4x+7)^4}{4} + C$\n",
    "\n",
    "**answer:** $\\; \\frac{(4x+7)^4}{4} + C$"
   ]
  },
  {
   "cell_type": "markdown",
   "metadata": {},
   "source": [
    "---\n",
    "\n",
    "**(17)** Evaluate $\\int\\left(x\\sqrt{x}+\\frac{1}{x}\\right)dx$\n",
    "\n",
    "$\\int x\\sqrt{x}dx + \\int\\frac{1}{x}dx$\n",
    "\n",
    "$\\int x^{\\frac{3}{2}}dx + \\ln|x|$\n",
    "\n",
    "$\\frac{x^\\frac{5}{2}}{\\frac{5}{2}} + \\ln|x|$\n",
    "$\\;=\\; \\frac{2}{5}x^{\\frac{5}{2}} + \\ln|x| + C$\n",
    "\n",
    "**answer** $\\; \\frac{2}{5}x^{\\frac{5}{2}} + \\ln|x| + C$"
   ]
  },
  {
   "cell_type": "markdown",
   "metadata": {},
   "source": [
    "---\n",
    "\n",
    "**(19)** Evaluate $\\int\\sqrt[3]{8x^8}dx$\n",
    "\n",
    "$\\int\\sqrt[3]{8}\\sqrt[3]{x^8}dx$\n",
    "$\\;=\\; \\sqrt[3]{8}\\int\\sqrt[3]{x^8}dx$\n",
    "$\\;=\\; 2\\int x^{\\frac{8}{3}}dx$\n",
    "\n",
    "$2 \\cdot \\frac{x^{\\frac{11}{3}}}{\\frac{11}{3}}$\n",
    "$\\;=\\; 2 \\cdot \\frac{3x^\\frac{11}{3}}{11}$\n",
    "$\\;=\\; \\frac{6x^{\\frac{11}{3}}}{11} + C$\n",
    "\n",
    "**answer:** $\\frac{6x^{\\frac{11}{3}}}{11} + C$"
   ]
  },
  {
   "cell_type": "markdown",
   "metadata": {},
   "source": [
    "---\n",
    "\n",
    "**(21)** Evaluate $\\int\\frac{1}{x^4}+\\frac{1}{\\sqrt[4]{x}}dx$\n",
    "\n",
    "$\\int\\frac{1}{x^4} + \\int\\frac{1}{\\sqrt[4]{x}}dx$\n",
    "$\\;=\\; \\int x^{-4}dx + \\int x^{-\\frac{1}{4}}$\n",
    "\n",
    "$\\frac{x^{-3}}{-3} + \\frac{x^{\\frac{3}{4}}}{\\frac{3}{4}}$\n",
    "$\\;=\\; -\\frac{1}{3x^3} + \\frac{4}{3}x^{\\frac{3}{4}} + C$\n",
    "\n",
    "**answer:** $\\; -\\frac{1}{3x^3} + \\frac{4}{3}x^{\\frac{3}{4}} + C$"
   ]
  },
  {
   "cell_type": "markdown",
   "metadata": {},
   "source": [
    "---\n",
    "\n",
    "**(23)** Evaluate $\\int_0^\\pi(\\cos(t)-t)dt$\n",
    "\n",
    "$\\int_0^\\pi \\cos(t)dt - \\int_0^\\pi tdt$\n",
    "\n",
    "$[sin(t)]\\big|_0^\\pi - [\\frac{t^2}{2}]\\big|_0^\\pi$\n",
    "$\\;=\\; [\\sin(\\pi)-\\sin(0)] - [\\frac{\\pi^2}{2}-\\frac{0^2}{2}]$\n",
    "\n",
    "$[0-0] - [\\frac{\\pi^2}{2}-0]$\n",
    "$\\;=\\; -\\frac{\\pi^2}{2}$\n",
    "\n",
    "**answer:** $\\; -\\frac{\\pi^2}{2}$"
   ]
  },
  {
   "cell_type": "markdown",
   "metadata": {},
   "source": [
    "---\n",
    "\n",
    "**(25)** Evaluate $\\int\\frac{x}{\\sqrt{4-x^2}}dx$\n",
    "\n",
    "let $u = 4-x^2$\n",
    "\n",
    "$\\frac{d}{dx}(4-x^2)$\n",
    "$\\;=\\; \\frac{d}{dx}(4) - \\frac{d}{dx}(x^2)$\n",
    "$\\;=\\; 0 - 2x \\;=\\; -2x$\n",
    "\n",
    "$du = -2xdx \\quad dx = \\left(-\\frac{1}{2x}\\right)du$\n",
    "\n",
    "<br>\n",
    "\n",
    "$\\int\\frac{x}{\\sqrt{u}}\\left(-\\frac{1}{2x}\\right)du$\n",
    "$\\;=\\; \\int -\\frac{x}{2x\\sqrt{u}} du$\n",
    "$\\;=\\; \\int -\\frac{1}{2\\sqrt{u}} du$\n",
    "\n",
    "$-\\frac{1}{2}\\int \\frac{1}{\\sqrt{u}}du$\n",
    "$\\;=\\; -\\frac{1}{2}\\int u^{-\\frac{1}{2}}du$\n",
    "$\\;=\\; -\\frac{1}{2} \\cdot \\frac{u^\\frac{1}{2}}{-\\frac{1}{2}}$\n",
    "\n",
    "$-\\frac{1}{2} \\cdot \\frac{(4-x^2)^{\\frac{1}{2}}}{-\\frac{1}{2}}$\n",
    "$\\;=\\; -2\\cdot\\frac{1}{2}(-x^2+4)^{\\frac{1}{2}}$\n",
    "$\\;=\\; -(-x^2+4)^{\\frac{1}{2}}$\n",
    "$\\;=\\; -\\sqrt{-x^2+4} + C$\n",
    "\n",
    "**answer:** $\\; -\\sqrt{-x^2+4} + C$"
   ]
  },
  {
   "cell_type": "markdown",
   "metadata": {},
   "source": [
    "---\n",
    "\n",
    "**(27)** Evaluate $\\int w^3\\sqrt{w^2+1}\\:dw$\n",
    "\n",
    "let $u=w^2+1$\n",
    "\n",
    "$\\frac{d}{dx}(w^2+1) \\;=\\; \\frac{d}{dx}(w^2) + \\frac{d}{dw}(1)$\n",
    "$\\;=\\; 2w + 0 \\;=\\; 0$\n",
    "\n",
    "$du = 2wdw \\quad dw=\\frac{1}{2w}du$\n",
    "\n",
    "<br>\n",
    "\n",
    "$\\int w^3\\sqrt{u}\\frac{1}{2w}du$\n",
    "$\\;=\\; \\int \\frac{w^2\\sqrt{u}}{2}du$\n",
    "\n",
    "$u = w^2+1 \\implies w^2=u-1$\n",
    "\n",
    "$\\int \\frac{(u-1)\\sqrt{u}}{2}du$\n",
    "$\\;=\\; \\frac{1}{2} \\int (u-1)\\sqrt{u}\\:du$\n",
    "$\\;=\\; \\frac{1}{2} \\int u^{\\frac{3}{2}} - \\sqrt{u} \\:du$\n",
    "\n",
    "$\\frac{1}{2}\\left( \\int u^{\\frac{3}{2}}du - \\int\\sqrt{u}\\:du \\right)$\n",
    "$\\;=\\; \\frac{1}{2}\\left( \\frac{2}{5}u^{\\frac{5}{2}} - \\frac{2}{3}u^{\\frac{3}{2}} \\right)$\n",
    "\n",
    "$\\frac{1}{2} \\left( \\frac{2}{5}(w^2+1)^{\\frac{5}{2}} -\\frac{2}{3}(w^2+1)^{\\frac{3}{2}} \\right)$\n",
    "\n",
    "$\\frac{\\frac{6(w^2+1)^{5/2}}{15} - \\frac{10(w^2+1)^{3/2}}{15}}{2}$\n",
    "$\\;=\\; \\frac{\\frac{6(w^2+1)^{5/2} - 10(w^2+1)^{3/2}}{15}}{2}$\n",
    "$\\;=\\; \\frac{6(w^2+1)^{5/2} - 10(w^2+1)^{3/2}}{30}$\n",
    "\n",
    "$\\frac{2(3w^2-2)(w^2+1)^{3/2}}{30}$\n",
    "$\\;=\\; \\frac{(3w^2-2)(w^2+1)^{3/2}}{15}$\n",
    "$\\;=\\; \\frac{1}{15}(3w^2-2)(w^2+1)^{\\frac{3}{2}} + C$\n",
    "\n",
    "**answer:** $\\; \\frac{1}{15}(3w^2-2)(w^2+1)^{\\frac{3}{2}} + C$"
   ]
  },
  {
   "cell_type": "markdown",
   "metadata": {},
   "source": [
    "---\n",
    "\n",
    "**(31)** Evaluate $\\int \\frac{1}{x-2}dx$\n",
    "\n",
    "\n",
    "let $u=x-2$\n",
    "\n",
    "$\\frac{d}{dx}(x-2) \\;=\\; \\frac{d}{dx}(x)-\\frac{d}{dx}(2) \\;=\\; 1$\n",
    "\n",
    "$du = 1dx\\quad dx=1du$\n",
    "\n",
    "$\\int\\frac{1}{u}du$\n",
    "$\\;=\\; \\ln|u|$\n",
    "$\\;=\\; \\ln|x-2| + C$\n",
    "\n",
    "**answer:** $\\ln|x-2| + C$"
   ]
  },
  {
   "cell_type": "markdown",
   "metadata": {},
   "source": [
    "---\n",
    "\n",
    "**(33)** Evaluate $\\int\\frac{x-3}{x^2-6x+5}dx$\n",
    "\n",
    "let $u=x-3$\n",
    "\n",
    "$\\frac{d}{dx}(x-3) = 1 \\implies du=1dx\\quad dx=1du$\n",
    "\n",
    "$\\int\\frac{u}{x^2-6x+5}du$\n",
    "\n",
    "$u = x-3 \\implies x=u+3$\n",
    "\n",
    "$\\int \\frac{u}{(u+3)^2-6(u+3) + 5}du$\n",
    "$\\;=\\; \\int\\frac{u}{u^2+6u+9-6u-18+5}du$\n",
    "$\\;=\\; \\int\\frac{u}{u^2-4}du$\n",
    "\n",
    "let $v=u^2-4$\n",
    "\n",
    "$\\frac{d}{du}(u^2-4) = 2u \\implies dv=2udu \\quad du=\\frac{1}{2u}dv$\n",
    "\n",
    "$\\int\\frac{u}{v}\\cdot \\frac{1}{2u}dv$\n",
    "$\\;=\\; \\int\\frac{1}{2v}dv$\n",
    "$\\;=\\; \\frac{1}{2}\\int\\frac{1}{v}dv$\n",
    "$\\;=\\; \\frac{1}{2}\\ln|v|$\n",
    "\n",
    "$\\frac{1}{2}\\ln|u^2-4|$\n",
    "$\\;=\\; \\frac{1}{2}\\ln|(x-3)^2-4|$\n",
    "$\\;=\\; \\frac{1}{2}\\ln|x^2-6x+5| + C$\n",
    "\n",
    "**answer:** $\\; \\frac{1}{2}\\ln|x^2-6x+5| + C$"
   ]
  },
  {
   "cell_type": "markdown",
   "metadata": {},
   "source": [
    "---\n",
    "\n",
    "**(41)** Evaluate $\\int\\cos(2x)dx$\n",
    "\n",
    "let $u=2x$\n",
    "\n",
    "$\\frac{d}{dx}(2x) = 2 \\implies du=2dx \\quad dx=\\frac{1}{2}du$\n",
    "\n",
    "$\\int \\frac{1}{2}\\cos(u)du$\n",
    "$\\;=\\; \\frac{1}{2}\\int\\cos(u)du$\n",
    "$\\;=\\; \\frac{1}{2}\\sin(u)$\n",
    "$\\;=\\; \\frac{1}{2}\\sin(2x) + C$\n",
    "\n",
    "**answer:** $\\;\\frac{1}{2}\\sin(2x)+C$"
   ]
  },
  {
   "cell_type": "markdown",
   "metadata": {},
   "source": [
    "---\n",
    "\n",
    "**(43)** Evaluate $\\int\\tan(4x)dx$\n",
    "\n",
    "identity: $\\quad tan(x) = \\frac{sin(x)}{\\cos(x)}$\n",
    "\n",
    "$\\int\\frac{\\sin(4x)}{\\cos(4x)}dx$\n",
    "\n",
    "\n",
    "let $u=\\cos(4x)$\n",
    "\n",
    "$\\frac{d}{dx}(cos(4x))$\n",
    "\n",
    "$\\quad f=\\cos(u),\\; u=4x$\n",
    "\n",
    "$\\quad \\frac{d}{du}(\\cos(u))\\frac{d}{dx}(4x)$\n",
    "$\\;=\\; -\\sin(u)\\frac{d}{dx}(4x)$\n",
    "$\\;=\\; -4\\sin(4x)$\n",
    "\n",
    "$du = -4\\sin(4x)dx \\quad dx=\\left( -\\frac{1}{4\\sin(4x)} \\right)du$\n",
    "\n",
    "<br>\n",
    "\n",
    "$\\int\\frac{\\sin(4x)}{u}\\left( -\\frac{1}{4\\sin(4x)} \\right)du$\n",
    "$\\;=\\; \\int -\\frac{1}{4u}du$\n",
    "$\\;=\\; -\\frac{1}{4}\\int\\frac{1}{u}du$\n",
    "\n",
    "$-\\frac{1}{4}\\ln|u|$\n",
    "$\\;=\\; -\\frac{1}{4}\\ln|\\cos(4x)| + C$\n",
    "\n",
    "**answer:** $\\;-\\frac{1}{4}\\ln|\\cos(4x)| + C$"
   ]
  },
  {
   "cell_type": "markdown",
   "metadata": {},
   "source": [
    "---\n",
    "\n",
    "**(45)** Evaluate $\\int\\sin^2(x)\\cos(x)dx$\n",
    "\n",
    "let $u=\\sin(x)$\n",
    "\n",
    "$\\frac{d}{dx}(\\sin(x)) = \\cos(x) \\implies du=\\cos(x)dx \\quad dx=\\frac{1}{\\cos(x)}du$\n",
    "\n",
    "$\\int u^2\\cos(x)\\frac{1}{\\cos(x)}du$\n",
    "$\\;=\\;\\int u^2du$\n",
    "$\\;=\\;\\int \\frac{u^3}{3}$\n",
    "\n",
    "$\\frac{\\sin^3(x)}{3}$\n",
    "$\\;=\\;\\frac{1}{3}\\sin^3(x) + C$\n",
    "\n",
    "**answer:** $\\;\\frac{1}{3}\\sin^3(x) + C$"
   ]
  },
  {
   "cell_type": "markdown",
   "metadata": {},
   "source": [
    "---\n",
    "\n",
    "**For exercises 51-61, identify whether the integrals converge or diverge and evaluate those that converge.**"
   ]
  },
  {
   "cell_type": "markdown",
   "metadata": {},
   "source": [
    "\n",
    "**(49)** $\\int_1^\\infty\\frac{3}{x^2}dx$\n",
    "\n",
    "\n",
    "$\\lim_{x \\to 1^+}(-\\frac{3}{x}) - \\lim_{x \\to \\infty}(-\\frac{3}{x})$\n",
    "$\\;=\\; 0 - (-3) \\;=\\; 3$\n",
    "\n",
    "**answer:** $\\;3 \\quad\\text{converges}$"
   ]
  },
  {
   "cell_type": "markdown",
   "metadata": {},
   "source": [
    "---\n",
    "\n",
    "**(51)** $\\int_0^\\infty\\frac{1}{(x+1)^2}dx$\n",
    "\n",
    "$\\lim_{x\\to 0^+}\\left(-\\frac{1}{x+1}\\right) - \\lim_{x\\to\\infty}\\left(-\\frac{1}{x+1}\\right)$\n",
    "$\\;=\\; 0 - (-1) \\;=\\; 1$\n",
    "\n",
    "**answer:** $\\;1\\quad\\text{converges}$"
   ]
  },
  {
   "cell_type": "markdown",
   "metadata": {},
   "source": [
    "---\n",
    "\n",
    "**(55)** $\\int_3^\\infty \\frac{1}{\\sqrt{3x}}dx$\n",
    "\n",
    "$ x^p \\implies x^{\\frac{1}{2}} \\implies \\frac{1}{2} < 1$\n",
    "\n",
    "**answer:** diverges"
   ]
  }
 ],
 "metadata": {
  "kernelspec": {
   "display_name": "Python 3.6.9 64-bit",
   "language": "python",
   "name": "python36964bit02ef2681bbc5400fadc04eb658c88111"
  },
  "language_info": {
   "codemirror_mode": {
    "name": "ipython",
    "version": 3
   },
   "file_extension": ".py",
   "mimetype": "text/x-python",
   "name": "python",
   "nbconvert_exporter": "python",
   "pygments_lexer": "ipython3",
   "version": "3.6.9"
  }
 },
 "nbformat": 4,
 "nbformat_minor": 4
}
